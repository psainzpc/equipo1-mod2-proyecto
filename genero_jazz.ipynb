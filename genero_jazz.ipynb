{
 "cells": [
  {
   "cell_type": "code",
   "execution_count": 1,
   "metadata": {},
   "outputs": [],
   "source": [
    "import requests\n",
    "import pandas as pd\n",
    "import spotipy\n",
    "from spotipy.oauth2 import SpotifyClientCredentials"
   ]
  },
  {
   "cell_type": "code",
   "execution_count": 2,
   "metadata": {},
   "outputs": [],
   "source": [
    "client_id = \"cc59f72515e2425ab89fdab0c4127ff5\"\n",
    "api_key = \"51ba1a873bfa4ef4abb8f69263e45464\"\n",
    "\n",
    "auth_manager = SpotifyClientCredentials( client_id, api_key)\n",
    "sp = spotipy.Spotify(auth_manager=auth_manager)"
   ]
  },
  {
   "cell_type": "code",
   "execution_count": 3,
   "metadata": {},
   "outputs": [],
   "source": [
    "canciones = sp.search(q=\"genre:jazz year:2019\", type=\"track\", limit=50, offset=0)"
   ]
  },
  {
   "cell_type": "code",
   "execution_count": 4,
   "metadata": {},
   "outputs": [
    {
     "data": {
      "text/plain": [
       "'Jitwam'"
      ]
     },
     "execution_count": 4,
     "metadata": {},
     "output_type": "execute_result"
    }
   ],
   "source": [
    "canciones[\"tracks\"][\"items\"][0][\"artists\"][0][\"name\"]\n",
    "canciones[\"tracks\"][\"items\"][0][\"artists\"][0][\"name\"]"
   ]
  },
  {
   "cell_type": "code",
   "execution_count": 5,
   "metadata": {},
   "outputs": [
    {
     "name": "stdout",
     "output_type": "stream",
     "text": [
      "{'canciones': ['Opendoors', 'Temptations', 'Griztronics', 'En Su Lugar', 'Elevator Vibes', 'Clouds', 'Algo contigo', 'Blue Moon', 'Coco Mango Diced (Boy Scout Mix)', 'Abusey Junction', 'Walk Like a Motherfucker', 'Never Enough', 'Timeline', 'Part II', 'Waltz No.2', 'Blue Spaces', \"I'm a Rock\", 'Miracle', 'Inside Out', \"I Can't Stop Loving You\", 'Stella By Starlight', 'Calming Instrumental Bossa Nova', 'Coco Mango Diced', 'Black Balloons Reprise', 'Moonshine', 'DInner Jazz Classics', 'Beach Jazz Chillout', 'Soulful', 'Romantic Dinner Music', 'Ill Wind', 'Super Fly Funk', 'Vintage Vibes Cool Jazz Bar Guitar', \"Cheatin' Midnight\", 'Ti-de', 'You Turned The Tables On Me', 'Jazz Bar Classics Are Coming Home Tonight', 'Ghost', 'Evening Swing', 'Fall For You', 'Estamos en Salsa', 'Poor Butterfly', 'Plume', 'Classic Jazz Jams', 'Every Time We Say Goodbye - Remastered', 'Unknown Jam', 'These Are Just Places To Me Now', 'VIP Vintage Saxophone Jazz', 'Strawberry Moon', 'Vintage Jazz Club Guitar Jazz', 'Oro que Fluye', 'Listen to This', 'Afternoon Delight', 'Linked', 'Turtle or Tortoise?', 'Cool Caffine for Everyone', 'Exhale', 'Marine Life', 'Think of You', 'Stockholm Summer', 'Brazz Street', 'Coffee Jazz Instrumentals', 'I’m All Ears', 'Cumbia Sobre el Mar - El Búho Remix', 'supadupakulavibe', 'The Touch', 'The Gulf Stream', 'Part III', 'Walking Around Coffee Club', 'Jazz bar Shuffle', 'Flowers in the Rain', 'Pictorial Filly', 'More', 'Clarinet Jazz Vintage Jazz Club', 'Goodbye Song', 'Supersonics', 'Jazz Clásico en Serio', \"Stylin'\", 'Swing City', 'A New Day', 'Very Slow Guitar Background', 'Música para Beber Vino', 'About You', 'Seven Eight', 'Cafe Jazz', 'The Climb', 'Closer', \"That's Life\", 'Black Dynamite', 'It Was You', 'Headlines (feat. Westside Gunn, Conway & Benny)', 'Do Friends Fall in Love?', 'The Touch - Remix', 'Blame it on My Youth', 'Rosewood', 'I’m Good', 'I Only Have Eyes For You', 'Continued Dinner', 'Make It Happen', 'Consistent', 'The Wherefore and Therefore', 'FF4', 'A Song With No Name', 'Coffee Date', 'Smoothly Smooth and Slowly Slow', 'Clearly in Need of a Biscuit', 'She', 'Spontaneous', 'Endless Summer', 'Willow Weep for Me', 'Land Of Honey', 'Intro', 'Polka Dots and Moonbeams', 'Cheek To Cheek', 'Melancolia', 'Can’t Get Enough', 'tautte.', 'Light Dance', 'Pitch Dark', 'Skin in the Game', 'Skylark', 'Find My Own Way', 'April', 'Airborne', 'The Essence', 'Unsentimental', 'Sunset (2019 Y.Nakamura Remastering)', 'ひとひら', 'Relaxing Coffee Break Jazz', 'Grown Folks Business', 'Cloudy', 'Long Stroll to Town', 'All The Things You Are', 'Coffee Shop Jazz Club', 'Fine Coffee Jazz', 'Instrumental Jazz Cafe Sessions', 'Jazz Just for You', 'It Gets Better', 'That Special Moment', 'Waterguns', 'Tropical Waters', 'The Girl From Ipanema', 'Colours', 'Dinner Time Jazz', 'Morning Walk', 'Jazz Clásico en Serio 2', 'For My Ladies', 'Petal', 'Coffee Shop Jazz Vibes', 'In the Basement', 'FXMLDR', 'Wish You Well - Hablot Brown Remix', 'You Go To My Head', 'Prelude to Memory of T.', 'Space is the Place', 'Illusion', 'Coffee House Vibes', 'September in the Rain', 'Trustt', 'Best Part', 'Surf Boogie', 'High Heels', 'hang up', \"After You've Gone\", \"Don't Know Why\", \"Here's That Rainy Day\", 'Golden Slumbers', 'Café cigarette', 'Plantasy', 'Red Sails in the Sunset', 'Bossa Nova Music for Pets', 'Cool Jazz in Brades', 'Without a Thought for My Heart', 'cielo', 'Checkinthru', 'Forelsket i København', 'The Way We Play', 'As in Jazz', 'Danish Design, Pt..1', 'Jazzhands', 'My One And Only Love', 'In A Mellow Tone', 'Emerge', \"Paris je t'aime\", 'Fast Lane Jazz', 'How My Heart Sings', 'Friend Request', 'Tiger Kingdom Space Camp', \"I've Got You Under My Skin\", 'That’s Life', 'What Am I to Do?', 'Fuck Yo Feelings', 'Highly Recommended', 'Escalator (Demo Version)', 'Maybe', 'Serving Suggestions', 'There You Are', 'Brass Fiction', \"I Can't Get Started\", 'Coffee House Jazz jams', \"It's A Man's World - Live\", 'Someone To Watch Over Me', 'Nocturnal', 'Mean To Me', 'Falling', 'San Francisco (Be Sure to Wear Flowers in Your Hair) (feat. Michael Marshall)', 'Love Is Here To Stay', 'In Search of Balance', 'Back in Business', \"I Don't Want To Live On The Moon\", 'Taking Flight (feat. Brandee Younger)', 'Be Thankful (feat. Erykah Badu)', 'So Slightly', 'A Free Continuation', 'Hatchlings', 'A Better Place', 'Searching', 'All Night', 'Cycles', 'And Suddenly There Was Love', 'February - Late Hours', 'Jazz Lento en Serio', 'Cozy Autumn Days', 'I Get Along Without You Very Well (Except Sometimes)', \"You're Gonna Be Ok\", 'Loving You', 'Planet Stuff', 'The Effects of Climate Change on Densely Populated Areas', 'Atlantic Oscillations', 'Snow Keeps Falling', 'The Lady in Red', 'Standards', 'I Like That', 'Fubu', 'Ages Ago', 'My One and Only Love', 'Pretty Apollo', 'Softly, as in a Morning Sunrise', 'Coffee and Jazz Piano', 'Help Me Study', 'Sunshine', 'Slide', 'Peach Garden', 'My Favorite Things', 'busstop', 'Party Like Its 1929', 'Atmosfera movimentata da jazz bar', 'Cocktails for Two - Remastered', 'Icarus And Friends', 'Bianca', 'Love Is in the Air', 'Otesla - Light Eternal - Dead Gorgeous Records', \"Underground's My Style\", 'Hoxton Hoops', 'Down', 'LML', 'Madison', 'Everytime around', 'Farfalla', 'Groovelatino', 'Jazz Piano Blend', \"Marvin's Mood\", 'Leena', 'Give Yourself to Love', 'Come Rain or Come Shine', 'Jazz Massive', 'Lest We Forget (blood)', 'After Winter Must Come Spring feat. Elbi', 'Cold Blooded Jazz Man', 'Chilled Background Jazz', '満ちていく体温', 'Ghosts', 'Bogey Wail (Radio Version)', 'Peace', 'Classy Jazz', \"Ev'rytime We Say Goodbye\", 'Falling Leaves', 'Adwa', 'Bad Kids To The Back', 'Catcher', 'Verveine', 'Breezy Night', 'Take it to the Rink', 'Solar', 'Doctor 03', 'Ocean', 'Who U Think U Are, Pt. 2', 'See Your Breath', 'Alone Together', 'Five Years Ago', 'Sum', 'Wrinkle', 'Fleeting Joy', 'Aves', 'Before I Leave', 'An Apple Orchard', \"Dreamin'\", 'Arcade', \"I Guess I'll Hang My Tears out to Dry\", 'Endless Love', 'La Petite Reine', 'Jazz on the Island', 'Door', 'March - Little Trumpeter', 'My Favorite Season', 'Night and Day', 'Arrow', 'Woah', 'My Heart Is Full', 'Frosty Evening', 'Visit', \"Fly Me to the Moon / You're Nobody till Somebody Loves You / Just a Gigolo / Fly Me to the Moon (Reprise)\", 'Sitting by the Fire', 'My True Love Is You', 'Be Thankful for What You Got', 'Julius Caesar', 'Rubberband of Life (feat. Ledisi)', 'Spring Blossoms', 'Blue Eyed Monster', 'Moonlight Syndrome', 'My Friends and I Pt. 2', 'Next Door Dreaming', 'Wintertime', 'Moon Dance', 'Just You', 'I Just Wanna Stop', 'Blue World', 'I Could Write A Book', \"I Can't Give You Anything But Love\", 'Stella By Starlight', 'Nosotros', 'Please Chill', 'The Creator', 'Time Of Change', 'Coffee House Bebop Jazz Background', 'Gift', 'You need to cry', 'Azalea', 'Evensong', 'Miss Mess', 'L-O-V-E - French Version', 'These Empty Streets', 'Uman', 'First Season', 'Light A Lantern', 'Daydreaming', 'Hoot of Owl', 'Drive', 'Gentle rain', 'Like Someone In Love', 'Pecan pie', 'Maybe Some Other Time', 'In the Wee Small Hours of the Morning', 'Pure Imagination', 'How Deep Is The Ocean', 'Bella Nova', 'Side by Side - Remastered', 'Lights Ahead', 'Morning Jazz Juice', 'Limbo', 'Jazz Studying Nights', 'Paranoid Android I', 'Constellations', 'The Neighborhood', 'Coffee Cup', 'Be Encouraged', 'Four', 'She Closed Her Eyes in Paris', 'Higher Self', 'Golden Fields', 'Mackerel Sky', 'Oh Word', 'Leaf Pile', 'The Balance', 'Deeper', 'Cafe Instrumental', 'Moon Over Brooklyn', 'Waltz for Maybe', 'Come Fly With Me', 'Swarm', 'I Should Care', 'Chilly Morning', 'Morning Sun Cafe', 'sweet times', \"I Didn't Know What Time It Was\", 'Slow Jazz Cafe', 'Song of Happiness', 'At Last', 'Alfonsina y el mar', 'Una Rosa Blanca', 'Come To Fireside', 'Ill Wind', 'Reason in Disguise', 'Blood Of The Past', 'Circumstance Change', 'Beyond the Sea of Trees', \"When You're Smiling\", 'L-O-V-E - Italian Version', 'If', 'They Reminisce Over You', 'La part des anges', 'Red Leaves', '21st Century Schizoid Man (Radio Edit)', \"Let's Make Love on This Plane\", 'Cruise Control', 'In The Twilight', 'Longer Night', '\"A\" Your Adorable', 'Everything Happens To Me', 'In The Festival', 'The Dog Did It', 'Alba', 'picture this', 'The Smell Of Autumn Air', 'All Of You', \"You're Mine\", 'Spicy', 'Anyone Anytime', 'Evening Star', 'Doctor’s Opinion', 'Moonlight', 'Post Requisite', 'Yallwhadinthere', \"Let's Get Weird\", 'Smoke Gets in Your Eyes', 'Cry for You', 'The Prayer', 'Thoughts & Wishes', 'When the Coffee Runs Dry', 'Slow Jazz Background Ballad', 'Beautiful Us', 'Good to Go', 'Swinging Today As Was Yesterday', 'What Am I to Do?', 'Crying', 'Son of a Serpent', 'Freak The Method', 'All I Do [Feat. SiR, Bridget Kelly, Song Bird]', 'Baby Bay', 'Ice Cream', \"Let's Fall In Love\", 'Amicalement Vôtre', 'Jazz Sleep Cafe', 'Kenke Corner', 'Harvest Moon', 'The Happy Man', 'Colours', 'I’m Old Fashioned', 'Les Pipos', 'Late Night Walk', 'Fleeting Joy', 'It’s Better For You', 'Fast Cat', 'Drunk', 'Crepescule - Interlude', 'Studying Music Vibes', 'Jazz Instrumental Vibes', 'Bustin’ Out', 'Just in Time', 'This Simulation Is A Good One', 'Taking It Easy', 'Si tu vois ma mère', 'When Birds Fly to South', \"It's a Blue World\", 'Country & Western', 'Bare Branches', 'You Must Believe In Spring', 'Just A Little Bit', 'Jazz Coffee Vibes', 'Kissed by the Sun', 'Jazz Muy Lento', \"Can't Sleep\", 'Soft Jazz Cafe', 'Time', 'Day Trip out', 'Jazz Morning Playlist Music', 'Back to Black', 'Thanks', 'Backyards', 'A Hint Of Cinnamon', 'Amor Arrayano', 'All For Me', 'Hoping for Your Love', 'Reminiscing', 'Nanana', 'One For', 'Dead End', 'The Night I Met You', 'The Tide is High', \"I Don't Know\", 'April In Paris', 'Hurts to Be in Love', 'Take A Walk To The Library', 'Trigger Happy Police', 'In Here.', 'Early Morning Jazz', 'Stronger Magic', 'Contour.', 'Fargo', 'Look at You', 'The Weekend'], 'artistas': [], 'genero': 'jazz', 'tipo': 'track', 'año de lanzamiento': []}\n"
     ]
    },
    {
     "data": {
      "text/plain": [
       "5"
      ]
     },
     "execution_count": 5,
     "metadata": {},
     "output_type": "execute_result"
    }
   ],
   "source": [
    "#LISTA DE CANCIONES JAZZ 2019\n",
    "dict_tracks_jazz_2019 ={\"canciones\":[], \"artistas\": [], \"genero\":\"jazz\", \"tipo\":\"track\", \"año de lanzamiento\":[]}\n",
    "for offset in range(0,500,50):\n",
    "    canciones_2019 = sp.search(q=\"genre:jazz year:2019\", type=\"track\", limit=50, offset=offset)\n",
    "    for i in range(0,50,1):\n",
    "        dict_tracks_jazz_2019[\"canciones\"].append(canciones_2019[\"tracks\"][\"items\"][i][\"name\"])\n",
    "        \n",
    "\n",
    "print(dict_tracks_jazz_2019)    \n",
    "len(dict_tracks_jazz_2019)"
   ]
  },
  {
   "cell_type": "code",
   "execution_count": 6,
   "metadata": {},
   "outputs": [
    {
     "name": "stdout",
     "output_type": "stream",
     "text": [
      "{'canciones': ['It’s Better For You', 'Fast Cat', 'Drunk', 'Crepescule - Interlude', 'Studying Music Vibes', 'Jazz Instrumental Vibes', 'Bustin’ Out', 'Just in Time', 'This Simulation Is A Good One', 'Taking It Easy', 'Si tu vois ma mère', 'When Birds Fly to South', \"It's a Blue World\", 'Country & Western', 'Bare Branches', 'You Must Believe In Spring', 'Just A Little Bit', 'Jazz Coffee Vibes', 'Kissed by the Sun', 'Jazz Muy Lento', \"Can't Sleep\", 'Soft Jazz Cafe', 'Time', 'Day Trip out', 'Jazz Morning Playlist Music', 'Back to Black', 'Thanks', 'Backyards', 'A Hint Of Cinnamon', 'Amor Arrayano', 'All For Me', 'Hoping for Your Love', 'Reminiscing', 'Nanana', 'One For', 'Dead End', 'The Night I Met You', 'The Tide is High', \"I Don't Know\", 'April In Paris', 'Hurts to Be in Love', 'Take A Walk To The Library', 'Trigger Happy Police', 'In Here.', 'Early Morning Jazz', 'Stronger Magic', 'Contour.', 'Fargo', 'Look at You', 'The Weekend', 'It’s Better For You', 'Fast Cat', 'Drunk', 'Crepescule - Interlude', 'Studying Music Vibes', 'Jazz Instrumental Vibes', 'Bustin’ Out', 'Just in Time', 'This Simulation Is A Good One', 'Taking It Easy', 'Si tu vois ma mère', 'When Birds Fly to South', \"It's a Blue World\", 'Country & Western', 'Bare Branches', 'You Must Believe In Spring', 'Just A Little Bit', 'Jazz Coffee Vibes', 'Kissed by the Sun', 'Jazz Muy Lento', \"Can't Sleep\", 'Soft Jazz Cafe', 'Time', 'Day Trip out', 'Jazz Morning Playlist Music', 'Back to Black', 'Thanks', 'Backyards', 'A Hint Of Cinnamon', 'Amor Arrayano', 'All For Me', 'Hoping for Your Love', 'Reminiscing', 'Nanana', 'One For', 'Dead End', 'The Night I Met You', 'The Tide is High', \"I Don't Know\", 'April In Paris', 'Hurts to Be in Love', 'Take A Walk To The Library', 'Trigger Happy Police', 'In Here.', 'Early Morning Jazz', 'Stronger Magic', 'Contour.', 'Fargo', 'Look at You', 'The Weekend', 'It’s Better For You', 'Fast Cat', 'Drunk', 'Crepescule - Interlude', 'Studying Music Vibes', 'Jazz Instrumental Vibes', 'Bustin’ Out', 'Just in Time', 'This Simulation Is A Good One', 'Taking It Easy', 'Si tu vois ma mère', 'When Birds Fly to South', \"It's a Blue World\", 'Country & Western', 'Bare Branches', 'You Must Believe In Spring', 'Just A Little Bit', 'Jazz Coffee Vibes', 'Kissed by the Sun', 'Jazz Muy Lento', \"Can't Sleep\", 'Soft Jazz Cafe', 'Time', 'Day Trip out', 'Jazz Morning Playlist Music', 'Back to Black', 'Thanks', 'Backyards', 'A Hint Of Cinnamon', 'Amor Arrayano', 'All For Me', 'Hoping for Your Love', 'Reminiscing', 'Nanana', 'One For', 'Dead End', 'The Night I Met You', 'The Tide is High', \"I Don't Know\", 'April In Paris', 'Hurts to Be in Love', 'Take A Walk To The Library', 'Trigger Happy Police', 'In Here.', 'Early Morning Jazz', 'Stronger Magic', 'Contour.', 'Fargo', 'Look at You', 'The Weekend', 'It’s Better For You', 'Fast Cat', 'Drunk', 'Crepescule - Interlude', 'Studying Music Vibes', 'Jazz Instrumental Vibes', 'Bustin’ Out', 'Just in Time', 'This Simulation Is A Good One', 'Taking It Easy', 'Si tu vois ma mère', 'When Birds Fly to South', \"It's a Blue World\", 'Country & Western', 'Bare Branches', 'You Must Believe In Spring', 'Just A Little Bit', 'Jazz Coffee Vibes', 'Kissed by the Sun', 'Jazz Muy Lento', \"Can't Sleep\", 'Soft Jazz Cafe', 'Time', 'Day Trip out', 'Jazz Morning Playlist Music', 'Back to Black', 'Thanks', 'Backyards', 'A Hint Of Cinnamon', 'Amor Arrayano', 'All For Me', 'Hoping for Your Love', 'Reminiscing', 'Nanana', 'One For', 'Dead End', 'The Night I Met You', 'The Tide is High', \"I Don't Know\", 'April In Paris', 'Hurts to Be in Love', 'Take A Walk To The Library', 'Trigger Happy Police', 'In Here.', 'Early Morning Jazz', 'Stronger Magic', 'Contour.', 'Fargo', 'Look at You', 'The Weekend', 'It’s Better For You', 'Fast Cat', 'Drunk', 'Crepescule - Interlude', 'Studying Music Vibes', 'Jazz Instrumental Vibes', 'Bustin’ Out', 'Just in Time', 'This Simulation Is A Good One', 'Taking It Easy', 'Si tu vois ma mère', 'When Birds Fly to South', \"It's a Blue World\", 'Country & Western', 'Bare Branches', 'You Must Believe In Spring', 'Just A Little Bit', 'Jazz Coffee Vibes', 'Kissed by the Sun', 'Jazz Muy Lento', \"Can't Sleep\", 'Soft Jazz Cafe', 'Time', 'Day Trip out', 'Jazz Morning Playlist Music', 'Back to Black', 'Thanks', 'Backyards', 'A Hint Of Cinnamon', 'Amor Arrayano', 'All For Me', 'Hoping for Your Love', 'Reminiscing', 'Nanana', 'One For', 'Dead End', 'The Night I Met You', 'The Tide is High', \"I Don't Know\", 'April In Paris', 'Hurts to Be in Love', 'Take A Walk To The Library', 'Trigger Happy Police', 'In Here.', 'Early Morning Jazz', 'Stronger Magic', 'Contour.', 'Fargo', 'Look at You', 'The Weekend', 'It’s Better For You', 'Fast Cat', 'Drunk', 'Crepescule - Interlude', 'Studying Music Vibes', 'Jazz Instrumental Vibes', 'Bustin’ Out', 'Just in Time', 'This Simulation Is A Good One', 'Taking It Easy', 'Si tu vois ma mère', 'When Birds Fly to South', \"It's a Blue World\", 'Country & Western', 'Bare Branches', 'You Must Believe In Spring', 'Just A Little Bit', 'Jazz Coffee Vibes', 'Kissed by the Sun', 'Jazz Muy Lento', \"Can't Sleep\", 'Soft Jazz Cafe', 'Time', 'Day Trip out', 'Jazz Morning Playlist Music', 'Back to Black', 'Thanks', 'Backyards', 'A Hint Of Cinnamon', 'Amor Arrayano', 'All For Me', 'Hoping for Your Love', 'Reminiscing', 'Nanana', 'One For', 'Dead End', 'The Night I Met You', 'The Tide is High', \"I Don't Know\", 'April In Paris', 'Hurts to Be in Love', 'Take A Walk To The Library', 'Trigger Happy Police', 'In Here.', 'Early Morning Jazz', 'Stronger Magic', 'Contour.', 'Fargo', 'Look at You', 'The Weekend', 'It’s Better For You', 'Fast Cat', 'Drunk', 'Crepescule - Interlude', 'Studying Music Vibes', 'Jazz Instrumental Vibes', 'Bustin’ Out', 'Just in Time', 'This Simulation Is A Good One', 'Taking It Easy', 'Si tu vois ma mère', 'When Birds Fly to South', \"It's a Blue World\", 'Country & Western', 'Bare Branches', 'You Must Believe In Spring', 'Just A Little Bit', 'Jazz Coffee Vibes', 'Kissed by the Sun', 'Jazz Muy Lento', \"Can't Sleep\", 'Soft Jazz Cafe', 'Time', 'Day Trip out', 'Jazz Morning Playlist Music', 'Back to Black', 'Thanks', 'Backyards', 'A Hint Of Cinnamon', 'Amor Arrayano', 'All For Me', 'Hoping for Your Love', 'Reminiscing', 'Nanana', 'One For', 'Dead End', 'The Night I Met You', 'The Tide is High', \"I Don't Know\", 'April In Paris', 'Hurts to Be in Love', 'Take A Walk To The Library', 'Trigger Happy Police', 'In Here.', 'Early Morning Jazz', 'Stronger Magic', 'Contour.', 'Fargo', 'Look at You', 'The Weekend', 'It’s Better For You', 'Fast Cat', 'Drunk', 'Crepescule - Interlude', 'Studying Music Vibes', 'Jazz Instrumental Vibes', 'Bustin’ Out', 'Just in Time', 'This Simulation Is A Good One', 'Taking It Easy', 'Si tu vois ma mère', 'When Birds Fly to South', \"It's a Blue World\", 'Country & Western', 'Bare Branches', 'You Must Believe In Spring', 'Just A Little Bit', 'Jazz Coffee Vibes', 'Kissed by the Sun', 'Jazz Muy Lento', \"Can't Sleep\", 'Soft Jazz Cafe', 'Time', 'Day Trip out', 'Jazz Morning Playlist Music', 'Back to Black', 'Thanks', 'Backyards', 'A Hint Of Cinnamon', 'Amor Arrayano', 'All For Me', 'Hoping for Your Love', 'Reminiscing', 'Nanana', 'One For', 'Dead End', 'The Night I Met You', 'The Tide is High', \"I Don't Know\", 'April In Paris', 'Hurts to Be in Love', 'Take A Walk To The Library', 'Trigger Happy Police', 'In Here.', 'Early Morning Jazz', 'Stronger Magic', 'Contour.', 'Fargo', 'Look at You', 'The Weekend', 'It’s Better For You', 'Fast Cat', 'Drunk', 'Crepescule - Interlude', 'Studying Music Vibes', 'Jazz Instrumental Vibes', 'Bustin’ Out', 'Just in Time', 'This Simulation Is A Good One', 'Taking It Easy', 'Si tu vois ma mère', 'When Birds Fly to South', \"It's a Blue World\", 'Country & Western', 'Bare Branches', 'You Must Believe In Spring', 'Just A Little Bit', 'Jazz Coffee Vibes', 'Kissed by the Sun', 'Jazz Muy Lento', \"Can't Sleep\", 'Soft Jazz Cafe', 'Time', 'Day Trip out', 'Jazz Morning Playlist Music', 'Back to Black', 'Thanks', 'Backyards', 'A Hint Of Cinnamon', 'Amor Arrayano', 'All For Me', 'Hoping for Your Love', 'Reminiscing', 'Nanana', 'One For', 'Dead End', 'The Night I Met You', 'The Tide is High', \"I Don't Know\", 'April In Paris', 'Hurts to Be in Love', 'Take A Walk To The Library', 'Trigger Happy Police', 'In Here.', 'Early Morning Jazz', 'Stronger Magic', 'Contour.', 'Fargo', 'Look at You', 'The Weekend', 'It’s Better For You', 'Fast Cat', 'Drunk', 'Crepescule - Interlude', 'Studying Music Vibes', 'Jazz Instrumental Vibes', 'Bustin’ Out', 'Just in Time', 'This Simulation Is A Good One', 'Taking It Easy', 'Si tu vois ma mère', 'When Birds Fly to South', \"It's a Blue World\", 'Country & Western', 'Bare Branches', 'You Must Believe In Spring', 'Just A Little Bit', 'Jazz Coffee Vibes', 'Kissed by the Sun', 'Jazz Muy Lento', \"Can't Sleep\", 'Soft Jazz Cafe', 'Time', 'Day Trip out', 'Jazz Morning Playlist Music', 'Back to Black', 'Thanks', 'Backyards', 'A Hint Of Cinnamon', 'Amor Arrayano', 'All For Me', 'Hoping for Your Love', 'Reminiscing', 'Nanana', 'One For', 'Dead End', 'The Night I Met You', 'The Tide is High', \"I Don't Know\", 'April In Paris', 'Hurts to Be in Love', 'Take A Walk To The Library', 'Trigger Happy Police', 'In Here.', 'Early Morning Jazz', 'Stronger Magic', 'Contour.', 'Fargo', 'Look at You', 'The Weekend'], 'artistas': [], 'genero': 'jazz', 'tipo': 'track', 'año de lanzamiento': []}\n"
     ]
    },
    {
     "data": {
      "text/plain": [
       "5"
      ]
     },
     "execution_count": 6,
     "metadata": {},
     "output_type": "execute_result"
    }
   ],
   "source": [
    "#LISTA DE CANCIONES JAZZ 2020\n",
    "dict_tracks_jazz_2020 ={\"canciones\":[], \"artistas\": [], \"genero\":\"jazz\", \"tipo\":\"track\", \"año de lanzamiento\":[]}\n",
    "for offset in range(0,500,50):\n",
    "    canciones_2020 = sp.search(q=\"genre:jazz year:2020\", type=\"track\", limit=50, offset=offset)\n",
    "    for i in range(0,50,1):\n",
    "        dict_tracks_jazz_2020[\"canciones\"].append(canciones_2019[\"tracks\"][\"items\"][i][\"name\"])\n",
    "        \n",
    "\n",
    "print(dict_tracks_jazz_2020)    \n",
    "len(dict_tracks_jazz_2020)"
   ]
  },
  {
   "cell_type": "code",
   "execution_count": 7,
   "metadata": {},
   "outputs": [
    {
     "name": "stdout",
     "output_type": "stream",
     "text": [
      "{'canciones': ['Opendoors', 'Temptations', 'Griztronics', 'En Su Lugar', 'Elevator Vibes', 'Clouds', 'Algo contigo', 'Blue Moon', 'Coco Mango Diced (Boy Scout Mix)', 'Abusey Junction', 'Walk Like a Motherfucker', 'Never Enough', 'Timeline', 'Part II', 'Waltz No.2', 'Blue Spaces', \"I'm a Rock\", 'Miracle', 'Inside Out', \"I Can't Stop Loving You\", 'Stella By Starlight', 'Calming Instrumental Bossa Nova', 'Coco Mango Diced', 'Black Balloons Reprise', 'Moonshine', 'DInner Jazz Classics', 'Beach Jazz Chillout', 'Soulful', 'Romantic Dinner Music', 'Ill Wind', 'Super Fly Funk', 'Vintage Vibes Cool Jazz Bar Guitar', \"Cheatin' Midnight\", 'Ti-de', 'You Turned The Tables On Me', 'Jazz Bar Classics Are Coming Home Tonight', 'Ghost', 'Evening Swing', 'Fall For You', 'Estamos en Salsa', 'Poor Butterfly', 'Plume', 'Classic Jazz Jams', 'Every Time We Say Goodbye - Remastered', 'Unknown Jam', 'These Are Just Places To Me Now', 'VIP Vintage Saxophone Jazz', 'Strawberry Moon', 'Vintage Jazz Club Guitar Jazz', 'Oro que Fluye', 'Listen to This', 'Afternoon Delight', 'Linked', 'Turtle or Tortoise?', 'Cool Caffine for Everyone', 'Exhale', 'Marine Life', 'Think of You', 'Stockholm Summer', 'Brazz Street', 'Coffee Jazz Instrumentals', 'I’m All Ears', 'Cumbia Sobre el Mar - El Búho Remix', 'supadupakulavibe', 'The Touch', 'The Gulf Stream', 'Part III', 'Walking Around Coffee Club', 'Jazz bar Shuffle', 'Flowers in the Rain', 'Pictorial Filly', 'More', 'Clarinet Jazz Vintage Jazz Club', 'Goodbye Song', 'Supersonics', 'Jazz Clásico en Serio', \"Stylin'\", 'Swing City', 'A New Day', 'Very Slow Guitar Background', 'Música para Beber Vino', 'About You', 'Seven Eight', 'Cafe Jazz', 'The Climb', 'Closer', \"That's Life\", 'Black Dynamite', 'It Was You', 'Headlines (feat. Westside Gunn, Conway & Benny)', 'Do Friends Fall in Love?', 'The Touch - Remix', 'Blame it on My Youth', 'Rosewood', 'I’m Good', 'I Only Have Eyes For You', 'Continued Dinner', 'Make It Happen', 'Consistent', 'The Wherefore and Therefore', 'FF4', 'A Song With No Name', 'Coffee Date', 'Smoothly Smooth and Slowly Slow', 'Clearly in Need of a Biscuit', 'She', 'Spontaneous', 'Endless Summer', 'Willow Weep for Me', 'Land Of Honey', 'Intro', 'Polka Dots and Moonbeams', 'Cheek To Cheek', 'Melancolia', 'Can’t Get Enough', 'tautte.', 'Light Dance', 'Pitch Dark', 'Skin in the Game', 'Skylark', 'Find My Own Way', 'April', 'Airborne', 'The Essence', 'Unsentimental', 'Sunset (2019 Y.Nakamura Remastering)', 'ひとひら', 'Relaxing Coffee Break Jazz', 'Grown Folks Business', 'Cloudy', 'Long Stroll to Town', 'All The Things You Are', 'Coffee Shop Jazz Club', 'Fine Coffee Jazz', 'Instrumental Jazz Cafe Sessions', 'Jazz Just for You', 'It Gets Better', 'That Special Moment', 'Waterguns', 'Tropical Waters', 'The Girl From Ipanema', 'Colours', 'Dinner Time Jazz', 'Morning Walk', 'Jazz Clásico en Serio 2', 'For My Ladies', 'Petal', 'Coffee Shop Jazz Vibes', 'In the Basement', 'FXMLDR', 'Wish You Well - Hablot Brown Remix', 'You Go To My Head', 'Prelude to Memory of T.', 'Space is the Place', 'Illusion', 'Coffee House Vibes', 'September in the Rain', 'Trustt', 'Best Part', 'Surf Boogie', 'High Heels', 'hang up', \"After You've Gone\", \"Don't Know Why\", \"Here's That Rainy Day\", 'Golden Slumbers', 'Café cigarette', 'Plantasy', 'Red Sails in the Sunset', 'Bossa Nova Music for Pets', 'Cool Jazz in Brades', 'Without a Thought for My Heart', 'cielo', 'Checkinthru', 'Forelsket i København', 'The Way We Play', 'As in Jazz', 'Danish Design, Pt..1', 'Jazzhands', 'My One And Only Love', 'In A Mellow Tone', 'Emerge', \"Paris je t'aime\", 'Fast Lane Jazz', 'How My Heart Sings', 'Friend Request', 'Tiger Kingdom Space Camp', \"I've Got You Under My Skin\", 'That’s Life', 'What Am I to Do?', 'Fuck Yo Feelings', 'Highly Recommended', 'Escalator (Demo Version)', 'Maybe', 'Serving Suggestions', 'There You Are', 'Brass Fiction', \"I Can't Get Started\", 'Coffee House Jazz jams', \"It's A Man's World - Live\", 'Someone To Watch Over Me', 'Nocturnal', 'Mean To Me', 'Falling', 'San Francisco (Be Sure to Wear Flowers in Your Hair) (feat. Michael Marshall)', 'Love Is Here To Stay', 'In Search of Balance', 'Back in Business', \"I Don't Want To Live On The Moon\", 'Taking Flight (feat. Brandee Younger)', 'Be Thankful (feat. Erykah Badu)', 'So Slightly', 'A Free Continuation', 'Hatchlings', 'A Better Place', 'Searching', 'All Night', 'Cycles', 'And Suddenly There Was Love', 'February - Late Hours', 'Jazz Lento en Serio', 'Cozy Autumn Days', 'I Get Along Without You Very Well (Except Sometimes)', \"You're Gonna Be Ok\", 'Loving You', 'Planet Stuff', 'The Effects of Climate Change on Densely Populated Areas', 'Atlantic Oscillations', 'Snow Keeps Falling', 'The Lady in Red', 'Standards', 'I Like That', 'Fubu', 'Ages Ago', 'My One and Only Love', 'Pretty Apollo', 'Softly, as in a Morning Sunrise', 'Coffee and Jazz Piano', 'Help Me Study', 'Sunshine', 'Slide', 'Peach Garden', 'My Favorite Things', 'busstop', 'Party Like Its 1929', 'Atmosfera movimentata da jazz bar', 'Cocktails for Two - Remastered', 'Icarus And Friends', 'Bianca', 'Love Is in the Air', 'Otesla - Light Eternal - Dead Gorgeous Records', \"Underground's My Style\", 'Hoxton Hoops', 'Down', 'LML', 'Madison', 'Everytime around', 'Farfalla', 'Groovelatino', 'Jazz Piano Blend', \"Marvin's Mood\", 'Leena', 'Give Yourself to Love', 'Come Rain or Come Shine', 'Jazz Massive', 'Lest We Forget (blood)', 'After Winter Must Come Spring feat. Elbi', 'Cold Blooded Jazz Man', 'Chilled Background Jazz', '満ちていく体温', 'Ghosts', 'Bogey Wail (Radio Version)', 'Peace', 'Classy Jazz', \"Ev'rytime We Say Goodbye\", 'Falling Leaves', 'Adwa', 'Bad Kids To The Back', 'Catcher', 'Verveine', 'Breezy Night', 'Take it to the Rink', 'Solar', 'Doctor 03', 'Ocean', 'Who U Think U Are, Pt. 2', 'See Your Breath', 'Alone Together', 'Five Years Ago', 'Sum', 'Wrinkle', 'Fleeting Joy', 'Aves', 'Before I Leave', 'An Apple Orchard', \"Dreamin'\", 'Arcade', \"I Guess I'll Hang My Tears out to Dry\", 'Endless Love', 'La Petite Reine', 'Jazz on the Island', 'Door', 'March - Little Trumpeter', 'My Favorite Season', 'Night and Day', 'Arrow', 'Woah', 'My Heart Is Full', 'Frosty Evening', 'Visit', \"Fly Me to the Moon / You're Nobody till Somebody Loves You / Just a Gigolo / Fly Me to the Moon (Reprise)\", 'Sitting by the Fire', 'My True Love Is You', 'Be Thankful for What You Got', 'Julius Caesar', 'Rubberband of Life (feat. Ledisi)', 'Spring Blossoms', 'Blue Eyed Monster', 'Moonlight Syndrome', 'My Friends and I Pt. 2', 'Next Door Dreaming', 'Wintertime', 'Moon Dance', 'Just You', 'I Just Wanna Stop', 'Blue World', 'I Could Write A Book', \"I Can't Give You Anything But Love\", 'Stella By Starlight', 'Nosotros', 'Please Chill', 'The Creator', 'Time Of Change', 'Coffee House Bebop Jazz Background', 'Gift', 'You need to cry', 'Azalea', 'Evensong', 'Miss Mess', 'L-O-V-E - French Version', 'These Empty Streets', 'Uman', 'First Season', 'Light A Lantern', 'Daydreaming', 'Hoot of Owl', 'Drive', 'Gentle rain', 'Like Someone In Love', 'Pecan pie', 'Maybe Some Other Time', 'In the Wee Small Hours of the Morning', 'Pure Imagination', 'How Deep Is The Ocean', 'Bella Nova', 'Side by Side - Remastered', 'Lights Ahead', 'Morning Jazz Juice', 'Limbo', 'Jazz Studying Nights', 'Paranoid Android I', 'Constellations', 'The Neighborhood', 'Coffee Cup', 'Be Encouraged', 'Four', 'She Closed Her Eyes in Paris', 'Higher Self', 'Golden Fields', 'Mackerel Sky', 'Oh Word', 'Leaf Pile', 'The Balance', 'Deeper', 'Cafe Instrumental', 'Moon Over Brooklyn', 'Waltz for Maybe', 'Come Fly With Me', 'Swarm', 'I Should Care', 'Chilly Morning', 'Morning Sun Cafe', 'sweet times', \"I Didn't Know What Time It Was\", 'Slow Jazz Cafe', 'Song of Happiness', 'At Last', 'Alfonsina y el mar', 'Una Rosa Blanca', 'Come To Fireside', 'Ill Wind', 'Reason in Disguise', 'Blood Of The Past', 'Circumstance Change', 'Beyond the Sea of Trees', \"When You're Smiling\", 'L-O-V-E - Italian Version', 'If', 'They Reminisce Over You', 'La part des anges', 'Red Leaves', '21st Century Schizoid Man (Radio Edit)', \"Let's Make Love on This Plane\", 'Cruise Control', 'In The Twilight', 'Longer Night', '\"A\" Your Adorable', 'Everything Happens To Me', 'In The Festival', 'The Dog Did It', 'Alba', 'picture this', 'The Smell Of Autumn Air', 'All Of You', \"You're Mine\", 'Spicy', 'Anyone Anytime', 'Evening Star', 'Doctor’s Opinion', 'Moonlight', 'Post Requisite', 'Yallwhadinthere', \"Let's Get Weird\", 'Smoke Gets in Your Eyes', 'Cry for You', 'The Prayer', 'Thoughts & Wishes', 'When the Coffee Runs Dry', 'Slow Jazz Background Ballad', 'Beautiful Us', 'Good to Go', 'Swinging Today As Was Yesterday', 'What Am I to Do?', 'Crying', 'Son of a Serpent', 'Freak The Method', 'All I Do [Feat. SiR, Bridget Kelly, Song Bird]', 'Baby Bay', 'Ice Cream', \"Let's Fall In Love\", 'Amicalement Vôtre', 'Jazz Sleep Cafe', 'Kenke Corner', 'Harvest Moon', 'The Happy Man', 'Colours', 'I’m Old Fashioned', 'Les Pipos', 'Late Night Walk', 'Fleeting Joy', 'It’s Better For You', 'Fast Cat', 'Drunk', 'Crepescule - Interlude', 'Studying Music Vibes', 'Jazz Instrumental Vibes', 'Bustin’ Out', 'Just in Time', 'This Simulation Is A Good One', 'Taking It Easy', 'Si tu vois ma mère', 'When Birds Fly to South', \"It's a Blue World\", 'Country & Western', 'Bare Branches', 'You Must Believe In Spring', 'Just A Little Bit', 'Jazz Coffee Vibes', 'Kissed by the Sun', 'Jazz Muy Lento', \"Can't Sleep\", 'Soft Jazz Cafe', 'Time', 'Day Trip out', 'Jazz Morning Playlist Music', 'Back to Black', 'Thanks', 'Backyards', 'A Hint Of Cinnamon', 'Amor Arrayano', 'All For Me', 'Hoping for Your Love', 'Reminiscing', 'Nanana', 'One For', 'Dead End', 'The Night I Met You', 'The Tide is High', \"I Don't Know\", 'April In Paris', 'Hurts to Be in Love', 'Take A Walk To The Library', 'Trigger Happy Police', 'In Here.', 'Early Morning Jazz', 'Stronger Magic', 'Contour.', 'Fargo', 'Look at You', 'The Weekend'], 'artistas': ['Underground Canopy', 'Kris Bowers', 'Jon Batiste', 'Tom Misch', 'Erroll Garner', 'Eddie Condon', 'Alabaster DePlume', 'Anita Baker', 'Shierro', 'Nina Simone', 'Brendan Maynard + 2', 'Athletic Progression', 'Kris Bowers', 'Ella Fitzgerald', 'Yazmin Lacey', 'Angelina Jordan', 'GRiZ', 'Tom Misch', 'Melody Gardot', 'Kris Bowers', 'Dan Kye', 'John Coltrane', 'Alabaster DePlume', 'Ergo Montserrat', 'Lennie Tristano', 'Miramare', 'Kim Waters', 'Boney James', 'Kris Bowers', 'Plini', 'Oscar Peterson', 'Ebi Soda', 'Underground Canopy', 'Dan Evans-Parker', 'Kris Bowers', 'Carol Albert', 'Otesla', 'Ill Considered', 'Konteks', 'Vincent Ingala', 'Oscar Peterson Trio', 'Nick Colionne', 'Mangrove Yeltsin', 'paris91', 'Alex Parchment', 'Flatland Park', 'Norah Jones', 'The Sweetgreens', 'Johnny Hodges', 'The Colours That Rise', 'Ragan Whiteside', 'Underground Canopy', 'Emapea', 'Kris Bowers', 'The Myth of the Turtle', 'Ken Navarro', 'Pigeondust', 'Doris Day', 'Kris Bowers', 'Ergo Montserrat', 'Oli Silk', 'The Myth of the Turtle', 'Mangrove Yeltsin', 'Emapea', 'Robert Glasper', 'Nick Colionne', 'Chris \"Big Dog\" Davis', 'Holborns', 'Chris Standring', 'Midtown Trio', 'Bladverk Band', 'The Myth of the Turtle', 'Norman Brown', 'Tom Misch', 'The Myth of the Turtle', 'Kris Bowers', 'Skinny Hightower', 'yeyts.', 'Anita Rosswell', 'Phil Denny', 'Ergo Montserrat', 'Kris Bowers', 'Eve St. Jones', 'Lin Rountree', 'Kris Bowers', 'Gerald Albright', 'Boozoo Bajou', 'yeyts.', 'Norah Jones', 'Chaos In The CBD', 'Athletic Progression', 'Red Brick Lane', 'Darren Rahn', 'Ryan Montano', 'Kuipers & Winter', 'Fulton Street Players', 'Deca', 'Serenity State of Mind', 'Ergo Montserrat', 'The Myth of the Turtle', 'The Pharcyde', 'Pigeondust', 'Eli Starr Trio', 'Brian Simpson', 'Carl Bagge Trio', 'Randy Scott', 'Dea Sancta', 'Godfather Don', 'Athletic Progression', 'Adam Hawley', 'Mangrove Yeltsin', 'Michael J Thomas', 'Ennio Máno', 'yeyts.', 'Kris Bowers', 'Jeff Laine & Co', 'Freddie Fox', 'Hudson Harris & Haim', 'Brian Simpson', 'Sparrow & Bird', 'KTZ Players', 'Kamasi Washington', 'Diana Krall', 'yeyts.', 'Dee Lucas', 'Tony DeSare', 'Tom Misch', 'Tony Saunders', 'CrazyJaZz', 'Kuipers & Winter', 'Holborns', 'Oilix', 'Vintage Emporium', 'Yoni Mayraz', 'Immanuel Wilkins', 'Mangrove Yeltsin', 'Ergo Montserrat', 'Mandevilla', 'The Myth of the Turtle', 'Norah Jones', 'Yazmin Lacey', 'Hudson Harris & Haim', 'The Smooth Jazz Alley', 'Melody Gardot', 'Boney James', 'GRiZ', 'Asako Toki', 'Bibi Tanga & The Selenites', 'The Myth of the Turtle', 'Tom Misch', 'The Sweetgreens', 'Michael Wollny', 'Alabaster DePlume', 'Athletic Progression', 'Gathering in Jazz', 'Hara Noda', 'TIA RAY', 'Dea Sancta', 'Simply Coffeehouse', 'Zander Jazz Trio', 'Thelonious Coltrane', 'Louis Silva Band', 'gum.mp3', 'Magpie Jazz Trio', 'Burt Mitchell', 'Plini', 'Melody Gardot', 'CMC 3', 'Skinny Hightower', 'Greg Manning', 'Tom Misch', 'Plini', 'Ibrahim Maalouf', 'Tom Misch', 'Red Brick Lane', 'GRiZ', 'Art Blakey & The Jazz Messengers', 'Anja Lechner', 'GRiZ', 'Jørgen Emborg', 'Athletic Progression', 'Deca', 'The Myth of the Turtle', 'Athletic Progression', 'Cafe Music BGM channel', 'Kokoroko', 'Hudson Harris & Haim', 'Dirty Loops', 'Reese Quartet', 'Arne Torvik Trio', 'KTZ Players', 'yeyts.', 'Sweet Nothings Band', 'Underground Canopy', 'The Myth of the Turtle', 'Wildcookie', 'Martha Tilton', 'Jonah Jones', 'Lauren Richardson', 'Konteks', 'Shakatak', 'Massimo Faraò', 'Stiff Cat Steve', 'Chinese Man', 'Walter Smith III', 'CMC 3', 'Mary Lattimore', 'Carsten Dahl', 'Parov Stelar', 'BADBADNOTGOOD', 'Greydon Park Band', 'Trois Amis', 'Anja Lechner', 'Tom Misch', 'Peggy Lee', 'Oilix', 'Jeremy Pelt', 'Azymuth', 'Coffeehouse BGM Station', 'Magpie Jazz Trio', \"Barry Can't Swim\", 'Espen Eriksen Trio', 'Athletic Progression', 'Silvana Estrada', 'Cory Henry', 'Jack Gardiner', 'Holborns', 'GRiZ', '110th Street Jazz Trio', 'Art Blakey & The Jazz Messengers', 'John Coltrane', 'Flatland Park', 'Pigeondust', 'Shierro', 'Dan Kye', 'Edward Simon', 'Konteks', 'Anja Lechner', 'Tom Misch', 'Ituana', 'Dave Brubeck', 'Massimo Faraò', 'Ambrose Akinmusire', 'iwamizu', 'Alabaster DePlume', 'Tom Misch', 'Greg Spero', 'KTZ Players', 'Bonobo', 'Jitwam', 'Melody Gardot', 'Fulton Street Players', 'Spaze Windu', 'Gregory Porter', 'Lydia Baskow Trio', 'Dee Brown', 'Long Island Quartet', 'Boney James', 'GRiZ', 'Michel Portal', 'Jon Batiste', 'Folamour', 'Oilix', 'Stiff Cat Steve', 'Michael Bublé', 'Alfa Mist', 'Chad Lefkowitz-Brown', 'Konteks', 'Dea Sancta', 'Massimo Faraò', 'Ron Miles', 'Rufio Patio', 'igory', 'Oscar Peterson', 'Trois Amis', 'Boney James', 'Robert Glasper', 'Svaneborg Kardyb', 'Underground Canopy', 'Groove Da Praia', 'Red Rose Jazz Trio', 'CrazyJaZz', 'Jon Batiste', 'Gillian Spencer Trio', 'Oli Silk', 'Jon Batiste', 'Baptiste Herbin', 'Dea Sancta', 'Vernon Sanders', 'SamuW', 'Enrico Pieranunzi', 'Four80East', 'BimBomBam Orchestra', 'Dan Evans-Parker', 'Juraj Stanik Trio', 'Jack Gardiner', 'Tom Misch', 'Butcher Brown', 'Siimbiie Lakew', 'Mangrove Yeltsin', 'Underground Canopy', 'Diana Krall', 'Navy Blue', 'Self-Isolation Coffeehouse', 'Astoria Three', 'Jamie Lancaster', 'RINZ.', 'Måns & Dotter', 'Jazz Holdouts', 'Tour-Maubourg', 'Nenei', 'Night and Day Trio', 'Deca', 'Ben & Katsy', 'Juraj Stanik Trio', 'Ellen Andrea Wang', 'Katashi Kaitō', 'RINZ.', 'GRiZ', 'Moonspatz', 'Caravan Palace', 'Felipe Gordon', 'Colin Stetson', 'Jack Gardiner', 'ichikoro', 'Ituana', 'Plini', 'Living Room', 'Mary Lattimore', 'Plini', 'Angelina Jordan', 'South West Cafe Trio', 'Waxamilion', 'Sparrow & Bird', 'Diana Krall', 'GRiZ', 'Bladverk Band', 'Greydon Park Band', 'Gregory Porter', 'Turning Trio', 'Mandevilla', 'Boozoo Bajou', 'Jamie Lancaster', 'Dave Brubeck', 'KTZ Players', 'Ennio Máno', 'Ardhito Pramono', 'Soul Wun', 'Athletic Progression', 'Tom Stills Quartet', 'Potatohead People', 'Athletic Progression', 'Mansur Brown', 'PYJÆN', 'GRiZ', 'The Jazz Cultivators', 'Snazzback', 'Stefania Tallini', 'Dave \"Baby\" Cortez', 'Plini', 'Mvdk', 'Kaspa.', 'Greydon Park Band', 'Siimbiie Lakew', 'Chaos In The CBD', 'Waxamilion', 'Tony DeSare', 'Massimo Faraò', 'Stephane Wrembel', 'Plini', 'Oscar Peterson Trio', 'FloFilz', 'Charlie Wilder Band', 'GRiZ', 'Cafe Music BGM channel', 'Jon Batiste', 'Olepash', 'Gathering in Jazz', 'Marcos Caixa', 'The Andy Love Band', 'GRiZ', 'The Molsbees', 'We Three Trio', 'Simply Coffeehouse', 'Waxamilion', 'Quantic', 'Kamaal Williams', \"Scott Bradlee's Postmodern Jukebox\", 'GRiZ', 'Potatohead People', 'Shalosh', 'UWS Jazz Trio', 'n o r m a l', 'Deca', 'Emma-Jean Thackray', 'Dea Sancta', 'Melody Gardot', 'Tommy Emmanuel', 'Boney James', 'Yussef Dayes', 'Melody Gardot', 'Red Rose Jazz Trio', 'Burt Mitchell', 'GRiZ', 'Sam Butera', 'Melody Gardot', 'Johnny Smith', 'Michael Stylez & Co', 'Tom Misch', 'Kista', 'Zander Jazz Trio', 'Back Room Jazz Trio', 'Brian Culbertson', 'Caravan Palace', 'Melody Gardot', 'Red Stairs Jazz Quartet', 'Krister & Dalbani', 'Green Trio', 'GRiZ', 'Clap Cotton', 'Gregory Porter', 'Jeff Beck', 'Shierro', 'Dirty Loops', 'Chattanooga Trio', 'TIA RAY', 'Louis Silva Band', 'Robert Glasper', 'Olepash', 'gum.mp3', 'Bobby Dreamz BIG', 'Plini', 'Felix Martin', 'Hailey Tuck', 'Olepash', 'Jon Batiste', 'Otis Redding', 'FRANZ', 'Joan Chamorro', 'Barney Kessel', 'Shierro', 'Ella Fitzgerald', 'The Sorcerers', 'Jazz Holdouts', 'Dan Evans-Parker', 'Nina Simone', 'Hailey Tuck', 'Light Hands Trio', 'Vincent Ingala', 'BADBADNOTGOOD', 'Svaneborg Kardyb', 'Yazmin Lacey', 'Robert Glasper', 'Daniel Ögren', 'Robert Glasper', 'Henning Witsell', 'Robert Elovsson Quartet', 'Dorian Concept', 'Tom Bates', 'Joonie', 'DJ Ryow a.k.a. Smooth Current', 'Kat Edmonson', 'Tom Misch', 'Sam Cooke', 'toconoma', 'Aphrow', 'Mangrove Yeltsin', 'Michel Portal', 'Tate Jackson Trio', 'GRiZ', 'Hailu Mergia', 'PENPALS', 'Diana Krall', 'Potatohead People', 'Till Brönner', 'Carol Albert', 'Aretha Franklin', 'Anthony Lazaro', 'Retromigration', 'Bonobo', 'We Three Trio', 'Matt Dusk', 'Huw Marc Bennett', 'Taylor McFerrin', 'gum.mp3', 'Brian Simpson', 'Shierro', 'Sylvia Telles', 'Vernon Sanders', 'fox capture plan', 'Laurindo Almeida', 'Wolfgang Muthspiel', 'Daniel Ögren', 'Måns & Dotter', 'Hollbeck', \"Kahil El'Zabar\", 'Thomas Fonnesbæk', 'Shierro', 'Wildflower Trio', 'Victoria'], 'genero': 'jazz', 'tipo': 'track', 'año de lanzamiento': []}\n"
     ]
    },
    {
     "data": {
      "text/plain": [
       "5"
      ]
     },
     "execution_count": 7,
     "metadata": {},
     "output_type": "execute_result"
    }
   ],
   "source": [
    "#ARTISTAS DE CANCIONES JAZZ 2019\n",
    "\n",
    "for offset in range(0, 500, 50):\n",
    "    canciones = sp.search(q='genre:\"jazz\" year:2020', type='track', limit=50, offset=offset)\n",
    "    for track in canciones['tracks']['items']:\n",
    "        dict_tracks_jazz_2019[\"artistas\"].append(track[\"artists\"][0]['name'])\n",
    "print(dict_tracks_jazz_2019)\n",
    "len(dict_tracks_jazz_2019)"
   ]
  },
  {
   "cell_type": "code",
   "execution_count": 8,
   "metadata": {},
   "outputs": [
    {
     "name": "stdout",
     "output_type": "stream",
     "text": [
      "{'canciones': ['It’s Better For You', 'Fast Cat', 'Drunk', 'Crepescule - Interlude', 'Studying Music Vibes', 'Jazz Instrumental Vibes', 'Bustin’ Out', 'Just in Time', 'This Simulation Is A Good One', 'Taking It Easy', 'Si tu vois ma mère', 'When Birds Fly to South', \"It's a Blue World\", 'Country & Western', 'Bare Branches', 'You Must Believe In Spring', 'Just A Little Bit', 'Jazz Coffee Vibes', 'Kissed by the Sun', 'Jazz Muy Lento', \"Can't Sleep\", 'Soft Jazz Cafe', 'Time', 'Day Trip out', 'Jazz Morning Playlist Music', 'Back to Black', 'Thanks', 'Backyards', 'A Hint Of Cinnamon', 'Amor Arrayano', 'All For Me', 'Hoping for Your Love', 'Reminiscing', 'Nanana', 'One For', 'Dead End', 'The Night I Met You', 'The Tide is High', \"I Don't Know\", 'April In Paris', 'Hurts to Be in Love', 'Take A Walk To The Library', 'Trigger Happy Police', 'In Here.', 'Early Morning Jazz', 'Stronger Magic', 'Contour.', 'Fargo', 'Look at You', 'The Weekend', 'It’s Better For You', 'Fast Cat', 'Drunk', 'Crepescule - Interlude', 'Studying Music Vibes', 'Jazz Instrumental Vibes', 'Bustin’ Out', 'Just in Time', 'This Simulation Is A Good One', 'Taking It Easy', 'Si tu vois ma mère', 'When Birds Fly to South', \"It's a Blue World\", 'Country & Western', 'Bare Branches', 'You Must Believe In Spring', 'Just A Little Bit', 'Jazz Coffee Vibes', 'Kissed by the Sun', 'Jazz Muy Lento', \"Can't Sleep\", 'Soft Jazz Cafe', 'Time', 'Day Trip out', 'Jazz Morning Playlist Music', 'Back to Black', 'Thanks', 'Backyards', 'A Hint Of Cinnamon', 'Amor Arrayano', 'All For Me', 'Hoping for Your Love', 'Reminiscing', 'Nanana', 'One For', 'Dead End', 'The Night I Met You', 'The Tide is High', \"I Don't Know\", 'April In Paris', 'Hurts to Be in Love', 'Take A Walk To The Library', 'Trigger Happy Police', 'In Here.', 'Early Morning Jazz', 'Stronger Magic', 'Contour.', 'Fargo', 'Look at You', 'The Weekend', 'It’s Better For You', 'Fast Cat', 'Drunk', 'Crepescule - Interlude', 'Studying Music Vibes', 'Jazz Instrumental Vibes', 'Bustin’ Out', 'Just in Time', 'This Simulation Is A Good One', 'Taking It Easy', 'Si tu vois ma mère', 'When Birds Fly to South', \"It's a Blue World\", 'Country & Western', 'Bare Branches', 'You Must Believe In Spring', 'Just A Little Bit', 'Jazz Coffee Vibes', 'Kissed by the Sun', 'Jazz Muy Lento', \"Can't Sleep\", 'Soft Jazz Cafe', 'Time', 'Day Trip out', 'Jazz Morning Playlist Music', 'Back to Black', 'Thanks', 'Backyards', 'A Hint Of Cinnamon', 'Amor Arrayano', 'All For Me', 'Hoping for Your Love', 'Reminiscing', 'Nanana', 'One For', 'Dead End', 'The Night I Met You', 'The Tide is High', \"I Don't Know\", 'April In Paris', 'Hurts to Be in Love', 'Take A Walk To The Library', 'Trigger Happy Police', 'In Here.', 'Early Morning Jazz', 'Stronger Magic', 'Contour.', 'Fargo', 'Look at You', 'The Weekend', 'It’s Better For You', 'Fast Cat', 'Drunk', 'Crepescule - Interlude', 'Studying Music Vibes', 'Jazz Instrumental Vibes', 'Bustin’ Out', 'Just in Time', 'This Simulation Is A Good One', 'Taking It Easy', 'Si tu vois ma mère', 'When Birds Fly to South', \"It's a Blue World\", 'Country & Western', 'Bare Branches', 'You Must Believe In Spring', 'Just A Little Bit', 'Jazz Coffee Vibes', 'Kissed by the Sun', 'Jazz Muy Lento', \"Can't Sleep\", 'Soft Jazz Cafe', 'Time', 'Day Trip out', 'Jazz Morning Playlist Music', 'Back to Black', 'Thanks', 'Backyards', 'A Hint Of Cinnamon', 'Amor Arrayano', 'All For Me', 'Hoping for Your Love', 'Reminiscing', 'Nanana', 'One For', 'Dead End', 'The Night I Met You', 'The Tide is High', \"I Don't Know\", 'April In Paris', 'Hurts to Be in Love', 'Take A Walk To The Library', 'Trigger Happy Police', 'In Here.', 'Early Morning Jazz', 'Stronger Magic', 'Contour.', 'Fargo', 'Look at You', 'The Weekend', 'It’s Better For You', 'Fast Cat', 'Drunk', 'Crepescule - Interlude', 'Studying Music Vibes', 'Jazz Instrumental Vibes', 'Bustin’ Out', 'Just in Time', 'This Simulation Is A Good One', 'Taking It Easy', 'Si tu vois ma mère', 'When Birds Fly to South', \"It's a Blue World\", 'Country & Western', 'Bare Branches', 'You Must Believe In Spring', 'Just A Little Bit', 'Jazz Coffee Vibes', 'Kissed by the Sun', 'Jazz Muy Lento', \"Can't Sleep\", 'Soft Jazz Cafe', 'Time', 'Day Trip out', 'Jazz Morning Playlist Music', 'Back to Black', 'Thanks', 'Backyards', 'A Hint Of Cinnamon', 'Amor Arrayano', 'All For Me', 'Hoping for Your Love', 'Reminiscing', 'Nanana', 'One For', 'Dead End', 'The Night I Met You', 'The Tide is High', \"I Don't Know\", 'April In Paris', 'Hurts to Be in Love', 'Take A Walk To The Library', 'Trigger Happy Police', 'In Here.', 'Early Morning Jazz', 'Stronger Magic', 'Contour.', 'Fargo', 'Look at You', 'The Weekend', 'It’s Better For You', 'Fast Cat', 'Drunk', 'Crepescule - Interlude', 'Studying Music Vibes', 'Jazz Instrumental Vibes', 'Bustin’ Out', 'Just in Time', 'This Simulation Is A Good One', 'Taking It Easy', 'Si tu vois ma mère', 'When Birds Fly to South', \"It's a Blue World\", 'Country & Western', 'Bare Branches', 'You Must Believe In Spring', 'Just A Little Bit', 'Jazz Coffee Vibes', 'Kissed by the Sun', 'Jazz Muy Lento', \"Can't Sleep\", 'Soft Jazz Cafe', 'Time', 'Day Trip out', 'Jazz Morning Playlist Music', 'Back to Black', 'Thanks', 'Backyards', 'A Hint Of Cinnamon', 'Amor Arrayano', 'All For Me', 'Hoping for Your Love', 'Reminiscing', 'Nanana', 'One For', 'Dead End', 'The Night I Met You', 'The Tide is High', \"I Don't Know\", 'April In Paris', 'Hurts to Be in Love', 'Take A Walk To The Library', 'Trigger Happy Police', 'In Here.', 'Early Morning Jazz', 'Stronger Magic', 'Contour.', 'Fargo', 'Look at You', 'The Weekend', 'It’s Better For You', 'Fast Cat', 'Drunk', 'Crepescule - Interlude', 'Studying Music Vibes', 'Jazz Instrumental Vibes', 'Bustin’ Out', 'Just in Time', 'This Simulation Is A Good One', 'Taking It Easy', 'Si tu vois ma mère', 'When Birds Fly to South', \"It's a Blue World\", 'Country & Western', 'Bare Branches', 'You Must Believe In Spring', 'Just A Little Bit', 'Jazz Coffee Vibes', 'Kissed by the Sun', 'Jazz Muy Lento', \"Can't Sleep\", 'Soft Jazz Cafe', 'Time', 'Day Trip out', 'Jazz Morning Playlist Music', 'Back to Black', 'Thanks', 'Backyards', 'A Hint Of Cinnamon', 'Amor Arrayano', 'All For Me', 'Hoping for Your Love', 'Reminiscing', 'Nanana', 'One For', 'Dead End', 'The Night I Met You', 'The Tide is High', \"I Don't Know\", 'April In Paris', 'Hurts to Be in Love', 'Take A Walk To The Library', 'Trigger Happy Police', 'In Here.', 'Early Morning Jazz', 'Stronger Magic', 'Contour.', 'Fargo', 'Look at You', 'The Weekend', 'It’s Better For You', 'Fast Cat', 'Drunk', 'Crepescule - Interlude', 'Studying Music Vibes', 'Jazz Instrumental Vibes', 'Bustin’ Out', 'Just in Time', 'This Simulation Is A Good One', 'Taking It Easy', 'Si tu vois ma mère', 'When Birds Fly to South', \"It's a Blue World\", 'Country & Western', 'Bare Branches', 'You Must Believe In Spring', 'Just A Little Bit', 'Jazz Coffee Vibes', 'Kissed by the Sun', 'Jazz Muy Lento', \"Can't Sleep\", 'Soft Jazz Cafe', 'Time', 'Day Trip out', 'Jazz Morning Playlist Music', 'Back to Black', 'Thanks', 'Backyards', 'A Hint Of Cinnamon', 'Amor Arrayano', 'All For Me', 'Hoping for Your Love', 'Reminiscing', 'Nanana', 'One For', 'Dead End', 'The Night I Met You', 'The Tide is High', \"I Don't Know\", 'April In Paris', 'Hurts to Be in Love', 'Take A Walk To The Library', 'Trigger Happy Police', 'In Here.', 'Early Morning Jazz', 'Stronger Magic', 'Contour.', 'Fargo', 'Look at You', 'The Weekend', 'It’s Better For You', 'Fast Cat', 'Drunk', 'Crepescule - Interlude', 'Studying Music Vibes', 'Jazz Instrumental Vibes', 'Bustin’ Out', 'Just in Time', 'This Simulation Is A Good One', 'Taking It Easy', 'Si tu vois ma mère', 'When Birds Fly to South', \"It's a Blue World\", 'Country & Western', 'Bare Branches', 'You Must Believe In Spring', 'Just A Little Bit', 'Jazz Coffee Vibes', 'Kissed by the Sun', 'Jazz Muy Lento', \"Can't Sleep\", 'Soft Jazz Cafe', 'Time', 'Day Trip out', 'Jazz Morning Playlist Music', 'Back to Black', 'Thanks', 'Backyards', 'A Hint Of Cinnamon', 'Amor Arrayano', 'All For Me', 'Hoping for Your Love', 'Reminiscing', 'Nanana', 'One For', 'Dead End', 'The Night I Met You', 'The Tide is High', \"I Don't Know\", 'April In Paris', 'Hurts to Be in Love', 'Take A Walk To The Library', 'Trigger Happy Police', 'In Here.', 'Early Morning Jazz', 'Stronger Magic', 'Contour.', 'Fargo', 'Look at You', 'The Weekend', 'It’s Better For You', 'Fast Cat', 'Drunk', 'Crepescule - Interlude', 'Studying Music Vibes', 'Jazz Instrumental Vibes', 'Bustin’ Out', 'Just in Time', 'This Simulation Is A Good One', 'Taking It Easy', 'Si tu vois ma mère', 'When Birds Fly to South', \"It's a Blue World\", 'Country & Western', 'Bare Branches', 'You Must Believe In Spring', 'Just A Little Bit', 'Jazz Coffee Vibes', 'Kissed by the Sun', 'Jazz Muy Lento', \"Can't Sleep\", 'Soft Jazz Cafe', 'Time', 'Day Trip out', 'Jazz Morning Playlist Music', 'Back to Black', 'Thanks', 'Backyards', 'A Hint Of Cinnamon', 'Amor Arrayano', 'All For Me', 'Hoping for Your Love', 'Reminiscing', 'Nanana', 'One For', 'Dead End', 'The Night I Met You', 'The Tide is High', \"I Don't Know\", 'April In Paris', 'Hurts to Be in Love', 'Take A Walk To The Library', 'Trigger Happy Police', 'In Here.', 'Early Morning Jazz', 'Stronger Magic', 'Contour.', 'Fargo', 'Look at You', 'The Weekend'], 'artistas': ['Underground Canopy', 'Kris Bowers', 'Jon Batiste', 'Tom Misch', 'Erroll Garner', 'Eddie Condon', 'Alabaster DePlume', 'Anita Baker', 'Shierro', 'Nina Simone', 'Brendan Maynard + 2', 'Athletic Progression', 'Kris Bowers', 'Ella Fitzgerald', 'Yazmin Lacey', 'Angelina Jordan', 'GRiZ', 'Tom Misch', 'Melody Gardot', 'Kris Bowers', 'Dan Kye', 'John Coltrane', 'Alabaster DePlume', 'Ergo Montserrat', 'Lennie Tristano', 'Miramare', 'Kim Waters', 'Boney James', 'Kris Bowers', 'Plini', 'Oscar Peterson', 'Ebi Soda', 'Underground Canopy', 'Dan Evans-Parker', 'Kris Bowers', 'Carol Albert', 'Otesla', 'Ill Considered', 'Konteks', 'Vincent Ingala', 'Oscar Peterson Trio', 'Nick Colionne', 'Mangrove Yeltsin', 'paris91', 'Alex Parchment', 'Flatland Park', 'Norah Jones', 'The Sweetgreens', 'Johnny Hodges', 'The Colours That Rise', 'Ragan Whiteside', 'Underground Canopy', 'Emapea', 'Kris Bowers', 'The Myth of the Turtle', 'Ken Navarro', 'Pigeondust', 'Doris Day', 'Kris Bowers', 'Ergo Montserrat', 'Oli Silk', 'The Myth of the Turtle', 'Mangrove Yeltsin', 'Emapea', 'Robert Glasper', 'Nick Colionne', 'Chris \"Big Dog\" Davis', 'Holborns', 'Chris Standring', 'Midtown Trio', 'Bladverk Band', 'The Myth of the Turtle', 'Norman Brown', 'Tom Misch', 'The Myth of the Turtle', 'Kris Bowers', 'Skinny Hightower', 'yeyts.', 'Anita Rosswell', 'Phil Denny', 'Ergo Montserrat', 'Kris Bowers', 'Eve St. Jones', 'Lin Rountree', 'Kris Bowers', 'Gerald Albright', 'Boozoo Bajou', 'yeyts.', 'Norah Jones', 'Chaos In The CBD', 'Athletic Progression', 'Red Brick Lane', 'Darren Rahn', 'Ryan Montano', 'Kuipers & Winter', 'Fulton Street Players', 'Deca', 'Serenity State of Mind', 'Ergo Montserrat', 'The Myth of the Turtle', 'The Pharcyde', 'Pigeondust', 'Eli Starr Trio', 'Brian Simpson', 'Carl Bagge Trio', 'Randy Scott', 'Dea Sancta', 'Godfather Don', 'Athletic Progression', 'Adam Hawley', 'Mangrove Yeltsin', 'Michael J Thomas', 'Ennio Máno', 'yeyts.', 'Kris Bowers', 'Jeff Laine & Co', 'Freddie Fox', 'Hudson Harris & Haim', 'Brian Simpson', 'Sparrow & Bird', 'KTZ Players', 'Kamasi Washington', 'Diana Krall', 'yeyts.', 'Dee Lucas', 'Tony DeSare', 'Tom Misch', 'Tony Saunders', 'CrazyJaZz', 'Kuipers & Winter', 'Holborns', 'Oilix', 'Vintage Emporium', 'Yoni Mayraz', 'Immanuel Wilkins', 'Mangrove Yeltsin', 'Ergo Montserrat', 'Mandevilla', 'The Myth of the Turtle', 'Norah Jones', 'Yazmin Lacey', 'Hudson Harris & Haim', 'The Smooth Jazz Alley', 'Melody Gardot', 'Boney James', 'GRiZ', 'Asako Toki', 'Bibi Tanga & The Selenites', 'The Myth of the Turtle', 'Tom Misch', 'The Sweetgreens', 'Michael Wollny', 'Alabaster DePlume', 'Athletic Progression', 'Gathering in Jazz', 'Hara Noda', 'TIA RAY', 'Dea Sancta', 'Simply Coffeehouse', 'Zander Jazz Trio', 'Thelonious Coltrane', 'Louis Silva Band', 'gum.mp3', 'Magpie Jazz Trio', 'Burt Mitchell', 'Plini', 'Melody Gardot', 'CMC 3', 'Skinny Hightower', 'Greg Manning', 'Tom Misch', 'Plini', 'Ibrahim Maalouf', 'Tom Misch', 'Red Brick Lane', 'GRiZ', 'Art Blakey & The Jazz Messengers', 'Anja Lechner', 'GRiZ', 'Jørgen Emborg', 'Athletic Progression', 'Deca', 'The Myth of the Turtle', 'Athletic Progression', 'Cafe Music BGM channel', 'Kokoroko', 'Hudson Harris & Haim', 'Dirty Loops', 'Reese Quartet', 'Arne Torvik Trio', 'KTZ Players', 'yeyts.', 'Sweet Nothings Band', 'Underground Canopy', 'The Myth of the Turtle', 'Wildcookie', 'Martha Tilton', 'Jonah Jones', 'Lauren Richardson', 'Konteks', 'Shakatak', 'Massimo Faraò', 'Stiff Cat Steve', 'Chinese Man', 'Walter Smith III', 'CMC 3', 'Mary Lattimore', 'Carsten Dahl', 'Parov Stelar', 'BADBADNOTGOOD', 'Greydon Park Band', 'Trois Amis', 'Anja Lechner', 'Tom Misch', 'Peggy Lee', 'Oilix', 'Jeremy Pelt', 'Azymuth', 'Coffeehouse BGM Station', 'Magpie Jazz Trio', \"Barry Can't Swim\", 'Espen Eriksen Trio', 'Athletic Progression', 'Silvana Estrada', 'Cory Henry', 'Jack Gardiner', 'Holborns', 'GRiZ', '110th Street Jazz Trio', 'Art Blakey & The Jazz Messengers', 'John Coltrane', 'Flatland Park', 'Pigeondust', 'Shierro', 'Dan Kye', 'Edward Simon', 'Konteks', 'Anja Lechner', 'Tom Misch', 'Ituana', 'Dave Brubeck', 'Massimo Faraò', 'Ambrose Akinmusire', 'iwamizu', 'Alabaster DePlume', 'Tom Misch', 'Greg Spero', 'KTZ Players', 'Bonobo', 'Jitwam', 'Melody Gardot', 'Fulton Street Players', 'Spaze Windu', 'Gregory Porter', 'Lydia Baskow Trio', 'Dee Brown', 'Long Island Quartet', 'Boney James', 'GRiZ', 'Michel Portal', 'Jon Batiste', 'Folamour', 'Oilix', 'Stiff Cat Steve', 'Michael Bublé', 'Alfa Mist', 'Chad Lefkowitz-Brown', 'Konteks', 'Dea Sancta', 'Massimo Faraò', 'Ron Miles', 'Rufio Patio', 'igory', 'Oscar Peterson', 'Trois Amis', 'Boney James', 'Robert Glasper', 'Svaneborg Kardyb', 'Underground Canopy', 'Groove Da Praia', 'Red Rose Jazz Trio', 'CrazyJaZz', 'Jon Batiste', 'Gillian Spencer Trio', 'Oli Silk', 'Jon Batiste', 'Baptiste Herbin', 'Dea Sancta', 'Vernon Sanders', 'SamuW', 'Enrico Pieranunzi', 'Four80East', 'BimBomBam Orchestra', 'Dan Evans-Parker', 'Juraj Stanik Trio', 'Jack Gardiner', 'Tom Misch', 'Butcher Brown', 'Siimbiie Lakew', 'Mangrove Yeltsin', 'Underground Canopy', 'Diana Krall', 'Navy Blue', 'Self-Isolation Coffeehouse', 'Astoria Three', 'Jamie Lancaster', 'RINZ.', 'Måns & Dotter', 'Jazz Holdouts', 'Tour-Maubourg', 'Nenei', 'Night and Day Trio', 'Deca', 'Ben & Katsy', 'Juraj Stanik Trio', 'Ellen Andrea Wang', 'Katashi Kaitō', 'RINZ.', 'GRiZ', 'Moonspatz', 'Caravan Palace', 'Felipe Gordon', 'Colin Stetson', 'Jack Gardiner', 'ichikoro', 'Ituana', 'Plini', 'Living Room', 'Mary Lattimore', 'Plini', 'Angelina Jordan', 'South West Cafe Trio', 'Waxamilion', 'Sparrow & Bird', 'Diana Krall', 'GRiZ', 'Bladverk Band', 'Greydon Park Band', 'Gregory Porter', 'Turning Trio', 'Mandevilla', 'Boozoo Bajou', 'Jamie Lancaster', 'Dave Brubeck', 'KTZ Players', 'Ennio Máno', 'Ardhito Pramono', 'Soul Wun', 'Athletic Progression', 'Tom Stills Quartet', 'Potatohead People', 'Athletic Progression', 'Mansur Brown', 'PYJÆN', 'GRiZ', 'The Jazz Cultivators', 'Snazzback', 'Stefania Tallini', 'Dave \"Baby\" Cortez', 'Plini', 'Mvdk', 'Kaspa.', 'Greydon Park Band', 'Siimbiie Lakew', 'Chaos In The CBD', 'Waxamilion', 'Tony DeSare', 'Massimo Faraò', 'Stephane Wrembel', 'Plini', 'Oscar Peterson Trio', 'FloFilz', 'Charlie Wilder Band', 'GRiZ', 'Cafe Music BGM channel', 'Jon Batiste', 'Olepash', 'Gathering in Jazz', 'Marcos Caixa', 'The Andy Love Band', 'GRiZ', 'The Molsbees', 'We Three Trio', 'Simply Coffeehouse', 'Waxamilion', 'Quantic', 'Kamaal Williams', \"Scott Bradlee's Postmodern Jukebox\", 'GRiZ', 'Potatohead People', 'Shalosh', 'UWS Jazz Trio', 'n o r m a l', 'Deca', 'Emma-Jean Thackray', 'Dea Sancta', 'Melody Gardot', 'Tommy Emmanuel', 'Boney James', 'Yussef Dayes', 'Melody Gardot', 'Red Rose Jazz Trio', 'Burt Mitchell', 'GRiZ', 'Sam Butera', 'Melody Gardot', 'Johnny Smith', 'Michael Stylez & Co', 'Tom Misch', 'Kista', 'Zander Jazz Trio', 'Back Room Jazz Trio', 'Brian Culbertson', 'Caravan Palace', 'Melody Gardot', 'Red Stairs Jazz Quartet', 'Krister & Dalbani', 'Green Trio', 'GRiZ', 'Clap Cotton', 'Gregory Porter', 'Jeff Beck', 'Shierro', 'Dirty Loops', 'Chattanooga Trio', 'TIA RAY', 'Louis Silva Band', 'Robert Glasper', 'Olepash', 'gum.mp3', 'Bobby Dreamz BIG', 'Plini', 'Felix Martin', 'Hailey Tuck', 'Olepash', 'Jon Batiste', 'Otis Redding', 'FRANZ', 'Joan Chamorro', 'Barney Kessel', 'Shierro', 'Ella Fitzgerald', 'The Sorcerers', 'Jazz Holdouts', 'Dan Evans-Parker', 'Nina Simone', 'Hailey Tuck', 'Light Hands Trio', 'Vincent Ingala', 'BADBADNOTGOOD', 'Svaneborg Kardyb', 'Yazmin Lacey', 'Robert Glasper', 'Daniel Ögren', 'Robert Glasper', 'Henning Witsell', 'Robert Elovsson Quartet', 'Dorian Concept', 'Tom Bates', 'Joonie', 'DJ Ryow a.k.a. Smooth Current', 'Kat Edmonson', 'Tom Misch', 'Sam Cooke', 'toconoma', 'Aphrow', 'Mangrove Yeltsin', 'Michel Portal', 'Tate Jackson Trio', 'GRiZ', 'Hailu Mergia', 'PENPALS', 'Diana Krall', 'Potatohead People', 'Till Brönner', 'Carol Albert', 'Aretha Franklin', 'Anthony Lazaro', 'Retromigration', 'Bonobo', 'We Three Trio', 'Matt Dusk', 'Huw Marc Bennett', 'Taylor McFerrin', 'gum.mp3', 'Brian Simpson', 'Shierro', 'Sylvia Telles', 'Vernon Sanders', 'fox capture plan', 'Laurindo Almeida', 'Wolfgang Muthspiel', 'Daniel Ögren', 'Måns & Dotter', 'Hollbeck', \"Kahil El'Zabar\", 'Thomas Fonnesbæk', 'Shierro', 'Wildflower Trio', 'Victoria'], 'genero': 'jazz', 'tipo': 'track', 'año de lanzamiento': []}\n"
     ]
    },
    {
     "data": {
      "text/plain": [
       "5"
      ]
     },
     "execution_count": 8,
     "metadata": {},
     "output_type": "execute_result"
    }
   ],
   "source": [
    "#ARTISTAS DE CANCIONES JAZZ 2020\n",
    "for offset in range(0, 500, 50):\n",
    "    canciones = sp.search(q='genre:\"jazz\" year:2020', type='track', limit=50, offset=offset)\n",
    "    for track in canciones['tracks']['items']:\n",
    "        #for artista in track['artists']:\n",
    "        dict_tracks_jazz_2020[\"artistas\"].append(track[\"artists\"][0]['name'])\n",
    "print(dict_tracks_jazz_2020)\n",
    "len(dict_tracks_jazz_2020)"
   ]
  },
  {
   "cell_type": "code",
   "execution_count": 9,
   "metadata": {},
   "outputs": [
    {
     "name": "stdout",
     "output_type": "stream",
     "text": [
      "{'canciones': ['Opendoors', 'Temptations', 'Griztronics', 'En Su Lugar', 'Elevator Vibes', 'Clouds', 'Algo contigo', 'Blue Moon', 'Coco Mango Diced (Boy Scout Mix)', 'Abusey Junction', 'Walk Like a Motherfucker', 'Never Enough', 'Timeline', 'Part II', 'Waltz No.2', 'Blue Spaces', \"I'm a Rock\", 'Miracle', 'Inside Out', \"I Can't Stop Loving You\", 'Stella By Starlight', 'Calming Instrumental Bossa Nova', 'Coco Mango Diced', 'Black Balloons Reprise', 'Moonshine', 'DInner Jazz Classics', 'Beach Jazz Chillout', 'Soulful', 'Romantic Dinner Music', 'Ill Wind', 'Super Fly Funk', 'Vintage Vibes Cool Jazz Bar Guitar', \"Cheatin' Midnight\", 'Ti-de', 'You Turned The Tables On Me', 'Jazz Bar Classics Are Coming Home Tonight', 'Ghost', 'Evening Swing', 'Fall For You', 'Estamos en Salsa', 'Poor Butterfly', 'Plume', 'Classic Jazz Jams', 'Every Time We Say Goodbye - Remastered', 'Unknown Jam', 'These Are Just Places To Me Now', 'VIP Vintage Saxophone Jazz', 'Strawberry Moon', 'Vintage Jazz Club Guitar Jazz', 'Oro que Fluye', 'Listen to This', 'Afternoon Delight', 'Linked', 'Turtle or Tortoise?', 'Cool Caffine for Everyone', 'Exhale', 'Marine Life', 'Think of You', 'Stockholm Summer', 'Brazz Street', 'Coffee Jazz Instrumentals', 'I’m All Ears', 'Cumbia Sobre el Mar - El Búho Remix', 'supadupakulavibe', 'The Touch', 'The Gulf Stream', 'Part III', 'Walking Around Coffee Club', 'Jazz bar Shuffle', 'Flowers in the Rain', 'Pictorial Filly', 'More', 'Clarinet Jazz Vintage Jazz Club', 'Goodbye Song', 'Supersonics', 'Jazz Clásico en Serio', \"Stylin'\", 'Swing City', 'A New Day', 'Very Slow Guitar Background', 'Música para Beber Vino', 'About You', 'Seven Eight', 'Cafe Jazz', 'The Climb', 'Closer', \"That's Life\", 'Black Dynamite', 'It Was You', 'Headlines (feat. Westside Gunn, Conway & Benny)', 'Do Friends Fall in Love?', 'The Touch - Remix', 'Blame it on My Youth', 'Rosewood', 'I’m Good', 'I Only Have Eyes For You', 'Continued Dinner', 'Make It Happen', 'Consistent', 'The Wherefore and Therefore', 'FF4', 'A Song With No Name', 'Coffee Date', 'Smoothly Smooth and Slowly Slow', 'Clearly in Need of a Biscuit', 'She', 'Spontaneous', 'Endless Summer', 'Willow Weep for Me', 'Land Of Honey', 'Intro', 'Polka Dots and Moonbeams', 'Cheek To Cheek', 'Melancolia', 'Can’t Get Enough', 'tautte.', 'Light Dance', 'Pitch Dark', 'Skin in the Game', 'Skylark', 'Find My Own Way', 'April', 'Airborne', 'The Essence', 'Unsentimental', 'Sunset (2019 Y.Nakamura Remastering)', 'ひとひら', 'Relaxing Coffee Break Jazz', 'Grown Folks Business', 'Cloudy', 'Long Stroll to Town', 'All The Things You Are', 'Coffee Shop Jazz Club', 'Fine Coffee Jazz', 'Instrumental Jazz Cafe Sessions', 'Jazz Just for You', 'It Gets Better', 'That Special Moment', 'Waterguns', 'Tropical Waters', 'The Girl From Ipanema', 'Colours', 'Dinner Time Jazz', 'Morning Walk', 'Jazz Clásico en Serio 2', 'For My Ladies', 'Petal', 'Coffee Shop Jazz Vibes', 'In the Basement', 'FXMLDR', 'Wish You Well - Hablot Brown Remix', 'You Go To My Head', 'Prelude to Memory of T.', 'Space is the Place', 'Illusion', 'Coffee House Vibes', 'September in the Rain', 'Trustt', 'Best Part', 'Surf Boogie', 'High Heels', 'hang up', \"After You've Gone\", \"Don't Know Why\", \"Here's That Rainy Day\", 'Golden Slumbers', 'Café cigarette', 'Plantasy', 'Red Sails in the Sunset', 'Bossa Nova Music for Pets', 'Cool Jazz in Brades', 'Without a Thought for My Heart', 'cielo', 'Checkinthru', 'Forelsket i København', 'The Way We Play', 'As in Jazz', 'Danish Design, Pt..1', 'Jazzhands', 'My One And Only Love', 'In A Mellow Tone', 'Emerge', \"Paris je t'aime\", 'Fast Lane Jazz', 'How My Heart Sings', 'Friend Request', 'Tiger Kingdom Space Camp', \"I've Got You Under My Skin\", 'That’s Life', 'What Am I to Do?', 'Fuck Yo Feelings', 'Highly Recommended', 'Escalator (Demo Version)', 'Maybe', 'Serving Suggestions', 'There You Are', 'Brass Fiction', \"I Can't Get Started\", 'Coffee House Jazz jams', \"It's A Man's World - Live\", 'Someone To Watch Over Me', 'Nocturnal', 'Mean To Me', 'Falling', 'San Francisco (Be Sure to Wear Flowers in Your Hair) (feat. Michael Marshall)', 'Love Is Here To Stay', 'In Search of Balance', 'Back in Business', \"I Don't Want To Live On The Moon\", 'Taking Flight (feat. Brandee Younger)', 'Be Thankful (feat. Erykah Badu)', 'So Slightly', 'A Free Continuation', 'Hatchlings', 'A Better Place', 'Searching', 'All Night', 'Cycles', 'And Suddenly There Was Love', 'February - Late Hours', 'Jazz Lento en Serio', 'Cozy Autumn Days', 'I Get Along Without You Very Well (Except Sometimes)', \"You're Gonna Be Ok\", 'Loving You', 'Planet Stuff', 'The Effects of Climate Change on Densely Populated Areas', 'Atlantic Oscillations', 'Snow Keeps Falling', 'The Lady in Red', 'Standards', 'I Like That', 'Fubu', 'Ages Ago', 'My One and Only Love', 'Pretty Apollo', 'Softly, as in a Morning Sunrise', 'Coffee and Jazz Piano', 'Help Me Study', 'Sunshine', 'Slide', 'Peach Garden', 'My Favorite Things', 'busstop', 'Party Like Its 1929', 'Atmosfera movimentata da jazz bar', 'Cocktails for Two - Remastered', 'Icarus And Friends', 'Bianca', 'Love Is in the Air', 'Otesla - Light Eternal - Dead Gorgeous Records', \"Underground's My Style\", 'Hoxton Hoops', 'Down', 'LML', 'Madison', 'Everytime around', 'Farfalla', 'Groovelatino', 'Jazz Piano Blend', \"Marvin's Mood\", 'Leena', 'Give Yourself to Love', 'Come Rain or Come Shine', 'Jazz Massive', 'Lest We Forget (blood)', 'After Winter Must Come Spring feat. Elbi', 'Cold Blooded Jazz Man', 'Chilled Background Jazz', '満ちていく体温', 'Ghosts', 'Bogey Wail (Radio Version)', 'Peace', 'Classy Jazz', \"Ev'rytime We Say Goodbye\", 'Falling Leaves', 'Adwa', 'Bad Kids To The Back', 'Catcher', 'Verveine', 'Breezy Night', 'Take it to the Rink', 'Solar', 'Doctor 03', 'Ocean', 'Who U Think U Are, Pt. 2', 'See Your Breath', 'Alone Together', 'Five Years Ago', 'Sum', 'Wrinkle', 'Fleeting Joy', 'Aves', 'Before I Leave', 'An Apple Orchard', \"Dreamin'\", 'Arcade', \"I Guess I'll Hang My Tears out to Dry\", 'Endless Love', 'La Petite Reine', 'Jazz on the Island', 'Door', 'March - Little Trumpeter', 'My Favorite Season', 'Night and Day', 'Arrow', 'Woah', 'My Heart Is Full', 'Frosty Evening', 'Visit', \"Fly Me to the Moon / You're Nobody till Somebody Loves You / Just a Gigolo / Fly Me to the Moon (Reprise)\", 'Sitting by the Fire', 'My True Love Is You', 'Be Thankful for What You Got', 'Julius Caesar', 'Rubberband of Life (feat. Ledisi)', 'Spring Blossoms', 'Blue Eyed Monster', 'Moonlight Syndrome', 'My Friends and I Pt. 2', 'Next Door Dreaming', 'Wintertime', 'Moon Dance', 'Just You', 'I Just Wanna Stop', 'Blue World', 'I Could Write A Book', \"I Can't Give You Anything But Love\", 'Stella By Starlight', 'Nosotros', 'Please Chill', 'The Creator', 'Time Of Change', 'Coffee House Bebop Jazz Background', 'Gift', 'You need to cry', 'Azalea', 'Evensong', 'Miss Mess', 'L-O-V-E - French Version', 'These Empty Streets', 'Uman', 'First Season', 'Light A Lantern', 'Daydreaming', 'Hoot of Owl', 'Drive', 'Gentle rain', 'Like Someone In Love', 'Pecan pie', 'Maybe Some Other Time', 'In the Wee Small Hours of the Morning', 'Pure Imagination', 'How Deep Is The Ocean', 'Bella Nova', 'Side by Side - Remastered', 'Lights Ahead', 'Morning Jazz Juice', 'Limbo', 'Jazz Studying Nights', 'Paranoid Android I', 'Constellations', 'The Neighborhood', 'Coffee Cup', 'Be Encouraged', 'Four', 'She Closed Her Eyes in Paris', 'Higher Self', 'Golden Fields', 'Mackerel Sky', 'Oh Word', 'Leaf Pile', 'The Balance', 'Deeper', 'Cafe Instrumental', 'Moon Over Brooklyn', 'Waltz for Maybe', 'Come Fly With Me', 'Swarm', 'I Should Care', 'Chilly Morning', 'Morning Sun Cafe', 'sweet times', \"I Didn't Know What Time It Was\", 'Slow Jazz Cafe', 'Song of Happiness', 'At Last', 'Alfonsina y el mar', 'Una Rosa Blanca', 'Come To Fireside', 'Ill Wind', 'Reason in Disguise', 'Blood Of The Past', 'Circumstance Change', 'Beyond the Sea of Trees', \"When You're Smiling\", 'L-O-V-E - Italian Version', 'If', 'They Reminisce Over You', 'La part des anges', 'Red Leaves', '21st Century Schizoid Man (Radio Edit)', \"Let's Make Love on This Plane\", 'Cruise Control', 'In The Twilight', 'Longer Night', '\"A\" Your Adorable', 'Everything Happens To Me', 'In The Festival', 'The Dog Did It', 'Alba', 'picture this', 'The Smell Of Autumn Air', 'All Of You', \"You're Mine\", 'Spicy', 'Anyone Anytime', 'Evening Star', 'Doctor’s Opinion', 'Moonlight', 'Post Requisite', 'Yallwhadinthere', \"Let's Get Weird\", 'Smoke Gets in Your Eyes', 'Cry for You', 'The Prayer', 'Thoughts & Wishes', 'When the Coffee Runs Dry', 'Slow Jazz Background Ballad', 'Beautiful Us', 'Good to Go', 'Swinging Today As Was Yesterday', 'What Am I to Do?', 'Crying', 'Son of a Serpent', 'Freak The Method', 'All I Do [Feat. SiR, Bridget Kelly, Song Bird]', 'Baby Bay', 'Ice Cream', \"Let's Fall In Love\", 'Amicalement Vôtre', 'Jazz Sleep Cafe', 'Kenke Corner', 'Harvest Moon', 'The Happy Man', 'Colours', 'I’m Old Fashioned', 'Les Pipos', 'Late Night Walk', 'Fleeting Joy', 'It’s Better For You', 'Fast Cat', 'Drunk', 'Crepescule - Interlude', 'Studying Music Vibes', 'Jazz Instrumental Vibes', 'Bustin’ Out', 'Just in Time', 'This Simulation Is A Good One', 'Taking It Easy', 'Si tu vois ma mère', 'When Birds Fly to South', \"It's a Blue World\", 'Country & Western', 'Bare Branches', 'You Must Believe In Spring', 'Just A Little Bit', 'Jazz Coffee Vibes', 'Kissed by the Sun', 'Jazz Muy Lento', \"Can't Sleep\", 'Soft Jazz Cafe', 'Time', 'Day Trip out', 'Jazz Morning Playlist Music', 'Back to Black', 'Thanks', 'Backyards', 'A Hint Of Cinnamon', 'Amor Arrayano', 'All For Me', 'Hoping for Your Love', 'Reminiscing', 'Nanana', 'One For', 'Dead End', 'The Night I Met You', 'The Tide is High', \"I Don't Know\", 'April In Paris', 'Hurts to Be in Love', 'Take A Walk To The Library', 'Trigger Happy Police', 'In Here.', 'Early Morning Jazz', 'Stronger Magic', 'Contour.', 'Fargo', 'Look at You', 'The Weekend'], 'artistas': ['Underground Canopy', 'Kris Bowers', 'Jon Batiste', 'Tom Misch', 'Erroll Garner', 'Eddie Condon', 'Alabaster DePlume', 'Anita Baker', 'Shierro', 'Nina Simone', 'Brendan Maynard + 2', 'Athletic Progression', 'Kris Bowers', 'Ella Fitzgerald', 'Yazmin Lacey', 'Angelina Jordan', 'GRiZ', 'Tom Misch', 'Melody Gardot', 'Kris Bowers', 'Dan Kye', 'John Coltrane', 'Alabaster DePlume', 'Ergo Montserrat', 'Lennie Tristano', 'Miramare', 'Kim Waters', 'Boney James', 'Kris Bowers', 'Plini', 'Oscar Peterson', 'Ebi Soda', 'Underground Canopy', 'Dan Evans-Parker', 'Kris Bowers', 'Carol Albert', 'Otesla', 'Ill Considered', 'Konteks', 'Vincent Ingala', 'Oscar Peterson Trio', 'Nick Colionne', 'Mangrove Yeltsin', 'paris91', 'Alex Parchment', 'Flatland Park', 'Norah Jones', 'The Sweetgreens', 'Johnny Hodges', 'The Colours That Rise', 'Ragan Whiteside', 'Underground Canopy', 'Emapea', 'Kris Bowers', 'The Myth of the Turtle', 'Ken Navarro', 'Pigeondust', 'Doris Day', 'Kris Bowers', 'Ergo Montserrat', 'Oli Silk', 'The Myth of the Turtle', 'Mangrove Yeltsin', 'Emapea', 'Robert Glasper', 'Nick Colionne', 'Chris \"Big Dog\" Davis', 'Holborns', 'Chris Standring', 'Midtown Trio', 'Bladverk Band', 'The Myth of the Turtle', 'Norman Brown', 'Tom Misch', 'The Myth of the Turtle', 'Kris Bowers', 'Skinny Hightower', 'yeyts.', 'Anita Rosswell', 'Phil Denny', 'Ergo Montserrat', 'Kris Bowers', 'Eve St. Jones', 'Lin Rountree', 'Kris Bowers', 'Gerald Albright', 'Boozoo Bajou', 'yeyts.', 'Norah Jones', 'Chaos In The CBD', 'Athletic Progression', 'Red Brick Lane', 'Darren Rahn', 'Ryan Montano', 'Kuipers & Winter', 'Fulton Street Players', 'Deca', 'Serenity State of Mind', 'Ergo Montserrat', 'The Myth of the Turtle', 'The Pharcyde', 'Pigeondust', 'Eli Starr Trio', 'Brian Simpson', 'Carl Bagge Trio', 'Randy Scott', 'Dea Sancta', 'Godfather Don', 'Athletic Progression', 'Adam Hawley', 'Mangrove Yeltsin', 'Michael J Thomas', 'Ennio Máno', 'yeyts.', 'Kris Bowers', 'Jeff Laine & Co', 'Freddie Fox', 'Hudson Harris & Haim', 'Brian Simpson', 'Sparrow & Bird', 'KTZ Players', 'Kamasi Washington', 'Diana Krall', 'yeyts.', 'Dee Lucas', 'Tony DeSare', 'Tom Misch', 'Tony Saunders', 'CrazyJaZz', 'Kuipers & Winter', 'Holborns', 'Oilix', 'Vintage Emporium', 'Yoni Mayraz', 'Immanuel Wilkins', 'Mangrove Yeltsin', 'Ergo Montserrat', 'Mandevilla', 'The Myth of the Turtle', 'Norah Jones', 'Yazmin Lacey', 'Hudson Harris & Haim', 'The Smooth Jazz Alley', 'Melody Gardot', 'Boney James', 'GRiZ', 'Asako Toki', 'Bibi Tanga & The Selenites', 'The Myth of the Turtle', 'Tom Misch', 'The Sweetgreens', 'Michael Wollny', 'Alabaster DePlume', 'Athletic Progression', 'Gathering in Jazz', 'Hara Noda', 'TIA RAY', 'Dea Sancta', 'Simply Coffeehouse', 'Zander Jazz Trio', 'Thelonious Coltrane', 'Louis Silva Band', 'gum.mp3', 'Magpie Jazz Trio', 'Burt Mitchell', 'Plini', 'Melody Gardot', 'CMC 3', 'Skinny Hightower', 'Greg Manning', 'Tom Misch', 'Plini', 'Ibrahim Maalouf', 'Tom Misch', 'Red Brick Lane', 'GRiZ', 'Art Blakey & The Jazz Messengers', 'Anja Lechner', 'GRiZ', 'Jørgen Emborg', 'Athletic Progression', 'Deca', 'The Myth of the Turtle', 'Athletic Progression', 'Cafe Music BGM channel', 'Kokoroko', 'Hudson Harris & Haim', 'Dirty Loops', 'Reese Quartet', 'Arne Torvik Trio', 'KTZ Players', 'yeyts.', 'Sweet Nothings Band', 'Underground Canopy', 'The Myth of the Turtle', 'Wildcookie', 'Martha Tilton', 'Jonah Jones', 'Lauren Richardson', 'Konteks', 'Shakatak', 'Massimo Faraò', 'Stiff Cat Steve', 'Chinese Man', 'Walter Smith III', 'CMC 3', 'Mary Lattimore', 'Carsten Dahl', 'Parov Stelar', 'BADBADNOTGOOD', 'Greydon Park Band', 'Trois Amis', 'Anja Lechner', 'Tom Misch', 'Peggy Lee', 'Oilix', 'Jeremy Pelt', 'Azymuth', 'Coffeehouse BGM Station', 'Magpie Jazz Trio', \"Barry Can't Swim\", 'Espen Eriksen Trio', 'Athletic Progression', 'Silvana Estrada', 'Cory Henry', 'Jack Gardiner', 'Holborns', 'GRiZ', '110th Street Jazz Trio', 'Art Blakey & The Jazz Messengers', 'John Coltrane', 'Flatland Park', 'Pigeondust', 'Shierro', 'Dan Kye', 'Edward Simon', 'Konteks', 'Anja Lechner', 'Tom Misch', 'Ituana', 'Dave Brubeck', 'Massimo Faraò', 'Ambrose Akinmusire', 'iwamizu', 'Alabaster DePlume', 'Tom Misch', 'Greg Spero', 'KTZ Players', 'Bonobo', 'Jitwam', 'Melody Gardot', 'Fulton Street Players', 'Spaze Windu', 'Gregory Porter', 'Lydia Baskow Trio', 'Dee Brown', 'Long Island Quartet', 'Boney James', 'GRiZ', 'Michel Portal', 'Jon Batiste', 'Folamour', 'Oilix', 'Stiff Cat Steve', 'Michael Bublé', 'Alfa Mist', 'Chad Lefkowitz-Brown', 'Konteks', 'Dea Sancta', 'Massimo Faraò', 'Ron Miles', 'Rufio Patio', 'igory', 'Oscar Peterson', 'Trois Amis', 'Boney James', 'Robert Glasper', 'Svaneborg Kardyb', 'Underground Canopy', 'Groove Da Praia', 'Red Rose Jazz Trio', 'CrazyJaZz', 'Jon Batiste', 'Gillian Spencer Trio', 'Oli Silk', 'Jon Batiste', 'Baptiste Herbin', 'Dea Sancta', 'Vernon Sanders', 'SamuW', 'Enrico Pieranunzi', 'Four80East', 'BimBomBam Orchestra', 'Dan Evans-Parker', 'Juraj Stanik Trio', 'Jack Gardiner', 'Tom Misch', 'Butcher Brown', 'Siimbiie Lakew', 'Mangrove Yeltsin', 'Underground Canopy', 'Diana Krall', 'Navy Blue', 'Self-Isolation Coffeehouse', 'Astoria Three', 'Jamie Lancaster', 'RINZ.', 'Måns & Dotter', 'Jazz Holdouts', 'Tour-Maubourg', 'Nenei', 'Night and Day Trio', 'Deca', 'Ben & Katsy', 'Juraj Stanik Trio', 'Ellen Andrea Wang', 'Katashi Kaitō', 'RINZ.', 'GRiZ', 'Moonspatz', 'Caravan Palace', 'Felipe Gordon', 'Colin Stetson', 'Jack Gardiner', 'ichikoro', 'Ituana', 'Plini', 'Living Room', 'Mary Lattimore', 'Plini', 'Angelina Jordan', 'South West Cafe Trio', 'Waxamilion', 'Sparrow & Bird', 'Diana Krall', 'GRiZ', 'Bladverk Band', 'Greydon Park Band', 'Gregory Porter', 'Turning Trio', 'Mandevilla', 'Boozoo Bajou', 'Jamie Lancaster', 'Dave Brubeck', 'KTZ Players', 'Ennio Máno', 'Ardhito Pramono', 'Soul Wun', 'Athletic Progression', 'Tom Stills Quartet', 'Potatohead People', 'Athletic Progression', 'Mansur Brown', 'PYJÆN', 'GRiZ', 'The Jazz Cultivators', 'Snazzback', 'Stefania Tallini', 'Dave \"Baby\" Cortez', 'Plini', 'Mvdk', 'Kaspa.', 'Greydon Park Band', 'Siimbiie Lakew', 'Chaos In The CBD', 'Waxamilion', 'Tony DeSare', 'Massimo Faraò', 'Stephane Wrembel', 'Plini', 'Oscar Peterson Trio', 'FloFilz', 'Charlie Wilder Band', 'GRiZ', 'Cafe Music BGM channel', 'Jon Batiste', 'Olepash', 'Gathering in Jazz', 'Marcos Caixa', 'The Andy Love Band', 'GRiZ', 'The Molsbees', 'We Three Trio', 'Simply Coffeehouse', 'Waxamilion', 'Quantic', 'Kamaal Williams', \"Scott Bradlee's Postmodern Jukebox\", 'GRiZ', 'Potatohead People', 'Shalosh', 'UWS Jazz Trio', 'n o r m a l', 'Deca', 'Emma-Jean Thackray', 'Dea Sancta', 'Melody Gardot', 'Tommy Emmanuel', 'Boney James', 'Yussef Dayes', 'Melody Gardot', 'Red Rose Jazz Trio', 'Burt Mitchell', 'GRiZ', 'Sam Butera', 'Melody Gardot', 'Johnny Smith', 'Michael Stylez & Co', 'Tom Misch', 'Kista', 'Zander Jazz Trio', 'Back Room Jazz Trio', 'Brian Culbertson', 'Caravan Palace', 'Melody Gardot', 'Red Stairs Jazz Quartet', 'Krister & Dalbani', 'Green Trio', 'GRiZ', 'Clap Cotton', 'Gregory Porter', 'Jeff Beck', 'Shierro', 'Dirty Loops', 'Chattanooga Trio', 'TIA RAY', 'Louis Silva Band', 'Robert Glasper', 'Olepash', 'gum.mp3', 'Bobby Dreamz BIG', 'Plini', 'Felix Martin', 'Hailey Tuck', 'Olepash', 'Jon Batiste', 'Otis Redding', 'FRANZ', 'Joan Chamorro', 'Barney Kessel', 'Shierro', 'Ella Fitzgerald', 'The Sorcerers', 'Jazz Holdouts', 'Dan Evans-Parker', 'Nina Simone', 'Hailey Tuck', 'Light Hands Trio', 'Vincent Ingala', 'BADBADNOTGOOD', 'Svaneborg Kardyb', 'Yazmin Lacey', 'Robert Glasper', 'Daniel Ögren', 'Robert Glasper', 'Henning Witsell', 'Robert Elovsson Quartet', 'Dorian Concept', 'Tom Bates', 'Joonie', 'DJ Ryow a.k.a. Smooth Current', 'Kat Edmonson', 'Tom Misch', 'Sam Cooke', 'toconoma', 'Aphrow', 'Mangrove Yeltsin', 'Michel Portal', 'Tate Jackson Trio', 'GRiZ', 'Hailu Mergia', 'PENPALS', 'Diana Krall', 'Potatohead People', 'Till Brönner', 'Carol Albert', 'Aretha Franklin', 'Anthony Lazaro', 'Retromigration', 'Bonobo', 'We Three Trio', 'Matt Dusk', 'Huw Marc Bennett', 'Taylor McFerrin', 'gum.mp3', 'Brian Simpson', 'Shierro', 'Sylvia Telles', 'Vernon Sanders', 'fox capture plan', 'Laurindo Almeida', 'Wolfgang Muthspiel', 'Daniel Ögren', 'Måns & Dotter', 'Hollbeck', \"Kahil El'Zabar\", 'Thomas Fonnesbæk', 'Shierro', 'Wildflower Trio', 'Victoria'], 'genero': 'jazz', 'tipo': 'track', 'año de lanzamiento': ['2019', '2019', '2019', '2019', '2019', '2019', '2019', '2019', '2019', '2019', '2019', '2019', '2019', '2019', '2019', '2019', '2019', '2019', '2019', '2019', '2019', '2019', '2019', '2019', '2019', '2019', '2019', '2019', '2019', '2019', '2019', '2019', '2019', '2019', '2019', '2019', '2019', '2019', '2019', '2019', '2019', '2019', '2019', '2019', '2019', '2019', '2019', '2019', '2019', '2019', '2019', '2019', '2019', '2019', '2019', '2019', '2019', '2019', '2019', '2019', '2019', '2019', '2019', '2019', '2019', '2019', '2019', '2019', '2019', '2019', '2019', '2019', '2019', '2019', '2019', '2019', '2019', '2019', '2019', '2019', '2019', '2019', '2019', '2019', '2019', '2019', '2019', '2019', '2019', '2019', '2019', '2019', '2019', '2019', '2019', '2019', '2019', '2019', '2019', '2019', '2019', '2019', '2019', '2019', '2019', '2019', '2019', '2019', '2019', '2019', '2019', '2019', '2019', '2019', '2019', '2019', '2019', '2019', '2019', '2019', '2019', '2019', '2019', '2019', '2019', '2019', '2019', '2019', '2019', '2019', '2019', '2019', '2019', '2019', '2019', '2019', '2019', '2019', '2019', '2019', '2019', '2019', '2019', '2019', '2019', '2019', '2019', '2019', '2019', '2019', '2019', '2019', '2019', '2019', '2019', '2019', '2019', '2019', '2019', '2019', '2019', '2019', '2019', '2019', '2019', '2019', '2019', '2019', '2019', '2019', '2019', '2019', '2019', '2019', '2019', '2019', '2019', '2019', '2019', '2019', '2019', '2019', '2019', '2019', '2019', '2019', '2019', '2019', '2019', '2019', '2019', '2019', '2019', '2019', '2019', '2019', '2019', '2019', '2019', '2019', '2019', '2019', '2019', '2019', '2019', '2019', '2019', '2019', '2019', '2019', '2019', '2019', '2019', '2019', '2019', '2019', '2019', '2019', '2019', '2019', '2019', '2019', '2019', '2019', '2019', '2019', '2019', '2019', '2019', '2019', '2019', '2019', '2019', '2019', '2019', '2019', '2019', '2019', '2019', '2019', '2019', '2019', '2019', '2019', '2019', '2019', '2019', '2019', '2019', '2019', '2019', '2019', '2019', '2019', '2019', '2019', '2019', '2019', '2019', '2019', '2019', '2019', '2019', '2019', '2019', '2019', '2019', '2019', '2019', '2019', '2019', '2019', '2019', '2019', '2019', '2019', '2019', '2019', '2019', '2019', '2019', '2019', '2019', '2019', '2019', '2019', '2019', '2019', '2019', '2019', '2019', '2019', '2019', '2019', '2019', '2019', '2019', '2019', '2019', '2019', '2019', '2019', '2019', '2019', '2019', '2019', '2019', '2019', '2019', '2019', '2019', '2019', '2019', '2019', '2019', '2019', '2019', '2019', '2019', '2019', '2019', '2019', '2019', '2019', '2019', '2019', '2019', '2019', '2019', '2019', '2019', '2019', '2019', '2019', '2019', '2019', '2019', '2019', '2019', '2019', '2019', '2019', '2019', '2019', '2019', '2019', '2019', '2019', '2019', '2019', '2019', '2019', '2019', '2019', '2019', '2019', '2019', '2019', '2019', '2019', '2019', '2019', '2019', '2019', '2019', '2019', '2019', '2019', '2019', '2019', '2019', '2019', '2019', '2019', '2019', '2019', '2019', '2019', '2019', '2019', '2019', '2019', '2019', '2019', '2019', '2019', '2019', '2019', '2019', '2019', '2019', '2019', '2019', '2019', '2019', '2019', '2019', '2019', '2019', '2019', '2019', '2019', '2019', '2019', '2019', '2019', '2019', '2019', '2019', '2019', '2019', '2019', '2019', '2019', '2019', '2019', '2019', '2019', '2019', '2019', '2019', '2019', '2019', '2019', '2019', '2019', '2019', '2019', '2019', '2019', '2019', '2019', '2019', '2019', '2019', '2019', '2019', '2019', '2019', '2019', '2019', '2019', '2019', '2019', '2019', '2019', '2019', '2019', '2019', '2019', '2019', '2019', '2019', '2019', '2019', '2019', '2019', '2019', '2019', '2019', '2019', '2019', '2019', '2019', '2019', '2019', '2019', '2019', '2019', '2019', '2019', '2019', '2019', '2019', '2019', '2019', '2019', '2019', '2019', '2019', '2019', '2019', '2019', '2019', '2019', '2019', '2019', '2019', '2019', '2019', '2019', '2019', '2019', '2019', '2019', '2019', '2019', '2019', '2019', '2019']}\n"
     ]
    },
    {
     "data": {
      "text/plain": [
       "5"
      ]
     },
     "execution_count": 9,
     "metadata": {},
     "output_type": "execute_result"
    }
   ],
   "source": [
    "#AÑO DE LANZAMIENTO 2019\n",
    "for offset in range(0, 500, 50):\n",
    "    canciones = sp.search(q='genre:\"jazz\" year:2019', type='track', limit=50, offset=offset)\n",
    "    for track in canciones['tracks']['items']:\n",
    "        dict_tracks_jazz_2019[\"año de lanzamiento\"].append(track[\"album\"]['release_date'].split(\"-\")[0])\n",
    "print(dict_tracks_jazz_2019)\n",
    "len(dict_tracks_jazz_2019)"
   ]
  },
  {
   "cell_type": "code",
   "execution_count": 10,
   "metadata": {},
   "outputs": [
    {
     "name": "stdout",
     "output_type": "stream",
     "text": [
      "{'canciones': ['It’s Better For You', 'Fast Cat', 'Drunk', 'Crepescule - Interlude', 'Studying Music Vibes', 'Jazz Instrumental Vibes', 'Bustin’ Out', 'Just in Time', 'This Simulation Is A Good One', 'Taking It Easy', 'Si tu vois ma mère', 'When Birds Fly to South', \"It's a Blue World\", 'Country & Western', 'Bare Branches', 'You Must Believe In Spring', 'Just A Little Bit', 'Jazz Coffee Vibes', 'Kissed by the Sun', 'Jazz Muy Lento', \"Can't Sleep\", 'Soft Jazz Cafe', 'Time', 'Day Trip out', 'Jazz Morning Playlist Music', 'Back to Black', 'Thanks', 'Backyards', 'A Hint Of Cinnamon', 'Amor Arrayano', 'All For Me', 'Hoping for Your Love', 'Reminiscing', 'Nanana', 'One For', 'Dead End', 'The Night I Met You', 'The Tide is High', \"I Don't Know\", 'April In Paris', 'Hurts to Be in Love', 'Take A Walk To The Library', 'Trigger Happy Police', 'In Here.', 'Early Morning Jazz', 'Stronger Magic', 'Contour.', 'Fargo', 'Look at You', 'The Weekend', 'It’s Better For You', 'Fast Cat', 'Drunk', 'Crepescule - Interlude', 'Studying Music Vibes', 'Jazz Instrumental Vibes', 'Bustin’ Out', 'Just in Time', 'This Simulation Is A Good One', 'Taking It Easy', 'Si tu vois ma mère', 'When Birds Fly to South', \"It's a Blue World\", 'Country & Western', 'Bare Branches', 'You Must Believe In Spring', 'Just A Little Bit', 'Jazz Coffee Vibes', 'Kissed by the Sun', 'Jazz Muy Lento', \"Can't Sleep\", 'Soft Jazz Cafe', 'Time', 'Day Trip out', 'Jazz Morning Playlist Music', 'Back to Black', 'Thanks', 'Backyards', 'A Hint Of Cinnamon', 'Amor Arrayano', 'All For Me', 'Hoping for Your Love', 'Reminiscing', 'Nanana', 'One For', 'Dead End', 'The Night I Met You', 'The Tide is High', \"I Don't Know\", 'April In Paris', 'Hurts to Be in Love', 'Take A Walk To The Library', 'Trigger Happy Police', 'In Here.', 'Early Morning Jazz', 'Stronger Magic', 'Contour.', 'Fargo', 'Look at You', 'The Weekend', 'It’s Better For You', 'Fast Cat', 'Drunk', 'Crepescule - Interlude', 'Studying Music Vibes', 'Jazz Instrumental Vibes', 'Bustin’ Out', 'Just in Time', 'This Simulation Is A Good One', 'Taking It Easy', 'Si tu vois ma mère', 'When Birds Fly to South', \"It's a Blue World\", 'Country & Western', 'Bare Branches', 'You Must Believe In Spring', 'Just A Little Bit', 'Jazz Coffee Vibes', 'Kissed by the Sun', 'Jazz Muy Lento', \"Can't Sleep\", 'Soft Jazz Cafe', 'Time', 'Day Trip out', 'Jazz Morning Playlist Music', 'Back to Black', 'Thanks', 'Backyards', 'A Hint Of Cinnamon', 'Amor Arrayano', 'All For Me', 'Hoping for Your Love', 'Reminiscing', 'Nanana', 'One For', 'Dead End', 'The Night I Met You', 'The Tide is High', \"I Don't Know\", 'April In Paris', 'Hurts to Be in Love', 'Take A Walk To The Library', 'Trigger Happy Police', 'In Here.', 'Early Morning Jazz', 'Stronger Magic', 'Contour.', 'Fargo', 'Look at You', 'The Weekend', 'It’s Better For You', 'Fast Cat', 'Drunk', 'Crepescule - Interlude', 'Studying Music Vibes', 'Jazz Instrumental Vibes', 'Bustin’ Out', 'Just in Time', 'This Simulation Is A Good One', 'Taking It Easy', 'Si tu vois ma mère', 'When Birds Fly to South', \"It's a Blue World\", 'Country & Western', 'Bare Branches', 'You Must Believe In Spring', 'Just A Little Bit', 'Jazz Coffee Vibes', 'Kissed by the Sun', 'Jazz Muy Lento', \"Can't Sleep\", 'Soft Jazz Cafe', 'Time', 'Day Trip out', 'Jazz Morning Playlist Music', 'Back to Black', 'Thanks', 'Backyards', 'A Hint Of Cinnamon', 'Amor Arrayano', 'All For Me', 'Hoping for Your Love', 'Reminiscing', 'Nanana', 'One For', 'Dead End', 'The Night I Met You', 'The Tide is High', \"I Don't Know\", 'April In Paris', 'Hurts to Be in Love', 'Take A Walk To The Library', 'Trigger Happy Police', 'In Here.', 'Early Morning Jazz', 'Stronger Magic', 'Contour.', 'Fargo', 'Look at You', 'The Weekend', 'It’s Better For You', 'Fast Cat', 'Drunk', 'Crepescule - Interlude', 'Studying Music Vibes', 'Jazz Instrumental Vibes', 'Bustin’ Out', 'Just in Time', 'This Simulation Is A Good One', 'Taking It Easy', 'Si tu vois ma mère', 'When Birds Fly to South', \"It's a Blue World\", 'Country & Western', 'Bare Branches', 'You Must Believe In Spring', 'Just A Little Bit', 'Jazz Coffee Vibes', 'Kissed by the Sun', 'Jazz Muy Lento', \"Can't Sleep\", 'Soft Jazz Cafe', 'Time', 'Day Trip out', 'Jazz Morning Playlist Music', 'Back to Black', 'Thanks', 'Backyards', 'A Hint Of Cinnamon', 'Amor Arrayano', 'All For Me', 'Hoping for Your Love', 'Reminiscing', 'Nanana', 'One For', 'Dead End', 'The Night I Met You', 'The Tide is High', \"I Don't Know\", 'April In Paris', 'Hurts to Be in Love', 'Take A Walk To The Library', 'Trigger Happy Police', 'In Here.', 'Early Morning Jazz', 'Stronger Magic', 'Contour.', 'Fargo', 'Look at You', 'The Weekend', 'It’s Better For You', 'Fast Cat', 'Drunk', 'Crepescule - Interlude', 'Studying Music Vibes', 'Jazz Instrumental Vibes', 'Bustin’ Out', 'Just in Time', 'This Simulation Is A Good One', 'Taking It Easy', 'Si tu vois ma mère', 'When Birds Fly to South', \"It's a Blue World\", 'Country & Western', 'Bare Branches', 'You Must Believe In Spring', 'Just A Little Bit', 'Jazz Coffee Vibes', 'Kissed by the Sun', 'Jazz Muy Lento', \"Can't Sleep\", 'Soft Jazz Cafe', 'Time', 'Day Trip out', 'Jazz Morning Playlist Music', 'Back to Black', 'Thanks', 'Backyards', 'A Hint Of Cinnamon', 'Amor Arrayano', 'All For Me', 'Hoping for Your Love', 'Reminiscing', 'Nanana', 'One For', 'Dead End', 'The Night I Met You', 'The Tide is High', \"I Don't Know\", 'April In Paris', 'Hurts to Be in Love', 'Take A Walk To The Library', 'Trigger Happy Police', 'In Here.', 'Early Morning Jazz', 'Stronger Magic', 'Contour.', 'Fargo', 'Look at You', 'The Weekend', 'It’s Better For You', 'Fast Cat', 'Drunk', 'Crepescule - Interlude', 'Studying Music Vibes', 'Jazz Instrumental Vibes', 'Bustin’ Out', 'Just in Time', 'This Simulation Is A Good One', 'Taking It Easy', 'Si tu vois ma mère', 'When Birds Fly to South', \"It's a Blue World\", 'Country & Western', 'Bare Branches', 'You Must Believe In Spring', 'Just A Little Bit', 'Jazz Coffee Vibes', 'Kissed by the Sun', 'Jazz Muy Lento', \"Can't Sleep\", 'Soft Jazz Cafe', 'Time', 'Day Trip out', 'Jazz Morning Playlist Music', 'Back to Black', 'Thanks', 'Backyards', 'A Hint Of Cinnamon', 'Amor Arrayano', 'All For Me', 'Hoping for Your Love', 'Reminiscing', 'Nanana', 'One For', 'Dead End', 'The Night I Met You', 'The Tide is High', \"I Don't Know\", 'April In Paris', 'Hurts to Be in Love', 'Take A Walk To The Library', 'Trigger Happy Police', 'In Here.', 'Early Morning Jazz', 'Stronger Magic', 'Contour.', 'Fargo', 'Look at You', 'The Weekend', 'It’s Better For You', 'Fast Cat', 'Drunk', 'Crepescule - Interlude', 'Studying Music Vibes', 'Jazz Instrumental Vibes', 'Bustin’ Out', 'Just in Time', 'This Simulation Is A Good One', 'Taking It Easy', 'Si tu vois ma mère', 'When Birds Fly to South', \"It's a Blue World\", 'Country & Western', 'Bare Branches', 'You Must Believe In Spring', 'Just A Little Bit', 'Jazz Coffee Vibes', 'Kissed by the Sun', 'Jazz Muy Lento', \"Can't Sleep\", 'Soft Jazz Cafe', 'Time', 'Day Trip out', 'Jazz Morning Playlist Music', 'Back to Black', 'Thanks', 'Backyards', 'A Hint Of Cinnamon', 'Amor Arrayano', 'All For Me', 'Hoping for Your Love', 'Reminiscing', 'Nanana', 'One For', 'Dead End', 'The Night I Met You', 'The Tide is High', \"I Don't Know\", 'April In Paris', 'Hurts to Be in Love', 'Take A Walk To The Library', 'Trigger Happy Police', 'In Here.', 'Early Morning Jazz', 'Stronger Magic', 'Contour.', 'Fargo', 'Look at You', 'The Weekend', 'It’s Better For You', 'Fast Cat', 'Drunk', 'Crepescule - Interlude', 'Studying Music Vibes', 'Jazz Instrumental Vibes', 'Bustin’ Out', 'Just in Time', 'This Simulation Is A Good One', 'Taking It Easy', 'Si tu vois ma mère', 'When Birds Fly to South', \"It's a Blue World\", 'Country & Western', 'Bare Branches', 'You Must Believe In Spring', 'Just A Little Bit', 'Jazz Coffee Vibes', 'Kissed by the Sun', 'Jazz Muy Lento', \"Can't Sleep\", 'Soft Jazz Cafe', 'Time', 'Day Trip out', 'Jazz Morning Playlist Music', 'Back to Black', 'Thanks', 'Backyards', 'A Hint Of Cinnamon', 'Amor Arrayano', 'All For Me', 'Hoping for Your Love', 'Reminiscing', 'Nanana', 'One For', 'Dead End', 'The Night I Met You', 'The Tide is High', \"I Don't Know\", 'April In Paris', 'Hurts to Be in Love', 'Take A Walk To The Library', 'Trigger Happy Police', 'In Here.', 'Early Morning Jazz', 'Stronger Magic', 'Contour.', 'Fargo', 'Look at You', 'The Weekend', 'It’s Better For You', 'Fast Cat', 'Drunk', 'Crepescule - Interlude', 'Studying Music Vibes', 'Jazz Instrumental Vibes', 'Bustin’ Out', 'Just in Time', 'This Simulation Is A Good One', 'Taking It Easy', 'Si tu vois ma mère', 'When Birds Fly to South', \"It's a Blue World\", 'Country & Western', 'Bare Branches', 'You Must Believe In Spring', 'Just A Little Bit', 'Jazz Coffee Vibes', 'Kissed by the Sun', 'Jazz Muy Lento', \"Can't Sleep\", 'Soft Jazz Cafe', 'Time', 'Day Trip out', 'Jazz Morning Playlist Music', 'Back to Black', 'Thanks', 'Backyards', 'A Hint Of Cinnamon', 'Amor Arrayano', 'All For Me', 'Hoping for Your Love', 'Reminiscing', 'Nanana', 'One For', 'Dead End', 'The Night I Met You', 'The Tide is High', \"I Don't Know\", 'April In Paris', 'Hurts to Be in Love', 'Take A Walk To The Library', 'Trigger Happy Police', 'In Here.', 'Early Morning Jazz', 'Stronger Magic', 'Contour.', 'Fargo', 'Look at You', 'The Weekend'], 'artistas': ['Underground Canopy', 'Kris Bowers', 'Jon Batiste', 'Tom Misch', 'Erroll Garner', 'Eddie Condon', 'Alabaster DePlume', 'Anita Baker', 'Shierro', 'Nina Simone', 'Brendan Maynard + 2', 'Athletic Progression', 'Kris Bowers', 'Ella Fitzgerald', 'Yazmin Lacey', 'Angelina Jordan', 'GRiZ', 'Tom Misch', 'Melody Gardot', 'Kris Bowers', 'Dan Kye', 'John Coltrane', 'Alabaster DePlume', 'Ergo Montserrat', 'Lennie Tristano', 'Miramare', 'Kim Waters', 'Boney James', 'Kris Bowers', 'Plini', 'Oscar Peterson', 'Ebi Soda', 'Underground Canopy', 'Dan Evans-Parker', 'Kris Bowers', 'Carol Albert', 'Otesla', 'Ill Considered', 'Konteks', 'Vincent Ingala', 'Oscar Peterson Trio', 'Nick Colionne', 'Mangrove Yeltsin', 'paris91', 'Alex Parchment', 'Flatland Park', 'Norah Jones', 'The Sweetgreens', 'Johnny Hodges', 'The Colours That Rise', 'Ragan Whiteside', 'Underground Canopy', 'Emapea', 'Kris Bowers', 'The Myth of the Turtle', 'Ken Navarro', 'Pigeondust', 'Doris Day', 'Kris Bowers', 'Ergo Montserrat', 'Oli Silk', 'The Myth of the Turtle', 'Mangrove Yeltsin', 'Emapea', 'Robert Glasper', 'Nick Colionne', 'Chris \"Big Dog\" Davis', 'Holborns', 'Chris Standring', 'Midtown Trio', 'Bladverk Band', 'The Myth of the Turtle', 'Norman Brown', 'Tom Misch', 'The Myth of the Turtle', 'Kris Bowers', 'Skinny Hightower', 'yeyts.', 'Anita Rosswell', 'Phil Denny', 'Ergo Montserrat', 'Kris Bowers', 'Eve St. Jones', 'Lin Rountree', 'Kris Bowers', 'Gerald Albright', 'Boozoo Bajou', 'yeyts.', 'Norah Jones', 'Chaos In The CBD', 'Athletic Progression', 'Red Brick Lane', 'Darren Rahn', 'Ryan Montano', 'Kuipers & Winter', 'Fulton Street Players', 'Deca', 'Serenity State of Mind', 'Ergo Montserrat', 'The Myth of the Turtle', 'The Pharcyde', 'Pigeondust', 'Eli Starr Trio', 'Brian Simpson', 'Carl Bagge Trio', 'Randy Scott', 'Dea Sancta', 'Godfather Don', 'Athletic Progression', 'Adam Hawley', 'Mangrove Yeltsin', 'Michael J Thomas', 'Ennio Máno', 'yeyts.', 'Kris Bowers', 'Jeff Laine & Co', 'Freddie Fox', 'Hudson Harris & Haim', 'Brian Simpson', 'Sparrow & Bird', 'KTZ Players', 'Kamasi Washington', 'Diana Krall', 'yeyts.', 'Dee Lucas', 'Tony DeSare', 'Tom Misch', 'Tony Saunders', 'CrazyJaZz', 'Kuipers & Winter', 'Holborns', 'Oilix', 'Vintage Emporium', 'Yoni Mayraz', 'Immanuel Wilkins', 'Mangrove Yeltsin', 'Ergo Montserrat', 'Mandevilla', 'The Myth of the Turtle', 'Norah Jones', 'Yazmin Lacey', 'Hudson Harris & Haim', 'The Smooth Jazz Alley', 'Melody Gardot', 'Boney James', 'GRiZ', 'Asako Toki', 'Bibi Tanga & The Selenites', 'The Myth of the Turtle', 'Tom Misch', 'The Sweetgreens', 'Michael Wollny', 'Alabaster DePlume', 'Athletic Progression', 'Gathering in Jazz', 'Hara Noda', 'TIA RAY', 'Dea Sancta', 'Simply Coffeehouse', 'Zander Jazz Trio', 'Thelonious Coltrane', 'Louis Silva Band', 'gum.mp3', 'Magpie Jazz Trio', 'Burt Mitchell', 'Plini', 'Melody Gardot', 'CMC 3', 'Skinny Hightower', 'Greg Manning', 'Tom Misch', 'Plini', 'Ibrahim Maalouf', 'Tom Misch', 'Red Brick Lane', 'GRiZ', 'Art Blakey & The Jazz Messengers', 'Anja Lechner', 'GRiZ', 'Jørgen Emborg', 'Athletic Progression', 'Deca', 'The Myth of the Turtle', 'Athletic Progression', 'Cafe Music BGM channel', 'Kokoroko', 'Hudson Harris & Haim', 'Dirty Loops', 'Reese Quartet', 'Arne Torvik Trio', 'KTZ Players', 'yeyts.', 'Sweet Nothings Band', 'Underground Canopy', 'The Myth of the Turtle', 'Wildcookie', 'Martha Tilton', 'Jonah Jones', 'Lauren Richardson', 'Konteks', 'Shakatak', 'Massimo Faraò', 'Stiff Cat Steve', 'Chinese Man', 'Walter Smith III', 'CMC 3', 'Mary Lattimore', 'Carsten Dahl', 'Parov Stelar', 'BADBADNOTGOOD', 'Greydon Park Band', 'Trois Amis', 'Anja Lechner', 'Tom Misch', 'Peggy Lee', 'Oilix', 'Jeremy Pelt', 'Azymuth', 'Coffeehouse BGM Station', 'Magpie Jazz Trio', \"Barry Can't Swim\", 'Espen Eriksen Trio', 'Athletic Progression', 'Silvana Estrada', 'Cory Henry', 'Jack Gardiner', 'Holborns', 'GRiZ', '110th Street Jazz Trio', 'Art Blakey & The Jazz Messengers', 'John Coltrane', 'Flatland Park', 'Pigeondust', 'Shierro', 'Dan Kye', 'Edward Simon', 'Konteks', 'Anja Lechner', 'Tom Misch', 'Ituana', 'Dave Brubeck', 'Massimo Faraò', 'Ambrose Akinmusire', 'iwamizu', 'Alabaster DePlume', 'Tom Misch', 'Greg Spero', 'KTZ Players', 'Bonobo', 'Jitwam', 'Melody Gardot', 'Fulton Street Players', 'Spaze Windu', 'Gregory Porter', 'Lydia Baskow Trio', 'Dee Brown', 'Long Island Quartet', 'Boney James', 'GRiZ', 'Michel Portal', 'Jon Batiste', 'Folamour', 'Oilix', 'Stiff Cat Steve', 'Michael Bublé', 'Alfa Mist', 'Chad Lefkowitz-Brown', 'Konteks', 'Dea Sancta', 'Massimo Faraò', 'Ron Miles', 'Rufio Patio', 'igory', 'Oscar Peterson', 'Trois Amis', 'Boney James', 'Robert Glasper', 'Svaneborg Kardyb', 'Underground Canopy', 'Groove Da Praia', 'Red Rose Jazz Trio', 'CrazyJaZz', 'Jon Batiste', 'Gillian Spencer Trio', 'Oli Silk', 'Jon Batiste', 'Baptiste Herbin', 'Dea Sancta', 'Vernon Sanders', 'SamuW', 'Enrico Pieranunzi', 'Four80East', 'BimBomBam Orchestra', 'Dan Evans-Parker', 'Juraj Stanik Trio', 'Jack Gardiner', 'Tom Misch', 'Butcher Brown', 'Siimbiie Lakew', 'Mangrove Yeltsin', 'Underground Canopy', 'Diana Krall', 'Navy Blue', 'Self-Isolation Coffeehouse', 'Astoria Three', 'Jamie Lancaster', 'RINZ.', 'Måns & Dotter', 'Jazz Holdouts', 'Tour-Maubourg', 'Nenei', 'Night and Day Trio', 'Deca', 'Ben & Katsy', 'Juraj Stanik Trio', 'Ellen Andrea Wang', 'Katashi Kaitō', 'RINZ.', 'GRiZ', 'Moonspatz', 'Caravan Palace', 'Felipe Gordon', 'Colin Stetson', 'Jack Gardiner', 'ichikoro', 'Ituana', 'Plini', 'Living Room', 'Mary Lattimore', 'Plini', 'Angelina Jordan', 'South West Cafe Trio', 'Waxamilion', 'Sparrow & Bird', 'Diana Krall', 'GRiZ', 'Bladverk Band', 'Greydon Park Band', 'Gregory Porter', 'Turning Trio', 'Mandevilla', 'Boozoo Bajou', 'Jamie Lancaster', 'Dave Brubeck', 'KTZ Players', 'Ennio Máno', 'Ardhito Pramono', 'Soul Wun', 'Athletic Progression', 'Tom Stills Quartet', 'Potatohead People', 'Athletic Progression', 'Mansur Brown', 'PYJÆN', 'GRiZ', 'The Jazz Cultivators', 'Snazzback', 'Stefania Tallini', 'Dave \"Baby\" Cortez', 'Plini', 'Mvdk', 'Kaspa.', 'Greydon Park Band', 'Siimbiie Lakew', 'Chaos In The CBD', 'Waxamilion', 'Tony DeSare', 'Massimo Faraò', 'Stephane Wrembel', 'Plini', 'Oscar Peterson Trio', 'FloFilz', 'Charlie Wilder Band', 'GRiZ', 'Cafe Music BGM channel', 'Jon Batiste', 'Olepash', 'Gathering in Jazz', 'Marcos Caixa', 'The Andy Love Band', 'GRiZ', 'The Molsbees', 'We Three Trio', 'Simply Coffeehouse', 'Waxamilion', 'Quantic', 'Kamaal Williams', \"Scott Bradlee's Postmodern Jukebox\", 'GRiZ', 'Potatohead People', 'Shalosh', 'UWS Jazz Trio', 'n o r m a l', 'Deca', 'Emma-Jean Thackray', 'Dea Sancta', 'Melody Gardot', 'Tommy Emmanuel', 'Boney James', 'Yussef Dayes', 'Melody Gardot', 'Red Rose Jazz Trio', 'Burt Mitchell', 'GRiZ', 'Sam Butera', 'Melody Gardot', 'Johnny Smith', 'Michael Stylez & Co', 'Tom Misch', 'Kista', 'Zander Jazz Trio', 'Back Room Jazz Trio', 'Brian Culbertson', 'Caravan Palace', 'Melody Gardot', 'Red Stairs Jazz Quartet', 'Krister & Dalbani', 'Green Trio', 'GRiZ', 'Clap Cotton', 'Gregory Porter', 'Jeff Beck', 'Shierro', 'Dirty Loops', 'Chattanooga Trio', 'TIA RAY', 'Louis Silva Band', 'Robert Glasper', 'Olepash', 'gum.mp3', 'Bobby Dreamz BIG', 'Plini', 'Felix Martin', 'Hailey Tuck', 'Olepash', 'Jon Batiste', 'Otis Redding', 'FRANZ', 'Joan Chamorro', 'Barney Kessel', 'Shierro', 'Ella Fitzgerald', 'The Sorcerers', 'Jazz Holdouts', 'Dan Evans-Parker', 'Nina Simone', 'Hailey Tuck', 'Light Hands Trio', 'Vincent Ingala', 'BADBADNOTGOOD', 'Svaneborg Kardyb', 'Yazmin Lacey', 'Robert Glasper', 'Daniel Ögren', 'Robert Glasper', 'Henning Witsell', 'Robert Elovsson Quartet', 'Dorian Concept', 'Tom Bates', 'Joonie', 'DJ Ryow a.k.a. Smooth Current', 'Kat Edmonson', 'Tom Misch', 'Sam Cooke', 'toconoma', 'Aphrow', 'Mangrove Yeltsin', 'Michel Portal', 'Tate Jackson Trio', 'GRiZ', 'Hailu Mergia', 'PENPALS', 'Diana Krall', 'Potatohead People', 'Till Brönner', 'Carol Albert', 'Aretha Franklin', 'Anthony Lazaro', 'Retromigration', 'Bonobo', 'We Three Trio', 'Matt Dusk', 'Huw Marc Bennett', 'Taylor McFerrin', 'gum.mp3', 'Brian Simpson', 'Shierro', 'Sylvia Telles', 'Vernon Sanders', 'fox capture plan', 'Laurindo Almeida', 'Wolfgang Muthspiel', 'Daniel Ögren', 'Måns & Dotter', 'Hollbeck', \"Kahil El'Zabar\", 'Thomas Fonnesbæk', 'Shierro', 'Wildflower Trio', 'Victoria'], 'genero': 'jazz', 'tipo': 'track', 'año de lanzamiento': ['2020', '2020', '2020', '2020', '2020', '2020', '2020', '2020', '2020', '2020', '2020', '2020', '2020', '2020', '2020', '2020', '2020', '2020', '2020', '2020', '2020', '2020', '2020', '2020', '2020', '2020', '2020', '2020', '2020', '2020', '2020', '2020', '2020', '2020', '2020', '2020', '2020', '2020', '2020', '2020', '2020', '2020', '2020', '2020', '2020', '2020', '2020', '2020', '2020', '2020', '2020', '2020', '2020', '2020', '2020', '2020', '2020', '2020', '2020', '2020', '2020', '2020', '2020', '2020', '2020', '2020', '2020', '2020', '2020', '2020', '2020', '2020', '2020', '2020', '2020', '2020', '2020', '2020', '2020', '2020', '2020', '2020', '2020', '2020', '2020', '2020', '2020', '2020', '2020', '2020', '2020', '2020', '2020', '2020', '2020', '2020', '2020', '2020', '2020', '2020', '2020', '2020', '2020', '2020', '2020', '2020', '2020', '2020', '2020', '2020', '2020', '2020', '2020', '2020', '2020', '2020', '2020', '2020', '2020', '2020', '2020', '2020', '2020', '2020', '2020', '2020', '2020', '2020', '2020', '2020', '2020', '2020', '2020', '2020', '2020', '2020', '2020', '2020', '2020', '2020', '2020', '2020', '2020', '2020', '2020', '2020', '2020', '2020', '2020', '2020', '2020', '2020', '2020', '2020', '2020', '2020', '2020', '2020', '2020', '2020', '2020', '2020', '2020', '2020', '2020', '2020', '2020', '2020', '2020', '2020', '2020', '2020', '2020', '2020', '2020', '2020', '2020', '2020', '2020', '2020', '2020', '2020', '2020', '2020', '2020', '2020', '2020', '2020', '2020', '2020', '2020', '2020', '2020', '2020', '2020', '2020', '2020', '2020', '2020', '2020', '2020', '2020', '2020', '2020', '2020', '2020', '2020', '2020', '2020', '2020', '2020', '2020', '2020', '2020', '2020', '2020', '2020', '2020', '2020', '2020', '2020', '2020', '2020', '2020', '2020', '2020', '2020', '2020', '2020', '2020', '2020', '2020', '2020', '2020', '2020', '2020', '2020', '2020', '2020', '2020', '2020', '2020', '2020', '2020', '2020', '2020', '2020', '2020', '2020', '2020', '2020', '2020', '2020', '2020', '2020', '2020', '2020', '2020', '2020', '2020', '2020', '2020', '2020', '2020', '2020', '2020', '2020', '2020', '2020', '2020', '2020', '2020', '2020', '2020', '2020', '2020', '2020', '2020', '2020', '2020', '2020', '2020', '2020', '2020', '2020', '2020', '2020', '2020', '2020', '2020', '2020', '2020', '2020', '2020', '2020', '2020', '2020', '2020', '2020', '2020', '2020', '2020', '2020', '2020', '2020', '2020', '2020', '2020', '2020', '2020', '2020', '2020', '2020', '2020', '2020', '2020', '2020', '2020', '2020', '2020', '2020', '2020', '2020', '2020', '2020', '2020', '2020', '2020', '2020', '2020', '2020', '2020', '2020', '2020', '2020', '2020', '2020', '2020', '2020', '2020', '2020', '2020', '2020', '2020', '2020', '2020', '2020', '2020', '2020', '2020', '2020', '2020', '2020', '2020', '2020', '2020', '2020', '2020', '2020', '2020', '2020', '2020', '2020', '2020', '2020', '2020', '2020', '2020', '2020', '2020', '2020', '2020', '2020', '2020', '2020', '2020', '2020', '2020', '2020', '2020', '2020', '2020', '2020', '2020', '2020', '2020', '2020', '2020', '2020', '2020', '2020', '2020', '2020', '2020', '2020', '2020', '2020', '2020', '2020', '2020', '2020', '2020', '2020', '2020', '2020', '2020', '2020', '2020', '2020', '2020', '2020', '2020', '2020', '2020', '2020', '2020', '2020', '2020', '2020', '2020', '2020', '2020', '2020', '2020', '2020', '2020', '2020', '2020', '2020', '2020', '2020', '2020', '2020', '2020', '2020', '2020', '2020', '2020', '2020', '2020', '2020', '2020', '2020', '2020', '2020', '2020', '2020', '2020', '2020', '2020', '2020', '2020', '2020', '2020', '2020', '2020', '2020', '2020', '2020', '2020', '2020', '2020', '2020', '2020', '2020', '2020', '2020', '2020', '2020', '2020', '2020', '2020', '2020', '2020', '2020', '2020', '2020', '2020', '2020', '2020', '2020', '2020', '2020', '2020', '2020', '2020', '2020', '2020', '2020', '2020', '2020', '2020', '2020', '2020', '2020', '2020', '2020', '2020', '2020', '2020']}\n"
     ]
    },
    {
     "data": {
      "text/plain": [
       "5"
      ]
     },
     "execution_count": 10,
     "metadata": {},
     "output_type": "execute_result"
    }
   ],
   "source": [
    "#AÑO DE LANZAMIENTO 2020\n",
    "for offset in range(0, 500, 50):\n",
    "    canciones = sp.search(q='genre:\"jazz\" year:2020', type='track', limit=50, offset=offset)\n",
    "    for track in canciones['tracks']['items']:\n",
    "        dict_tracks_jazz_2020[\"año de lanzamiento\"].append(track[\"album\"]['release_date'].split(\"-\")[0])\n",
    "print(dict_tracks_jazz_2020)\n",
    "len(dict_tracks_jazz_2020)"
   ]
  },
  {
   "cell_type": "code",
   "execution_count": 11,
   "metadata": {},
   "outputs": [
    {
     "data": {
      "text/html": [
       "<div>\n",
       "<style scoped>\n",
       "    .dataframe tbody tr th:only-of-type {\n",
       "        vertical-align: middle;\n",
       "    }\n",
       "\n",
       "    .dataframe tbody tr th {\n",
       "        vertical-align: top;\n",
       "    }\n",
       "\n",
       "    .dataframe thead th {\n",
       "        text-align: right;\n",
       "    }\n",
       "</style>\n",
       "<table border=\"1\" class=\"dataframe\">\n",
       "  <thead>\n",
       "    <tr style=\"text-align: right;\">\n",
       "      <th></th>\n",
       "      <th>canciones</th>\n",
       "      <th>artistas</th>\n",
       "      <th>genero</th>\n",
       "      <th>tipo</th>\n",
       "      <th>año de lanzamiento</th>\n",
       "    </tr>\n",
       "  </thead>\n",
       "  <tbody>\n",
       "    <tr>\n",
       "      <th>0</th>\n",
       "      <td>Opendoors</td>\n",
       "      <td>Underground Canopy</td>\n",
       "      <td>jazz</td>\n",
       "      <td>track</td>\n",
       "      <td>2019</td>\n",
       "    </tr>\n",
       "    <tr>\n",
       "      <th>1</th>\n",
       "      <td>Temptations</td>\n",
       "      <td>Kris Bowers</td>\n",
       "      <td>jazz</td>\n",
       "      <td>track</td>\n",
       "      <td>2019</td>\n",
       "    </tr>\n",
       "    <tr>\n",
       "      <th>2</th>\n",
       "      <td>Griztronics</td>\n",
       "      <td>Jon Batiste</td>\n",
       "      <td>jazz</td>\n",
       "      <td>track</td>\n",
       "      <td>2019</td>\n",
       "    </tr>\n",
       "    <tr>\n",
       "      <th>3</th>\n",
       "      <td>En Su Lugar</td>\n",
       "      <td>Tom Misch</td>\n",
       "      <td>jazz</td>\n",
       "      <td>track</td>\n",
       "      <td>2019</td>\n",
       "    </tr>\n",
       "    <tr>\n",
       "      <th>4</th>\n",
       "      <td>Elevator Vibes</td>\n",
       "      <td>Erroll Garner</td>\n",
       "      <td>jazz</td>\n",
       "      <td>track</td>\n",
       "      <td>2019</td>\n",
       "    </tr>\n",
       "    <tr>\n",
       "      <th>...</th>\n",
       "      <td>...</td>\n",
       "      <td>...</td>\n",
       "      <td>...</td>\n",
       "      <td>...</td>\n",
       "      <td>...</td>\n",
       "    </tr>\n",
       "    <tr>\n",
       "      <th>495</th>\n",
       "      <td>Stronger Magic</td>\n",
       "      <td>Kahil El'Zabar</td>\n",
       "      <td>jazz</td>\n",
       "      <td>track</td>\n",
       "      <td>2019</td>\n",
       "    </tr>\n",
       "    <tr>\n",
       "      <th>496</th>\n",
       "      <td>Contour.</td>\n",
       "      <td>Thomas Fonnesbæk</td>\n",
       "      <td>jazz</td>\n",
       "      <td>track</td>\n",
       "      <td>2019</td>\n",
       "    </tr>\n",
       "    <tr>\n",
       "      <th>497</th>\n",
       "      <td>Fargo</td>\n",
       "      <td>Shierro</td>\n",
       "      <td>jazz</td>\n",
       "      <td>track</td>\n",
       "      <td>2019</td>\n",
       "    </tr>\n",
       "    <tr>\n",
       "      <th>498</th>\n",
       "      <td>Look at You</td>\n",
       "      <td>Wildflower Trio</td>\n",
       "      <td>jazz</td>\n",
       "      <td>track</td>\n",
       "      <td>2019</td>\n",
       "    </tr>\n",
       "    <tr>\n",
       "      <th>499</th>\n",
       "      <td>The Weekend</td>\n",
       "      <td>Victoria</td>\n",
       "      <td>jazz</td>\n",
       "      <td>track</td>\n",
       "      <td>2019</td>\n",
       "    </tr>\n",
       "  </tbody>\n",
       "</table>\n",
       "<p>500 rows × 5 columns</p>\n",
       "</div>"
      ],
      "text/plain": [
       "          canciones            artistas genero   tipo año de lanzamiento\n",
       "0         Opendoors  Underground Canopy   jazz  track               2019\n",
       "1       Temptations         Kris Bowers   jazz  track               2019\n",
       "2       Griztronics         Jon Batiste   jazz  track               2019\n",
       "3       En Su Lugar           Tom Misch   jazz  track               2019\n",
       "4    Elevator Vibes       Erroll Garner   jazz  track               2019\n",
       "..              ...                 ...    ...    ...                ...\n",
       "495  Stronger Magic      Kahil El'Zabar   jazz  track               2019\n",
       "496        Contour.    Thomas Fonnesbæk   jazz  track               2019\n",
       "497           Fargo             Shierro   jazz  track               2019\n",
       "498     Look at You     Wildflower Trio   jazz  track               2019\n",
       "499     The Weekend            Victoria   jazz  track               2019\n",
       "\n",
       "[500 rows x 5 columns]"
      ]
     },
     "execution_count": 11,
     "metadata": {},
     "output_type": "execute_result"
    }
   ],
   "source": [
    "df_2019 = pd.DataFrame(dict_tracks_jazz_2019)\n",
    "df_2019"
   ]
  },
  {
   "cell_type": "code",
   "execution_count": 39,
   "metadata": {},
   "outputs": [],
   "source": [
    "df_2019.to_csv(\"dict_tracks_jazz_2019.csv\", index=False)"
   ]
  },
  {
   "cell_type": "code",
   "execution_count": 12,
   "metadata": {},
   "outputs": [
    {
     "data": {
      "text/html": [
       "<div>\n",
       "<style scoped>\n",
       "    .dataframe tbody tr th:only-of-type {\n",
       "        vertical-align: middle;\n",
       "    }\n",
       "\n",
       "    .dataframe tbody tr th {\n",
       "        vertical-align: top;\n",
       "    }\n",
       "\n",
       "    .dataframe thead th {\n",
       "        text-align: right;\n",
       "    }\n",
       "</style>\n",
       "<table border=\"1\" class=\"dataframe\">\n",
       "  <thead>\n",
       "    <tr style=\"text-align: right;\">\n",
       "      <th></th>\n",
       "      <th>canciones</th>\n",
       "      <th>artistas</th>\n",
       "      <th>genero</th>\n",
       "      <th>tipo</th>\n",
       "      <th>año de lanzamiento</th>\n",
       "    </tr>\n",
       "  </thead>\n",
       "  <tbody>\n",
       "    <tr>\n",
       "      <th>0</th>\n",
       "      <td>It’s Better For You</td>\n",
       "      <td>Underground Canopy</td>\n",
       "      <td>jazz</td>\n",
       "      <td>track</td>\n",
       "      <td>2020</td>\n",
       "    </tr>\n",
       "    <tr>\n",
       "      <th>1</th>\n",
       "      <td>Fast Cat</td>\n",
       "      <td>Kris Bowers</td>\n",
       "      <td>jazz</td>\n",
       "      <td>track</td>\n",
       "      <td>2020</td>\n",
       "    </tr>\n",
       "    <tr>\n",
       "      <th>2</th>\n",
       "      <td>Drunk</td>\n",
       "      <td>Jon Batiste</td>\n",
       "      <td>jazz</td>\n",
       "      <td>track</td>\n",
       "      <td>2020</td>\n",
       "    </tr>\n",
       "    <tr>\n",
       "      <th>3</th>\n",
       "      <td>Crepescule - Interlude</td>\n",
       "      <td>Tom Misch</td>\n",
       "      <td>jazz</td>\n",
       "      <td>track</td>\n",
       "      <td>2020</td>\n",
       "    </tr>\n",
       "    <tr>\n",
       "      <th>4</th>\n",
       "      <td>Studying Music Vibes</td>\n",
       "      <td>Erroll Garner</td>\n",
       "      <td>jazz</td>\n",
       "      <td>track</td>\n",
       "      <td>2020</td>\n",
       "    </tr>\n",
       "    <tr>\n",
       "      <th>...</th>\n",
       "      <td>...</td>\n",
       "      <td>...</td>\n",
       "      <td>...</td>\n",
       "      <td>...</td>\n",
       "      <td>...</td>\n",
       "    </tr>\n",
       "    <tr>\n",
       "      <th>495</th>\n",
       "      <td>Stronger Magic</td>\n",
       "      <td>Kahil El'Zabar</td>\n",
       "      <td>jazz</td>\n",
       "      <td>track</td>\n",
       "      <td>2020</td>\n",
       "    </tr>\n",
       "    <tr>\n",
       "      <th>496</th>\n",
       "      <td>Contour.</td>\n",
       "      <td>Thomas Fonnesbæk</td>\n",
       "      <td>jazz</td>\n",
       "      <td>track</td>\n",
       "      <td>2020</td>\n",
       "    </tr>\n",
       "    <tr>\n",
       "      <th>497</th>\n",
       "      <td>Fargo</td>\n",
       "      <td>Shierro</td>\n",
       "      <td>jazz</td>\n",
       "      <td>track</td>\n",
       "      <td>2020</td>\n",
       "    </tr>\n",
       "    <tr>\n",
       "      <th>498</th>\n",
       "      <td>Look at You</td>\n",
       "      <td>Wildflower Trio</td>\n",
       "      <td>jazz</td>\n",
       "      <td>track</td>\n",
       "      <td>2020</td>\n",
       "    </tr>\n",
       "    <tr>\n",
       "      <th>499</th>\n",
       "      <td>The Weekend</td>\n",
       "      <td>Victoria</td>\n",
       "      <td>jazz</td>\n",
       "      <td>track</td>\n",
       "      <td>2020</td>\n",
       "    </tr>\n",
       "  </tbody>\n",
       "</table>\n",
       "<p>500 rows × 5 columns</p>\n",
       "</div>"
      ],
      "text/plain": [
       "                  canciones            artistas genero   tipo  \\\n",
       "0       It’s Better For You  Underground Canopy   jazz  track   \n",
       "1                  Fast Cat         Kris Bowers   jazz  track   \n",
       "2                     Drunk         Jon Batiste   jazz  track   \n",
       "3    Crepescule - Interlude           Tom Misch   jazz  track   \n",
       "4      Studying Music Vibes       Erroll Garner   jazz  track   \n",
       "..                      ...                 ...    ...    ...   \n",
       "495          Stronger Magic      Kahil El'Zabar   jazz  track   \n",
       "496                Contour.    Thomas Fonnesbæk   jazz  track   \n",
       "497                   Fargo             Shierro   jazz  track   \n",
       "498             Look at You     Wildflower Trio   jazz  track   \n",
       "499             The Weekend            Victoria   jazz  track   \n",
       "\n",
       "    año de lanzamiento  \n",
       "0                 2020  \n",
       "1                 2020  \n",
       "2                 2020  \n",
       "3                 2020  \n",
       "4                 2020  \n",
       "..                 ...  \n",
       "495               2020  \n",
       "496               2020  \n",
       "497               2020  \n",
       "498               2020  \n",
       "499               2020  \n",
       "\n",
       "[500 rows x 5 columns]"
      ]
     },
     "execution_count": 12,
     "metadata": {},
     "output_type": "execute_result"
    }
   ],
   "source": [
    "df_2020 = pd.DataFrame(dict_tracks_jazz_2020)\n",
    "df_2020"
   ]
  },
  {
   "cell_type": "code",
   "execution_count": 40,
   "metadata": {},
   "outputs": [],
   "source": [
    "df_2020.to_csv(\"dict_tracks_jazz_2020.csv\", index=False)"
   ]
  },
  {
   "cell_type": "markdown",
   "metadata": {},
   "source": [
    "## MUSICBRAINZ\n"
   ]
  },
  {
   "cell_type": "code",
   "execution_count": 13,
   "metadata": {},
   "outputs": [],
   "source": [
    "#pip install musicbrainzngs #Instalamos la libreria"
   ]
  },
  {
   "cell_type": "code",
   "execution_count": 14,
   "metadata": {},
   "outputs": [],
   "source": [
    "import musicbrainzngs"
   ]
  },
  {
   "cell_type": "code",
   "execution_count": 15,
   "metadata": {},
   "outputs": [],
   "source": [
    "musicbrainzngs.set_useragent(\"MusicStream\", \"1.0\", \"ireneaamm@gmail.com\")"
   ]
  },
  {
   "cell_type": "markdown",
   "metadata": {},
   "source": [
    "### ARTISTAS 2019"
   ]
  },
  {
   "cell_type": "code",
   "execution_count": 16,
   "metadata": {},
   "outputs": [
    {
     "name": "stdout",
     "output_type": "stream",
     "text": [
      "{'FRANZ', 'Mary Lattimore', 'Vincent Ingala', 'Flatland Park', 'Ella Fitzgerald', 'Juraj Stanik Trio', 'Gathering in Jazz', 'Zander Jazz Trio', 'Peggy Lee', 'Anthony Lazaro', 'Espen Eriksen Trio', \"Kahil El'Zabar\", 'Oscar Peterson Trio', 'Kokoroko', 'Otesla', 'Ennio Máno', 'Massimo Faraò', 'Potatohead People', 'Lydia Baskow Trio', 'Red Stairs Jazz Quartet', 'Doris Day', 'Plini', 'Hara Noda', 'Spaze Windu', 'Miramare', 'PYJÆN', 'Jørgen Emborg', 'Kamaal Williams', 'Jonah Jones', 'Reese Quartet', 'Asako Toki', 'Carsten Dahl', 'Shalosh', 'Hailu Mergia', 'Konteks', 'Silvana Estrada', 'Art Blakey & The Jazz Messengers', 'Greydon Park Band', 'Green Trio', 'Brendan Maynard + 2', 'Ryan Montano', 'Eve St. Jones', 'igory', 'Bibi Tanga & The Selenites', 'Dorian Concept', 'Long Island Quartet', 'The Myth of the Turtle', 'Lauren Richardson', 'Godfather Don', 'Ben & Katsy', 'Nina Simone', 'Tony DeSare', 'Siimbiie Lakew', 'Chattanooga Trio', 'Sylvia Telles', 'Hollbeck', 'Gregory Porter', 'The Molsbees', 'Shierro', 'Yussef Dayes', 'Aphrow', 'n o r m a l', 'Anita Rosswell', 'Pigeondust', 'Johnny Smith', 'ichikoro', 'Huw Marc Bennett', 'Norah Jones', 'Clap Cotton', 'Barney Kessel', 'Simply Coffeehouse', 'Magpie Jazz Trio', 'Ron Miles', 'gum.mp3', 'Greg Manning', 'Alex Parchment', 'Ituana', 'The Sorcerers', 'Sam Butera', 'Michael J Thomas', 'Robert Elovsson Quartet', 'Rufio Patio', 'Katashi Kaitō', 'Stefania Tallini', 'DJ Ryow a.k.a. Smooth Current', 'Groove Da Praia', 'Dea Sancta', 'Astoria Three', 'fox capture plan', 'Randy Scott', 'Moonspatz', 'Ardhito Pramono', 'Alabaster DePlume', 'Stephane Wrembel', 'Kim Waters', 'Freddie Fox', 'Vernon Sanders', 'Back Room Jazz Trio', 'Bobby Dreamz BIG', 'UWS Jazz Trio', 'Yoni Mayraz', 'Hudson Harris & Haim', 'Underground Canopy', 'Ragan Whiteside', 'Michel Portal', 'The Pharcyde', 'Dirty Loops', 'Charlie Wilder Band', 'Jack Gardiner', 'Tom Stills Quartet', 'Otis Redding', 'Wildcookie', 'Marcos Caixa', 'Eli Starr Trio', 'Ibrahim Maalouf', 'Jeremy Pelt', 'Louis Silva Band', 'Lennie Tristano', 'Oscar Peterson', 'Red Rose Jazz Trio', 'Lin Rountree', 'Waxamilion', 'Mvdk', 'Living Room', 'Coffeehouse BGM Station', 'The Andy Love Band', 'Måns & Dotter', 'Athletic Progression', 'Kaspa.', 'Angelina Jordan', 'Tom Misch', 'Midtown Trio', 'KTZ Players', 'Vintage Emporium', 'Parov Stelar', 'Kista', 'Darren Rahn', 'Krister & Dalbani', 'South West Cafe Trio', 'Thelonious Coltrane', 'yeyts.', 'Svaneborg Kardyb', 'Mangrove Yeltsin', 'Yazmin Lacey', 'Mansur Brown', 'Taylor McFerrin', 'Ken Navarro', 'paris91', 'Sweet Nothings Band', 'BADBADNOTGOOD', 'Kris Bowers', 'Gillian Spencer Trio', 'Michael Bublé', 'Skinny Hightower', 'Trois Amis', 'Shakatak', 'Immanuel Wilkins', 'Chad Lefkowitz-Brown', 'Arne Torvik Trio', \"Scott Bradlee's Postmodern Jukebox\", 'Robert Glasper', 'Adam Hawley', \"Barry Can't Swim\", 'Norman Brown', 'Laurindo Almeida', 'Boney James', 'Navy Blue', 'Till Brönner', 'Jon Batiste', 'Erroll Garner', 'Oilix', 'Victoria', 'Diana Krall', 'Burt Mitchell', 'Johnny Hodges', 'Serenity State of Mind', 'Dan Evans-Parker', 'Joan Chamorro', 'Chaos In The CBD', 'Sam Cooke', 'Phil Denny', 'Jeff Laine & Co', 'Carol Albert', 'Four80East', 'Michael Stylez & Co', 'GRiZ', 'Tom Bates', 'Aretha Franklin', 'Felix Martin', 'Turning Trio', 'Wildflower Trio', 'TIA RAY', 'Bladverk Band', 'Dee Brown', 'Emapea', 'SamuW', 'Ebi Soda', 'Stiff Cat Steve', 'Ergo Montserrat', 'Carl Bagge Trio', 'Alfa Mist', 'Quantic', 'Emma-Jean Thackray', 'Tommy Emmanuel', 'Sparrow & Bird', 'Bonobo', '110th Street Jazz Trio', 'Chris \"Big Dog\" Davis', 'Tony Saunders', 'Butcher Brown', 'Jeff Beck', 'Cafe Music BGM channel', 'Azymuth', 'Anja Lechner', 'Deca', 'Melody Gardot', 'Anita Baker', 'Colin Stetson', 'Cory Henry', 'The Colours That Rise', 'Joonie', 'Edward Simon', 'Jitwam', 'Enrico Pieranunzi', 'Nenei', 'Red Brick Lane', 'PENPALS', 'Dave Brubeck', 'Brian Culbertson', 'Kuipers & Winter', 'Olepash', 'Brian Simpson', 'Thomas Fonnesbæk', 'BimBomBam Orchestra', 'John Coltrane', 'Fulton Street Players', 'iwamizu', 'We Three Trio', 'Folamour', 'CrazyJaZz', 'Jamie Lancaster', 'Gerald Albright', 'Eddie Condon', 'The Jazz Cultivators', 'Kat Edmonson', 'Wolfgang Muthspiel', 'Chris Standring', 'Felipe Gordon', 'Daniel Ögren', 'Soul Wun', 'Henning Witsell', 'Chinese Man', 'Dan Kye', 'Kamasi Washington', 'Martha Tilton', 'Dee Lucas', 'Oli Silk', 'Walter Smith III', 'Nick Colionne', 'Ambrose Akinmusire', 'Caravan Palace', 'Tate Jackson Trio', 'Retromigration', 'Boozoo Bajou', 'Mandevilla', 'RINZ.', 'Michael Wollny', 'Baptiste Herbin', 'Jazz Holdouts', 'toconoma', 'Snazzback', 'Hailey Tuck', 'Tour-Maubourg', 'Light Hands Trio', 'Holborns', 'The Sweetgreens', 'Greg Spero', 'FloFilz', 'Matt Dusk', 'Dave \"Baby\" Cortez', 'Night and Day Trio', 'CMC 3', 'Ellen Andrea Wang', 'Self-Isolation Coffeehouse', 'The Smooth Jazz Alley', 'Ill Considered'}\n"
     ]
    }
   ],
   "source": [
    "set_artistas_2019= set(dict_tracks_jazz_2019['artistas'])  # Convertir el valor asociado a la clave 'artistas' en un set para limpiar los artistas repetidos\n",
    "print(set_artistas_2019)"
   ]
  },
  {
   "cell_type": "code",
   "execution_count": 17,
   "metadata": {},
   "outputs": [
    {
     "data": {
      "text/plain": [
       "286"
      ]
     },
     "execution_count": 17,
     "metadata": {},
     "output_type": "execute_result"
    }
   ],
   "source": [
    "lista_artistas_2019 = list(set_artistas_2019) # pasarlo a lista para poder iterar en el bucle for \n",
    "len(lista_artistas_2019)"
   ]
  },
  {
   "cell_type": "code",
   "execution_count": 18,
   "metadata": {},
   "outputs": [
    {
     "name": "stdout",
     "output_type": "stream",
     "text": [
      "{'artist-list': [{'id': 'a74b1b7f-71a5-4011-9441-d0b5e4122711', 'type': 'Group', 'ext:score': '100', 'name': 'Radiohead', 'sort-name': 'Radiohead', 'country': 'GB', 'area': {'id': '8a754a16-0027-3a29-b6d7-2b40ea0481ed', 'type': 'Country', 'name': 'United Kingdom', 'sort-name': 'United Kingdom', 'life-span': {'ended': 'false'}}, 'begin-area': {'id': 'd840d4b3-8987-4626-928b-398de760cc24', 'type': 'City', 'name': 'Abingdon-on-Thames', 'sort-name': 'Abingdon-on-Thames', 'life-span': {'ended': 'false'}}, 'isni-list': ['0000000115475162'], 'life-span': {'begin': '1991', 'ended': 'false'}, 'alias-list': [{'sort-name': 'r/head', 'type': 'Search hint', 'alias': 'r/head'}, {'locale': 'zh', 'sort-name': '电台司令', 'type': 'Artist name', 'primary': 'primary', 'alias': '电台司令'}, {'locale': 'ja', 'sort-name': 'れでぃおへっど', 'type': 'Artist name', 'primary': 'primary', 'alias': 'レディオヘッド'}, {'sort-name': 'Radiohead & Thom Yorke', 'type': 'Search hint', 'alias': 'Radiohead & Thom Yorke'}, {'sort-name': 'Radio Head', 'type': 'Search hint', 'alias': 'Radio Head'}], 'tag-list': [{'count': '13', 'name': 'rock'}, {'count': '9', 'name': 'electronic'}, {'count': '-1', 'name': 'post-rock'}, {'count': '31', 'name': 'alternative rock'}, {'count': '12', 'name': 'british'}, {'count': '-1', 'name': 'grunge'}, {'count': '0', 'name': 'idm'}, {'count': '0', 'name': 'uk'}, {'count': '-1', 'name': 'britannique'}, {'count': '3', 'name': 'indie rock'}, {'count': '1', 'name': 'alternative'}, {'count': '1', 'name': 'britpop'}, {'count': '21', 'name': 'art rock'}, {'count': '1', 'name': 'post-grunge'}, {'count': '8', 'name': 'experimental rock'}, {'count': '0', 'name': 'english'}, {'count': '0', 'name': 'chamber pop'}, {'count': '-1', 'name': 'parlophone'}, {'count': '-2', 'name': 'england'}, {'count': '0', 'name': 'indietronica'}, {'count': '-1', 'name': 'melancholic'}, {'count': '0', 'name': 'oxford'}, {'count': '0', 'name': 'crossover prog'}, {'count': '-1', 'name': 'bootleg'}, {'count': '-1', 'name': 'rock and indie'}, {'count': '0', 'name': 'britrock'}, {'count': '1', 'name': 'electronic rock'}, {'count': '0', 'name': 'ambient pop'}, {'count': '-2', 'name': 'c’était mieux avant'}, {'count': '3', 'name': 'art pop'}, {'count': '-1', 'name': 'nude'}, {'count': '0', 'name': 'trap edm'}, {'count': '-2', 'name': 'sacred cows'}, {'count': '-1', 'name': 'lolicore'}, {'count': '2', 'name': 'post-britpop'}, {'count': '-2', 'name': '1992-1998'}, {'count': '-1', 'name': 'new grave'}]}, {'id': '3ecaa799-94ae-45cd-9ad1-bcabae4073e1', 'ext:score': '57', 'name': 'radiohead 3', 'sort-name': 'radiohead 3', 'disambiguation': 'Capsmusic LTD. artist', 'life-span': {'ended': 'false'}}, {'id': 'b21ab3cc-88ed-4d2b-bd01-6edb83c37900', 'type': 'Group', 'ext:score': '53', 'name': 'Fake Plastic Radiohead', 'sort-name': 'Fake Plastic Radiohead', 'begin-area': {'id': '806b9b3b-5daf-4eaa-807d-7a2a29cde0da', 'type': 'City', 'name': 'Leicester', 'sort-name': 'Leicester', 'life-span': {'ended': 'false'}}, 'life-span': {'begin': '2021-09-25', 'ended': 'false'}}, {'id': 'e48fc8b3-e8ab-4dd4-9dc8-6b0f06ef07d6', 'ext:score': '53', 'name': 'Radiohead Cover Brasil', 'sort-name': 'Radiohead Cover Brasil', 'area': {'id': '33e0f86c-d709-448d-a484-d55778913af1', 'type': 'City', 'name': 'São Paulo', 'sort-name': 'São Paulo', 'life-span': {'ended': 'false'}}, 'life-span': {'ended': 'false'}}, {'id': '1545e981-65ca-4123-9223-ae8efd72cf54', 'type': 'Group', 'ext:score': '50', 'name': 'An Evening of Radiohead', 'sort-name': 'An Evening of Radiohead', 'area': {'id': '6658f787-692d-417f-852c-dcca728d5849', 'type': 'City', 'name': 'Edinburgh', 'sort-name': 'Edinburgh', 'life-span': {'ended': 'false'}}, 'disambiguation': 'Radiohead Cover Band', 'life-span': {'begin': '2024-01-01', 'ended': 'false'}}], 'artist-count': 5}\n"
     ]
    }
   ],
   "source": [
    "#ejemplo de como muestra los resultados:\n",
    "result = musicbrainzngs.search_artists(artist='Radiohead')\n",
    "print(result)"
   ]
  },
  {
   "cell_type": "code",
   "execution_count": 19,
   "metadata": {},
   "outputs": [],
   "source": [
    "#Aqui tenemos la búsqueda de un artista. Trabajando con la librería. \n",
    "artistas_2019_mb = {\"artista\": [], \"pais de origen\": [], \"area de origen\": [], \"fecha inicio actividad\": [], \"fin de actividad\": []} \n",
    "for a in lista_artistas_2019:\n",
    "    result = musicbrainzngs.search_artists(artist=a)\n",
    "    try:\n",
    "        artistas_2019_mb[\"artista\"].append(result[\"artist-list\"][0][\"name\"])\n",
    "    except:\n",
    "        artistas_2019_mb[\"artista\"].append(\"no data\")\n",
    "    try:\n",
    "        artistas_2019_mb[\"pais de origen\"].append(result[\"artist-list\"][0][\"area\"][\"name\"])\n",
    "    except:\n",
    "        artistas_2019_mb[\"pais de origen\"].append(\"no data\")\n",
    "    try:\n",
    "        artistas_2019_mb[\"area de origen\"].append(result[\"artist-list\"][0][\"begin-area\"][\"name\"])\n",
    "    except:\n",
    "        artistas_2019_mb[\"area de origen\"].append(\"no data\") \n",
    "    try:\n",
    "        artistas_2019_mb[\"fecha inicio actividad\"].append(result[\"artist-list\"][0][\"life-span\"][\"begin\"])\n",
    "    except:\n",
    "        artistas_2019_mb[\"fecha inicio actividad\"].append(\"no data\")\n",
    "    try:\n",
    "        if result[\"artist-list\"][0][\"life-span\"][\"ended\"] == False:\n",
    "            artistas_2019_mb[\"fin de actividad\"].append(\"no activo\")\n",
    "        else:\n",
    "            artistas_2019_mb[\"fin de actividad\"].append(\"activo\")\n",
    "    except:\n",
    "        artistas_2019_mb[\"fin de actividad\"].append(\"no data\")\n"
   ]
  },
  {
   "cell_type": "code",
   "execution_count": 41,
   "metadata": {},
   "outputs": [],
   "source": [
    "df_mb_2019=pd.DataFrame(artistas_2019_mb)"
   ]
  },
  {
   "cell_type": "code",
   "execution_count": 42,
   "metadata": {},
   "outputs": [],
   "source": [
    "df_mb_2019.to_csv(\"artistas_2019_mb.csv\",index=False)"
   ]
  },
  {
   "cell_type": "markdown",
   "metadata": {},
   "source": [
    "### ARTISTAS 2020"
   ]
  },
  {
   "cell_type": "code",
   "execution_count": 21,
   "metadata": {},
   "outputs": [
    {
     "name": "stdout",
     "output_type": "stream",
     "text": [
      "{'FRANZ', 'Mary Lattimore', 'Vincent Ingala', 'Flatland Park', 'Ella Fitzgerald', 'Juraj Stanik Trio', 'Gathering in Jazz', 'Zander Jazz Trio', 'Peggy Lee', 'Anthony Lazaro', 'Espen Eriksen Trio', \"Kahil El'Zabar\", 'Oscar Peterson Trio', 'Kokoroko', 'Otesla', 'Ennio Máno', 'Massimo Faraò', 'Potatohead People', 'Lydia Baskow Trio', 'Red Stairs Jazz Quartet', 'Doris Day', 'Plini', 'Hara Noda', 'Spaze Windu', 'Miramare', 'PYJÆN', 'Jørgen Emborg', 'Kamaal Williams', 'Jonah Jones', 'Reese Quartet', 'Asako Toki', 'Carsten Dahl', 'Shalosh', 'Hailu Mergia', 'Konteks', 'Silvana Estrada', 'Art Blakey & The Jazz Messengers', 'Greydon Park Band', 'Green Trio', 'Brendan Maynard + 2', 'Ryan Montano', 'Eve St. Jones', 'igory', 'Bibi Tanga & The Selenites', 'Dorian Concept', 'Long Island Quartet', 'The Myth of the Turtle', 'Lauren Richardson', 'Godfather Don', 'Ben & Katsy', 'Nina Simone', 'Tony DeSare', 'Siimbiie Lakew', 'Chattanooga Trio', 'Sylvia Telles', 'Hollbeck', 'Gregory Porter', 'The Molsbees', 'Shierro', 'Yussef Dayes', 'Aphrow', 'n o r m a l', 'Anita Rosswell', 'Pigeondust', 'Johnny Smith', 'ichikoro', 'Huw Marc Bennett', 'Norah Jones', 'Clap Cotton', 'Barney Kessel', 'Simply Coffeehouse', 'Magpie Jazz Trio', 'Ron Miles', 'gum.mp3', 'Greg Manning', 'Alex Parchment', 'Ituana', 'The Sorcerers', 'Sam Butera', 'Michael J Thomas', 'Robert Elovsson Quartet', 'Rufio Patio', 'Katashi Kaitō', 'Stefania Tallini', 'DJ Ryow a.k.a. Smooth Current', 'Groove Da Praia', 'Dea Sancta', 'Astoria Three', 'fox capture plan', 'Randy Scott', 'Moonspatz', 'Ardhito Pramono', 'Alabaster DePlume', 'Stephane Wrembel', 'Kim Waters', 'Freddie Fox', 'Vernon Sanders', 'Back Room Jazz Trio', 'Bobby Dreamz BIG', 'UWS Jazz Trio', 'Yoni Mayraz', 'Hudson Harris & Haim', 'Underground Canopy', 'Ragan Whiteside', 'Michel Portal', 'The Pharcyde', 'Dirty Loops', 'Charlie Wilder Band', 'Jack Gardiner', 'Tom Stills Quartet', 'Otis Redding', 'Wildcookie', 'Marcos Caixa', 'Eli Starr Trio', 'Ibrahim Maalouf', 'Jeremy Pelt', 'Louis Silva Band', 'Lennie Tristano', 'Oscar Peterson', 'Red Rose Jazz Trio', 'Lin Rountree', 'Waxamilion', 'Mvdk', 'Living Room', 'Coffeehouse BGM Station', 'The Andy Love Band', 'Måns & Dotter', 'Athletic Progression', 'Kaspa.', 'Angelina Jordan', 'Tom Misch', 'Midtown Trio', 'KTZ Players', 'Vintage Emporium', 'Parov Stelar', 'Kista', 'Darren Rahn', 'Krister & Dalbani', 'South West Cafe Trio', 'Thelonious Coltrane', 'yeyts.', 'Svaneborg Kardyb', 'Mangrove Yeltsin', 'Yazmin Lacey', 'Mansur Brown', 'Taylor McFerrin', 'Ken Navarro', 'paris91', 'Sweet Nothings Band', 'BADBADNOTGOOD', 'Kris Bowers', 'Gillian Spencer Trio', 'Michael Bublé', 'Skinny Hightower', 'Trois Amis', 'Shakatak', 'Immanuel Wilkins', 'Chad Lefkowitz-Brown', 'Arne Torvik Trio', \"Scott Bradlee's Postmodern Jukebox\", 'Robert Glasper', 'Adam Hawley', \"Barry Can't Swim\", 'Norman Brown', 'Laurindo Almeida', 'Boney James', 'Navy Blue', 'Till Brönner', 'Jon Batiste', 'Erroll Garner', 'Oilix', 'Victoria', 'Diana Krall', 'Burt Mitchell', 'Johnny Hodges', 'Serenity State of Mind', 'Dan Evans-Parker', 'Joan Chamorro', 'Chaos In The CBD', 'Sam Cooke', 'Phil Denny', 'Jeff Laine & Co', 'Carol Albert', 'Four80East', 'Michael Stylez & Co', 'GRiZ', 'Tom Bates', 'Aretha Franklin', 'Felix Martin', 'Turning Trio', 'Wildflower Trio', 'TIA RAY', 'Bladverk Band', 'Dee Brown', 'Emapea', 'SamuW', 'Ebi Soda', 'Stiff Cat Steve', 'Ergo Montserrat', 'Carl Bagge Trio', 'Alfa Mist', 'Quantic', 'Emma-Jean Thackray', 'Tommy Emmanuel', 'Sparrow & Bird', 'Bonobo', '110th Street Jazz Trio', 'Chris \"Big Dog\" Davis', 'Tony Saunders', 'Butcher Brown', 'Jeff Beck', 'Cafe Music BGM channel', 'Azymuth', 'Anja Lechner', 'Deca', 'Melody Gardot', 'Anita Baker', 'Colin Stetson', 'Cory Henry', 'The Colours That Rise', 'Joonie', 'Edward Simon', 'Jitwam', 'Enrico Pieranunzi', 'Nenei', 'Red Brick Lane', 'PENPALS', 'Dave Brubeck', 'Brian Culbertson', 'Kuipers & Winter', 'Olepash', 'Brian Simpson', 'Thomas Fonnesbæk', 'BimBomBam Orchestra', 'John Coltrane', 'Fulton Street Players', 'iwamizu', 'We Three Trio', 'Folamour', 'CrazyJaZz', 'Jamie Lancaster', 'Gerald Albright', 'Eddie Condon', 'The Jazz Cultivators', 'Kat Edmonson', 'Wolfgang Muthspiel', 'Chris Standring', 'Felipe Gordon', 'Daniel Ögren', 'Soul Wun', 'Henning Witsell', 'Chinese Man', 'Dan Kye', 'Kamasi Washington', 'Martha Tilton', 'Dee Lucas', 'Oli Silk', 'Walter Smith III', 'Nick Colionne', 'Ambrose Akinmusire', 'Caravan Palace', 'Tate Jackson Trio', 'Retromigration', 'Boozoo Bajou', 'Mandevilla', 'RINZ.', 'Michael Wollny', 'Baptiste Herbin', 'Jazz Holdouts', 'toconoma', 'Snazzback', 'Hailey Tuck', 'Tour-Maubourg', 'Light Hands Trio', 'Holborns', 'The Sweetgreens', 'Greg Spero', 'FloFilz', 'Matt Dusk', 'Dave \"Baby\" Cortez', 'Night and Day Trio', 'CMC 3', 'Ellen Andrea Wang', 'Self-Isolation Coffeehouse', 'The Smooth Jazz Alley', 'Ill Considered'}\n"
     ]
    }
   ],
   "source": [
    "set_artistas_2020= set(dict_tracks_jazz_2020['artistas'])  # Convertir el valor asociado a la clave 'artistas' en un set para limpiar los artistas repetidos\n",
    "print(set_artistas_2020)"
   ]
  },
  {
   "cell_type": "code",
   "execution_count": 22,
   "metadata": {},
   "outputs": [
    {
     "data": {
      "text/plain": [
       "286"
      ]
     },
     "execution_count": 22,
     "metadata": {},
     "output_type": "execute_result"
    }
   ],
   "source": [
    "lista_artistas_2020 = list(set_artistas_2020) # pasarlo a lista para poder iterar en el bucle for \n",
    "len(lista_artistas_2020)"
   ]
  },
  {
   "cell_type": "code",
   "execution_count": 23,
   "metadata": {},
   "outputs": [],
   "source": [
    "#Aqui tenemos la búsqueda de un artista. Trabajando con la librería. \n",
    "artistas_2020_mb = {\"artista\": [], \"pais de origen\": [], \"area de origen\": [], \"fecha inicio actividad\": [], \"fin de actividad\": []} \n",
    "for a in lista_artistas_2020:\n",
    "    result = musicbrainzngs.search_artists(artist=a)\n",
    "    try:\n",
    "        artistas_2020_mb[\"artista\"].append(result[\"artist-list\"][0][\"name\"])\n",
    "    except:\n",
    "        artistas_2020_mb[\"artista\"].append(\"no data\")\n",
    "    try:\n",
    "        artistas_2020_mb[\"pais de origen\"].append(result[\"artist-list\"][0][\"area\"][\"name\"])\n",
    "    except:\n",
    "        artistas_2020_mb[\"pais de origen\"].append(\"no data\")\n",
    "    try:\n",
    "        artistas_2020_mb[\"area de origen\"].append(result[\"artist-list\"][0][\"begin-area\"][\"name\"])\n",
    "    except:\n",
    "        artistas_2020_mb[\"area de origen\"].append(\"no data\") \n",
    "    try:\n",
    "        artistas_2020_mb[\"fecha inicio actividad\"].append(result[\"artist-list\"][0][\"life-span\"][\"begin\"])\n",
    "    except:\n",
    "        artistas_2020_mb[\"fecha inicio actividad\"].append(\"no data\")\n",
    "    try:\n",
    "        if result[\"artist-list\"][0][\"life-span\"][\"ended\"] == False:\n",
    "            artistas_2020_mb[\"fin de actividad\"].append(\"no activo\")\n",
    "        else:\n",
    "            artistas_2020_mb[\"fin de actividad\"].append(\"activo\")\n",
    "    except:\n",
    "        artistas_2020_mb[\"fin de actividad\"].append(\"no data\")"
   ]
  },
  {
   "cell_type": "code",
   "execution_count": 43,
   "metadata": {},
   "outputs": [],
   "source": [
    "df_mb_2020=pd.DataFrame(artistas_2020_mb)"
   ]
  },
  {
   "cell_type": "code",
   "execution_count": 44,
   "metadata": {},
   "outputs": [],
   "source": [
    "df_mb_2020.to_csv(\"artistas_2020_mb.csv\",index=False)"
   ]
  },
  {
   "cell_type": "markdown",
   "metadata": {},
   "source": [
    "### LASTFM"
   ]
  },
  {
   "cell_type": "code",
   "execution_count": 25,
   "metadata": {},
   "outputs": [],
   "source": [
    "api_key =\"7e40d8c1f863ef17aeffe6b633016ec5\"\n",
    "user = \"irenealonso11\""
   ]
  },
  {
   "cell_type": "code",
   "execution_count": 26,
   "metadata": {},
   "outputs": [
    {
     "data": {
      "text/plain": [
       "200"
      ]
     },
     "execution_count": 26,
     "metadata": {},
     "output_type": "execute_result"
    }
   ],
   "source": [
    "auth = f\"http://www.last.fm/api/auth/?api_key={api_key}\"\n",
    "response = requests.get(auth)\n",
    "response.status_code "
   ]
  },
  {
   "cell_type": "code",
   "execution_count": 28,
   "metadata": {},
   "outputs": [],
   "source": [
    "params_info = {\n",
    "        'method': 'artist.getinfo',\n",
    "        'artist': \"Tom jones\",\n",
    "        'api_key': api_key,\n",
    "        'format': 'json'\n",
    "    }\n",
    "\n",
    "url_2 = f\"http://ws.audioscrobbler.com/2.0/\""
   ]
  },
  {
   "cell_type": "code",
   "execution_count": 30,
   "metadata": {},
   "outputs": [
    {
     "data": {
      "text/plain": [
       "200"
      ]
     },
     "execution_count": 30,
     "metadata": {},
     "output_type": "execute_result"
    }
   ],
   "source": [
    "respuesta = requests.get(url_2, params=params_info)\n",
    "respuesta.status_code"
   ]
  },
  {
   "cell_type": "code",
   "execution_count": 31,
   "metadata": {},
   "outputs": [],
   "source": [
    "artista = respuesta.json()"
   ]
  },
  {
   "cell_type": "markdown",
   "metadata": {},
   "source": [
    "Artista.\n",
    "\n",
    "Biografía del Artista.\n",
    "\n",
    "Listeners (cantidad de gente que lo escucha).\n",
    "\n",
    "Playcount (cantidad de veces reproducido su música)\n",
    "\n",
    "Artistas Similares."
   ]
  },
  {
   "cell_type": "code",
   "execution_count": 32,
   "metadata": {},
   "outputs": [
    {
     "data": {
      "text/plain": [
       "{'artist': {'name': 'Tom Jones',\n",
       "  'mbid': '79d26f81-e2ff-4708-b5db-459c280c9eec',\n",
       "  'url': 'https://www.last.fm/music/Tom+Jones',\n",
       "  'image': [{'#text': 'https://lastfm.freetls.fastly.net/i/u/34s/2a96cbd8b46e442fc41c2b86b821562f.png',\n",
       "    'size': 'small'},\n",
       "   {'#text': 'https://lastfm.freetls.fastly.net/i/u/64s/2a96cbd8b46e442fc41c2b86b821562f.png',\n",
       "    'size': 'medium'},\n",
       "   {'#text': 'https://lastfm.freetls.fastly.net/i/u/174s/2a96cbd8b46e442fc41c2b86b821562f.png',\n",
       "    'size': 'large'},\n",
       "   {'#text': 'https://lastfm.freetls.fastly.net/i/u/300x300/2a96cbd8b46e442fc41c2b86b821562f.png',\n",
       "    'size': 'extralarge'},\n",
       "   {'#text': 'https://lastfm.freetls.fastly.net/i/u/300x300/2a96cbd8b46e442fc41c2b86b821562f.png',\n",
       "    'size': 'mega'},\n",
       "   {'#text': 'https://lastfm.freetls.fastly.net/i/u/300x300/2a96cbd8b46e442fc41c2b86b821562f.png',\n",
       "    'size': ''}],\n",
       "  'streamable': '0',\n",
       "  'ontour': '0',\n",
       "  'stats': {'listeners': '1206082', 'playcount': '11274327'},\n",
       "  'similar': {'artist': [{'name': 'Engelbert Humperdinck',\n",
       "     'url': 'https://www.last.fm/music/Engelbert+Humperdinck',\n",
       "     'image': [{'#text': 'https://lastfm.freetls.fastly.net/i/u/34s/2a96cbd8b46e442fc41c2b86b821562f.png',\n",
       "       'size': 'small'},\n",
       "      {'#text': 'https://lastfm.freetls.fastly.net/i/u/64s/2a96cbd8b46e442fc41c2b86b821562f.png',\n",
       "       'size': 'medium'},\n",
       "      {'#text': 'https://lastfm.freetls.fastly.net/i/u/174s/2a96cbd8b46e442fc41c2b86b821562f.png',\n",
       "       'size': 'large'},\n",
       "      {'#text': 'https://lastfm.freetls.fastly.net/i/u/300x300/2a96cbd8b46e442fc41c2b86b821562f.png',\n",
       "       'size': 'extralarge'},\n",
       "      {'#text': 'https://lastfm.freetls.fastly.net/i/u/300x300/2a96cbd8b46e442fc41c2b86b821562f.png',\n",
       "       'size': 'mega'},\n",
       "      {'#text': 'https://lastfm.freetls.fastly.net/i/u/300x300/2a96cbd8b46e442fc41c2b86b821562f.png',\n",
       "       'size': ''}]},\n",
       "    {'name': 'Cliff Richard',\n",
       "     'url': 'https://www.last.fm/music/Cliff+Richard',\n",
       "     'image': [{'#text': 'https://lastfm.freetls.fastly.net/i/u/34s/2a96cbd8b46e442fc41c2b86b821562f.png',\n",
       "       'size': 'small'},\n",
       "      {'#text': 'https://lastfm.freetls.fastly.net/i/u/64s/2a96cbd8b46e442fc41c2b86b821562f.png',\n",
       "       'size': 'medium'},\n",
       "      {'#text': 'https://lastfm.freetls.fastly.net/i/u/174s/2a96cbd8b46e442fc41c2b86b821562f.png',\n",
       "       'size': 'large'},\n",
       "      {'#text': 'https://lastfm.freetls.fastly.net/i/u/300x300/2a96cbd8b46e442fc41c2b86b821562f.png',\n",
       "       'size': 'extralarge'},\n",
       "      {'#text': 'https://lastfm.freetls.fastly.net/i/u/300x300/2a96cbd8b46e442fc41c2b86b821562f.png',\n",
       "       'size': 'mega'},\n",
       "      {'#text': 'https://lastfm.freetls.fastly.net/i/u/300x300/2a96cbd8b46e442fc41c2b86b821562f.png',\n",
       "       'size': ''}]},\n",
       "    {'name': 'Matt Monro',\n",
       "     'url': 'https://www.last.fm/music/Matt+Monro',\n",
       "     'image': [{'#text': 'https://lastfm.freetls.fastly.net/i/u/34s/2a96cbd8b46e442fc41c2b86b821562f.png',\n",
       "       'size': 'small'},\n",
       "      {'#text': 'https://lastfm.freetls.fastly.net/i/u/64s/2a96cbd8b46e442fc41c2b86b821562f.png',\n",
       "       'size': 'medium'},\n",
       "      {'#text': 'https://lastfm.freetls.fastly.net/i/u/174s/2a96cbd8b46e442fc41c2b86b821562f.png',\n",
       "       'size': 'large'},\n",
       "      {'#text': 'https://lastfm.freetls.fastly.net/i/u/300x300/2a96cbd8b46e442fc41c2b86b821562f.png',\n",
       "       'size': 'extralarge'},\n",
       "      {'#text': 'https://lastfm.freetls.fastly.net/i/u/300x300/2a96cbd8b46e442fc41c2b86b821562f.png',\n",
       "       'size': 'mega'},\n",
       "      {'#text': 'https://lastfm.freetls.fastly.net/i/u/300x300/2a96cbd8b46e442fc41c2b86b821562f.png',\n",
       "       'size': ''}]},\n",
       "    {'name': 'Neil Diamond',\n",
       "     'url': 'https://www.last.fm/music/Neil+Diamond',\n",
       "     'image': [{'#text': 'https://lastfm.freetls.fastly.net/i/u/34s/2a96cbd8b46e442fc41c2b86b821562f.png',\n",
       "       'size': 'small'},\n",
       "      {'#text': 'https://lastfm.freetls.fastly.net/i/u/64s/2a96cbd8b46e442fc41c2b86b821562f.png',\n",
       "       'size': 'medium'},\n",
       "      {'#text': 'https://lastfm.freetls.fastly.net/i/u/174s/2a96cbd8b46e442fc41c2b86b821562f.png',\n",
       "       'size': 'large'},\n",
       "      {'#text': 'https://lastfm.freetls.fastly.net/i/u/300x300/2a96cbd8b46e442fc41c2b86b821562f.png',\n",
       "       'size': 'extralarge'},\n",
       "      {'#text': 'https://lastfm.freetls.fastly.net/i/u/300x300/2a96cbd8b46e442fc41c2b86b821562f.png',\n",
       "       'size': 'mega'},\n",
       "      {'#text': 'https://lastfm.freetls.fastly.net/i/u/300x300/2a96cbd8b46e442fc41c2b86b821562f.png',\n",
       "       'size': ''}]},\n",
       "    {'name': 'Elvis Presley',\n",
       "     'url': 'https://www.last.fm/music/Elvis+Presley',\n",
       "     'image': [{'#text': 'https://lastfm.freetls.fastly.net/i/u/34s/2a96cbd8b46e442fc41c2b86b821562f.png',\n",
       "       'size': 'small'},\n",
       "      {'#text': 'https://lastfm.freetls.fastly.net/i/u/64s/2a96cbd8b46e442fc41c2b86b821562f.png',\n",
       "       'size': 'medium'},\n",
       "      {'#text': 'https://lastfm.freetls.fastly.net/i/u/174s/2a96cbd8b46e442fc41c2b86b821562f.png',\n",
       "       'size': 'large'},\n",
       "      {'#text': 'https://lastfm.freetls.fastly.net/i/u/300x300/2a96cbd8b46e442fc41c2b86b821562f.png',\n",
       "       'size': 'extralarge'},\n",
       "      {'#text': 'https://lastfm.freetls.fastly.net/i/u/300x300/2a96cbd8b46e442fc41c2b86b821562f.png',\n",
       "       'size': 'mega'},\n",
       "      {'#text': 'https://lastfm.freetls.fastly.net/i/u/300x300/2a96cbd8b46e442fc41c2b86b821562f.png',\n",
       "       'size': ''}]}]},\n",
       "  'tags': {'tag': [{'name': 'pop', 'url': 'https://www.last.fm/tag/pop'},\n",
       "    {'name': 'oldies', 'url': 'https://www.last.fm/tag/oldies'},\n",
       "    {'name': 'classic rock', 'url': 'https://www.last.fm/tag/classic+rock'},\n",
       "    {'name': 'male vocalists',\n",
       "     'url': 'https://www.last.fm/tag/male+vocalists'},\n",
       "    {'name': 'rock', 'url': 'https://www.last.fm/tag/rock'}]},\n",
       "  'bio': {'links': {'link': {'#text': '',\n",
       "     'rel': 'original',\n",
       "     'href': 'https://last.fm/music/Tom+Jones/+wiki'}},\n",
       "   'published': '13 May 2006, 14:35',\n",
       "   'summary': 'Sir Thomas Jones Woodward, KBE (born 7 June 1940), best known by his stage name, Tom Jones, is a Welsh pop singer particularly noted for his powerful voice. He was born in Treforest, near Pontypridd in South Wales.\\n\\nHe rose to fame in the mid-1960s, with an exuberant live act which included wearing tight breeches and billowing shirts, in an Edwardian style popular amongst his peers at the time. He was known for his overt sexuality, before this was as common as it became in subsequent years. <a href=\"https://www.last.fm/music/Tom+Jones\">Read more on Last.fm</a>',\n",
       "   'content': 'Sir Thomas Jones Woodward, KBE (born 7 June 1940), best known by his stage name, Tom Jones, is a Welsh pop singer particularly noted for his powerful voice. He was born in Treforest, near Pontypridd in South Wales.\\n\\nHe rose to fame in the mid-1960s, with an exuberant live act which included wearing tight breeches and billowing shirts, in an Edwardian style popular amongst his peers at the time. He was known for his overt sexuality, before this was as common as it became in subsequent years.\\n\\nIn 1963 he became the frontman for Tommy Scott and the Senators, a local beat group. Clad all in black leather, Tom soon gained a reputation in the South Wales area. The Senators were still all unheard of in London.\\n\\nIn 1964 they laid down a few tracks with maverick Telstar producer Joe Meek, and took them to various labels in an attempt to get a record deal. The plan was to release a single, Lonely Joe / I Was A Fool, but the ever-flighty Meek refused to release the tapes. The group returned to South Wales and continued to play gigs at dance halls and working mens clubs. One night, at the Top Hat in Cwmtillery, Tom was spotted by Gordon Mills, a London-based manager originally from South Wales. Mills became Tom\\'s manager, and took the young singer to London. He also renamed him Tom Jones. The Senators became the Playboys, and later still the Squires.\\n\\nJones was awarded the Grammy Award for Best New Artist for 1965. It\\'s Not Unusual, after the song having first been offered to Sandie Shaw. Jones recorded what was intended to be a demo for Shaw, but when she heard it she was so impressed with Jones\\' delivery that she declined the song and recommended that Jones release it himself. The record was the second Decca single Jones released, reaching number one in the UK charts in 1965. It was also the first hit for Jones in the US, peaking at #10 in May of that year. The single was released in the US on the Parrot label and also reached #3 on Billboard\\'s easy listening chart. Jones used this song as the theme for his late 1960s-early 1970s musical variety series This Is Tom Jones. It has since become Jones\\' signature song.\\n\\nIn 1965 Tom sang the theme tune to the James Bond film Thunderball.\\n\\nJones\\' recording career slumped on the pop charts during the 1970s and 80s, although he placed 16 singles on the Billboard Country Music charts between 1976 and 1985, the biggest of which was \"Say You\\'ll Stay Until Tomorrow\" (# 1 Country, # 15 pop) in 1977, and his touring continued successfully. When his son Mark became his manager in 1987, his musical style was taken in a different direction. His recording career was revived with his first major hit single in over a decade, \"A Boy From Nowhere\", taken from the musical Matador. In 1988 he collaborated with The Art of Noise to record Prince\\'s popular song \"Kiss\". Following this, he started to record in collaboration with a younger generation of musicians\\n\\nHis Reload album, released in 2000, became the biggest hit of his career. An album of cover versions recorded as duets with contemporary artists, using their record producers, and utilising their recording methods, it reached number one in the United Kingdom, and sold over 4 million copies worldwide.[1] In 2002, he released the album Mr. Jones, which was produced by Wyclef Jean and included the singles \"Tom Jones International\" and \"Black Betty\". In 2003, he was honored with a BRIT Award for Outstanding Contribution to Music. In 2004, his \"Sex Bomb\" single became a major club hit.\\n\\nOn New Year\\'s Eve 2000 President Bill Clinton invited Tom to perform at the Millennium Celebrations in Washington. Throughout 2000, Tom garnered several honours for his work, including a Brit Award for Best Male. In 2001 Tom toured throughout the Middle East and Europe. In subsequent years Tom recorded albums in collaboration with such artists as Wyclef Jean and Jools Holland.\\n\\nIn celebration of his 65th birthday, on 28 May 2005 Tom returned to his homeland to perform a spectacular concert in Ynysangharad Park, Pontypridd. This was Tom\\'s first performance in Ponty since 1964.\\n\\nFor his contribution to the recording industry, Tom Jones has a star on the Hollywood Walk of Fame at 6608 Hollywood Blvd.\\n\\nIn 2005 the album Together In Concert, was recorded live with John Farnham and his band.\\n\\nHe has collaborated with Chicane for \"Stoned in Love\", a dance track that was released 24 April 2006. It entered at number eight in the UK charts the following Sunday.\\n\\nIn 2007, he signed to New York-based independent label S-Curve, owned by music executive Steve Greenberg. \\n\\nThe singer was awarded an OBE in 1999 and a Knight Bachelor in the 2006 New Years Honours list for his services to music and was subsequently knighted by Her Majesty Queen Elizabeth II at Buckingham Palace, London on 29 March 2006.[7]\\n\\nOn 1 July 2007, Jones was one of the invited artists who performed at Wembley Stadium at the Concert for Diana, joined on stage by guitarist Joe Perry of Aerosmith and British soul singer Joss Stone. He sang the British National Anthem before Ricky Hatton\\'s fight against Floyd Mayweather in Las Vegas on 8 December 2007. On 19 April 2008 he sang the Welsh National Anthem at the Calzaghe-Hopkins fight in Las Vegas.\\n\\nAlthough his manager and public relations staff have attempted to change his sex-bomb image and neutralize the knicker-throwing fans, to the delight of his audiences Jones has never felt the need to tone down his behavior in the shows. Tom Jones has remained highly respected by other singers and continues to attract audiences of all ages. As of 2008, Jones continues to tour and record. A major portion of the year he regularly performs his show at the MGM Grand hotel, located on the Las Vegas Strip in Las Vegas, USA. His show at the MGM is performed in a cabaret-style theater. Other venues on his yearly schedule include numerous shows at Atlantic City, NJ and appearances in the USA, United Kingdom and Canada. In February 2007, Jones made a long-awaited South American tour.  \\n\\nOn 17 September 2008, Jones announced the release of his retro-tinged album \"24 Hours\" on S-Curve Records, his first for 15 years in the US; notably, this is the first record in which he\\'s had a direct song-writing input. It was produced largely by drum\\'n\\'bass stalwarts Future Cut. \\n\\n\"It\\'s all very well just singing songs,\" says Jones, \"but for this record I really wanted to get properly personal. I\\'ve been getting reflective recently, looking over my journey through life, and I wanted to get that down on song. This time I wanted to make something that was all about me, my stories, my life. In other words, you listen to this album and you get the real me.\" \\n <a href=\"https://www.last.fm/music/Tom+Jones\">Read more on Last.fm</a>. User-contributed text is available under the Creative Commons By-SA License; additional terms may apply.'}}}"
      ]
     },
     "execution_count": 32,
     "metadata": {},
     "output_type": "execute_result"
    }
   ],
   "source": [
    "artista\n",
    "\n"
   ]
  },
  {
   "cell_type": "code",
   "execution_count": 33,
   "metadata": {},
   "outputs": [
    {
     "data": {
      "text/plain": [
       "'Tom Jones'"
      ]
     },
     "execution_count": 33,
     "metadata": {},
     "output_type": "execute_result"
    }
   ],
   "source": [
    "artista[\"artist\"][\"name\"]"
   ]
  },
  {
   "cell_type": "code",
   "execution_count": 34,
   "metadata": {},
   "outputs": [
    {
     "data": {
      "text/plain": [
       "'1206082'"
      ]
     },
     "execution_count": 34,
     "metadata": {},
     "output_type": "execute_result"
    }
   ],
   "source": [
    "artista[\"artist\"][\"stats\"][\"listeners\"]"
   ]
  },
  {
   "cell_type": "code",
   "execution_count": 35,
   "metadata": {},
   "outputs": [
    {
     "data": {
      "text/plain": [
       "'11274327'"
      ]
     },
     "execution_count": 35,
     "metadata": {},
     "output_type": "execute_result"
    }
   ],
   "source": [
    "artista[\"artist\"][\"stats\"][\"playcount\"]"
   ]
  },
  {
   "cell_type": "code",
   "execution_count": 36,
   "metadata": {},
   "outputs": [
    {
     "data": {
      "text/plain": [
       "'Engelbert Humperdinck'"
      ]
     },
     "execution_count": 36,
     "metadata": {},
     "output_type": "execute_result"
    }
   ],
   "source": [
    "artista[\"artist\"][\"similar\"][\"artist\"][0][\"name\"]"
   ]
  },
  {
   "cell_type": "code",
   "execution_count": 37,
   "metadata": {},
   "outputs": [
    {
     "data": {
      "text/plain": [
       "'Sir Thomas Jones Woodward, KBE (born 7 June 1940), best known by his stage name, Tom Jones, is a Welsh pop singer particularly noted for his powerful voice. He was born in Treforest, near Pontypridd in South Wales.\\n\\nHe rose to fame in the mid-1960s, with an exuberant live act which included wearing tight breeches and billowing shirts, in an Edwardian style popular amongst his peers at the time. He was known for his overt sexuality, before this was as common as it became in subsequent years. <a href=\"https://www.last.fm/music/Tom+Jones\">Read more on Last.fm</a>'"
      ]
     },
     "execution_count": 37,
     "metadata": {},
     "output_type": "execute_result"
    }
   ],
   "source": [
    "artista[\"artist\"][\"bio\"][\"summary\"]"
   ]
  },
  {
   "cell_type": "code",
   "execution_count": null,
   "metadata": {},
   "outputs": [],
   "source": []
  },
  {
   "cell_type": "code",
   "execution_count": null,
   "metadata": {},
   "outputs": [],
   "source": []
  },
  {
   "cell_type": "code",
   "execution_count": null,
   "metadata": {},
   "outputs": [],
   "source": []
  },
  {
   "cell_type": "code",
   "execution_count": null,
   "metadata": {},
   "outputs": [],
   "source": []
  }
 ],
 "metadata": {
  "kernelspec": {
   "display_name": "base",
   "language": "python",
   "name": "python3"
  },
  "language_info": {
   "codemirror_mode": {
    "name": "ipython",
    "version": 3
   },
   "file_extension": ".py",
   "mimetype": "text/x-python",
   "name": "python",
   "nbconvert_exporter": "python",
   "pygments_lexer": "ipython3",
   "version": "3.12.4"
  }
 },
 "nbformat": 4,
 "nbformat_minor": 2
}
