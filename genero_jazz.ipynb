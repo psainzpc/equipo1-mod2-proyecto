{
 "cells": [
  {
   "cell_type": "code",
   "execution_count": 4,
   "metadata": {},
   "outputs": [],
   "source": [
    "import requests\n",
    "import pandas as pd\n",
    "import spotipy\n",
    "from spotipy.oauth2 import SpotifyClientCredentials"
   ]
  },
  {
   "cell_type": "code",
   "execution_count": 5,
   "metadata": {},
   "outputs": [],
   "source": [
    "client_id = \"cc59f72515e2425ab89fdab0c4127ff5\"\n",
    "api_key = \"51ba1a873bfa4ef4abb8f69263e45464\"\n",
    "\n",
    "auth_manager = SpotifyClientCredentials( client_id, api_key)\n",
    "sp = spotipy.Spotify(auth_manager=auth_manager)"
   ]
  },
  {
   "cell_type": "code",
   "execution_count": 6,
   "metadata": {},
   "outputs": [],
   "source": [
    "canciones = sp.search(q=\"genre:jazz year:2019\", type=\"track\", limit=50, offset=0)"
   ]
  },
  {
   "cell_type": "code",
   "execution_count": 7,
   "metadata": {},
   "outputs": [
    {
     "data": {
      "text/plain": [
       "'Jitwam'"
      ]
     },
     "execution_count": 7,
     "metadata": {},
     "output_type": "execute_result"
    }
   ],
   "source": [
    "canciones[\"tracks\"][\"items\"][0][\"artists\"][0][\"name\"]\n",
    "canciones[\"tracks\"][\"items\"][0][\"artists\"][0][\"name\"]"
   ]
  },
  {
   "cell_type": "code",
   "execution_count": 8,
   "metadata": {},
   "outputs": [
    {
     "name": "stdout",
     "output_type": "stream",
     "text": [
      "{'canciones': ['Opendoors', 'Temptations', 'Griztronics', 'En Su Lugar', 'Clouds', 'Elevator Vibes', 'Algo contigo', 'Blue Moon', 'Coco Mango Diced (Boy Scout Mix)', 'Abusey Junction', 'Walk Like a Motherfucker', 'Never Enough', 'Timeline', 'Part II', 'Waltz No.2', 'Blue Spaces', \"I Can't Stop Loving You\", 'Inside Out', 'Miracle', \"I'm a Rock\", 'Calming Instrumental Bossa Nova', 'Coco Mango Diced', 'Black Balloons Reprise', 'Moonshine', 'Stella By Starlight', 'Soulful', 'Beach Jazz Chillout', 'DInner Jazz Classics', 'Romantic Dinner Music', 'Vintage Vibes Cool Jazz Bar Guitar', 'Super Fly Funk', \"Cheatin' Midnight\", 'Ill Wind', 'Jazz Bar Classics Are Coming Home Tonight', 'You Turned The Tables On Me', 'Ti-de', 'Ghost', 'Evening Swing', 'Fall For You', 'Estamos en Salsa', 'Classic Jazz Jams', 'Plume', 'Unknown Jam', 'Every Time We Say Goodbye - Remastered', 'These Are Just Places To Me Now', 'Poor Butterfly', 'VIP Vintage Saxophone Jazz', 'Vintage Jazz Club Guitar Jazz', 'Strawberry Moon', 'Oro que Fluye', 'Linked', 'Marine Life', 'Afternoon Delight', 'Listen to This', 'Exhale', 'Turtle or Tortoise?', 'Cumbia Sobre el Mar - El Búho Remix', 'Cool Caffine for Everyone', 'Stockholm Summer', 'Coffee Jazz Instrumentals', 'Think of You', 'The Touch', 'Brazz Street', 'I’m All Ears', 'The Gulf Stream', 'supadupakulavibe', 'Walking Around Coffee Club', 'Flowers in the Rain', 'Part III', 'Pictorial Filly', 'More', 'Goodbye Song', 'Supersonics', 'Clarinet Jazz Vintage Jazz Club', 'Cafe Jazz', 'Jazz Clásico en Serio', \"Stylin'\", 'Jazz bar Shuffle', 'Seven Eight', 'Swing City', 'Closer', 'A New Day', 'Very Slow Guitar Background', 'About You', 'Black Dynamite', \"That's Life\", 'Música para Beber Vino', 'The Climb', 'It Was You', 'The Touch - Remix', 'Headlines (feat. Westside Gunn, Conway & Benny)', 'Do Friends Fall in Love?', 'Blame it on My Youth', 'I’m Good', 'Continued Dinner', 'Rosewood', 'Make It Happen', 'Endless Summer', 'FF4', 'Coffee Date', 'A Song With No Name', 'Consistent', 'The Wherefore and Therefore', 'Intro', 'Spontaneous', 'She', 'Willow Weep for Me', 'Smoothly Smooth and Slowly Slow', 'Land Of Honey', 'Clearly in Need of a Biscuit', 'Cheek To Cheek', 'I Only Have Eyes For You', 'Light Dance', 'Melancolia', 'Can’t Get Enough', 'Polka Dots and Moonbeams', 'Pitch Dark', 'The Essence', 'Relaxing Coffee Break Jazz', 'Find My Own Way', 'tautte.', 'Skin in the Game', 'April', 'Sunset (2019 Y.Nakamura Remastering)', 'Airborne', 'Long Stroll to Town', 'ひとひら', 'Unsentimental', 'Grown Folks Business', 'Skylark', 'Cloudy', 'Coffee Shop Jazz Club', 'Colours', 'Tropical Waters', 'All The Things You Are', 'Jazz Clásico en Serio 2', 'Instrumental Jazz Cafe Sessions', 'Jazz Just for You', 'Fine Coffee Jazz', 'In the Basement', 'It Gets Better', 'Dinner Time Jazz', 'That Special Moment', 'September in the Rain', 'Waterguns', 'The Girl From Ipanema', 'Wish You Well - Hablot Brown Remix', 'Petal', 'For My Ladies', 'Morning Walk', 'Illusion', 'Trustt', 'FXMLDR', 'Coffee Shop Jazz Vibes', 'High Heels', 'Prelude to Memory of T.', 'Coffee House Vibes', 'Surf Boogie', 'Space is the Place', 'You Go To My Head', \"Don't Know Why\", 'Café cigarette', \"Here's That Rainy Day\", 'hang up', \"After You've Gone\", 'Red Sails in the Sunset', 'Golden Slumbers', 'Emerge', 'Danish Design, Pt..1', 'Checkinthru', 'Bossa Nova Music for Pets', 'Without a Thought for My Heart', 'Plantasy', 'Best Part', 'cielo', 'Forelsket i København', 'As in Jazz', 'The Way We Play', 'Cool Jazz in Brades', 'My One And Only Love', 'Jazzhands', 'Fast Lane Jazz', \"Paris je t'aime\", 'Escalator (Demo Version)', 'Fuck Yo Feelings', 'Tiger Kingdom Space Camp', 'That’s Life', 'Highly Recommended', 'There You Are', 'How My Heart Sings', \"I've Got You Under My Skin\", 'In A Mellow Tone', 'What Am I to Do?', 'Maybe', 'Serving Suggestions', 'Friend Request', \"I Can't Get Started\", 'Nocturnal', 'Mean To Me', 'Searching', \"It's A Man's World - Live\", 'Falling', 'San Francisco (Be Sure to Wear Flowers in Your Hair) (feat. Michael Marshall)', 'Coffee House Jazz jams', 'Taking Flight (feat. Brandee Younger)', 'In Search of Balance', 'Hatchlings', 'Back in Business', 'Someone To Watch Over Me', 'Brass Fiction', 'Atmosfera movimentata da jazz bar', 'Love Is Here To Stay', 'A Better Place', 'Be Thankful (feat. Erykah Badu)', 'And Suddenly There Was Love', \"I Don't Want To Live On The Moon\", 'So Slightly', 'Cycles', 'Planet Stuff', 'Snow Keeps Falling', 'All Night', \"You're Gonna Be Ok\", 'Jazz Lento en Serio', 'The Effects of Climate Change on Densely Populated Areas', 'February - Late Hours', 'Pretty Apollo', 'I Get Along Without You Very Well (Except Sometimes)', 'Loving You', 'A Free Continuation', 'Standards', 'Ages Ago', 'The Lady in Red', 'Atlantic Oscillations', 'Fubu', 'Slide', 'Softly, as in a Morning Sunrise', 'I Like That', 'Coffee and Jazz Piano', 'My One and Only Love', 'busstop', 'Jazz Massive', 'Help Me Study', 'My Favorite Things', 'Cozy Autumn Days', 'LML', 'Party Like Its 1929', 'Sunshine', 'Peach Garden', 'Icarus And Friends', 'Hoxton Hoops', 'Love Is in the Air', 'Down', 'Bianca', 'Madison', 'Jazz Piano Blend', 'Cocktails for Two - Remastered', 'Give Yourself to Love', 'Take it to the Rink', 'Everytime around', \"Marvin's Mood\", 'Farfalla', \"Underground's My Style\", 'Classy Jazz', 'Cold Blooded Jazz Man', 'Leena', '満ちていく体温', 'After Winter Must Come Spring feat. Elbi', 'Chilled Background Jazz', 'Lest We Forget (blood)', \"Ev'rytime We Say Goodbye\", 'Ghosts', 'Peace', 'Who U Think U Are, Pt. 2', 'Bad Kids To The Back', 'Solar', 'Verveine', 'Groovelatino', 'Ocean', 'Come Rain or Come Shine', 'Catcher', 'Before I Leave', 'Falling Leaves', 'Sum', 'Adwa', 'Otesla - Light Eternal - Dead Gorgeous Records', 'Wrinkle', 'March - Little Trumpeter', 'Arcade', \"Dreamin'\", 'Fleeting Joy', 'La Petite Reine', 'Endless Love', 'Woah', 'Aves', 'Jazz on the Island', 'Door', 'Be Thankful for What You Got', \"I Guess I'll Hang My Tears out to Dry\", 'Bogey Wail (Radio Version)', 'Arrow', 'Rubberband of Life (feat. Ledisi)', 'My Heart Is Full', 'Visit', 'Night and Day', 'Alone Together', 'Five Years Ago', 'Breezy Night', 'Next Door Dreaming', 'Just You', 'I Just Wanna Stop', 'Doctor 03', 'Bella Nova', 'Blue Eyed Monster', 'Moonlight Syndrome', 'My Friends and I Pt. 2', 'Spring Blossoms', \"Fly Me to the Moon / You're Nobody till Somebody Loves You / Just a Gigolo / Fly Me to the Moon (Reprise)\", 'Wintertime', 'See Your Breath', 'Sitting by the Fire', \"I Can't Give You Anything But Love\", 'I Could Write A Book', 'Julius Caesar', 'An Apple Orchard', 'Nosotros', 'Blue World', 'Please Chill', 'Stella By Starlight', 'Gift', 'You need to cry', 'My Favorite Season', 'My True Love Is You', 'Coffee House Bebop Jazz Background', 'Daydreaming', 'L-O-V-E - French Version', 'Constellations', 'Evensong', 'Miss Mess', 'Drive', 'Frosty Evening', 'Maybe Some Other Time', 'Lights Ahead', 'In the Wee Small Hours of the Morning', 'Uman', 'Jazz Studying Nights', 'The Creator', 'Moon Dance', 'Like Someone In Love', 'She Closed Her Eyes in Paris', 'These Empty Streets', 'The Neighborhood', 'Morning Jazz Juice', 'Pure Imagination', 'Paranoid Android I', 'Azalea', 'Cafe Instrumental', 'Coffee Cup', 'Circumstance Change', 'sweet times', 'Higher Self', 'Song of Happiness', 'Side by Side - Remastered', 'I Should Care', 'First Season', 'Time Of Change', 'Moon Over Brooklyn', 'Four', 'Swarm', 'Slow Jazz Cafe', 'Morning Sun Cafe', 'Be Encouraged', 'Come Fly With Me', 'The Dog Did It', 'Beyond the Sea of Trees', 'Oh Word', 'The Balance', 'Deeper', 'Gentle rain', 'Light A Lantern', 'How Deep Is The Ocean', 'Alfonsina y el mar', 'Pecan pie', 'Una Rosa Blanca', 'Hoot of Owl', 'Blood Of The Past', 'Limbo', \"I Didn't Know What Time It Was\", 'They Reminisce Over You', 'If', 'Reason in Disguise', \"When You're Smiling\", 'Ill Wind', 'Waltz for Maybe', 'Hoping for Your Love', 'Fast Cat', 'Swinging Today As Was Yesterday', '21st Century Schizoid Man (Radio Edit)', 'Cruise Control', 'picture this', 'All For Me', \"Let's Make Love on This Plane\", 'Spicy', 'In The Twilight', 'All Of You', 'L-O-V-E - Italian Version', '\"A\" Your Adorable', \"Let's Get Weird\", 'Golden Fields', 'Alba', 'Freak The Method', 'Mackerel Sky', 'Yallwhadinthere', 'Evening Star', 'Cry for You', 'Soft Jazz Cafe', 'La part des anges', 'Anyone Anytime', 'Doctor’s Opinion', 'Moonlight', 'Post Requisite', 'Leaf Pile', 'At Last', 'Slow Jazz Background Ballad', \"You're Mine\", 'What Am I to Do?', 'Thoughts & Wishes', 'Chilly Morning', 'The Prayer', 'Crying', 'When the Coffee Runs Dry', 'Son of a Serpent', 'Smoke Gets in Your Eyes', 'Taking It Easy', 'Ice Cream', 'I’m Old Fashioned', 'Amicalement Vôtre', 'Jazz Sleep Cafe', 'Kissed by the Sun', 'All I Do [Feat. SiR, Bridget Kelly, Song Bird]', 'The Happy Man', 'Jazz Instrumental Vibes', 'Day Trip out', 'Drunk', 'Studying Music Vibes', 'Come To Fireside', 'Les Pipos', 'Kenke Corner', 'Just in Time', 'Beautiful Us', 'Baby Bay', \"It's a Blue World\", \"Can't Sleep\", 'Everything Happens To Me', 'Jazz Coffee Vibes', 'This Simulation Is A Good One', 'You Must Believe In Spring', 'One For', 'Thanks', 'Backyards', 'Dead End', 'It’s Better For You', 'Bustin’ Out', 'Longer Night', 'Amor Arrayano', \"Let's Fall In Love\", 'Nanana', 'Just A Little Bit', 'In The Festival', 'Fleeting Joy', 'Red Leaves', 'Reminiscing', 'The Smell Of Autumn Air', 'Jazz Muy Lento', \"I Don't Know\", 'Back to Black', 'Late Night Walk', 'Jazz Morning Playlist Music', 'Somewhere Sometime', 'The Tide is High', 'London', 'Hurts to Be in Love', 'Instrumental Music Cafe Jams', 'Country & Western', 'Time', 'Si tu vois ma mère', 'Early Morning Jazz', 'Fargo', 'In Here.', 'Colours', 'April In Paris', 'Trigger Happy Police', 'Contour.', 'Well Liked', 'Harvest Moon', 'Stronger Magic', 'Good to Go', 'Spike', 'Heliophobia II', 'Music Cafe Jazz', 'Gonna Get Funky'], 'artistas': [], 'genero': 'jazz', 'tipo': 'track', 'año de lanzamiento': []}\n"
     ]
    },
    {
     "data": {
      "text/plain": [
       "5"
      ]
     },
     "execution_count": 8,
     "metadata": {},
     "output_type": "execute_result"
    }
   ],
   "source": [
    "#LISTA DE CANCIONES JAZZ 2019\n",
    "dict_tracks_jazz_2019 ={\"canciones\":[], \"artistas\": [], \"genero\":\"jazz\", \"tipo\":\"track\", \"año de lanzamiento\":[]}\n",
    "for offset in range(0,500,50):\n",
    "    canciones_2019 = sp.search(q=\"genre:jazz year:2019\", type=\"track\", limit=50, offset=offset)\n",
    "    for i in range(0,50,1):\n",
    "        dict_tracks_jazz_2019[\"canciones\"].append(canciones_2019[\"tracks\"][\"items\"][i][\"name\"])\n",
    "        \n",
    "\n",
    "print(dict_tracks_jazz_2019)    \n",
    "len(dict_tracks_jazz_2019)"
   ]
  },
  {
   "cell_type": "code",
   "execution_count": 9,
   "metadata": {},
   "outputs": [
    {
     "name": "stdout",
     "output_type": "stream",
     "text": [
      "{'canciones': [\"It's a Blue World\", \"Can't Sleep\", 'Everything Happens To Me', 'Jazz Coffee Vibes', 'This Simulation Is A Good One', 'You Must Believe In Spring', 'One For', 'Thanks', 'Backyards', 'Dead End', 'It’s Better For You', 'Bustin’ Out', 'Longer Night', 'Amor Arrayano', \"Let's Fall In Love\", 'Nanana', 'Just A Little Bit', 'In The Festival', 'Fleeting Joy', 'Red Leaves', 'Reminiscing', 'The Smell Of Autumn Air', 'Jazz Muy Lento', \"I Don't Know\", 'Back to Black', 'Late Night Walk', 'Jazz Morning Playlist Music', 'Somewhere Sometime', 'The Tide is High', 'London', 'Hurts to Be in Love', 'Instrumental Music Cafe Jams', 'Country & Western', 'Time', 'Si tu vois ma mère', 'Early Morning Jazz', 'Fargo', 'In Here.', 'Colours', 'April In Paris', 'Trigger Happy Police', 'Contour.', 'Well Liked', 'Harvest Moon', 'Stronger Magic', 'Good to Go', 'Spike', 'Heliophobia II', 'Music Cafe Jazz', 'Gonna Get Funky', \"It's a Blue World\", \"Can't Sleep\", 'Everything Happens To Me', 'Jazz Coffee Vibes', 'This Simulation Is A Good One', 'You Must Believe In Spring', 'One For', 'Thanks', 'Backyards', 'Dead End', 'It’s Better For You', 'Bustin’ Out', 'Longer Night', 'Amor Arrayano', \"Let's Fall In Love\", 'Nanana', 'Just A Little Bit', 'In The Festival', 'Fleeting Joy', 'Red Leaves', 'Reminiscing', 'The Smell Of Autumn Air', 'Jazz Muy Lento', \"I Don't Know\", 'Back to Black', 'Late Night Walk', 'Jazz Morning Playlist Music', 'Somewhere Sometime', 'The Tide is High', 'London', 'Hurts to Be in Love', 'Instrumental Music Cafe Jams', 'Country & Western', 'Time', 'Si tu vois ma mère', 'Early Morning Jazz', 'Fargo', 'In Here.', 'Colours', 'April In Paris', 'Trigger Happy Police', 'Contour.', 'Well Liked', 'Harvest Moon', 'Stronger Magic', 'Good to Go', 'Spike', 'Heliophobia II', 'Music Cafe Jazz', 'Gonna Get Funky', \"It's a Blue World\", \"Can't Sleep\", 'Everything Happens To Me', 'Jazz Coffee Vibes', 'This Simulation Is A Good One', 'You Must Believe In Spring', 'One For', 'Thanks', 'Backyards', 'Dead End', 'It’s Better For You', 'Bustin’ Out', 'Longer Night', 'Amor Arrayano', \"Let's Fall In Love\", 'Nanana', 'Just A Little Bit', 'In The Festival', 'Fleeting Joy', 'Red Leaves', 'Reminiscing', 'The Smell Of Autumn Air', 'Jazz Muy Lento', \"I Don't Know\", 'Back to Black', 'Late Night Walk', 'Jazz Morning Playlist Music', 'Somewhere Sometime', 'The Tide is High', 'London', 'Hurts to Be in Love', 'Instrumental Music Cafe Jams', 'Country & Western', 'Time', 'Si tu vois ma mère', 'Early Morning Jazz', 'Fargo', 'In Here.', 'Colours', 'April In Paris', 'Trigger Happy Police', 'Contour.', 'Well Liked', 'Harvest Moon', 'Stronger Magic', 'Good to Go', 'Spike', 'Heliophobia II', 'Music Cafe Jazz', 'Gonna Get Funky', \"It's a Blue World\", \"Can't Sleep\", 'Everything Happens To Me', 'Jazz Coffee Vibes', 'This Simulation Is A Good One', 'You Must Believe In Spring', 'One For', 'Thanks', 'Backyards', 'Dead End', 'It’s Better For You', 'Bustin’ Out', 'Longer Night', 'Amor Arrayano', \"Let's Fall In Love\", 'Nanana', 'Just A Little Bit', 'In The Festival', 'Fleeting Joy', 'Red Leaves', 'Reminiscing', 'The Smell Of Autumn Air', 'Jazz Muy Lento', \"I Don't Know\", 'Back to Black', 'Late Night Walk', 'Jazz Morning Playlist Music', 'Somewhere Sometime', 'The Tide is High', 'London', 'Hurts to Be in Love', 'Instrumental Music Cafe Jams', 'Country & Western', 'Time', 'Si tu vois ma mère', 'Early Morning Jazz', 'Fargo', 'In Here.', 'Colours', 'April In Paris', 'Trigger Happy Police', 'Contour.', 'Well Liked', 'Harvest Moon', 'Stronger Magic', 'Good to Go', 'Spike', 'Heliophobia II', 'Music Cafe Jazz', 'Gonna Get Funky', \"It's a Blue World\", \"Can't Sleep\", 'Everything Happens To Me', 'Jazz Coffee Vibes', 'This Simulation Is A Good One', 'You Must Believe In Spring', 'One For', 'Thanks', 'Backyards', 'Dead End', 'It’s Better For You', 'Bustin’ Out', 'Longer Night', 'Amor Arrayano', \"Let's Fall In Love\", 'Nanana', 'Just A Little Bit', 'In The Festival', 'Fleeting Joy', 'Red Leaves', 'Reminiscing', 'The Smell Of Autumn Air', 'Jazz Muy Lento', \"I Don't Know\", 'Back to Black', 'Late Night Walk', 'Jazz Morning Playlist Music', 'Somewhere Sometime', 'The Tide is High', 'London', 'Hurts to Be in Love', 'Instrumental Music Cafe Jams', 'Country & Western', 'Time', 'Si tu vois ma mère', 'Early Morning Jazz', 'Fargo', 'In Here.', 'Colours', 'April In Paris', 'Trigger Happy Police', 'Contour.', 'Well Liked', 'Harvest Moon', 'Stronger Magic', 'Good to Go', 'Spike', 'Heliophobia II', 'Music Cafe Jazz', 'Gonna Get Funky', \"It's a Blue World\", \"Can't Sleep\", 'Everything Happens To Me', 'Jazz Coffee Vibes', 'This Simulation Is A Good One', 'You Must Believe In Spring', 'One For', 'Thanks', 'Backyards', 'Dead End', 'It’s Better For You', 'Bustin’ Out', 'Longer Night', 'Amor Arrayano', \"Let's Fall In Love\", 'Nanana', 'Just A Little Bit', 'In The Festival', 'Fleeting Joy', 'Red Leaves', 'Reminiscing', 'The Smell Of Autumn Air', 'Jazz Muy Lento', \"I Don't Know\", 'Back to Black', 'Late Night Walk', 'Jazz Morning Playlist Music', 'Somewhere Sometime', 'The Tide is High', 'London', 'Hurts to Be in Love', 'Instrumental Music Cafe Jams', 'Country & Western', 'Time', 'Si tu vois ma mère', 'Early Morning Jazz', 'Fargo', 'In Here.', 'Colours', 'April In Paris', 'Trigger Happy Police', 'Contour.', 'Well Liked', 'Harvest Moon', 'Stronger Magic', 'Good to Go', 'Spike', 'Heliophobia II', 'Music Cafe Jazz', 'Gonna Get Funky', \"It's a Blue World\", \"Can't Sleep\", 'Everything Happens To Me', 'Jazz Coffee Vibes', 'This Simulation Is A Good One', 'You Must Believe In Spring', 'One For', 'Thanks', 'Backyards', 'Dead End', 'It’s Better For You', 'Bustin’ Out', 'Longer Night', 'Amor Arrayano', \"Let's Fall In Love\", 'Nanana', 'Just A Little Bit', 'In The Festival', 'Fleeting Joy', 'Red Leaves', 'Reminiscing', 'The Smell Of Autumn Air', 'Jazz Muy Lento', \"I Don't Know\", 'Back to Black', 'Late Night Walk', 'Jazz Morning Playlist Music', 'Somewhere Sometime', 'The Tide is High', 'London', 'Hurts to Be in Love', 'Instrumental Music Cafe Jams', 'Country & Western', 'Time', 'Si tu vois ma mère', 'Early Morning Jazz', 'Fargo', 'In Here.', 'Colours', 'April In Paris', 'Trigger Happy Police', 'Contour.', 'Well Liked', 'Harvest Moon', 'Stronger Magic', 'Good to Go', 'Spike', 'Heliophobia II', 'Music Cafe Jazz', 'Gonna Get Funky', \"It's a Blue World\", \"Can't Sleep\", 'Everything Happens To Me', 'Jazz Coffee Vibes', 'This Simulation Is A Good One', 'You Must Believe In Spring', 'One For', 'Thanks', 'Backyards', 'Dead End', 'It’s Better For You', 'Bustin’ Out', 'Longer Night', 'Amor Arrayano', \"Let's Fall In Love\", 'Nanana', 'Just A Little Bit', 'In The Festival', 'Fleeting Joy', 'Red Leaves', 'Reminiscing', 'The Smell Of Autumn Air', 'Jazz Muy Lento', \"I Don't Know\", 'Back to Black', 'Late Night Walk', 'Jazz Morning Playlist Music', 'Somewhere Sometime', 'The Tide is High', 'London', 'Hurts to Be in Love', 'Instrumental Music Cafe Jams', 'Country & Western', 'Time', 'Si tu vois ma mère', 'Early Morning Jazz', 'Fargo', 'In Here.', 'Colours', 'April In Paris', 'Trigger Happy Police', 'Contour.', 'Well Liked', 'Harvest Moon', 'Stronger Magic', 'Good to Go', 'Spike', 'Heliophobia II', 'Music Cafe Jazz', 'Gonna Get Funky', \"It's a Blue World\", \"Can't Sleep\", 'Everything Happens To Me', 'Jazz Coffee Vibes', 'This Simulation Is A Good One', 'You Must Believe In Spring', 'One For', 'Thanks', 'Backyards', 'Dead End', 'It’s Better For You', 'Bustin’ Out', 'Longer Night', 'Amor Arrayano', \"Let's Fall In Love\", 'Nanana', 'Just A Little Bit', 'In The Festival', 'Fleeting Joy', 'Red Leaves', 'Reminiscing', 'The Smell Of Autumn Air', 'Jazz Muy Lento', \"I Don't Know\", 'Back to Black', 'Late Night Walk', 'Jazz Morning Playlist Music', 'Somewhere Sometime', 'The Tide is High', 'London', 'Hurts to Be in Love', 'Instrumental Music Cafe Jams', 'Country & Western', 'Time', 'Si tu vois ma mère', 'Early Morning Jazz', 'Fargo', 'In Here.', 'Colours', 'April In Paris', 'Trigger Happy Police', 'Contour.', 'Well Liked', 'Harvest Moon', 'Stronger Magic', 'Good to Go', 'Spike', 'Heliophobia II', 'Music Cafe Jazz', 'Gonna Get Funky', \"It's a Blue World\", \"Can't Sleep\", 'Everything Happens To Me', 'Jazz Coffee Vibes', 'This Simulation Is A Good One', 'You Must Believe In Spring', 'One For', 'Thanks', 'Backyards', 'Dead End', 'It’s Better For You', 'Bustin’ Out', 'Longer Night', 'Amor Arrayano', \"Let's Fall In Love\", 'Nanana', 'Just A Little Bit', 'In The Festival', 'Fleeting Joy', 'Red Leaves', 'Reminiscing', 'The Smell Of Autumn Air', 'Jazz Muy Lento', \"I Don't Know\", 'Back to Black', 'Late Night Walk', 'Jazz Morning Playlist Music', 'Somewhere Sometime', 'The Tide is High', 'London', 'Hurts to Be in Love', 'Instrumental Music Cafe Jams', 'Country & Western', 'Time', 'Si tu vois ma mère', 'Early Morning Jazz', 'Fargo', 'In Here.', 'Colours', 'April In Paris', 'Trigger Happy Police', 'Contour.', 'Well Liked', 'Harvest Moon', 'Stronger Magic', 'Good to Go', 'Spike', 'Heliophobia II', 'Music Cafe Jazz', 'Gonna Get Funky'], 'artistas': [], 'genero': 'jazz', 'tipo': 'track', 'año de lanzamiento': []}\n"
     ]
    },
    {
     "data": {
      "text/plain": [
       "5"
      ]
     },
     "execution_count": 9,
     "metadata": {},
     "output_type": "execute_result"
    }
   ],
   "source": [
    "#LISTA DE CANCIONES JAZZ 2020\n",
    "dict_tracks_jazz_2020 ={\"canciones\":[], \"artistas\": [], \"genero\":\"jazz\", \"tipo\":\"track\", \"año de lanzamiento\":[]}\n",
    "for offset in range(0,500,50):\n",
    "    canciones_2020 = sp.search(q=\"genre:jazz year:2020\", type=\"track\", limit=50, offset=offset)\n",
    "    for i in range(0,50,1):\n",
    "        dict_tracks_jazz_2020[\"canciones\"].append(canciones_2019[\"tracks\"][\"items\"][i][\"name\"])\n",
    "        \n",
    "\n",
    "print(dict_tracks_jazz_2020)    \n",
    "len(dict_tracks_jazz_2020)"
   ]
  },
  {
   "cell_type": "code",
   "execution_count": 10,
   "metadata": {},
   "outputs": [
    {
     "name": "stdout",
     "output_type": "stream",
     "text": [
      "{'canciones': ['Opendoors', 'Temptations', 'Griztronics', 'En Su Lugar', 'Clouds', 'Elevator Vibes', 'Algo contigo', 'Blue Moon', 'Coco Mango Diced (Boy Scout Mix)', 'Abusey Junction', 'Walk Like a Motherfucker', 'Never Enough', 'Timeline', 'Part II', 'Waltz No.2', 'Blue Spaces', \"I Can't Stop Loving You\", 'Inside Out', 'Miracle', \"I'm a Rock\", 'Calming Instrumental Bossa Nova', 'Coco Mango Diced', 'Black Balloons Reprise', 'Moonshine', 'Stella By Starlight', 'Soulful', 'Beach Jazz Chillout', 'DInner Jazz Classics', 'Romantic Dinner Music', 'Vintage Vibes Cool Jazz Bar Guitar', 'Super Fly Funk', \"Cheatin' Midnight\", 'Ill Wind', 'Jazz Bar Classics Are Coming Home Tonight', 'You Turned The Tables On Me', 'Ti-de', 'Ghost', 'Evening Swing', 'Fall For You', 'Estamos en Salsa', 'Classic Jazz Jams', 'Plume', 'Unknown Jam', 'Every Time We Say Goodbye - Remastered', 'These Are Just Places To Me Now', 'Poor Butterfly', 'VIP Vintage Saxophone Jazz', 'Vintage Jazz Club Guitar Jazz', 'Strawberry Moon', 'Oro que Fluye', 'Linked', 'Marine Life', 'Afternoon Delight', 'Listen to This', 'Exhale', 'Turtle or Tortoise?', 'Cumbia Sobre el Mar - El Búho Remix', 'Cool Caffine for Everyone', 'Stockholm Summer', 'Coffee Jazz Instrumentals', 'Think of You', 'The Touch', 'Brazz Street', 'I’m All Ears', 'The Gulf Stream', 'supadupakulavibe', 'Walking Around Coffee Club', 'Flowers in the Rain', 'Part III', 'Pictorial Filly', 'More', 'Goodbye Song', 'Supersonics', 'Clarinet Jazz Vintage Jazz Club', 'Cafe Jazz', 'Jazz Clásico en Serio', \"Stylin'\", 'Jazz bar Shuffle', 'Seven Eight', 'Swing City', 'Closer', 'A New Day', 'Very Slow Guitar Background', 'About You', 'Black Dynamite', \"That's Life\", 'Música para Beber Vino', 'The Climb', 'It Was You', 'The Touch - Remix', 'Headlines (feat. Westside Gunn, Conway & Benny)', 'Do Friends Fall in Love?', 'Blame it on My Youth', 'I’m Good', 'Continued Dinner', 'Rosewood', 'Make It Happen', 'Endless Summer', 'FF4', 'Coffee Date', 'A Song With No Name', 'Consistent', 'The Wherefore and Therefore', 'Intro', 'Spontaneous', 'She', 'Willow Weep for Me', 'Smoothly Smooth and Slowly Slow', 'Land Of Honey', 'Clearly in Need of a Biscuit', 'Cheek To Cheek', 'I Only Have Eyes For You', 'Light Dance', 'Melancolia', 'Can’t Get Enough', 'Polka Dots and Moonbeams', 'Pitch Dark', 'The Essence', 'Relaxing Coffee Break Jazz', 'Find My Own Way', 'tautte.', 'Skin in the Game', 'April', 'Sunset (2019 Y.Nakamura Remastering)', 'Airborne', 'Long Stroll to Town', 'ひとひら', 'Unsentimental', 'Grown Folks Business', 'Skylark', 'Cloudy', 'Coffee Shop Jazz Club', 'Colours', 'Tropical Waters', 'All The Things You Are', 'Jazz Clásico en Serio 2', 'Instrumental Jazz Cafe Sessions', 'Jazz Just for You', 'Fine Coffee Jazz', 'In the Basement', 'It Gets Better', 'Dinner Time Jazz', 'That Special Moment', 'September in the Rain', 'Waterguns', 'The Girl From Ipanema', 'Wish You Well - Hablot Brown Remix', 'Petal', 'For My Ladies', 'Morning Walk', 'Illusion', 'Trustt', 'FXMLDR', 'Coffee Shop Jazz Vibes', 'High Heels', 'Prelude to Memory of T.', 'Coffee House Vibes', 'Surf Boogie', 'Space is the Place', 'You Go To My Head', \"Don't Know Why\", 'Café cigarette', \"Here's That Rainy Day\", 'hang up', \"After You've Gone\", 'Red Sails in the Sunset', 'Golden Slumbers', 'Emerge', 'Danish Design, Pt..1', 'Checkinthru', 'Bossa Nova Music for Pets', 'Without a Thought for My Heart', 'Plantasy', 'Best Part', 'cielo', 'Forelsket i København', 'As in Jazz', 'The Way We Play', 'Cool Jazz in Brades', 'My One And Only Love', 'Jazzhands', 'Fast Lane Jazz', \"Paris je t'aime\", 'Escalator (Demo Version)', 'Fuck Yo Feelings', 'Tiger Kingdom Space Camp', 'That’s Life', 'Highly Recommended', 'There You Are', 'How My Heart Sings', \"I've Got You Under My Skin\", 'In A Mellow Tone', 'What Am I to Do?', 'Maybe', 'Serving Suggestions', 'Friend Request', \"I Can't Get Started\", 'Nocturnal', 'Mean To Me', 'Searching', \"It's A Man's World - Live\", 'Falling', 'San Francisco (Be Sure to Wear Flowers in Your Hair) (feat. Michael Marshall)', 'Coffee House Jazz jams', 'Taking Flight (feat. Brandee Younger)', 'In Search of Balance', 'Hatchlings', 'Back in Business', 'Someone To Watch Over Me', 'Brass Fiction', 'Atmosfera movimentata da jazz bar', 'Love Is Here To Stay', 'A Better Place', 'Be Thankful (feat. Erykah Badu)', 'And Suddenly There Was Love', \"I Don't Want To Live On The Moon\", 'So Slightly', 'Cycles', 'Planet Stuff', 'Snow Keeps Falling', 'All Night', \"You're Gonna Be Ok\", 'Jazz Lento en Serio', 'The Effects of Climate Change on Densely Populated Areas', 'February - Late Hours', 'Pretty Apollo', 'I Get Along Without You Very Well (Except Sometimes)', 'Loving You', 'A Free Continuation', 'Standards', 'Ages Ago', 'The Lady in Red', 'Atlantic Oscillations', 'Fubu', 'Slide', 'Softly, as in a Morning Sunrise', 'I Like That', 'Coffee and Jazz Piano', 'My One and Only Love', 'busstop', 'Jazz Massive', 'Help Me Study', 'My Favorite Things', 'Cozy Autumn Days', 'LML', 'Party Like Its 1929', 'Sunshine', 'Peach Garden', 'Icarus And Friends', 'Hoxton Hoops', 'Love Is in the Air', 'Down', 'Bianca', 'Madison', 'Jazz Piano Blend', 'Cocktails for Two - Remastered', 'Give Yourself to Love', 'Take it to the Rink', 'Everytime around', \"Marvin's Mood\", 'Farfalla', \"Underground's My Style\", 'Classy Jazz', 'Cold Blooded Jazz Man', 'Leena', '満ちていく体温', 'After Winter Must Come Spring feat. Elbi', 'Chilled Background Jazz', 'Lest We Forget (blood)', \"Ev'rytime We Say Goodbye\", 'Ghosts', 'Peace', 'Who U Think U Are, Pt. 2', 'Bad Kids To The Back', 'Solar', 'Verveine', 'Groovelatino', 'Ocean', 'Come Rain or Come Shine', 'Catcher', 'Before I Leave', 'Falling Leaves', 'Sum', 'Adwa', 'Otesla - Light Eternal - Dead Gorgeous Records', 'Wrinkle', 'March - Little Trumpeter', 'Arcade', \"Dreamin'\", 'Fleeting Joy', 'La Petite Reine', 'Endless Love', 'Woah', 'Aves', 'Jazz on the Island', 'Door', 'Be Thankful for What You Got', \"I Guess I'll Hang My Tears out to Dry\", 'Bogey Wail (Radio Version)', 'Arrow', 'Rubberband of Life (feat. Ledisi)', 'My Heart Is Full', 'Visit', 'Night and Day', 'Alone Together', 'Five Years Ago', 'Breezy Night', 'Next Door Dreaming', 'Just You', 'I Just Wanna Stop', 'Doctor 03', 'Bella Nova', 'Blue Eyed Monster', 'Moonlight Syndrome', 'My Friends and I Pt. 2', 'Spring Blossoms', \"Fly Me to the Moon / You're Nobody till Somebody Loves You / Just a Gigolo / Fly Me to the Moon (Reprise)\", 'Wintertime', 'See Your Breath', 'Sitting by the Fire', \"I Can't Give You Anything But Love\", 'I Could Write A Book', 'Julius Caesar', 'An Apple Orchard', 'Nosotros', 'Blue World', 'Please Chill', 'Stella By Starlight', 'Gift', 'You need to cry', 'My Favorite Season', 'My True Love Is You', 'Coffee House Bebop Jazz Background', 'Daydreaming', 'L-O-V-E - French Version', 'Constellations', 'Evensong', 'Miss Mess', 'Drive', 'Frosty Evening', 'Maybe Some Other Time', 'Lights Ahead', 'In the Wee Small Hours of the Morning', 'Uman', 'Jazz Studying Nights', 'The Creator', 'Moon Dance', 'Like Someone In Love', 'She Closed Her Eyes in Paris', 'These Empty Streets', 'The Neighborhood', 'Morning Jazz Juice', 'Pure Imagination', 'Paranoid Android I', 'Azalea', 'Cafe Instrumental', 'Coffee Cup', 'Circumstance Change', 'sweet times', 'Higher Self', 'Song of Happiness', 'Side by Side - Remastered', 'I Should Care', 'First Season', 'Time Of Change', 'Moon Over Brooklyn', 'Four', 'Swarm', 'Slow Jazz Cafe', 'Morning Sun Cafe', 'Be Encouraged', 'Come Fly With Me', 'The Dog Did It', 'Beyond the Sea of Trees', 'Oh Word', 'The Balance', 'Deeper', 'Gentle rain', 'Light A Lantern', 'How Deep Is The Ocean', 'Alfonsina y el mar', 'Pecan pie', 'Una Rosa Blanca', 'Hoot of Owl', 'Blood Of The Past', 'Limbo', \"I Didn't Know What Time It Was\", 'They Reminisce Over You', 'If', 'Reason in Disguise', \"When You're Smiling\", 'Ill Wind', 'Waltz for Maybe', 'Hoping for Your Love', 'Fast Cat', 'Swinging Today As Was Yesterday', '21st Century Schizoid Man (Radio Edit)', 'Cruise Control', 'picture this', 'All For Me', \"Let's Make Love on This Plane\", 'Spicy', 'In The Twilight', 'All Of You', 'L-O-V-E - Italian Version', '\"A\" Your Adorable', \"Let's Get Weird\", 'Golden Fields', 'Alba', 'Freak The Method', 'Mackerel Sky', 'Yallwhadinthere', 'Evening Star', 'Cry for You', 'Soft Jazz Cafe', 'La part des anges', 'Anyone Anytime', 'Doctor’s Opinion', 'Moonlight', 'Post Requisite', 'Leaf Pile', 'At Last', 'Slow Jazz Background Ballad', \"You're Mine\", 'What Am I to Do?', 'Thoughts & Wishes', 'Chilly Morning', 'The Prayer', 'Crying', 'When the Coffee Runs Dry', 'Son of a Serpent', 'Smoke Gets in Your Eyes', 'Taking It Easy', 'Ice Cream', 'I’m Old Fashioned', 'Amicalement Vôtre', 'Jazz Sleep Cafe', 'Kissed by the Sun', 'All I Do [Feat. SiR, Bridget Kelly, Song Bird]', 'The Happy Man', 'Jazz Instrumental Vibes', 'Day Trip out', 'Drunk', 'Studying Music Vibes', 'Come To Fireside', 'Les Pipos', 'Kenke Corner', 'Just in Time', 'Beautiful Us', 'Baby Bay', \"It's a Blue World\", \"Can't Sleep\", 'Everything Happens To Me', 'Jazz Coffee Vibes', 'This Simulation Is A Good One', 'You Must Believe In Spring', 'One For', 'Thanks', 'Backyards', 'Dead End', 'It’s Better For You', 'Bustin’ Out', 'Longer Night', 'Amor Arrayano', \"Let's Fall In Love\", 'Nanana', 'Just A Little Bit', 'In The Festival', 'Fleeting Joy', 'Red Leaves', 'Reminiscing', 'The Smell Of Autumn Air', 'Jazz Muy Lento', \"I Don't Know\", 'Back to Black', 'Late Night Walk', 'Jazz Morning Playlist Music', 'Somewhere Sometime', 'The Tide is High', 'London', 'Hurts to Be in Love', 'Instrumental Music Cafe Jams', 'Country & Western', 'Time', 'Si tu vois ma mère', 'Early Morning Jazz', 'Fargo', 'In Here.', 'Colours', 'April In Paris', 'Trigger Happy Police', 'Contour.', 'Well Liked', 'Harvest Moon', 'Stronger Magic', 'Good to Go', 'Spike', 'Heliophobia II', 'Music Cafe Jazz', 'Gonna Get Funky'], 'artistas': ['Underground Canopy', 'Kris Bowers', 'Jon Batiste', 'Tom Misch', 'Eddie Condon', 'Erroll Garner', 'Anita Baker', 'Shierro', 'Alabaster DePlume', 'Nina Simone', 'Athletic Progression', 'Brendan Maynard + 2', 'Kris Bowers', 'Ella Fitzgerald', 'Yazmin Lacey', 'Angelina Jordan', 'GRiZ', 'Melody Gardot', 'Tom Misch', 'Kris Bowers', 'Dan Kye', 'Lennie Tristano', 'John Coltrane', 'Alabaster DePlume', 'Ergo Montserrat', 'Kim Waters', 'Ebi Soda', 'Miramare', 'Boney James', 'Kris Bowers', 'Plini', 'Underground Canopy', 'Kris Bowers', 'Oscar Peterson', 'Konteks', 'Carol Albert', 'Vincent Ingala', 'Ill Considered', 'Mangrove Yeltsin', 'Alex Parchment', 'Nick Colionne', 'Otesla', 'Dan Evans-Parker', 'paris91', 'Norah Jones', 'Oscar Peterson Trio', 'The Colours That Rise', 'The Sweetgreens', 'Ragan Whiteside', 'Kris Bowers', 'The Myth of the Turtle', 'Ken Navarro', 'Johnny Hodges', 'Kris Bowers', 'Doris Day', 'Pigeondust', 'Underground Canopy', 'Flatland Park', 'Mangrove Yeltsin', 'Emapea', 'Ergo Montserrat', 'The Myth of the Turtle', 'Oli Silk', 'Robert Glasper', 'Emapea', 'Chris \"Big Dog\" Davis', 'Nick Colionne', 'The Myth of the Turtle', 'Midtown Trio', 'Chris Standring', 'Ergo Montserrat', 'Norman Brown', 'Kris Bowers', 'Bladverk Band', 'Tom Misch', 'Skinny Hightower', 'Phil Denny', 'Kris Bowers', 'Kris Bowers', 'Athletic Progression', 'The Myth of the Turtle', 'Anita Rosswell', 'Holborns', 'Eve St. Jones', 'yeyts.', 'Lin Rountree', 'Norah Jones', 'Gerald Albright', 'Boozoo Bajou', 'Ryan Montano', 'Darren Rahn', 'The Myth of the Turtle', 'Chaos In The CBD', 'Ergo Montserrat', 'Mangrove Yeltsin', 'Serenity State of Mind', 'Pigeondust', 'Deca', 'Godfather Don', 'Brian Simpson', 'The Pharcyde', 'yeyts.', 'Randy Scott', 'Eli Starr Trio', 'Athletic Progression', 'Carl Bagge Trio', 'Adam Hawley', 'Kris Bowers', 'Michael J Thomas', 'Red Brick Lane', 'yeyts.', 'Kuipers & Winter', 'Dea Sancta', 'Fulton Street Players', 'Freddie Fox', 'Brian Simpson', 'Kamasi Washington', 'Sparrow & Bird', 'Ennio Máno', 'Diana Krall', 'yeyts.', 'Dee Lucas', 'Tony DeSare', 'Jeff Laine & Co', 'Tony Saunders', 'Hudson Harris & Haim', 'Vintage Emporium', 'Oilix', 'Holborns', 'KTZ Players', 'Tom Misch', 'CrazyJaZz', 'Kuipers & Winter', 'Mangrove Yeltsin', 'Immanuel Wilkins', 'The Myth of the Turtle', 'Yoni Mayraz', 'Ergo Montserrat', 'Yazmin Lacey', 'Norah Jones', 'The Smooth Jazz Alley', 'Hara Noda', 'Mandevilla', 'Dea Sancta', 'Boney James', 'GRiZ', 'Melody Gardot', 'Bibi Tanga & The Selenites', 'Asako Toki', 'Tom Misch', 'Athletic Progression', 'Michael Wollny', 'Alabaster DePlume', 'The Sweetgreens', 'The Myth of the Turtle', 'TIA RAY', 'Zander Jazz Trio', 'Hudson Harris & Haim', 'Gathering in Jazz', 'Thelonious Coltrane', 'Louis Silva Band', 'Burt Mitchell', 'gum.mp3', 'Simply Coffeehouse', 'Plini', 'CMC 3', 'Skinny Hightower', 'Plini', 'Tom Misch', 'Melody Gardot', 'Magpie Jazz Trio', 'Greg Manning', 'Ibrahim Maalouf', 'Red Brick Lane', 'Tom Misch', 'Art Blakey & The Jazz Messengers', 'GRiZ', 'Athletic Progression', 'Jørgen Emborg', 'Deca', 'Anja Lechner', 'GRiZ', 'Cafe Music BGM channel', 'The Myth of the Turtle', 'Athletic Progression', 'Arne Torvik Trio', 'Kokoroko', 'Dirty Loops', 'Stiff Cat Steve', 'Lauren Richardson', 'yeyts.', 'The Myth of the Turtle', 'Hudson Harris & Haim', 'Jonah Jones', 'Martha Tilton', 'Sweet Nothings Band', 'Underground Canopy', 'Wildcookie', 'KTZ Players', 'Shakatak', 'Reese Quartet', 'Massimo Faraò', 'Chinese Man', 'Walter Smith III', 'Carsten Dahl', 'Coffeehouse BGM Station', 'Mary Lattimore', 'Holborns', 'BADBADNOTGOOD', 'Tom Misch', 'Parov Stelar', 'CMC 3', 'Azymuth', 'Oilix', 'Trois Amis', \"Barry Can't Swim\", 'Peggy Lee', 'Anja Lechner', 'Espen Eriksen Trio', 'Jeremy Pelt', 'Magpie Jazz Trio', 'Silvana Estrada', 'Cory Henry', 'Konteks', 'Jack Gardiner', 'John Coltrane', 'GRiZ', 'Athletic Progression', 'Pigeondust', 'Art Blakey & The Jazz Messengers', 'Shierro', 'Dan Kye', 'Greydon Park Band', 'Fulton Street Players', 'Ituana', 'Greg Spero', '110th Street Jazz Trio', 'Edward Simon', 'Tom Misch', 'Dave Brubeck', 'Tom Misch', 'Anja Lechner', 'iwamizu', 'Ambrose Akinmusire', 'Bonobo', 'Flatland Park', 'Massimo Faraò', 'Lydia Baskow Trio', 'Konteks', 'Spaze Windu', 'Jitwam', 'Gregory Porter', 'Melody Gardot', 'Jon Batiste', 'Konteks', 'GRiZ', 'Boney James', 'Folamour', 'Alabaster DePlume', 'Chad Lefkowitz-Brown', 'Michel Portal', 'Dee Brown', 'Ron Miles', 'Stiff Cat Steve', 'Rufio Patio', 'Michael Bublé', 'Massimo Faraò', 'Oilix', 'Dea Sancta', 'Long Island Quartet', 'Alfa Mist', 'Oscar Peterson', 'Robert Glasper', 'KTZ Players', 'CrazyJaZz', 'Groove Da Praia', 'Gillian Spencer Trio', 'Red Rose Jazz Trio', 'igory', 'Underground Canopy', 'Jon Batiste', 'Tom Misch', 'Jon Batiste', 'Boney James', 'Svaneborg Kardyb', 'BimBomBam Orchestra', 'Underground Canopy', 'Vernon Sanders', 'Butcher Brown', 'Enrico Pieranunzi', 'Trois Amis', 'Baptiste Herbin', 'Jack Gardiner', 'Dea Sancta', 'Oli Silk', 'Dan Evans-Parker', 'Four80East', 'Navy Blue', 'Diana Krall', 'Siimbiie Lakew', 'Juraj Stanik Trio', 'Måns & Dotter', 'Jamie Lancaster', 'SamuW', 'Self-Isolation Coffeehouse', 'Astoria Three', 'Deca', 'Katashi Kaitō', 'Nenei', 'RINZ.', 'Ellen Andrea Wang', 'Tour-Maubourg', 'Plini', 'GRiZ', 'Night and Day Trio', 'Colin Stetson', 'Moonspatz', 'Juraj Stanik Trio', 'Mary Lattimore', 'Caravan Palace', 'Ituana', 'Angelina Jordan', 'Felipe Gordon', 'ichikoro', 'Ennio Máno', 'South West Cafe Trio', 'Living Room', 'Jack Gardiner', 'Jazz Holdouts', 'GRiZ', 'Mangrove Yeltsin', 'Athletic Progression', 'Turning Trio', 'Waxamilion', 'Plini', 'RINZ.', 'Gregory Porter', 'Potatohead People', 'Greydon Park Band', 'Dave Brubeck', 'Plini', 'Diana Krall', 'Boozoo Bajou', 'Ben & Katsy', 'Snazzback', 'PYJÆN', 'Mandevilla', 'Jamie Lancaster', 'KTZ Players', 'The Jazz Cultivators', 'Bladverk Band', 'Soul Wun', 'Tony DeSare', 'GRiZ', 'Stefania Tallini', 'Ardhito Pramono', 'Mansur Brown', 'Kaspa.', 'Mvdk', 'Dave \"Baby\" Cortez', 'Chaos In The CBD', 'Athletic Progression', 'Sparrow & Bird', 'Greydon Park Band', 'Plini', 'Massimo Faraò', 'Olepash', 'Cafe Music BGM channel', 'Jon Batiste', 'Siimbiie Lakew', 'Gathering in Jazz', 'Waxamilion', 'Charlie Wilder Band', 'FloFilz', 'Oscar Peterson Trio', 'GRiZ', 'Marcos Caixa', 'Deca', 'We Three Trio', 'GRiZ', 'The Molsbees', 'Kamaal Williams', 'Stephane Wrembel', 'Tom Stills Quartet', \"Scott Bradlee's Postmodern Jukebox\", 'Emma-Jean Thackray', 'The Andy Love Band', 'GRiZ', 'Potatohead People', 'Quantic', 'Sam Butera', 'Shalosh', 'UWS Jazz Trio', 'Burt Mitchell', 'Shierro', 'GRiZ', 'Waxamilion', 'Red Rose Jazz Trio', 'Simply Coffeehouse', 'Melody Gardot', 'Melody Gardot', 'n o r m a l', 'Yussef Dayes', 'Tom Misch', 'Melody Gardot', 'Brian Culbertson', 'Melody Gardot', 'Gregory Porter', 'GRiZ', 'Johnny Smith', 'Krister & Dalbani', 'Jeff Beck', 'Louis Silva Band', 'Shierro', 'Caravan Palace', 'Kista', 'Dea Sancta', 'Henning Witsell', 'Back Room Jazz Trio', 'Dirty Loops', 'TIA RAY', 'Robert Glasper', 'Chattanooga Trio', 'Bobby Dreamz BIG', 'Red Stairs Jazz Quartet', 'Green Trio', 'Jazz Holdouts', 'Felix Martin', 'Plini', 'Olepash', 'gum.mp3', 'Clap Cotton', 'Jon Batiste', 'Tommy Emmanuel', 'FRANZ', 'Hailey Tuck', 'Boney James', 'Otis Redding', 'Zander Jazz Trio', 'The Sorcerers', 'BADBADNOTGOOD', 'Robert Glasper', 'Robert Glasper', 'Joan Chamorro', 'Michael Stylez & Co', 'Dorian Concept', 'Olepash', 'Light Hands Trio', 'Robert Elovsson Quartet', 'Tom Misch', 'Sam Cooke', 'Nina Simone', 'Daniel Ögren', 'DJ Ryow a.k.a. Smooth Current', 'Yazmin Lacey', 'Michel Portal', 'Hailey Tuck', 'Hailu Mergia', 'Ella Fitzgerald', 'Kat Edmonson', 'PENPALS', 'Aphrow', 'Tom Bates', 'Vincent Ingala', 'Barney Kessel', 'Joonie', 'GRiZ', 'toconoma', 'Brian Simpson', 'Anthony Lazaro', 'Jerry McHoy', 'Diana Krall', 'Bonobo', 'Taylor McFerrin', 'We Three Trio', 'Måns & Dotter', 'Till Brönner', 'Svaneborg Kardyb', 'Shierro', 'Tate Jackson Trio', 'Dan Evans-Parker', 'Athletic Progression', 'Wildflower Trio', 'Robert Glasper', 'Laurindo Almeida', 'Retromigration', 'Shierro', \"Kahil El'Zabar\", 'Remulak', 'Mangrove Yeltsin', 'gum.mp3', 'Matt Dusk', 'Sylvia Telles', 'Potatohead People', 'Aretha Franklin', 'fox capture plan', 'Jazzystics', 'Huw Marc Bennett', 'Daniel Ögren', 'Thomas Fonnesbæk'], 'genero': 'jazz', 'tipo': 'track', 'año de lanzamiento': []}\n"
     ]
    },
    {
     "data": {
      "text/plain": [
       "5"
      ]
     },
     "execution_count": 10,
     "metadata": {},
     "output_type": "execute_result"
    }
   ],
   "source": [
    "#ARTISTAS DE CANCIONES JAZZ 2019\n",
    "\n",
    "for offset in range(0, 500, 50):\n",
    "    canciones = sp.search(q='genre:\"jazz\" year:2020', type='track', limit=50, offset=offset)\n",
    "    for track in canciones['tracks']['items']:\n",
    "        dict_tracks_jazz_2019[\"artistas\"].append(track[\"artists\"][0]['name'])\n",
    "print(dict_tracks_jazz_2019)\n",
    "len(dict_tracks_jazz_2019)"
   ]
  },
  {
   "cell_type": "code",
   "execution_count": 11,
   "metadata": {},
   "outputs": [
    {
     "name": "stdout",
     "output_type": "stream",
     "text": [
      "{'canciones': [\"It's a Blue World\", \"Can't Sleep\", 'Everything Happens To Me', 'Jazz Coffee Vibes', 'This Simulation Is A Good One', 'You Must Believe In Spring', 'One For', 'Thanks', 'Backyards', 'Dead End', 'It’s Better For You', 'Bustin’ Out', 'Longer Night', 'Amor Arrayano', \"Let's Fall In Love\", 'Nanana', 'Just A Little Bit', 'In The Festival', 'Fleeting Joy', 'Red Leaves', 'Reminiscing', 'The Smell Of Autumn Air', 'Jazz Muy Lento', \"I Don't Know\", 'Back to Black', 'Late Night Walk', 'Jazz Morning Playlist Music', 'Somewhere Sometime', 'The Tide is High', 'London', 'Hurts to Be in Love', 'Instrumental Music Cafe Jams', 'Country & Western', 'Time', 'Si tu vois ma mère', 'Early Morning Jazz', 'Fargo', 'In Here.', 'Colours', 'April In Paris', 'Trigger Happy Police', 'Contour.', 'Well Liked', 'Harvest Moon', 'Stronger Magic', 'Good to Go', 'Spike', 'Heliophobia II', 'Music Cafe Jazz', 'Gonna Get Funky', \"It's a Blue World\", \"Can't Sleep\", 'Everything Happens To Me', 'Jazz Coffee Vibes', 'This Simulation Is A Good One', 'You Must Believe In Spring', 'One For', 'Thanks', 'Backyards', 'Dead End', 'It’s Better For You', 'Bustin’ Out', 'Longer Night', 'Amor Arrayano', \"Let's Fall In Love\", 'Nanana', 'Just A Little Bit', 'In The Festival', 'Fleeting Joy', 'Red Leaves', 'Reminiscing', 'The Smell Of Autumn Air', 'Jazz Muy Lento', \"I Don't Know\", 'Back to Black', 'Late Night Walk', 'Jazz Morning Playlist Music', 'Somewhere Sometime', 'The Tide is High', 'London', 'Hurts to Be in Love', 'Instrumental Music Cafe Jams', 'Country & Western', 'Time', 'Si tu vois ma mère', 'Early Morning Jazz', 'Fargo', 'In Here.', 'Colours', 'April In Paris', 'Trigger Happy Police', 'Contour.', 'Well Liked', 'Harvest Moon', 'Stronger Magic', 'Good to Go', 'Spike', 'Heliophobia II', 'Music Cafe Jazz', 'Gonna Get Funky', \"It's a Blue World\", \"Can't Sleep\", 'Everything Happens To Me', 'Jazz Coffee Vibes', 'This Simulation Is A Good One', 'You Must Believe In Spring', 'One For', 'Thanks', 'Backyards', 'Dead End', 'It’s Better For You', 'Bustin’ Out', 'Longer Night', 'Amor Arrayano', \"Let's Fall In Love\", 'Nanana', 'Just A Little Bit', 'In The Festival', 'Fleeting Joy', 'Red Leaves', 'Reminiscing', 'The Smell Of Autumn Air', 'Jazz Muy Lento', \"I Don't Know\", 'Back to Black', 'Late Night Walk', 'Jazz Morning Playlist Music', 'Somewhere Sometime', 'The Tide is High', 'London', 'Hurts to Be in Love', 'Instrumental Music Cafe Jams', 'Country & Western', 'Time', 'Si tu vois ma mère', 'Early Morning Jazz', 'Fargo', 'In Here.', 'Colours', 'April In Paris', 'Trigger Happy Police', 'Contour.', 'Well Liked', 'Harvest Moon', 'Stronger Magic', 'Good to Go', 'Spike', 'Heliophobia II', 'Music Cafe Jazz', 'Gonna Get Funky', \"It's a Blue World\", \"Can't Sleep\", 'Everything Happens To Me', 'Jazz Coffee Vibes', 'This Simulation Is A Good One', 'You Must Believe In Spring', 'One For', 'Thanks', 'Backyards', 'Dead End', 'It’s Better For You', 'Bustin’ Out', 'Longer Night', 'Amor Arrayano', \"Let's Fall In Love\", 'Nanana', 'Just A Little Bit', 'In The Festival', 'Fleeting Joy', 'Red Leaves', 'Reminiscing', 'The Smell Of Autumn Air', 'Jazz Muy Lento', \"I Don't Know\", 'Back to Black', 'Late Night Walk', 'Jazz Morning Playlist Music', 'Somewhere Sometime', 'The Tide is High', 'London', 'Hurts to Be in Love', 'Instrumental Music Cafe Jams', 'Country & Western', 'Time', 'Si tu vois ma mère', 'Early Morning Jazz', 'Fargo', 'In Here.', 'Colours', 'April In Paris', 'Trigger Happy Police', 'Contour.', 'Well Liked', 'Harvest Moon', 'Stronger Magic', 'Good to Go', 'Spike', 'Heliophobia II', 'Music Cafe Jazz', 'Gonna Get Funky', \"It's a Blue World\", \"Can't Sleep\", 'Everything Happens To Me', 'Jazz Coffee Vibes', 'This Simulation Is A Good One', 'You Must Believe In Spring', 'One For', 'Thanks', 'Backyards', 'Dead End', 'It’s Better For You', 'Bustin’ Out', 'Longer Night', 'Amor Arrayano', \"Let's Fall In Love\", 'Nanana', 'Just A Little Bit', 'In The Festival', 'Fleeting Joy', 'Red Leaves', 'Reminiscing', 'The Smell Of Autumn Air', 'Jazz Muy Lento', \"I Don't Know\", 'Back to Black', 'Late Night Walk', 'Jazz Morning Playlist Music', 'Somewhere Sometime', 'The Tide is High', 'London', 'Hurts to Be in Love', 'Instrumental Music Cafe Jams', 'Country & Western', 'Time', 'Si tu vois ma mère', 'Early Morning Jazz', 'Fargo', 'In Here.', 'Colours', 'April In Paris', 'Trigger Happy Police', 'Contour.', 'Well Liked', 'Harvest Moon', 'Stronger Magic', 'Good to Go', 'Spike', 'Heliophobia II', 'Music Cafe Jazz', 'Gonna Get Funky', \"It's a Blue World\", \"Can't Sleep\", 'Everything Happens To Me', 'Jazz Coffee Vibes', 'This Simulation Is A Good One', 'You Must Believe In Spring', 'One For', 'Thanks', 'Backyards', 'Dead End', 'It’s Better For You', 'Bustin’ Out', 'Longer Night', 'Amor Arrayano', \"Let's Fall In Love\", 'Nanana', 'Just A Little Bit', 'In The Festival', 'Fleeting Joy', 'Red Leaves', 'Reminiscing', 'The Smell Of Autumn Air', 'Jazz Muy Lento', \"I Don't Know\", 'Back to Black', 'Late Night Walk', 'Jazz Morning Playlist Music', 'Somewhere Sometime', 'The Tide is High', 'London', 'Hurts to Be in Love', 'Instrumental Music Cafe Jams', 'Country & Western', 'Time', 'Si tu vois ma mère', 'Early Morning Jazz', 'Fargo', 'In Here.', 'Colours', 'April In Paris', 'Trigger Happy Police', 'Contour.', 'Well Liked', 'Harvest Moon', 'Stronger Magic', 'Good to Go', 'Spike', 'Heliophobia II', 'Music Cafe Jazz', 'Gonna Get Funky', \"It's a Blue World\", \"Can't Sleep\", 'Everything Happens To Me', 'Jazz Coffee Vibes', 'This Simulation Is A Good One', 'You Must Believe In Spring', 'One For', 'Thanks', 'Backyards', 'Dead End', 'It’s Better For You', 'Bustin’ Out', 'Longer Night', 'Amor Arrayano', \"Let's Fall In Love\", 'Nanana', 'Just A Little Bit', 'In The Festival', 'Fleeting Joy', 'Red Leaves', 'Reminiscing', 'The Smell Of Autumn Air', 'Jazz Muy Lento', \"I Don't Know\", 'Back to Black', 'Late Night Walk', 'Jazz Morning Playlist Music', 'Somewhere Sometime', 'The Tide is High', 'London', 'Hurts to Be in Love', 'Instrumental Music Cafe Jams', 'Country & Western', 'Time', 'Si tu vois ma mère', 'Early Morning Jazz', 'Fargo', 'In Here.', 'Colours', 'April In Paris', 'Trigger Happy Police', 'Contour.', 'Well Liked', 'Harvest Moon', 'Stronger Magic', 'Good to Go', 'Spike', 'Heliophobia II', 'Music Cafe Jazz', 'Gonna Get Funky', \"It's a Blue World\", \"Can't Sleep\", 'Everything Happens To Me', 'Jazz Coffee Vibes', 'This Simulation Is A Good One', 'You Must Believe In Spring', 'One For', 'Thanks', 'Backyards', 'Dead End', 'It’s Better For You', 'Bustin’ Out', 'Longer Night', 'Amor Arrayano', \"Let's Fall In Love\", 'Nanana', 'Just A Little Bit', 'In The Festival', 'Fleeting Joy', 'Red Leaves', 'Reminiscing', 'The Smell Of Autumn Air', 'Jazz Muy Lento', \"I Don't Know\", 'Back to Black', 'Late Night Walk', 'Jazz Morning Playlist Music', 'Somewhere Sometime', 'The Tide is High', 'London', 'Hurts to Be in Love', 'Instrumental Music Cafe Jams', 'Country & Western', 'Time', 'Si tu vois ma mère', 'Early Morning Jazz', 'Fargo', 'In Here.', 'Colours', 'April In Paris', 'Trigger Happy Police', 'Contour.', 'Well Liked', 'Harvest Moon', 'Stronger Magic', 'Good to Go', 'Spike', 'Heliophobia II', 'Music Cafe Jazz', 'Gonna Get Funky', \"It's a Blue World\", \"Can't Sleep\", 'Everything Happens To Me', 'Jazz Coffee Vibes', 'This Simulation Is A Good One', 'You Must Believe In Spring', 'One For', 'Thanks', 'Backyards', 'Dead End', 'It’s Better For You', 'Bustin’ Out', 'Longer Night', 'Amor Arrayano', \"Let's Fall In Love\", 'Nanana', 'Just A Little Bit', 'In The Festival', 'Fleeting Joy', 'Red Leaves', 'Reminiscing', 'The Smell Of Autumn Air', 'Jazz Muy Lento', \"I Don't Know\", 'Back to Black', 'Late Night Walk', 'Jazz Morning Playlist Music', 'Somewhere Sometime', 'The Tide is High', 'London', 'Hurts to Be in Love', 'Instrumental Music Cafe Jams', 'Country & Western', 'Time', 'Si tu vois ma mère', 'Early Morning Jazz', 'Fargo', 'In Here.', 'Colours', 'April In Paris', 'Trigger Happy Police', 'Contour.', 'Well Liked', 'Harvest Moon', 'Stronger Magic', 'Good to Go', 'Spike', 'Heliophobia II', 'Music Cafe Jazz', 'Gonna Get Funky', \"It's a Blue World\", \"Can't Sleep\", 'Everything Happens To Me', 'Jazz Coffee Vibes', 'This Simulation Is A Good One', 'You Must Believe In Spring', 'One For', 'Thanks', 'Backyards', 'Dead End', 'It’s Better For You', 'Bustin’ Out', 'Longer Night', 'Amor Arrayano', \"Let's Fall In Love\", 'Nanana', 'Just A Little Bit', 'In The Festival', 'Fleeting Joy', 'Red Leaves', 'Reminiscing', 'The Smell Of Autumn Air', 'Jazz Muy Lento', \"I Don't Know\", 'Back to Black', 'Late Night Walk', 'Jazz Morning Playlist Music', 'Somewhere Sometime', 'The Tide is High', 'London', 'Hurts to Be in Love', 'Instrumental Music Cafe Jams', 'Country & Western', 'Time', 'Si tu vois ma mère', 'Early Morning Jazz', 'Fargo', 'In Here.', 'Colours', 'April In Paris', 'Trigger Happy Police', 'Contour.', 'Well Liked', 'Harvest Moon', 'Stronger Magic', 'Good to Go', 'Spike', 'Heliophobia II', 'Music Cafe Jazz', 'Gonna Get Funky'], 'artistas': ['Underground Canopy', 'Kris Bowers', 'Jon Batiste', 'Tom Misch', 'Eddie Condon', 'Erroll Garner', 'Anita Baker', 'Shierro', 'Alabaster DePlume', 'Nina Simone', 'Athletic Progression', 'Brendan Maynard + 2', 'Kris Bowers', 'Ella Fitzgerald', 'Yazmin Lacey', 'Angelina Jordan', 'GRiZ', 'Melody Gardot', 'Tom Misch', 'Kris Bowers', 'Dan Kye', 'Lennie Tristano', 'John Coltrane', 'Alabaster DePlume', 'Ergo Montserrat', 'Kim Waters', 'Ebi Soda', 'Miramare', 'Boney James', 'Kris Bowers', 'Plini', 'Underground Canopy', 'Kris Bowers', 'Oscar Peterson', 'Konteks', 'Carol Albert', 'Vincent Ingala', 'Ill Considered', 'Mangrove Yeltsin', 'Alex Parchment', 'Nick Colionne', 'Otesla', 'Dan Evans-Parker', 'paris91', 'Norah Jones', 'Oscar Peterson Trio', 'The Colours That Rise', 'The Sweetgreens', 'Ragan Whiteside', 'Kris Bowers', 'The Myth of the Turtle', 'Ken Navarro', 'Johnny Hodges', 'Kris Bowers', 'Doris Day', 'Pigeondust', 'Underground Canopy', 'Flatland Park', 'Mangrove Yeltsin', 'Emapea', 'Ergo Montserrat', 'The Myth of the Turtle', 'Oli Silk', 'Robert Glasper', 'Emapea', 'Chris \"Big Dog\" Davis', 'Nick Colionne', 'The Myth of the Turtle', 'Midtown Trio', 'Chris Standring', 'Ergo Montserrat', 'Norman Brown', 'Kris Bowers', 'Bladverk Band', 'Tom Misch', 'Skinny Hightower', 'Phil Denny', 'Kris Bowers', 'Kris Bowers', 'Athletic Progression', 'The Myth of the Turtle', 'Anita Rosswell', 'Holborns', 'Eve St. Jones', 'yeyts.', 'Lin Rountree', 'Norah Jones', 'Gerald Albright', 'Boozoo Bajou', 'Ryan Montano', 'Darren Rahn', 'The Myth of the Turtle', 'Chaos In The CBD', 'Ergo Montserrat', 'Mangrove Yeltsin', 'Serenity State of Mind', 'Pigeondust', 'Deca', 'Godfather Don', 'Brian Simpson', 'The Pharcyde', 'yeyts.', 'Randy Scott', 'Eli Starr Trio', 'Athletic Progression', 'Carl Bagge Trio', 'Adam Hawley', 'Kris Bowers', 'Michael J Thomas', 'Red Brick Lane', 'yeyts.', 'Kuipers & Winter', 'Dea Sancta', 'Fulton Street Players', 'Freddie Fox', 'Brian Simpson', 'Kamasi Washington', 'Sparrow & Bird', 'Ennio Máno', 'Diana Krall', 'yeyts.', 'Dee Lucas', 'Tony DeSare', 'Jeff Laine & Co', 'Tony Saunders', 'Hudson Harris & Haim', 'Vintage Emporium', 'Oilix', 'Holborns', 'KTZ Players', 'Tom Misch', 'CrazyJaZz', 'Kuipers & Winter', 'Mangrove Yeltsin', 'Immanuel Wilkins', 'The Myth of the Turtle', 'Yoni Mayraz', 'Ergo Montserrat', 'Yazmin Lacey', 'Norah Jones', 'The Smooth Jazz Alley', 'Hara Noda', 'Mandevilla', 'Dea Sancta', 'Boney James', 'GRiZ', 'Melody Gardot', 'Bibi Tanga & The Selenites', 'Asako Toki', 'Tom Misch', 'Athletic Progression', 'Michael Wollny', 'Alabaster DePlume', 'The Sweetgreens', 'The Myth of the Turtle', 'TIA RAY', 'Zander Jazz Trio', 'Hudson Harris & Haim', 'Gathering in Jazz', 'Thelonious Coltrane', 'Louis Silva Band', 'Burt Mitchell', 'gum.mp3', 'Simply Coffeehouse', 'Plini', 'CMC 3', 'Skinny Hightower', 'Plini', 'Tom Misch', 'Melody Gardot', 'Magpie Jazz Trio', 'Greg Manning', 'Ibrahim Maalouf', 'Red Brick Lane', 'Tom Misch', 'Art Blakey & The Jazz Messengers', 'GRiZ', 'Athletic Progression', 'Jørgen Emborg', 'Deca', 'Anja Lechner', 'GRiZ', 'Cafe Music BGM channel', 'The Myth of the Turtle', 'Athletic Progression', 'Arne Torvik Trio', 'Kokoroko', 'Dirty Loops', 'Stiff Cat Steve', 'Lauren Richardson', 'yeyts.', 'The Myth of the Turtle', 'Hudson Harris & Haim', 'Jonah Jones', 'Martha Tilton', 'Sweet Nothings Band', 'Underground Canopy', 'Wildcookie', 'KTZ Players', 'Shakatak', 'Reese Quartet', 'Massimo Faraò', 'Chinese Man', 'Walter Smith III', 'Carsten Dahl', 'Coffeehouse BGM Station', 'Mary Lattimore', 'Holborns', 'BADBADNOTGOOD', 'Tom Misch', 'Parov Stelar', 'CMC 3', 'Azymuth', 'Oilix', 'Trois Amis', \"Barry Can't Swim\", 'Peggy Lee', 'Anja Lechner', 'Espen Eriksen Trio', 'Jeremy Pelt', 'Magpie Jazz Trio', 'Silvana Estrada', 'Cory Henry', 'Konteks', 'Jack Gardiner', 'John Coltrane', 'GRiZ', 'Athletic Progression', 'Pigeondust', 'Art Blakey & The Jazz Messengers', 'Shierro', 'Dan Kye', 'Greydon Park Band', 'Fulton Street Players', 'Ituana', 'Greg Spero', '110th Street Jazz Trio', 'Edward Simon', 'Tom Misch', 'Dave Brubeck', 'Tom Misch', 'Anja Lechner', 'iwamizu', 'Ambrose Akinmusire', 'Bonobo', 'Flatland Park', 'Massimo Faraò', 'Lydia Baskow Trio', 'Konteks', 'Spaze Windu', 'Jitwam', 'Gregory Porter', 'Melody Gardot', 'Jon Batiste', 'Konteks', 'GRiZ', 'Boney James', 'Folamour', 'Alabaster DePlume', 'Chad Lefkowitz-Brown', 'Michel Portal', 'Dee Brown', 'Ron Miles', 'Stiff Cat Steve', 'Rufio Patio', 'Michael Bublé', 'Massimo Faraò', 'Oilix', 'Dea Sancta', 'Long Island Quartet', 'Alfa Mist', 'Oscar Peterson', 'Robert Glasper', 'KTZ Players', 'CrazyJaZz', 'Groove Da Praia', 'Gillian Spencer Trio', 'Red Rose Jazz Trio', 'igory', 'Underground Canopy', 'Jon Batiste', 'Tom Misch', 'Jon Batiste', 'Boney James', 'Svaneborg Kardyb', 'BimBomBam Orchestra', 'Underground Canopy', 'Vernon Sanders', 'Butcher Brown', 'Enrico Pieranunzi', 'Trois Amis', 'Baptiste Herbin', 'Jack Gardiner', 'Dea Sancta', 'Oli Silk', 'Dan Evans-Parker', 'Four80East', 'Navy Blue', 'Diana Krall', 'Siimbiie Lakew', 'Juraj Stanik Trio', 'Måns & Dotter', 'Jamie Lancaster', 'SamuW', 'Self-Isolation Coffeehouse', 'Astoria Three', 'Deca', 'Katashi Kaitō', 'Nenei', 'RINZ.', 'Ellen Andrea Wang', 'Tour-Maubourg', 'Plini', 'GRiZ', 'Night and Day Trio', 'Colin Stetson', 'Moonspatz', 'Juraj Stanik Trio', 'Mary Lattimore', 'Caravan Palace', 'Ituana', 'Angelina Jordan', 'Felipe Gordon', 'ichikoro', 'Ennio Máno', 'South West Cafe Trio', 'Living Room', 'Jack Gardiner', 'Jazz Holdouts', 'GRiZ', 'Mangrove Yeltsin', 'Athletic Progression', 'Turning Trio', 'Waxamilion', 'Plini', 'RINZ.', 'Gregory Porter', 'Potatohead People', 'Greydon Park Band', 'Dave Brubeck', 'Plini', 'Diana Krall', 'Boozoo Bajou', 'Ben & Katsy', 'Snazzback', 'PYJÆN', 'Mandevilla', 'Jamie Lancaster', 'KTZ Players', 'The Jazz Cultivators', 'Bladverk Band', 'Soul Wun', 'Tony DeSare', 'GRiZ', 'Stefania Tallini', 'Ardhito Pramono', 'Mansur Brown', 'Kaspa.', 'Mvdk', 'Dave \"Baby\" Cortez', 'Chaos In The CBD', 'Athletic Progression', 'Sparrow & Bird', 'Greydon Park Band', 'Plini', 'Massimo Faraò', 'Olepash', 'Cafe Music BGM channel', 'Jon Batiste', 'Siimbiie Lakew', 'Gathering in Jazz', 'Waxamilion', 'Charlie Wilder Band', 'FloFilz', 'Oscar Peterson Trio', 'GRiZ', 'Marcos Caixa', 'Deca', 'We Three Trio', 'GRiZ', 'The Molsbees', 'Kamaal Williams', 'Stephane Wrembel', 'Tom Stills Quartet', \"Scott Bradlee's Postmodern Jukebox\", 'Emma-Jean Thackray', 'The Andy Love Band', 'GRiZ', 'Potatohead People', 'Quantic', 'Sam Butera', 'Shalosh', 'UWS Jazz Trio', 'Burt Mitchell', 'Shierro', 'GRiZ', 'Waxamilion', 'Red Rose Jazz Trio', 'Simply Coffeehouse', 'Melody Gardot', 'Melody Gardot', 'n o r m a l', 'Yussef Dayes', 'Tom Misch', 'Melody Gardot', 'Brian Culbertson', 'Melody Gardot', 'Gregory Porter', 'GRiZ', 'Johnny Smith', 'Krister & Dalbani', 'Jeff Beck', 'Louis Silva Band', 'Shierro', 'Caravan Palace', 'Kista', 'Dea Sancta', 'Henning Witsell', 'Back Room Jazz Trio', 'Dirty Loops', 'TIA RAY', 'Robert Glasper', 'Chattanooga Trio', 'Bobby Dreamz BIG', 'Red Stairs Jazz Quartet', 'Green Trio', 'Jazz Holdouts', 'Felix Martin', 'Plini', 'Olepash', 'gum.mp3', 'Clap Cotton', 'Jon Batiste', 'Tommy Emmanuel', 'FRANZ', 'Hailey Tuck', 'Boney James', 'Otis Redding', 'Zander Jazz Trio', 'The Sorcerers', 'BADBADNOTGOOD', 'Robert Glasper', 'Robert Glasper', 'Joan Chamorro', 'Michael Stylez & Co', 'Dorian Concept', 'Olepash', 'Light Hands Trio', 'Robert Elovsson Quartet', 'Tom Misch', 'Sam Cooke', 'Nina Simone', 'Daniel Ögren', 'DJ Ryow a.k.a. Smooth Current', 'Yazmin Lacey', 'Michel Portal', 'Hailey Tuck', 'Hailu Mergia', 'Ella Fitzgerald', 'Kat Edmonson', 'PENPALS', 'Aphrow', 'Tom Bates', 'Vincent Ingala', 'Barney Kessel', 'Joonie', 'GRiZ', 'toconoma', 'Brian Simpson', 'Anthony Lazaro', 'Jerry McHoy', 'Diana Krall', 'Bonobo', 'Taylor McFerrin', 'We Three Trio', 'Måns & Dotter', 'Till Brönner', 'Svaneborg Kardyb', 'Shierro', 'Tate Jackson Trio', 'Dan Evans-Parker', 'Athletic Progression', 'Wildflower Trio', 'Robert Glasper', 'Laurindo Almeida', 'Retromigration', 'Shierro', \"Kahil El'Zabar\", 'Remulak', 'Mangrove Yeltsin', 'gum.mp3', 'Matt Dusk', 'Sylvia Telles', 'Potatohead People', 'Aretha Franklin', 'fox capture plan', 'Jazzystics', 'Huw Marc Bennett', 'Daniel Ögren', 'Thomas Fonnesbæk'], 'genero': 'jazz', 'tipo': 'track', 'año de lanzamiento': []}\n"
     ]
    },
    {
     "data": {
      "text/plain": [
       "5"
      ]
     },
     "execution_count": 11,
     "metadata": {},
     "output_type": "execute_result"
    }
   ],
   "source": [
    "#ARTISTAS DE CANCIONES JAZZ 2020\n",
    "for offset in range(0, 500, 50):\n",
    "    canciones = sp.search(q='genre:\"jazz\" year:2020', type='track', limit=50, offset=offset)\n",
    "    for track in canciones['tracks']['items']:\n",
    "        #for artista in track['artists']:\n",
    "        dict_tracks_jazz_2020[\"artistas\"].append(track[\"artists\"][0]['name'])\n",
    "print(dict_tracks_jazz_2020)\n",
    "len(dict_tracks_jazz_2020)"
   ]
  },
  {
   "cell_type": "code",
   "execution_count": 12,
   "metadata": {},
   "outputs": [
    {
     "name": "stdout",
     "output_type": "stream",
     "text": [
      "{'canciones': ['Opendoors', 'Temptations', 'Griztronics', 'En Su Lugar', 'Clouds', 'Elevator Vibes', 'Algo contigo', 'Blue Moon', 'Coco Mango Diced (Boy Scout Mix)', 'Abusey Junction', 'Walk Like a Motherfucker', 'Never Enough', 'Timeline', 'Part II', 'Waltz No.2', 'Blue Spaces', \"I Can't Stop Loving You\", 'Inside Out', 'Miracle', \"I'm a Rock\", 'Calming Instrumental Bossa Nova', 'Coco Mango Diced', 'Black Balloons Reprise', 'Moonshine', 'Stella By Starlight', 'Soulful', 'Beach Jazz Chillout', 'DInner Jazz Classics', 'Romantic Dinner Music', 'Vintage Vibes Cool Jazz Bar Guitar', 'Super Fly Funk', \"Cheatin' Midnight\", 'Ill Wind', 'Jazz Bar Classics Are Coming Home Tonight', 'You Turned The Tables On Me', 'Ti-de', 'Ghost', 'Evening Swing', 'Fall For You', 'Estamos en Salsa', 'Classic Jazz Jams', 'Plume', 'Unknown Jam', 'Every Time We Say Goodbye - Remastered', 'These Are Just Places To Me Now', 'Poor Butterfly', 'VIP Vintage Saxophone Jazz', 'Vintage Jazz Club Guitar Jazz', 'Strawberry Moon', 'Oro que Fluye', 'Linked', 'Marine Life', 'Afternoon Delight', 'Listen to This', 'Exhale', 'Turtle or Tortoise?', 'Cumbia Sobre el Mar - El Búho Remix', 'Cool Caffine for Everyone', 'Stockholm Summer', 'Coffee Jazz Instrumentals', 'Think of You', 'The Touch', 'Brazz Street', 'I’m All Ears', 'The Gulf Stream', 'supadupakulavibe', 'Walking Around Coffee Club', 'Flowers in the Rain', 'Part III', 'Pictorial Filly', 'More', 'Goodbye Song', 'Supersonics', 'Clarinet Jazz Vintage Jazz Club', 'Cafe Jazz', 'Jazz Clásico en Serio', \"Stylin'\", 'Jazz bar Shuffle', 'Seven Eight', 'Swing City', 'Closer', 'A New Day', 'Very Slow Guitar Background', 'About You', 'Black Dynamite', \"That's Life\", 'Música para Beber Vino', 'The Climb', 'It Was You', 'The Touch - Remix', 'Headlines (feat. Westside Gunn, Conway & Benny)', 'Do Friends Fall in Love?', 'Blame it on My Youth', 'I’m Good', 'Continued Dinner', 'Rosewood', 'Make It Happen', 'Endless Summer', 'FF4', 'Coffee Date', 'A Song With No Name', 'Consistent', 'The Wherefore and Therefore', 'Intro', 'Spontaneous', 'She', 'Willow Weep for Me', 'Smoothly Smooth and Slowly Slow', 'Land Of Honey', 'Clearly in Need of a Biscuit', 'Cheek To Cheek', 'I Only Have Eyes For You', 'Light Dance', 'Melancolia', 'Can’t Get Enough', 'Polka Dots and Moonbeams', 'Pitch Dark', 'The Essence', 'Relaxing Coffee Break Jazz', 'Find My Own Way', 'tautte.', 'Skin in the Game', 'April', 'Sunset (2019 Y.Nakamura Remastering)', 'Airborne', 'Long Stroll to Town', 'ひとひら', 'Unsentimental', 'Grown Folks Business', 'Skylark', 'Cloudy', 'Coffee Shop Jazz Club', 'Colours', 'Tropical Waters', 'All The Things You Are', 'Jazz Clásico en Serio 2', 'Instrumental Jazz Cafe Sessions', 'Jazz Just for You', 'Fine Coffee Jazz', 'In the Basement', 'It Gets Better', 'Dinner Time Jazz', 'That Special Moment', 'September in the Rain', 'Waterguns', 'The Girl From Ipanema', 'Wish You Well - Hablot Brown Remix', 'Petal', 'For My Ladies', 'Morning Walk', 'Illusion', 'Trustt', 'FXMLDR', 'Coffee Shop Jazz Vibes', 'High Heels', 'Prelude to Memory of T.', 'Coffee House Vibes', 'Surf Boogie', 'Space is the Place', 'You Go To My Head', \"Don't Know Why\", 'Café cigarette', \"Here's That Rainy Day\", 'hang up', \"After You've Gone\", 'Red Sails in the Sunset', 'Golden Slumbers', 'Emerge', 'Danish Design, Pt..1', 'Checkinthru', 'Bossa Nova Music for Pets', 'Without a Thought for My Heart', 'Plantasy', 'Best Part', 'cielo', 'Forelsket i København', 'As in Jazz', 'The Way We Play', 'Cool Jazz in Brades', 'My One And Only Love', 'Jazzhands', 'Fast Lane Jazz', \"Paris je t'aime\", 'Escalator (Demo Version)', 'Fuck Yo Feelings', 'Tiger Kingdom Space Camp', 'That’s Life', 'Highly Recommended', 'There You Are', 'How My Heart Sings', \"I've Got You Under My Skin\", 'In A Mellow Tone', 'What Am I to Do?', 'Maybe', 'Serving Suggestions', 'Friend Request', \"I Can't Get Started\", 'Nocturnal', 'Mean To Me', 'Searching', \"It's A Man's World - Live\", 'Falling', 'San Francisco (Be Sure to Wear Flowers in Your Hair) (feat. Michael Marshall)', 'Coffee House Jazz jams', 'Taking Flight (feat. Brandee Younger)', 'In Search of Balance', 'Hatchlings', 'Back in Business', 'Someone To Watch Over Me', 'Brass Fiction', 'Atmosfera movimentata da jazz bar', 'Love Is Here To Stay', 'A Better Place', 'Be Thankful (feat. Erykah Badu)', 'And Suddenly There Was Love', \"I Don't Want To Live On The Moon\", 'So Slightly', 'Cycles', 'Planet Stuff', 'Snow Keeps Falling', 'All Night', \"You're Gonna Be Ok\", 'Jazz Lento en Serio', 'The Effects of Climate Change on Densely Populated Areas', 'February - Late Hours', 'Pretty Apollo', 'I Get Along Without You Very Well (Except Sometimes)', 'Loving You', 'A Free Continuation', 'Standards', 'Ages Ago', 'The Lady in Red', 'Atlantic Oscillations', 'Fubu', 'Slide', 'Softly, as in a Morning Sunrise', 'I Like That', 'Coffee and Jazz Piano', 'My One and Only Love', 'busstop', 'Jazz Massive', 'Help Me Study', 'My Favorite Things', 'Cozy Autumn Days', 'LML', 'Party Like Its 1929', 'Sunshine', 'Peach Garden', 'Icarus And Friends', 'Hoxton Hoops', 'Love Is in the Air', 'Down', 'Bianca', 'Madison', 'Jazz Piano Blend', 'Cocktails for Two - Remastered', 'Give Yourself to Love', 'Take it to the Rink', 'Everytime around', \"Marvin's Mood\", 'Farfalla', \"Underground's My Style\", 'Classy Jazz', 'Cold Blooded Jazz Man', 'Leena', '満ちていく体温', 'After Winter Must Come Spring feat. Elbi', 'Chilled Background Jazz', 'Lest We Forget (blood)', \"Ev'rytime We Say Goodbye\", 'Ghosts', 'Peace', 'Who U Think U Are, Pt. 2', 'Bad Kids To The Back', 'Solar', 'Verveine', 'Groovelatino', 'Ocean', 'Come Rain or Come Shine', 'Catcher', 'Before I Leave', 'Falling Leaves', 'Sum', 'Adwa', 'Otesla - Light Eternal - Dead Gorgeous Records', 'Wrinkle', 'March - Little Trumpeter', 'Arcade', \"Dreamin'\", 'Fleeting Joy', 'La Petite Reine', 'Endless Love', 'Woah', 'Aves', 'Jazz on the Island', 'Door', 'Be Thankful for What You Got', \"I Guess I'll Hang My Tears out to Dry\", 'Bogey Wail (Radio Version)', 'Arrow', 'Rubberband of Life (feat. Ledisi)', 'My Heart Is Full', 'Visit', 'Night and Day', 'Alone Together', 'Five Years Ago', 'Breezy Night', 'Next Door Dreaming', 'Just You', 'I Just Wanna Stop', 'Doctor 03', 'Bella Nova', 'Blue Eyed Monster', 'Moonlight Syndrome', 'My Friends and I Pt. 2', 'Spring Blossoms', \"Fly Me to the Moon / You're Nobody till Somebody Loves You / Just a Gigolo / Fly Me to the Moon (Reprise)\", 'Wintertime', 'See Your Breath', 'Sitting by the Fire', \"I Can't Give You Anything But Love\", 'I Could Write A Book', 'Julius Caesar', 'An Apple Orchard', 'Nosotros', 'Blue World', 'Please Chill', 'Stella By Starlight', 'Gift', 'You need to cry', 'My Favorite Season', 'My True Love Is You', 'Coffee House Bebop Jazz Background', 'Daydreaming', 'L-O-V-E - French Version', 'Constellations', 'Evensong', 'Miss Mess', 'Drive', 'Frosty Evening', 'Maybe Some Other Time', 'Lights Ahead', 'In the Wee Small Hours of the Morning', 'Uman', 'Jazz Studying Nights', 'The Creator', 'Moon Dance', 'Like Someone In Love', 'She Closed Her Eyes in Paris', 'These Empty Streets', 'The Neighborhood', 'Morning Jazz Juice', 'Pure Imagination', 'Paranoid Android I', 'Azalea', 'Cafe Instrumental', 'Coffee Cup', 'Circumstance Change', 'sweet times', 'Higher Self', 'Song of Happiness', 'Side by Side - Remastered', 'I Should Care', 'First Season', 'Time Of Change', 'Moon Over Brooklyn', 'Four', 'Swarm', 'Slow Jazz Cafe', 'Morning Sun Cafe', 'Be Encouraged', 'Come Fly With Me', 'The Dog Did It', 'Beyond the Sea of Trees', 'Oh Word', 'The Balance', 'Deeper', 'Gentle rain', 'Light A Lantern', 'How Deep Is The Ocean', 'Alfonsina y el mar', 'Pecan pie', 'Una Rosa Blanca', 'Hoot of Owl', 'Blood Of The Past', 'Limbo', \"I Didn't Know What Time It Was\", 'They Reminisce Over You', 'If', 'Reason in Disguise', \"When You're Smiling\", 'Ill Wind', 'Waltz for Maybe', 'Hoping for Your Love', 'Fast Cat', 'Swinging Today As Was Yesterday', '21st Century Schizoid Man (Radio Edit)', 'Cruise Control', 'picture this', 'All For Me', \"Let's Make Love on This Plane\", 'Spicy', 'In The Twilight', 'All Of You', 'L-O-V-E - Italian Version', '\"A\" Your Adorable', \"Let's Get Weird\", 'Golden Fields', 'Alba', 'Freak The Method', 'Mackerel Sky', 'Yallwhadinthere', 'Evening Star', 'Cry for You', 'Soft Jazz Cafe', 'La part des anges', 'Anyone Anytime', 'Doctor’s Opinion', 'Moonlight', 'Post Requisite', 'Leaf Pile', 'At Last', 'Slow Jazz Background Ballad', \"You're Mine\", 'What Am I to Do?', 'Thoughts & Wishes', 'Chilly Morning', 'The Prayer', 'Crying', 'When the Coffee Runs Dry', 'Son of a Serpent', 'Smoke Gets in Your Eyes', 'Taking It Easy', 'Ice Cream', 'I’m Old Fashioned', 'Amicalement Vôtre', 'Jazz Sleep Cafe', 'Kissed by the Sun', 'All I Do [Feat. SiR, Bridget Kelly, Song Bird]', 'The Happy Man', 'Jazz Instrumental Vibes', 'Day Trip out', 'Drunk', 'Studying Music Vibes', 'Come To Fireside', 'Les Pipos', 'Kenke Corner', 'Just in Time', 'Beautiful Us', 'Baby Bay', \"It's a Blue World\", \"Can't Sleep\", 'Everything Happens To Me', 'Jazz Coffee Vibes', 'This Simulation Is A Good One', 'You Must Believe In Spring', 'One For', 'Thanks', 'Backyards', 'Dead End', 'It’s Better For You', 'Bustin’ Out', 'Longer Night', 'Amor Arrayano', \"Let's Fall In Love\", 'Nanana', 'Just A Little Bit', 'In The Festival', 'Fleeting Joy', 'Red Leaves', 'Reminiscing', 'The Smell Of Autumn Air', 'Jazz Muy Lento', \"I Don't Know\", 'Back to Black', 'Late Night Walk', 'Jazz Morning Playlist Music', 'Somewhere Sometime', 'The Tide is High', 'London', 'Hurts to Be in Love', 'Instrumental Music Cafe Jams', 'Country & Western', 'Time', 'Si tu vois ma mère', 'Early Morning Jazz', 'Fargo', 'In Here.', 'Colours', 'April In Paris', 'Trigger Happy Police', 'Contour.', 'Well Liked', 'Harvest Moon', 'Stronger Magic', 'Good to Go', 'Spike', 'Heliophobia II', 'Music Cafe Jazz', 'Gonna Get Funky'], 'artistas': ['Underground Canopy', 'Kris Bowers', 'Jon Batiste', 'Tom Misch', 'Eddie Condon', 'Erroll Garner', 'Anita Baker', 'Shierro', 'Alabaster DePlume', 'Nina Simone', 'Athletic Progression', 'Brendan Maynard + 2', 'Kris Bowers', 'Ella Fitzgerald', 'Yazmin Lacey', 'Angelina Jordan', 'GRiZ', 'Melody Gardot', 'Tom Misch', 'Kris Bowers', 'Dan Kye', 'Lennie Tristano', 'John Coltrane', 'Alabaster DePlume', 'Ergo Montserrat', 'Kim Waters', 'Ebi Soda', 'Miramare', 'Boney James', 'Kris Bowers', 'Plini', 'Underground Canopy', 'Kris Bowers', 'Oscar Peterson', 'Konteks', 'Carol Albert', 'Vincent Ingala', 'Ill Considered', 'Mangrove Yeltsin', 'Alex Parchment', 'Nick Colionne', 'Otesla', 'Dan Evans-Parker', 'paris91', 'Norah Jones', 'Oscar Peterson Trio', 'The Colours That Rise', 'The Sweetgreens', 'Ragan Whiteside', 'Kris Bowers', 'The Myth of the Turtle', 'Ken Navarro', 'Johnny Hodges', 'Kris Bowers', 'Doris Day', 'Pigeondust', 'Underground Canopy', 'Flatland Park', 'Mangrove Yeltsin', 'Emapea', 'Ergo Montserrat', 'The Myth of the Turtle', 'Oli Silk', 'Robert Glasper', 'Emapea', 'Chris \"Big Dog\" Davis', 'Nick Colionne', 'The Myth of the Turtle', 'Midtown Trio', 'Chris Standring', 'Ergo Montserrat', 'Norman Brown', 'Kris Bowers', 'Bladverk Band', 'Tom Misch', 'Skinny Hightower', 'Phil Denny', 'Kris Bowers', 'Kris Bowers', 'Athletic Progression', 'The Myth of the Turtle', 'Anita Rosswell', 'Holborns', 'Eve St. Jones', 'yeyts.', 'Lin Rountree', 'Norah Jones', 'Gerald Albright', 'Boozoo Bajou', 'Ryan Montano', 'Darren Rahn', 'The Myth of the Turtle', 'Chaos In The CBD', 'Ergo Montserrat', 'Mangrove Yeltsin', 'Serenity State of Mind', 'Pigeondust', 'Deca', 'Godfather Don', 'Brian Simpson', 'The Pharcyde', 'yeyts.', 'Randy Scott', 'Eli Starr Trio', 'Athletic Progression', 'Carl Bagge Trio', 'Adam Hawley', 'Kris Bowers', 'Michael J Thomas', 'Red Brick Lane', 'yeyts.', 'Kuipers & Winter', 'Dea Sancta', 'Fulton Street Players', 'Freddie Fox', 'Brian Simpson', 'Kamasi Washington', 'Sparrow & Bird', 'Ennio Máno', 'Diana Krall', 'yeyts.', 'Dee Lucas', 'Tony DeSare', 'Jeff Laine & Co', 'Tony Saunders', 'Hudson Harris & Haim', 'Vintage Emporium', 'Oilix', 'Holborns', 'KTZ Players', 'Tom Misch', 'CrazyJaZz', 'Kuipers & Winter', 'Mangrove Yeltsin', 'Immanuel Wilkins', 'The Myth of the Turtle', 'Yoni Mayraz', 'Ergo Montserrat', 'Yazmin Lacey', 'Norah Jones', 'The Smooth Jazz Alley', 'Hara Noda', 'Mandevilla', 'Dea Sancta', 'Boney James', 'GRiZ', 'Melody Gardot', 'Bibi Tanga & The Selenites', 'Asako Toki', 'Tom Misch', 'Athletic Progression', 'Michael Wollny', 'Alabaster DePlume', 'The Sweetgreens', 'The Myth of the Turtle', 'TIA RAY', 'Zander Jazz Trio', 'Hudson Harris & Haim', 'Gathering in Jazz', 'Thelonious Coltrane', 'Louis Silva Band', 'Burt Mitchell', 'gum.mp3', 'Simply Coffeehouse', 'Plini', 'CMC 3', 'Skinny Hightower', 'Plini', 'Tom Misch', 'Melody Gardot', 'Magpie Jazz Trio', 'Greg Manning', 'Ibrahim Maalouf', 'Red Brick Lane', 'Tom Misch', 'Art Blakey & The Jazz Messengers', 'GRiZ', 'Athletic Progression', 'Jørgen Emborg', 'Deca', 'Anja Lechner', 'GRiZ', 'Cafe Music BGM channel', 'The Myth of the Turtle', 'Athletic Progression', 'Arne Torvik Trio', 'Kokoroko', 'Dirty Loops', 'Stiff Cat Steve', 'Lauren Richardson', 'yeyts.', 'The Myth of the Turtle', 'Hudson Harris & Haim', 'Jonah Jones', 'Martha Tilton', 'Sweet Nothings Band', 'Underground Canopy', 'Wildcookie', 'KTZ Players', 'Shakatak', 'Reese Quartet', 'Massimo Faraò', 'Chinese Man', 'Walter Smith III', 'Carsten Dahl', 'Coffeehouse BGM Station', 'Mary Lattimore', 'Holborns', 'BADBADNOTGOOD', 'Tom Misch', 'Parov Stelar', 'CMC 3', 'Azymuth', 'Oilix', 'Trois Amis', \"Barry Can't Swim\", 'Peggy Lee', 'Anja Lechner', 'Espen Eriksen Trio', 'Jeremy Pelt', 'Magpie Jazz Trio', 'Silvana Estrada', 'Cory Henry', 'Konteks', 'Jack Gardiner', 'John Coltrane', 'GRiZ', 'Athletic Progression', 'Pigeondust', 'Art Blakey & The Jazz Messengers', 'Shierro', 'Dan Kye', 'Greydon Park Band', 'Fulton Street Players', 'Ituana', 'Greg Spero', '110th Street Jazz Trio', 'Edward Simon', 'Tom Misch', 'Dave Brubeck', 'Tom Misch', 'Anja Lechner', 'iwamizu', 'Ambrose Akinmusire', 'Bonobo', 'Flatland Park', 'Massimo Faraò', 'Lydia Baskow Trio', 'Konteks', 'Spaze Windu', 'Jitwam', 'Gregory Porter', 'Melody Gardot', 'Jon Batiste', 'Konteks', 'GRiZ', 'Boney James', 'Folamour', 'Alabaster DePlume', 'Chad Lefkowitz-Brown', 'Michel Portal', 'Dee Brown', 'Ron Miles', 'Stiff Cat Steve', 'Rufio Patio', 'Michael Bublé', 'Massimo Faraò', 'Oilix', 'Dea Sancta', 'Long Island Quartet', 'Alfa Mist', 'Oscar Peterson', 'Robert Glasper', 'KTZ Players', 'CrazyJaZz', 'Groove Da Praia', 'Gillian Spencer Trio', 'Red Rose Jazz Trio', 'igory', 'Underground Canopy', 'Jon Batiste', 'Tom Misch', 'Jon Batiste', 'Boney James', 'Svaneborg Kardyb', 'BimBomBam Orchestra', 'Underground Canopy', 'Vernon Sanders', 'Butcher Brown', 'Enrico Pieranunzi', 'Trois Amis', 'Baptiste Herbin', 'Jack Gardiner', 'Dea Sancta', 'Oli Silk', 'Dan Evans-Parker', 'Four80East', 'Navy Blue', 'Diana Krall', 'Siimbiie Lakew', 'Juraj Stanik Trio', 'Måns & Dotter', 'Jamie Lancaster', 'SamuW', 'Self-Isolation Coffeehouse', 'Astoria Three', 'Deca', 'Katashi Kaitō', 'Nenei', 'RINZ.', 'Ellen Andrea Wang', 'Tour-Maubourg', 'Plini', 'GRiZ', 'Night and Day Trio', 'Colin Stetson', 'Moonspatz', 'Juraj Stanik Trio', 'Mary Lattimore', 'Caravan Palace', 'Ituana', 'Angelina Jordan', 'Felipe Gordon', 'ichikoro', 'Ennio Máno', 'South West Cafe Trio', 'Living Room', 'Jack Gardiner', 'Jazz Holdouts', 'GRiZ', 'Mangrove Yeltsin', 'Athletic Progression', 'Turning Trio', 'Waxamilion', 'Plini', 'RINZ.', 'Gregory Porter', 'Potatohead People', 'Greydon Park Band', 'Dave Brubeck', 'Plini', 'Diana Krall', 'Boozoo Bajou', 'Ben & Katsy', 'Snazzback', 'PYJÆN', 'Mandevilla', 'Jamie Lancaster', 'KTZ Players', 'The Jazz Cultivators', 'Bladverk Band', 'Soul Wun', 'Tony DeSare', 'GRiZ', 'Stefania Tallini', 'Ardhito Pramono', 'Mansur Brown', 'Kaspa.', 'Mvdk', 'Dave \"Baby\" Cortez', 'Chaos In The CBD', 'Athletic Progression', 'Sparrow & Bird', 'Greydon Park Band', 'Plini', 'Massimo Faraò', 'Olepash', 'Cafe Music BGM channel', 'Jon Batiste', 'Siimbiie Lakew', 'Gathering in Jazz', 'Waxamilion', 'Charlie Wilder Band', 'FloFilz', 'Oscar Peterson Trio', 'GRiZ', 'Marcos Caixa', 'Deca', 'We Three Trio', 'GRiZ', 'The Molsbees', 'Kamaal Williams', 'Stephane Wrembel', 'Tom Stills Quartet', \"Scott Bradlee's Postmodern Jukebox\", 'Emma-Jean Thackray', 'The Andy Love Band', 'GRiZ', 'Potatohead People', 'Quantic', 'Sam Butera', 'Shalosh', 'UWS Jazz Trio', 'Burt Mitchell', 'Shierro', 'GRiZ', 'Waxamilion', 'Red Rose Jazz Trio', 'Simply Coffeehouse', 'Melody Gardot', 'Melody Gardot', 'n o r m a l', 'Yussef Dayes', 'Tom Misch', 'Melody Gardot', 'Brian Culbertson', 'Melody Gardot', 'Gregory Porter', 'GRiZ', 'Johnny Smith', 'Krister & Dalbani', 'Jeff Beck', 'Louis Silva Band', 'Shierro', 'Caravan Palace', 'Kista', 'Dea Sancta', 'Henning Witsell', 'Back Room Jazz Trio', 'Dirty Loops', 'TIA RAY', 'Robert Glasper', 'Chattanooga Trio', 'Bobby Dreamz BIG', 'Red Stairs Jazz Quartet', 'Green Trio', 'Jazz Holdouts', 'Felix Martin', 'Plini', 'Olepash', 'gum.mp3', 'Clap Cotton', 'Jon Batiste', 'Tommy Emmanuel', 'FRANZ', 'Hailey Tuck', 'Boney James', 'Otis Redding', 'Zander Jazz Trio', 'The Sorcerers', 'BADBADNOTGOOD', 'Robert Glasper', 'Robert Glasper', 'Joan Chamorro', 'Michael Stylez & Co', 'Dorian Concept', 'Olepash', 'Light Hands Trio', 'Robert Elovsson Quartet', 'Tom Misch', 'Sam Cooke', 'Nina Simone', 'Daniel Ögren', 'DJ Ryow a.k.a. Smooth Current', 'Yazmin Lacey', 'Michel Portal', 'Hailey Tuck', 'Hailu Mergia', 'Ella Fitzgerald', 'Kat Edmonson', 'PENPALS', 'Aphrow', 'Tom Bates', 'Vincent Ingala', 'Barney Kessel', 'Joonie', 'GRiZ', 'toconoma', 'Brian Simpson', 'Anthony Lazaro', 'Jerry McHoy', 'Diana Krall', 'Bonobo', 'Taylor McFerrin', 'We Three Trio', 'Måns & Dotter', 'Till Brönner', 'Svaneborg Kardyb', 'Shierro', 'Tate Jackson Trio', 'Dan Evans-Parker', 'Athletic Progression', 'Wildflower Trio', 'Robert Glasper', 'Laurindo Almeida', 'Retromigration', 'Shierro', \"Kahil El'Zabar\", 'Remulak', 'Mangrove Yeltsin', 'gum.mp3', 'Matt Dusk', 'Sylvia Telles', 'Potatohead People', 'Aretha Franklin', 'fox capture plan', 'Jazzystics', 'Huw Marc Bennett', 'Daniel Ögren', 'Thomas Fonnesbæk'], 'genero': 'jazz', 'tipo': 'track', 'año de lanzamiento': ['2019-05-03', '2019-05-03', '2019-08-14', '2019-07-12', '2019-06-28', '2019-09-27', '2019-05-17', '2019-09-13', '2019-04-12', '2019-03-08', '2019-08-23', '2019-09-27', '2019-06-21', '2019-07-12', '2019-02-15', '2019-11-15', '2019-09-06', '2019-06-14', '2019-08-30', '2019-05-03', '2019-11-06', '2019-04-12', '2019-05-24', '2019-08-30', '2019-08-26', '2019-06-21', '2019-11-06', '2019-03-29', '2019-03-29', '2019-03-29', '2019-08-30', '2019-03-29', '2019-11-29', '2019-03-29', '2019-03-01', '2019-03-08', '2019-06-07', '2019-03-29', '2019-09-06', '2019-07-22', '2019-03-29', '2019-08-30', '2019-05-31', '2019-10-10', '2019-02-15', '2019-04-05', '2019-03-29', '2019-03-29', '2019-10-23', '2019-12-23', '2019-07-01', '2019-11-06', '2019-06-28', '2019-09-27', '2019-05-31', '2019-11-06', '2019-11-08', '2019-03-29', '2019-05-31', '2019-12-15', '2019-02-14', '2019-06-21', '2019-08-16', '2019-05-31', '2019-11-06', '2019-09-20', '2019-01-13', '2019-05-10', '2019-07-12', '2019-03-29', '2019-05-24', '2019-11-01', '2019-08-30', '2019-03-29', '2019-03-29', '2019-11-26', '2019-02-21', '2019-01-13', '2019-08-23', '2019-09-04', '2019-06-21', '2019-04-05', '2019-11-15', '2019-08-30', '2019-06-28', '2019-10-18', '2019-11-26', '2019-05-24', '2019-04-12', '2019-06-21', '2019-05-16', '2019-10-04', '2019-10-28', '2019-04-05', '2019-07-02', '2019-06-07', '2019-02-08', '2019-06-21', '2019-05-24', '2019-12-15', '2019-04-12', '2019-01-13', '2019-08-20', '2019-06-28', '2019-05-24', '2019-10-18', '2019-07-26', '2019-07-30', '2019-05-24', '2019-01-13', '2019-11-14', '2019-03-01', '2019-04-26', '2019-08-30', '2019-04-05', '2019-04-05', '2019-06-07', '2019-01-13', '2019-01-13', '2019-04-05', '2019-06-04', '2019-03-04', '2019-08-30', '2019-05-08', '2019-06-21', '2019-07-02', '2019-05-08', '2019-11-01', '2019-06-21', '2019-07-22', '2019-06-07', '2019-01-13', '2019-05-10', '2019-11-06', '2019-07-22', '2019-12-10', '2019-12-15', '2019-12-15', '2019-12-15', '2019-07-05', '2019-04-05', '2019-03-29', '2019-12-15', '2019-09-03', '2019-08-30', '2019-03-15', '2019-04-16', '2019-06-07', '2019-12-04', '2019-10-04', '2019-06-28', '2019-05-03', '2019-06-14', '2019-12-15', '2019-09-27', '2019-03-01', '2019-12-15', '2019-07-26', '2019-04-26', '2019-11-14', '2019-07-22', '2019-12-22', '2019-12-14', '2019-10-08', '2019-12-14', '2019-03-08', '2019-03-29', '2019-07-19', '2019-01-25', '2019-06-14', '2019-11-06', '2019-10-04', '2019-06-28', '2019-08-26', '2019-04-23', '2019-06-21', '2019-12-15', '2019-12-15', '2019-08-20', '2019-12-17', '2019-07-05', '2019-11-06', '2019-07-14', '2019-01-11', '2019-10-03', '2019-11-15', '2019-10-23', '2019-08-30', '2019-07-12', '2019-12-17', '2019-11-26', '2019-11-26', '2019-04-26', '2019-04-05', '2019-01-24', '2019-12-22', '2019-12-14', '2019-06-21', '2019-12-17', '2019-01-24', '2019-06-07', '2019-03-29', '2019-06-07', '2019-01-13', '2019-06-28', '2019-05-10', '2019-11-06', '2019-12-15', '2019-11-14', '2019-05-10', '2019-10-27', '2019-06-14', '2019-10-11', '2019-08-16', '2019-09-20', '2019-10-18', '2019-12-15', '2019-03-29', '2019-01-22', '2019-12-02', '2019-07-05', '2019-02-19', '2019-12-23', '2019-02-01', '2019-12-20', '2019-12-06', '2019-12-11', '2019-02-22', '2019-07-30', '2019-11-08', '2019-04-26', '2019-12-06', '2019-06-21', '2019-07-05', '2019-08-16', '2019-12-14', '2019-09-20', '2019-06-16', '2019-04-12', '2019-05-03', '2019-10-01', '2019-06-13', '2019-12-07', '2019-10-04', '2019-06-28', '2019-10-25', '2019-10-03', '2019-02-01', '2019-08-09', '2019-06-14', '2019-02-22', '2019-10-25', '2019-09-13', '2019-11-26', '2019-07-16', '2019-10-10', '2019-07-19', '2019-07-19', '2019-09-20', '2019-09-20', '2019-05-24', '2019-09-13', '2019-01-13', '2019-11-06', '2019-08-30', '2019-05-08', '2019-02-15', '2019-03-29', '2019-05-10', '2019-08-16', '2019-08-30', '2019-06-07', '2019-02-01', '2019-03-15', '2019-11-29', '2019-03-01', '2019-10-29', '2019-02-06', '2019-11-26', '2019-08-16', '2019-10-08', '2019-03-26', '2019-05-08', '2019-03-08', '2019-07-28', '2019-06-14', '2019-12-20', '2019-06-14', '2019-08-16', '2019-08-09', '2019-03-01', '2019-01-04', '2019-06-28', '2019-05-10', '2019-07-30', '2019-04-26', '2019-05-01', '2019-07-26', '2019-07-22', '2019-10-25', '2019-09-06', '2019-04-12', '2019-06-07', '2019-10-05', '2019-03-01', '2019-11-26', '2019-10-04', '2019-11-28', '2019-08-23', '2019-12-06', '2019-05-23', '2019-06-21', '2019-08-28', '2019-06-19', '2019-04-05', '2019-05-10', '2019-03-21', '2019-04-12', '2019-10-04', '2019-10-04', '2019-09-03', '2019-11-14', '2019-11-26', '2019-10-04', '2019-10-04', '2019-09-27', '2019-03-01', '2019-11-29', '2019-06-07', '2019-01-03', '2019-10-04', '2019-03-29', '2019-07-16', '2019-11-15', '2019-06-14', '2019-07-19', '2019-09-20', '2019-09-20', '2019-02-26', '2019-10-04', '2019-07-26', '2019-08-16', '2019-05-15', '2019-03-08', '2019-06-13', '2019-09-27', '2019-10-04', '2019-08-26', '2019-09-27', '2019-11-26', '2019-06-21', '2019-06-18', '2019-05-31', '2019-10-28', '2019-09-06', '2019-01-11', '2019-03-21', '2019-07-02', '2019-09-02', '2019-12-04', '2019-02-22', '2019-10-10', '2019-09-03', '2019-11-26', '2019-10-04', '2019-07-22', '2019-11-29', '2019-06-14', '2019-07-17', '2019-02-17', '2019-09-20', '2019-08-30', '2019-10-08', '2019-05-24', '2019-06-18', '2019-06-28', '2019-09-13', '2019-10-25', '2019-10-04', '2019-03-01', '2019-05-17', '2019-10-04', '2019-09-27', '2019-10-04', '2019-03-15', '2019-08-09', '2019-07-22', '2019-10-18', '2019-06-07', '2019-04-26', '2019-03-21', '2019-04-05', '2019-11-08', '2019-07-02', '2019-10-27', '2019-01-13', '2019-01-13', '2019-04-05', '2019-10-08', '2019-10-27', '2019-10-04', '2019-08-22', '2019-12-04', '2019-11-15', '2019-06-14', '2019-10-18', '2019-11-15', '2019-10-04', '2019-05-10', '2019-08-14', '2019-10-04', '2019-11-25', '2019-09-20', '2019-12-13', '2019-03-06', '2019-09-27', '2019-09-13', '2019-08-09', '2019-06-04', '2019-05-24', '2019-10-04', '2019-01-16', '2019-06-16', '2019-09-13', '2019-04-03', '2019-02-01', '2019-10-04', '2019-04-05', '2019-02-22', '2019-12-16', '2019-06-14', '2019-12-18', '2019-08-05', '2019-06-24', '2019-05-09', '2019-12-06', '2019-01-13', '2019-02-01', '2019-10-03', '2019-12-06', '2019-06-04', '2019-07-02', '2019-01-07', '2019-06-13', '2019-10-04', '2019-04-26', '2019-03-29', '2019-06-12', '2019-10-11', '2019-10-18', '2019-08-16', '2019-04-23', '2019-10-05', '2019-12-16', '2019-07-12', '2019-05-09', '2019-04-19', '2019-06-07', '2019-05-24', '2019-06-07', '2019-03-29', '2019-04-05', '2019-10-04', '2019-10-08', '2019-11-26', '2019-01-14', '2019-04-12', '2019-10-04', '2019-07-19', '2019-10-04', '2019-12-06', '2019-10-04', '2019-12-23', '2019-05-03', '2019-03-08', '2019-11-26', '2019-04-04', '2019-11-15', '2019-12-13', '2019-02-08', '2019-12-06', '2019-07-17', '2019-05-03', '2019-08-23', '2019-10-04', '2019-01-16', '2019-08-30', '2019-10-30', '2019-03-01', '2019-11-26', '2019-11-20', '2019-11-29', '2019-07-17', '2019-10-04', '2019-11-08', '2019-03-04', '2019-06-07', '2019-07-05', '2019-12-16', '2019-11-15']}\n"
     ]
    },
    {
     "data": {
      "text/plain": [
       "5"
      ]
     },
     "execution_count": 12,
     "metadata": {},
     "output_type": "execute_result"
    }
   ],
   "source": [
    "#AÑO DE LANZAMIENTO 2019\n",
    "for offset in range(0, 500, 50):\n",
    "    canciones = sp.search(q='genre:\"jazz\" year:2019', type='track', limit=50, offset=offset)\n",
    "    for track in canciones['tracks']['items']:\n",
    "        dict_tracks_jazz_2019[\"año de lanzamiento\"].append(track[\"album\"]['release_date'])\n",
    "print(dict_tracks_jazz_2019)\n",
    "len(dict_tracks_jazz_2019)"
   ]
  },
  {
   "cell_type": "code",
   "execution_count": 13,
   "metadata": {},
   "outputs": [
    {
     "name": "stdout",
     "output_type": "stream",
     "text": [
      "{'canciones': [\"It's a Blue World\", \"Can't Sleep\", 'Everything Happens To Me', 'Jazz Coffee Vibes', 'This Simulation Is A Good One', 'You Must Believe In Spring', 'One For', 'Thanks', 'Backyards', 'Dead End', 'It’s Better For You', 'Bustin’ Out', 'Longer Night', 'Amor Arrayano', \"Let's Fall In Love\", 'Nanana', 'Just A Little Bit', 'In The Festival', 'Fleeting Joy', 'Red Leaves', 'Reminiscing', 'The Smell Of Autumn Air', 'Jazz Muy Lento', \"I Don't Know\", 'Back to Black', 'Late Night Walk', 'Jazz Morning Playlist Music', 'Somewhere Sometime', 'The Tide is High', 'London', 'Hurts to Be in Love', 'Instrumental Music Cafe Jams', 'Country & Western', 'Time', 'Si tu vois ma mère', 'Early Morning Jazz', 'Fargo', 'In Here.', 'Colours', 'April In Paris', 'Trigger Happy Police', 'Contour.', 'Well Liked', 'Harvest Moon', 'Stronger Magic', 'Good to Go', 'Spike', 'Heliophobia II', 'Music Cafe Jazz', 'Gonna Get Funky', \"It's a Blue World\", \"Can't Sleep\", 'Everything Happens To Me', 'Jazz Coffee Vibes', 'This Simulation Is A Good One', 'You Must Believe In Spring', 'One For', 'Thanks', 'Backyards', 'Dead End', 'It’s Better For You', 'Bustin’ Out', 'Longer Night', 'Amor Arrayano', \"Let's Fall In Love\", 'Nanana', 'Just A Little Bit', 'In The Festival', 'Fleeting Joy', 'Red Leaves', 'Reminiscing', 'The Smell Of Autumn Air', 'Jazz Muy Lento', \"I Don't Know\", 'Back to Black', 'Late Night Walk', 'Jazz Morning Playlist Music', 'Somewhere Sometime', 'The Tide is High', 'London', 'Hurts to Be in Love', 'Instrumental Music Cafe Jams', 'Country & Western', 'Time', 'Si tu vois ma mère', 'Early Morning Jazz', 'Fargo', 'In Here.', 'Colours', 'April In Paris', 'Trigger Happy Police', 'Contour.', 'Well Liked', 'Harvest Moon', 'Stronger Magic', 'Good to Go', 'Spike', 'Heliophobia II', 'Music Cafe Jazz', 'Gonna Get Funky', \"It's a Blue World\", \"Can't Sleep\", 'Everything Happens To Me', 'Jazz Coffee Vibes', 'This Simulation Is A Good One', 'You Must Believe In Spring', 'One For', 'Thanks', 'Backyards', 'Dead End', 'It’s Better For You', 'Bustin’ Out', 'Longer Night', 'Amor Arrayano', \"Let's Fall In Love\", 'Nanana', 'Just A Little Bit', 'In The Festival', 'Fleeting Joy', 'Red Leaves', 'Reminiscing', 'The Smell Of Autumn Air', 'Jazz Muy Lento', \"I Don't Know\", 'Back to Black', 'Late Night Walk', 'Jazz Morning Playlist Music', 'Somewhere Sometime', 'The Tide is High', 'London', 'Hurts to Be in Love', 'Instrumental Music Cafe Jams', 'Country & Western', 'Time', 'Si tu vois ma mère', 'Early Morning Jazz', 'Fargo', 'In Here.', 'Colours', 'April In Paris', 'Trigger Happy Police', 'Contour.', 'Well Liked', 'Harvest Moon', 'Stronger Magic', 'Good to Go', 'Spike', 'Heliophobia II', 'Music Cafe Jazz', 'Gonna Get Funky', \"It's a Blue World\", \"Can't Sleep\", 'Everything Happens To Me', 'Jazz Coffee Vibes', 'This Simulation Is A Good One', 'You Must Believe In Spring', 'One For', 'Thanks', 'Backyards', 'Dead End', 'It’s Better For You', 'Bustin’ Out', 'Longer Night', 'Amor Arrayano', \"Let's Fall In Love\", 'Nanana', 'Just A Little Bit', 'In The Festival', 'Fleeting Joy', 'Red Leaves', 'Reminiscing', 'The Smell Of Autumn Air', 'Jazz Muy Lento', \"I Don't Know\", 'Back to Black', 'Late Night Walk', 'Jazz Morning Playlist Music', 'Somewhere Sometime', 'The Tide is High', 'London', 'Hurts to Be in Love', 'Instrumental Music Cafe Jams', 'Country & Western', 'Time', 'Si tu vois ma mère', 'Early Morning Jazz', 'Fargo', 'In Here.', 'Colours', 'April In Paris', 'Trigger Happy Police', 'Contour.', 'Well Liked', 'Harvest Moon', 'Stronger Magic', 'Good to Go', 'Spike', 'Heliophobia II', 'Music Cafe Jazz', 'Gonna Get Funky', \"It's a Blue World\", \"Can't Sleep\", 'Everything Happens To Me', 'Jazz Coffee Vibes', 'This Simulation Is A Good One', 'You Must Believe In Spring', 'One For', 'Thanks', 'Backyards', 'Dead End', 'It’s Better For You', 'Bustin’ Out', 'Longer Night', 'Amor Arrayano', \"Let's Fall In Love\", 'Nanana', 'Just A Little Bit', 'In The Festival', 'Fleeting Joy', 'Red Leaves', 'Reminiscing', 'The Smell Of Autumn Air', 'Jazz Muy Lento', \"I Don't Know\", 'Back to Black', 'Late Night Walk', 'Jazz Morning Playlist Music', 'Somewhere Sometime', 'The Tide is High', 'London', 'Hurts to Be in Love', 'Instrumental Music Cafe Jams', 'Country & Western', 'Time', 'Si tu vois ma mère', 'Early Morning Jazz', 'Fargo', 'In Here.', 'Colours', 'April In Paris', 'Trigger Happy Police', 'Contour.', 'Well Liked', 'Harvest Moon', 'Stronger Magic', 'Good to Go', 'Spike', 'Heliophobia II', 'Music Cafe Jazz', 'Gonna Get Funky', \"It's a Blue World\", \"Can't Sleep\", 'Everything Happens To Me', 'Jazz Coffee Vibes', 'This Simulation Is A Good One', 'You Must Believe In Spring', 'One For', 'Thanks', 'Backyards', 'Dead End', 'It’s Better For You', 'Bustin’ Out', 'Longer Night', 'Amor Arrayano', \"Let's Fall In Love\", 'Nanana', 'Just A Little Bit', 'In The Festival', 'Fleeting Joy', 'Red Leaves', 'Reminiscing', 'The Smell Of Autumn Air', 'Jazz Muy Lento', \"I Don't Know\", 'Back to Black', 'Late Night Walk', 'Jazz Morning Playlist Music', 'Somewhere Sometime', 'The Tide is High', 'London', 'Hurts to Be in Love', 'Instrumental Music Cafe Jams', 'Country & Western', 'Time', 'Si tu vois ma mère', 'Early Morning Jazz', 'Fargo', 'In Here.', 'Colours', 'April In Paris', 'Trigger Happy Police', 'Contour.', 'Well Liked', 'Harvest Moon', 'Stronger Magic', 'Good to Go', 'Spike', 'Heliophobia II', 'Music Cafe Jazz', 'Gonna Get Funky', \"It's a Blue World\", \"Can't Sleep\", 'Everything Happens To Me', 'Jazz Coffee Vibes', 'This Simulation Is A Good One', 'You Must Believe In Spring', 'One For', 'Thanks', 'Backyards', 'Dead End', 'It’s Better For You', 'Bustin’ Out', 'Longer Night', 'Amor Arrayano', \"Let's Fall In Love\", 'Nanana', 'Just A Little Bit', 'In The Festival', 'Fleeting Joy', 'Red Leaves', 'Reminiscing', 'The Smell Of Autumn Air', 'Jazz Muy Lento', \"I Don't Know\", 'Back to Black', 'Late Night Walk', 'Jazz Morning Playlist Music', 'Somewhere Sometime', 'The Tide is High', 'London', 'Hurts to Be in Love', 'Instrumental Music Cafe Jams', 'Country & Western', 'Time', 'Si tu vois ma mère', 'Early Morning Jazz', 'Fargo', 'In Here.', 'Colours', 'April In Paris', 'Trigger Happy Police', 'Contour.', 'Well Liked', 'Harvest Moon', 'Stronger Magic', 'Good to Go', 'Spike', 'Heliophobia II', 'Music Cafe Jazz', 'Gonna Get Funky', \"It's a Blue World\", \"Can't Sleep\", 'Everything Happens To Me', 'Jazz Coffee Vibes', 'This Simulation Is A Good One', 'You Must Believe In Spring', 'One For', 'Thanks', 'Backyards', 'Dead End', 'It’s Better For You', 'Bustin’ Out', 'Longer Night', 'Amor Arrayano', \"Let's Fall In Love\", 'Nanana', 'Just A Little Bit', 'In The Festival', 'Fleeting Joy', 'Red Leaves', 'Reminiscing', 'The Smell Of Autumn Air', 'Jazz Muy Lento', \"I Don't Know\", 'Back to Black', 'Late Night Walk', 'Jazz Morning Playlist Music', 'Somewhere Sometime', 'The Tide is High', 'London', 'Hurts to Be in Love', 'Instrumental Music Cafe Jams', 'Country & Western', 'Time', 'Si tu vois ma mère', 'Early Morning Jazz', 'Fargo', 'In Here.', 'Colours', 'April In Paris', 'Trigger Happy Police', 'Contour.', 'Well Liked', 'Harvest Moon', 'Stronger Magic', 'Good to Go', 'Spike', 'Heliophobia II', 'Music Cafe Jazz', 'Gonna Get Funky', \"It's a Blue World\", \"Can't Sleep\", 'Everything Happens To Me', 'Jazz Coffee Vibes', 'This Simulation Is A Good One', 'You Must Believe In Spring', 'One For', 'Thanks', 'Backyards', 'Dead End', 'It’s Better For You', 'Bustin’ Out', 'Longer Night', 'Amor Arrayano', \"Let's Fall In Love\", 'Nanana', 'Just A Little Bit', 'In The Festival', 'Fleeting Joy', 'Red Leaves', 'Reminiscing', 'The Smell Of Autumn Air', 'Jazz Muy Lento', \"I Don't Know\", 'Back to Black', 'Late Night Walk', 'Jazz Morning Playlist Music', 'Somewhere Sometime', 'The Tide is High', 'London', 'Hurts to Be in Love', 'Instrumental Music Cafe Jams', 'Country & Western', 'Time', 'Si tu vois ma mère', 'Early Morning Jazz', 'Fargo', 'In Here.', 'Colours', 'April In Paris', 'Trigger Happy Police', 'Contour.', 'Well Liked', 'Harvest Moon', 'Stronger Magic', 'Good to Go', 'Spike', 'Heliophobia II', 'Music Cafe Jazz', 'Gonna Get Funky', \"It's a Blue World\", \"Can't Sleep\", 'Everything Happens To Me', 'Jazz Coffee Vibes', 'This Simulation Is A Good One', 'You Must Believe In Spring', 'One For', 'Thanks', 'Backyards', 'Dead End', 'It’s Better For You', 'Bustin’ Out', 'Longer Night', 'Amor Arrayano', \"Let's Fall In Love\", 'Nanana', 'Just A Little Bit', 'In The Festival', 'Fleeting Joy', 'Red Leaves', 'Reminiscing', 'The Smell Of Autumn Air', 'Jazz Muy Lento', \"I Don't Know\", 'Back to Black', 'Late Night Walk', 'Jazz Morning Playlist Music', 'Somewhere Sometime', 'The Tide is High', 'London', 'Hurts to Be in Love', 'Instrumental Music Cafe Jams', 'Country & Western', 'Time', 'Si tu vois ma mère', 'Early Morning Jazz', 'Fargo', 'In Here.', 'Colours', 'April In Paris', 'Trigger Happy Police', 'Contour.', 'Well Liked', 'Harvest Moon', 'Stronger Magic', 'Good to Go', 'Spike', 'Heliophobia II', 'Music Cafe Jazz', 'Gonna Get Funky'], 'artistas': ['Underground Canopy', 'Kris Bowers', 'Jon Batiste', 'Tom Misch', 'Eddie Condon', 'Erroll Garner', 'Anita Baker', 'Shierro', 'Alabaster DePlume', 'Nina Simone', 'Athletic Progression', 'Brendan Maynard + 2', 'Kris Bowers', 'Ella Fitzgerald', 'Yazmin Lacey', 'Angelina Jordan', 'GRiZ', 'Melody Gardot', 'Tom Misch', 'Kris Bowers', 'Dan Kye', 'Lennie Tristano', 'John Coltrane', 'Alabaster DePlume', 'Ergo Montserrat', 'Kim Waters', 'Ebi Soda', 'Miramare', 'Boney James', 'Kris Bowers', 'Plini', 'Underground Canopy', 'Kris Bowers', 'Oscar Peterson', 'Konteks', 'Carol Albert', 'Vincent Ingala', 'Ill Considered', 'Mangrove Yeltsin', 'Alex Parchment', 'Nick Colionne', 'Otesla', 'Dan Evans-Parker', 'paris91', 'Norah Jones', 'Oscar Peterson Trio', 'The Colours That Rise', 'The Sweetgreens', 'Ragan Whiteside', 'Kris Bowers', 'The Myth of the Turtle', 'Ken Navarro', 'Johnny Hodges', 'Kris Bowers', 'Doris Day', 'Pigeondust', 'Underground Canopy', 'Flatland Park', 'Mangrove Yeltsin', 'Emapea', 'Ergo Montserrat', 'The Myth of the Turtle', 'Oli Silk', 'Robert Glasper', 'Emapea', 'Chris \"Big Dog\" Davis', 'Nick Colionne', 'The Myth of the Turtle', 'Midtown Trio', 'Chris Standring', 'Ergo Montserrat', 'Norman Brown', 'Kris Bowers', 'Bladverk Band', 'Tom Misch', 'Skinny Hightower', 'Phil Denny', 'Kris Bowers', 'Kris Bowers', 'Athletic Progression', 'The Myth of the Turtle', 'Anita Rosswell', 'Holborns', 'Eve St. Jones', 'yeyts.', 'Lin Rountree', 'Norah Jones', 'Gerald Albright', 'Boozoo Bajou', 'Ryan Montano', 'Darren Rahn', 'The Myth of the Turtle', 'Chaos In The CBD', 'Ergo Montserrat', 'Mangrove Yeltsin', 'Serenity State of Mind', 'Pigeondust', 'Deca', 'Godfather Don', 'Brian Simpson', 'The Pharcyde', 'yeyts.', 'Randy Scott', 'Eli Starr Trio', 'Athletic Progression', 'Carl Bagge Trio', 'Adam Hawley', 'Kris Bowers', 'Michael J Thomas', 'Red Brick Lane', 'yeyts.', 'Kuipers & Winter', 'Dea Sancta', 'Fulton Street Players', 'Freddie Fox', 'Brian Simpson', 'Kamasi Washington', 'Sparrow & Bird', 'Ennio Máno', 'Diana Krall', 'yeyts.', 'Dee Lucas', 'Tony DeSare', 'Jeff Laine & Co', 'Tony Saunders', 'Hudson Harris & Haim', 'Vintage Emporium', 'Oilix', 'Holborns', 'KTZ Players', 'Tom Misch', 'CrazyJaZz', 'Kuipers & Winter', 'Mangrove Yeltsin', 'Immanuel Wilkins', 'The Myth of the Turtle', 'Yoni Mayraz', 'Ergo Montserrat', 'Yazmin Lacey', 'Norah Jones', 'The Smooth Jazz Alley', 'Hara Noda', 'Mandevilla', 'Dea Sancta', 'Boney James', 'GRiZ', 'Melody Gardot', 'Bibi Tanga & The Selenites', 'Asako Toki', 'Tom Misch', 'Athletic Progression', 'Michael Wollny', 'Alabaster DePlume', 'The Sweetgreens', 'The Myth of the Turtle', 'TIA RAY', 'Zander Jazz Trio', 'Hudson Harris & Haim', 'Gathering in Jazz', 'Thelonious Coltrane', 'Louis Silva Band', 'Burt Mitchell', 'gum.mp3', 'Simply Coffeehouse', 'Plini', 'CMC 3', 'Skinny Hightower', 'Plini', 'Tom Misch', 'Melody Gardot', 'Magpie Jazz Trio', 'Greg Manning', 'Ibrahim Maalouf', 'Red Brick Lane', 'Tom Misch', 'Art Blakey & The Jazz Messengers', 'GRiZ', 'Athletic Progression', 'Jørgen Emborg', 'Deca', 'Anja Lechner', 'GRiZ', 'Cafe Music BGM channel', 'The Myth of the Turtle', 'Athletic Progression', 'Arne Torvik Trio', 'Kokoroko', 'Dirty Loops', 'Stiff Cat Steve', 'Lauren Richardson', 'yeyts.', 'The Myth of the Turtle', 'Hudson Harris & Haim', 'Jonah Jones', 'Martha Tilton', 'Sweet Nothings Band', 'Underground Canopy', 'Wildcookie', 'KTZ Players', 'Shakatak', 'Reese Quartet', 'Massimo Faraò', 'Chinese Man', 'Walter Smith III', 'Carsten Dahl', 'Coffeehouse BGM Station', 'Mary Lattimore', 'Holborns', 'BADBADNOTGOOD', 'Tom Misch', 'Parov Stelar', 'CMC 3', 'Azymuth', 'Oilix', 'Trois Amis', \"Barry Can't Swim\", 'Peggy Lee', 'Anja Lechner', 'Espen Eriksen Trio', 'Jeremy Pelt', 'Magpie Jazz Trio', 'Silvana Estrada', 'Cory Henry', 'Konteks', 'Jack Gardiner', 'John Coltrane', 'GRiZ', 'Athletic Progression', 'Pigeondust', 'Art Blakey & The Jazz Messengers', 'Shierro', 'Dan Kye', 'Greydon Park Band', 'Fulton Street Players', 'Ituana', 'Greg Spero', '110th Street Jazz Trio', 'Edward Simon', 'Tom Misch', 'Dave Brubeck', 'Tom Misch', 'Anja Lechner', 'iwamizu', 'Ambrose Akinmusire', 'Bonobo', 'Flatland Park', 'Massimo Faraò', 'Lydia Baskow Trio', 'Konteks', 'Spaze Windu', 'Jitwam', 'Gregory Porter', 'Melody Gardot', 'Jon Batiste', 'Konteks', 'GRiZ', 'Boney James', 'Folamour', 'Alabaster DePlume', 'Chad Lefkowitz-Brown', 'Michel Portal', 'Dee Brown', 'Ron Miles', 'Stiff Cat Steve', 'Rufio Patio', 'Michael Bublé', 'Massimo Faraò', 'Oilix', 'Dea Sancta', 'Long Island Quartet', 'Alfa Mist', 'Oscar Peterson', 'Robert Glasper', 'KTZ Players', 'CrazyJaZz', 'Groove Da Praia', 'Gillian Spencer Trio', 'Red Rose Jazz Trio', 'igory', 'Underground Canopy', 'Jon Batiste', 'Tom Misch', 'Jon Batiste', 'Boney James', 'Svaneborg Kardyb', 'BimBomBam Orchestra', 'Underground Canopy', 'Vernon Sanders', 'Butcher Brown', 'Enrico Pieranunzi', 'Trois Amis', 'Baptiste Herbin', 'Jack Gardiner', 'Dea Sancta', 'Oli Silk', 'Dan Evans-Parker', 'Four80East', 'Navy Blue', 'Diana Krall', 'Siimbiie Lakew', 'Juraj Stanik Trio', 'Måns & Dotter', 'Jamie Lancaster', 'SamuW', 'Self-Isolation Coffeehouse', 'Astoria Three', 'Deca', 'Katashi Kaitō', 'Nenei', 'RINZ.', 'Ellen Andrea Wang', 'Tour-Maubourg', 'Plini', 'GRiZ', 'Night and Day Trio', 'Colin Stetson', 'Moonspatz', 'Juraj Stanik Trio', 'Mary Lattimore', 'Caravan Palace', 'Ituana', 'Angelina Jordan', 'Felipe Gordon', 'ichikoro', 'Ennio Máno', 'South West Cafe Trio', 'Living Room', 'Jack Gardiner', 'Jazz Holdouts', 'GRiZ', 'Mangrove Yeltsin', 'Athletic Progression', 'Turning Trio', 'Waxamilion', 'Plini', 'RINZ.', 'Gregory Porter', 'Potatohead People', 'Greydon Park Band', 'Dave Brubeck', 'Plini', 'Diana Krall', 'Boozoo Bajou', 'Ben & Katsy', 'Snazzback', 'PYJÆN', 'Mandevilla', 'Jamie Lancaster', 'KTZ Players', 'The Jazz Cultivators', 'Bladverk Band', 'Soul Wun', 'Tony DeSare', 'GRiZ', 'Stefania Tallini', 'Ardhito Pramono', 'Mansur Brown', 'Kaspa.', 'Mvdk', 'Dave \"Baby\" Cortez', 'Chaos In The CBD', 'Athletic Progression', 'Sparrow & Bird', 'Greydon Park Band', 'Plini', 'Massimo Faraò', 'Olepash', 'Cafe Music BGM channel', 'Jon Batiste', 'Siimbiie Lakew', 'Gathering in Jazz', 'Waxamilion', 'Charlie Wilder Band', 'FloFilz', 'Oscar Peterson Trio', 'GRiZ', 'Marcos Caixa', 'Deca', 'We Three Trio', 'GRiZ', 'The Molsbees', 'Kamaal Williams', 'Stephane Wrembel', 'Tom Stills Quartet', \"Scott Bradlee's Postmodern Jukebox\", 'Emma-Jean Thackray', 'The Andy Love Band', 'GRiZ', 'Potatohead People', 'Quantic', 'Sam Butera', 'Shalosh', 'UWS Jazz Trio', 'Burt Mitchell', 'Shierro', 'GRiZ', 'Waxamilion', 'Red Rose Jazz Trio', 'Simply Coffeehouse', 'Melody Gardot', 'Melody Gardot', 'n o r m a l', 'Yussef Dayes', 'Tom Misch', 'Melody Gardot', 'Brian Culbertson', 'Melody Gardot', 'Gregory Porter', 'GRiZ', 'Johnny Smith', 'Krister & Dalbani', 'Jeff Beck', 'Louis Silva Band', 'Shierro', 'Caravan Palace', 'Kista', 'Dea Sancta', 'Henning Witsell', 'Back Room Jazz Trio', 'Dirty Loops', 'TIA RAY', 'Robert Glasper', 'Chattanooga Trio', 'Bobby Dreamz BIG', 'Red Stairs Jazz Quartet', 'Green Trio', 'Jazz Holdouts', 'Felix Martin', 'Plini', 'Olepash', 'gum.mp3', 'Clap Cotton', 'Jon Batiste', 'Tommy Emmanuel', 'FRANZ', 'Hailey Tuck', 'Boney James', 'Otis Redding', 'Zander Jazz Trio', 'The Sorcerers', 'BADBADNOTGOOD', 'Robert Glasper', 'Robert Glasper', 'Joan Chamorro', 'Michael Stylez & Co', 'Dorian Concept', 'Olepash', 'Light Hands Trio', 'Robert Elovsson Quartet', 'Tom Misch', 'Sam Cooke', 'Nina Simone', 'Daniel Ögren', 'DJ Ryow a.k.a. Smooth Current', 'Yazmin Lacey', 'Michel Portal', 'Hailey Tuck', 'Hailu Mergia', 'Ella Fitzgerald', 'Kat Edmonson', 'PENPALS', 'Aphrow', 'Tom Bates', 'Vincent Ingala', 'Barney Kessel', 'Joonie', 'GRiZ', 'toconoma', 'Brian Simpson', 'Anthony Lazaro', 'Jerry McHoy', 'Diana Krall', 'Bonobo', 'Taylor McFerrin', 'We Three Trio', 'Måns & Dotter', 'Till Brönner', 'Svaneborg Kardyb', 'Shierro', 'Tate Jackson Trio', 'Dan Evans-Parker', 'Athletic Progression', 'Wildflower Trio', 'Robert Glasper', 'Laurindo Almeida', 'Retromigration', 'Shierro', \"Kahil El'Zabar\", 'Remulak', 'Mangrove Yeltsin', 'gum.mp3', 'Matt Dusk', 'Sylvia Telles', 'Potatohead People', 'Aretha Franklin', 'fox capture plan', 'Jazzystics', 'Huw Marc Bennett', 'Daniel Ögren', 'Thomas Fonnesbæk'], 'genero': 'jazz', 'tipo': 'track', 'año de lanzamiento': ['2020-01-31', '2020-12-25', '2020-12-18', '2020-04-24', '2020-12-01', '2020-04-17', '2020-03-13', '2020-11-03', '2020-02-28', '2020-10-09', '2020-04-03', '2020-10-21', '2020-12-25', '2020-03-13', '2020-02-27', '2020-01-24', '2020-06-25', '2020-10-23', '2020-04-24', '2020-12-25', '2020-11-13', '2020-03-19', '2020-09-18', '2020-07-20', '2020-03-02', '2020-05-29', '2020-05-22', '2020-10-19', '2020-06-12', '2020-12-25', '2020-11-27', '2020-01-31', '2020-12-25', '2020-04-17', '2020-01-31', '2020-01-31', '2020-02-21', '2020-10-16', '2020-01-06', '2020-04-24', '2020-04-24', '2020-04-13', '2020-09-29', '2020-05-08', '2020-05-13', '2020-04-17', '2020-05-01', '2020-10-16', '2020-07-08', '2020-12-25', '2020-04-20', '2020-02-21', '2020-03-27', '2020-12-25', '2020-04-10', '2020-01-31', '2020-01-31', '2020-09-29', '2020-01-06', '2020-12-04', '2020-03-02', '2020-04-20', '2020-05-29', '2020-08-27', '2020-12-04', '2020-06-12', '2020-04-24', '2020-01-22', '2020-12-11', '2020-03-20', '2020-03-02', '2020-08-07', '2020-12-25', '2020-09-03', '2020-04-24', '2020-03-27', '2020-06-08', '2020-12-25', '2020-12-25', '2020-04-03', '2020-01-22', '2020-10-02', '2020-09-29', '2020-08-14', '2020-09-14', '2020-07-10', '2020-06-12', '2020-10-30', '2020-06-12', '2020-05-25', '2020-01-20', '2020-01-22', '2020-03-10', '2020-03-02', '2020-01-06', '2020-02-07', '2020-01-31', '2020-10-23', '2020-08-20', '2020-01-17', '2020-05-29', '2020-05-29', '2020-08-21', '2020-03-14', '2020-04-03', '2020-06-26', '2020-02-28', '2020-12-25', '2020-04-13', '2020-09-29', '2020-06-16', '2020-09-29', '2020-03-05', '2020-09-29', '2020-02-01', '2020-01-17', '2020-05-15', '2020-09-25', '2020-11-13', '2020-09-25', '2020-05-08', '2020-09-18', '2020-11-27', '2020-09-29', '2020-02-21', '2020-11-17', '2020-04-20', '2020-10-30', '2020-05-21', '2020-09-29', '2020-04-24', '2020-09-24', '2020-08-28', '2020-01-06', '2020-08-07', '2020-06-27', '2020-09-04', '2020-03-02', '2020-03-27', '2020-03-13', '2020-03-27', '2020-01-17', '2020-10-16', '2020-03-05', '2020-06-12', '2020-09-17', '2020-10-23', '2020-08-10', '2020-07-07', '2020-04-24', '2020-04-03', '2020-09-25', '2020-07-20', '2020-10-23', '2020-01-12', '2020-02-28', '2020-08-03', '2020-11-17', '2020-02-07', '2020-04-15', '2020-06-03', '2020-01-17', '2020-06-01', '2020-03-29', '2020-11-27', '2020-10-02', '2020-03-27', '2020-11-27', '2020-04-24', '2020-10-23', '2020-03-14', '2020-03-06', '2020-11-06', '2020-05-15', '2020-04-16', '2020-07-17', '2020-09-17', '2020-04-03', '2020-09-18', '2020-10-23', '2020-08-28', '2020-09-17', '2020-04-03', '2020-04-01', '2020-04-03', '2020-12-04', '2020-03-03', '2020-11-18', '2020-08-23', '2020-05-18', '2020-05-08', '2020-01-22', '2020-10-16', '2020-07-03', '2020-12-04', '2020-08-24', '2020-01-31', '2020-11-03', '2020-09-11', '2020-09-04', '2020-10-02', '2020-08-24', '2020-02-21', '2020-05-15', '2020-09-04', '2020-11-15', '2020-10-09', '2020-05-28', '2020-12-18', '2020-04-24', '2020-09-04', '2020-10-02', '2020-09-18', '2020-02-11', '2020-06-04', '2020-11-13', '2020-04-17', '2020-09-25', '2020-09-25', '2020-01-24', '2020-03-14', '2020-08-28', '2020-10-30', '2020-01-31', '2020-07-03', '2020-09-18', '2020-09-17', '2020-04-03', '2020-01-31', '2020-07-17', '2020-09-25', '2020-11-13', '2020-09-29', '2020-05-21', '2020-05-15', '2020-09-25', '2020-05-28', '2020-10-09', '2020-04-24', '2020-09-25', '2020-04-24', '2020-10-16', '2020-06-08', '2020-06-12', '2020-09-23', '2020-09-29', '2020-08-24', '2020-12-02', '2020-01-31', '2020-07-17', '2020-06-06', '2020-08-28', '2020-10-23', '2020-12-18', '2020-01-31', '2020-09-17', '2020-06-12', '2020-05-08', '2020-02-28', '2020-10-23', '2020-12-02', '2020-05-22', '2020-09-18', '2020-08-23', '2020-06-10', '2020-05-01', '2020-08-24', '2020-07-28', '2020-07-10', '2020-11-20', '2020-04-17', '2020-04-17', '2020-02-07', '2020-09-29', '2020-10-26', '2020-04-17', '2020-05-16', '2020-05-18', '2020-06-15', '2020-01-31', '2020-12-18', '2020-04-24', '2020-12-18', '2020-06-12', '2020-10-23', '2020-08-26', '2020-01-31', '2020-11-20', '2020-09-18', '2020-02-07', '2020-09-29', '2020-02-20', '2020-07-03', '2020-03-05', '2020-05-29', '2020-05-21', '2020-02-28', '2020-12-22', '2020-09-25', '2020-03-31', '2020-06-12', '2020-05-21', '2020-04-17', '2020-06-24', '2020-04-01', '2020-12-04', '2020-10-23', '2020-04-24', '2020-11-06', '2020-05-01', '2020-09-18', '2020-12-04', '2020-04-20', '2020-05-08', '2020-05-28', '2020-11-13', '2020-07-10', '2020-06-12', '2020-10-09', '2020-08-07', '2020-05-15', '2020-11-06', '2020-02-21', '2020-06-06', '2020-03-06', '2020-08-03', '2020-05-15', '2020-07-03', '2020-06-23', '2020-10-14', '2020-02-19', '2020-04-03', '2020-09-04', '2020-07-22', '2020-11-27', '2020-08-21', '2020-08-28', '2020-10-30', '2020-09-18', '2020-11-06', '2020-04-20', '2020-08-14', '2020-08-07', '2020-09-29', '2020-07-10', '2020-04-30', '2020-10-16', '2020-01-17', '2020-08-28', '2020-08-07', '2020-08-07', '2020-06-05', '2020-11-27', '2020-02-07', '2020-01-24', '2020-11-01', '2020-07-09', '2020-05-22', '2020-09-15', '2020-12-11', '2020-03-10', '2020-04-03', '2020-09-29', '2020-10-02', '2020-11-27', '2020-08-24', '2020-12-01', '2020-04-03', '2020-12-18', '2020-03-31', '2020-11-06', '2020-07-22', '2020-01-22', '2020-03-05', '2020-04-17', '2020-09-17', '2020-11-03', '2020-10-23', '2020-09-18', '2020-09-17', '2020-12-04', '2020-07-24', '2020-01-24', '2020-09-29', '2020-12-04', '2020-03-04', '2020-03-02', '2020-09-17', '2020-10-30', '2020-06-05', '2020-12-11', '2020-10-30', '2020-05-18', '2020-01-17', '2020-12-01', '2020-09-17', '2020-07-22', '2020-05-18', '2020-03-29', '2020-06-19', '2020-10-23', '2020-10-23', '2020-12-03', '2020-04-24', '2020-09-04', '2020-12-04', '2020-09-25', '2020-08-28', '2020-05-08', '2020-05-29', '2020-11-13', '2020-04-16', '2020-06-03', '2020-12-29', '2020-10-30', '2020-01-17', '2020-03-05', '2020-06-04', '2020-06-15', '2020-11-18', '2020-12-11', '2020-02-07', '2020-12-02', '2020-07-03', '2020-03-08', '2020-12-25', '2020-01-27', '2020-06-05', '2020-11-27', '2020-12-01', '2020-10-21', '2020-08-03', '2020-12-18', '2020-05-01', '2020-07-17', '2020-03-27', '2020-06-12', '2020-09-04', '2020-08-03', '2020-01-24', '2020-12-18', '2020-02-07', '2020-02-07', '2020-09-11', '2020-09-29', '2020-09-25', '2020-12-01', '2020-05-13', '2020-11-13', '2020-10-02', '2020-01-22', '2020-04-03', '2020-04-17', '2020-08-14', '2020-01-09', '2020-12-02', '2020-03-27', '2020-03-27', '2020-03-13', '2020-02-07', '2020-05-22', '2020-01-23', '2020-03-20', '2020-02-21', '2020-02-28', '2020-06-26', '2020-05-08', '2020-07-08', '2020-01-17', '2020-03-06', '2020-06-12', '2020-09-25', '2020-11-13', '2020-11-24', '2020-09-18', '2020-06-04', '2020-10-30', '2020-10-23', '2020-11-17', '2020-12-10', '2020-09-29', '2020-04-03', '2020-07-31', '2020-02-07', '2020-02-29', '2020-11-06', '2020-11-17', '2020-10-23', '2020-06-12', '2020-01-06', '2020-10-21', '2020-08-07', '2020-11-20', '2020-10-30', '2020-10-22', '2020-11-04', '2020-12-18', '2020-09-18', '2020-04-17', '2020-08-14']}\n"
     ]
    },
    {
     "data": {
      "text/plain": [
       "5"
      ]
     },
     "execution_count": 13,
     "metadata": {},
     "output_type": "execute_result"
    }
   ],
   "source": [
    "#AÑO DE LANZAMIENTO 2020\n",
    "for offset in range(0, 500, 50):\n",
    "    canciones = sp.search(q='genre:\"jazz\" year:2020', type='track', limit=50, offset=offset)\n",
    "    for track in canciones['tracks']['items']:\n",
    "        dict_tracks_jazz_2020[\"año de lanzamiento\"].append(track[\"album\"]['release_date'])\n",
    "print(dict_tracks_jazz_2020)\n",
    "len(dict_tracks_jazz_2020)"
   ]
  },
  {
   "cell_type": "code",
   "execution_count": 14,
   "metadata": {},
   "outputs": [
    {
     "data": {
      "text/html": [
       "<div>\n",
       "<style scoped>\n",
       "    .dataframe tbody tr th:only-of-type {\n",
       "        vertical-align: middle;\n",
       "    }\n",
       "\n",
       "    .dataframe tbody tr th {\n",
       "        vertical-align: top;\n",
       "    }\n",
       "\n",
       "    .dataframe thead th {\n",
       "        text-align: right;\n",
       "    }\n",
       "</style>\n",
       "<table border=\"1\" class=\"dataframe\">\n",
       "  <thead>\n",
       "    <tr style=\"text-align: right;\">\n",
       "      <th></th>\n",
       "      <th>canciones</th>\n",
       "      <th>artistas</th>\n",
       "      <th>genero</th>\n",
       "      <th>tipo</th>\n",
       "      <th>año de lanzamiento</th>\n",
       "    </tr>\n",
       "  </thead>\n",
       "  <tbody>\n",
       "    <tr>\n",
       "      <th>0</th>\n",
       "      <td>Opendoors</td>\n",
       "      <td>Underground Canopy</td>\n",
       "      <td>jazz</td>\n",
       "      <td>track</td>\n",
       "      <td>2019-05-03</td>\n",
       "    </tr>\n",
       "    <tr>\n",
       "      <th>1</th>\n",
       "      <td>Temptations</td>\n",
       "      <td>Kris Bowers</td>\n",
       "      <td>jazz</td>\n",
       "      <td>track</td>\n",
       "      <td>2019-05-03</td>\n",
       "    </tr>\n",
       "    <tr>\n",
       "      <th>2</th>\n",
       "      <td>Griztronics</td>\n",
       "      <td>Jon Batiste</td>\n",
       "      <td>jazz</td>\n",
       "      <td>track</td>\n",
       "      <td>2019-08-14</td>\n",
       "    </tr>\n",
       "    <tr>\n",
       "      <th>3</th>\n",
       "      <td>En Su Lugar</td>\n",
       "      <td>Tom Misch</td>\n",
       "      <td>jazz</td>\n",
       "      <td>track</td>\n",
       "      <td>2019-07-12</td>\n",
       "    </tr>\n",
       "    <tr>\n",
       "      <th>4</th>\n",
       "      <td>Clouds</td>\n",
       "      <td>Eddie Condon</td>\n",
       "      <td>jazz</td>\n",
       "      <td>track</td>\n",
       "      <td>2019-06-28</td>\n",
       "    </tr>\n",
       "    <tr>\n",
       "      <th>...</th>\n",
       "      <td>...</td>\n",
       "      <td>...</td>\n",
       "      <td>...</td>\n",
       "      <td>...</td>\n",
       "      <td>...</td>\n",
       "    </tr>\n",
       "    <tr>\n",
       "      <th>495</th>\n",
       "      <td>Good to Go</td>\n",
       "      <td>fox capture plan</td>\n",
       "      <td>jazz</td>\n",
       "      <td>track</td>\n",
       "      <td>2019-03-04</td>\n",
       "    </tr>\n",
       "    <tr>\n",
       "      <th>496</th>\n",
       "      <td>Spike</td>\n",
       "      <td>Jazzystics</td>\n",
       "      <td>jazz</td>\n",
       "      <td>track</td>\n",
       "      <td>2019-06-07</td>\n",
       "    </tr>\n",
       "    <tr>\n",
       "      <th>497</th>\n",
       "      <td>Heliophobia II</td>\n",
       "      <td>Huw Marc Bennett</td>\n",
       "      <td>jazz</td>\n",
       "      <td>track</td>\n",
       "      <td>2019-07-05</td>\n",
       "    </tr>\n",
       "    <tr>\n",
       "      <th>498</th>\n",
       "      <td>Music Cafe Jazz</td>\n",
       "      <td>Daniel Ögren</td>\n",
       "      <td>jazz</td>\n",
       "      <td>track</td>\n",
       "      <td>2019-12-16</td>\n",
       "    </tr>\n",
       "    <tr>\n",
       "      <th>499</th>\n",
       "      <td>Gonna Get Funky</td>\n",
       "      <td>Thomas Fonnesbæk</td>\n",
       "      <td>jazz</td>\n",
       "      <td>track</td>\n",
       "      <td>2019-11-15</td>\n",
       "    </tr>\n",
       "  </tbody>\n",
       "</table>\n",
       "<p>500 rows × 5 columns</p>\n",
       "</div>"
      ],
      "text/plain": [
       "           canciones            artistas genero   tipo año de lanzamiento\n",
       "0          Opendoors  Underground Canopy   jazz  track         2019-05-03\n",
       "1        Temptations         Kris Bowers   jazz  track         2019-05-03\n",
       "2        Griztronics         Jon Batiste   jazz  track         2019-08-14\n",
       "3        En Su Lugar           Tom Misch   jazz  track         2019-07-12\n",
       "4             Clouds        Eddie Condon   jazz  track         2019-06-28\n",
       "..               ...                 ...    ...    ...                ...\n",
       "495       Good to Go    fox capture plan   jazz  track         2019-03-04\n",
       "496            Spike          Jazzystics   jazz  track         2019-06-07\n",
       "497   Heliophobia II    Huw Marc Bennett   jazz  track         2019-07-05\n",
       "498  Music Cafe Jazz        Daniel Ögren   jazz  track         2019-12-16\n",
       "499  Gonna Get Funky    Thomas Fonnesbæk   jazz  track         2019-11-15\n",
       "\n",
       "[500 rows x 5 columns]"
      ]
     },
     "execution_count": 14,
     "metadata": {},
     "output_type": "execute_result"
    }
   ],
   "source": [
    "df_2019 = pd.DataFrame(dict_tracks_jazz_2019)\n",
    "df_2019"
   ]
  },
  {
   "cell_type": "code",
   "execution_count": 15,
   "metadata": {},
   "outputs": [
    {
     "data": {
      "text/html": [
       "<div>\n",
       "<style scoped>\n",
       "    .dataframe tbody tr th:only-of-type {\n",
       "        vertical-align: middle;\n",
       "    }\n",
       "\n",
       "    .dataframe tbody tr th {\n",
       "        vertical-align: top;\n",
       "    }\n",
       "\n",
       "    .dataframe thead th {\n",
       "        text-align: right;\n",
       "    }\n",
       "</style>\n",
       "<table border=\"1\" class=\"dataframe\">\n",
       "  <thead>\n",
       "    <tr style=\"text-align: right;\">\n",
       "      <th></th>\n",
       "      <th>canciones</th>\n",
       "      <th>artistas</th>\n",
       "      <th>genero</th>\n",
       "      <th>tipo</th>\n",
       "      <th>año de lanzamiento</th>\n",
       "    </tr>\n",
       "  </thead>\n",
       "  <tbody>\n",
       "    <tr>\n",
       "      <th>0</th>\n",
       "      <td>It's a Blue World</td>\n",
       "      <td>Underground Canopy</td>\n",
       "      <td>jazz</td>\n",
       "      <td>track</td>\n",
       "      <td>2020-01-31</td>\n",
       "    </tr>\n",
       "    <tr>\n",
       "      <th>1</th>\n",
       "      <td>Can't Sleep</td>\n",
       "      <td>Kris Bowers</td>\n",
       "      <td>jazz</td>\n",
       "      <td>track</td>\n",
       "      <td>2020-12-25</td>\n",
       "    </tr>\n",
       "    <tr>\n",
       "      <th>2</th>\n",
       "      <td>Everything Happens To Me</td>\n",
       "      <td>Jon Batiste</td>\n",
       "      <td>jazz</td>\n",
       "      <td>track</td>\n",
       "      <td>2020-12-18</td>\n",
       "    </tr>\n",
       "    <tr>\n",
       "      <th>3</th>\n",
       "      <td>Jazz Coffee Vibes</td>\n",
       "      <td>Tom Misch</td>\n",
       "      <td>jazz</td>\n",
       "      <td>track</td>\n",
       "      <td>2020-04-24</td>\n",
       "    </tr>\n",
       "    <tr>\n",
       "      <th>4</th>\n",
       "      <td>This Simulation Is A Good One</td>\n",
       "      <td>Eddie Condon</td>\n",
       "      <td>jazz</td>\n",
       "      <td>track</td>\n",
       "      <td>2020-12-01</td>\n",
       "    </tr>\n",
       "    <tr>\n",
       "      <th>...</th>\n",
       "      <td>...</td>\n",
       "      <td>...</td>\n",
       "      <td>...</td>\n",
       "      <td>...</td>\n",
       "      <td>...</td>\n",
       "    </tr>\n",
       "    <tr>\n",
       "      <th>495</th>\n",
       "      <td>Good to Go</td>\n",
       "      <td>fox capture plan</td>\n",
       "      <td>jazz</td>\n",
       "      <td>track</td>\n",
       "      <td>2020-11-04</td>\n",
       "    </tr>\n",
       "    <tr>\n",
       "      <th>496</th>\n",
       "      <td>Spike</td>\n",
       "      <td>Jazzystics</td>\n",
       "      <td>jazz</td>\n",
       "      <td>track</td>\n",
       "      <td>2020-12-18</td>\n",
       "    </tr>\n",
       "    <tr>\n",
       "      <th>497</th>\n",
       "      <td>Heliophobia II</td>\n",
       "      <td>Huw Marc Bennett</td>\n",
       "      <td>jazz</td>\n",
       "      <td>track</td>\n",
       "      <td>2020-09-18</td>\n",
       "    </tr>\n",
       "    <tr>\n",
       "      <th>498</th>\n",
       "      <td>Music Cafe Jazz</td>\n",
       "      <td>Daniel Ögren</td>\n",
       "      <td>jazz</td>\n",
       "      <td>track</td>\n",
       "      <td>2020-04-17</td>\n",
       "    </tr>\n",
       "    <tr>\n",
       "      <th>499</th>\n",
       "      <td>Gonna Get Funky</td>\n",
       "      <td>Thomas Fonnesbæk</td>\n",
       "      <td>jazz</td>\n",
       "      <td>track</td>\n",
       "      <td>2020-08-14</td>\n",
       "    </tr>\n",
       "  </tbody>\n",
       "</table>\n",
       "<p>500 rows × 5 columns</p>\n",
       "</div>"
      ],
      "text/plain": [
       "                         canciones            artistas genero   tipo  \\\n",
       "0                It's a Blue World  Underground Canopy   jazz  track   \n",
       "1                      Can't Sleep         Kris Bowers   jazz  track   \n",
       "2         Everything Happens To Me         Jon Batiste   jazz  track   \n",
       "3                Jazz Coffee Vibes           Tom Misch   jazz  track   \n",
       "4    This Simulation Is A Good One        Eddie Condon   jazz  track   \n",
       "..                             ...                 ...    ...    ...   \n",
       "495                     Good to Go    fox capture plan   jazz  track   \n",
       "496                          Spike          Jazzystics   jazz  track   \n",
       "497                 Heliophobia II    Huw Marc Bennett   jazz  track   \n",
       "498                Music Cafe Jazz        Daniel Ögren   jazz  track   \n",
       "499                Gonna Get Funky    Thomas Fonnesbæk   jazz  track   \n",
       "\n",
       "    año de lanzamiento  \n",
       "0           2020-01-31  \n",
       "1           2020-12-25  \n",
       "2           2020-12-18  \n",
       "3           2020-04-24  \n",
       "4           2020-12-01  \n",
       "..                 ...  \n",
       "495         2020-11-04  \n",
       "496         2020-12-18  \n",
       "497         2020-09-18  \n",
       "498         2020-04-17  \n",
       "499         2020-08-14  \n",
       "\n",
       "[500 rows x 5 columns]"
      ]
     },
     "execution_count": 15,
     "metadata": {},
     "output_type": "execute_result"
    }
   ],
   "source": [
    "df_2020 = pd.DataFrame(dict_tracks_jazz_2020)\n",
    "df_2020"
   ]
  },
  {
   "cell_type": "markdown",
   "metadata": {},
   "source": [
    "## MUSICBRAINZ\n"
   ]
  },
  {
   "cell_type": "code",
   "execution_count": 16,
   "metadata": {},
   "outputs": [],
   "source": [
    "#pip install musicbrainzngs #Instalamos la libreria"
   ]
  },
  {
   "cell_type": "code",
   "execution_count": 17,
   "metadata": {},
   "outputs": [],
   "source": [
    "import musicbrainzngs"
   ]
  },
  {
   "cell_type": "code",
   "execution_count": 18,
   "metadata": {},
   "outputs": [],
   "source": [
    "musicbrainzngs.set_useragent(\"MusicStream\", \"1.0\", \"ireneaamm@gmail.com\")"
   ]
  },
  {
   "cell_type": "markdown",
   "metadata": {},
   "source": [
    "### ARTISTAS 2019"
   ]
  },
  {
   "cell_type": "code",
   "execution_count": 19,
   "metadata": {},
   "outputs": [
    {
     "name": "stdout",
     "output_type": "stream",
     "text": [
      "{'Gregory Porter', 'Shakatak', \"Scott Bradlee's Postmodern Jukebox\", 'Joonie', 'Espen Eriksen Trio', 'Dave Brubeck', 'Stefania Tallini', 'Four80East', 'Michael Wollny', 'Mandevilla', 'The Sweetgreens', 'Folamour', 'The Molsbees', 'Chattanooga Trio', 'Robert Elovsson Quartet', 'Tom Misch', 'Bobby Dreamz BIG', 'Dorian Concept', 'Wildflower Trio', 'Louis Silva Band', 'Anita Rosswell', 'Back Room Jazz Trio', 'Robert Glasper', 'Angelina Jordan', 'Baptiste Herbin', 'Matt Dusk', 'Brendan Maynard + 2', 'John Coltrane', 'The Andy Love Band', 'Bonobo', 'Nenei', 'Plini', 'Ryan Montano', 'Hailu Mergia', 'Ibrahim Maalouf', 'Lydia Baskow Trio', 'Chinese Man', 'Chris Standring', 'n o r m a l', 'Ron Miles', 'Jeremy Pelt', 'Kista', 'The Sorcerers', 'Carol Albert', 'Alfa Mist', 'Groove Da Praia', 'SamuW', 'Gathering in Jazz', 'KTZ Players', 'yeyts.', 'Dea Sancta', 'The Smooth Jazz Alley', 'Darren Rahn', 'Waxamilion', 'Olepash', 'Sam Butera', 'Kamasi Washington', 'Massimo Faraò', 'Coffeehouse BGM Station', 'Otesla', 'Doris Day', 'Rufio Patio', 'Holborns', 'Mary Lattimore', 'Serenity State of Mind', 'Potatohead People', 'BADBADNOTGOOD', 'Yazmin Lacey', 'GRiZ', 'Caravan Palace', 'Clap Cotton', 'Light Hands Trio', 'Dee Brown', 'Tom Stills Quartet', 'Ben & Katsy', 'BimBomBam Orchestra', 'Michael Bublé', 'Jonah Jones', 'Eli Starr Trio', 'Anja Lechner', 'The Pharcyde', 'Ill Considered', 'Red Rose Jazz Trio', 'Svaneborg Kardyb', 'Dan Kye', 'Dee Lucas', 'Nina Simone', 'Randy Scott', 'Godfather Don', 'Oscar Peterson Trio', 'Lin Rountree', 'Tony DeSare', 'Ambrose Akinmusire', 'Ergo Montserrat', 'Johnny Smith', 'Long Island Quartet', 'Alabaster DePlume', 'UWS Jazz Trio', 'Azymuth', 'Self-Isolation Coffeehouse', 'Mvdk', 'Midtown Trio', 'The Myth of the Turtle', 'Carsten Dahl', 'Norah Jones', 'Ellen Andrea Wang', 'Konteks', 'Thomas Fonnesbæk', 'Night and Day Trio', 'Dirty Loops', 'Simply Coffeehouse', 'Felix Martin', 'Anita Baker', 'Chad Lefkowitz-Brown', 'Dan Evans-Parker', 'The Colours That Rise', 'Quantic', 'Norman Brown', 'Kat Edmonson', 'Kokoroko', 'Dave \"Baby\" Cortez', 'Stephane Wrembel', 'Deca', 'Bladverk Band', 'Boney James', 'Gillian Spencer Trio', 'Adam Hawley', 'Trois Amis', 'Jack Gardiner', 'Asako Toki', 'We Three Trio', 'Jeff Laine & Co', 'Laurindo Almeida', \"Kahil El'Zabar\", 'Oilix', 'Vincent Ingala', 'Cory Henry', 'Burt Mitchell', 'Katashi Kaitō', 'Cafe Music BGM channel', 'Magpie Jazz Trio', 'gum.mp3', 'DJ Ryow a.k.a. Smooth Current', 'Red Brick Lane', 'Otis Redding', 'South West Cafe Trio', 'Greg Spero', 'Athletic Progression', 'Immanuel Wilkins', 'Lennie Tristano', 'The Jazz Cultivators', 'Eddie Condon', 'Enrico Pieranunzi', 'Sam Cooke', 'igory', 'Tour-Maubourg', 'Till Brönner', 'Peggy Lee', 'Soul Wun', 'Brian Culbertson', 'Ebi Soda', 'Erroll Garner', 'Pigeondust', 'Kaspa.', 'Aretha Franklin', 'Marcos Caixa', 'Mangrove Yeltsin', 'Ardhito Pramono', 'Yoni Mayraz', 'Hailey Tuck', 'Kris Bowers', 'Barney Kessel', 'Sparrow & Bird', 'iwamizu', '110th Street Jazz Trio', 'Red Stairs Jazz Quartet', 'Aphrow', 'Carl Bagge Trio', 'Anthony Lazaro', 'Jazzystics', 'Gerald Albright', 'Fulton Street Players', 'Vintage Emporium', 'Charlie Wilder Band', 'Wildcookie', 'Zander Jazz Trio', 'Sylvia Telles', 'Shierro', 'Tate Jackson Trio', 'Alex Parchment', 'Vernon Sanders', 'Taylor McFerrin', 'Navy Blue', 'Tommy Emmanuel', 'Felipe Gordon', 'Jeff Beck', 'Michael J Thomas', 'Emapea', 'Snazzback', 'Mansur Brown', 'Henning Witsell', 'Daniel Ögren', 'Parov Stelar', 'Silvana Estrada', 'TIA RAY', 'Tony Saunders', 'Stiff Cat Steve', 'Sweet Nothings Band', 'Walter Smith III', 'Ragan Whiteside', 'Jazz Holdouts', 'Ennio Máno', 'Colin Stetson', 'Moonspatz', 'Remulak', 'PYJÆN', 'Freddie Fox', 'Phil Denny', 'Lauren Richardson', 'Reese Quartet', 'Brian Simpson', 'Greydon Park Band', 'PENPALS', 'Hara Noda', 'Oscar Peterson', 'Turning Trio', 'Skinny Hightower', 'Jørgen Emborg', 'Måns & Dotter', 'Astoria Three', 'Kamaal Williams', 'Diana Krall', 'Emma-Jean Thackray', 'Ken Navarro', 'Oli Silk', 'Chaos In The CBD', 'Siimbiie Lakew', 'Juraj Stanik Trio', 'RINZ.', 'Living Room', 'Krister & Dalbani', 'Green Trio', 'Boozoo Bajou', 'Kuipers & Winter', 'Melody Gardot', 'Thelonious Coltrane', 'Eve St. Jones', 'Art Blakey & The Jazz Messengers', 'Edward Simon', 'Michael Stylez & Co', 'Nick Colionne', 'Retromigration', 'Huw Marc Bennett', 'CMC 3', 'paris91', 'Flatland Park', 'Shalosh', 'Joan Chamorro', 'Ituana', 'Michel Portal', 'Arne Torvik Trio', \"Barry Can't Swim\", 'Jon Batiste', 'Butcher Brown', 'FloFilz', 'Bibi Tanga & The Selenites', 'Miramare', 'Kim Waters', 'Underground Canopy', 'Hudson Harris & Haim', 'Spaze Windu', 'Jitwam', 'ichikoro', 'Yussef Dayes', 'Greg Manning', 'Johnny Hodges', 'Chris \"Big Dog\" Davis', 'Martha Tilton', 'Jamie Lancaster', 'Jerry McHoy', 'Ella Fitzgerald', 'Tom Bates', 'fox capture plan', 'FRANZ', 'CrazyJaZz', 'toconoma'}\n"
     ]
    }
   ],
   "source": [
    "set_artistas_2019= set(dict_tracks_jazz_2019['artistas'])  # Convertir el valor asociado a la clave 'artistas' en un set para limpiar los artistas repetidos\n",
    "print(set_artistas_2019)"
   ]
  },
  {
   "cell_type": "code",
   "execution_count": 20,
   "metadata": {},
   "outputs": [
    {
     "data": {
      "text/plain": [
       "286"
      ]
     },
     "execution_count": 20,
     "metadata": {},
     "output_type": "execute_result"
    }
   ],
   "source": [
    "lista_artistas_2019 = list(set_artistas_2019) # pasarlo a lista para poder iterar en el bucle for \n",
    "len(lista_artistas_2019)"
   ]
  },
  {
   "cell_type": "code",
   "execution_count": 21,
   "metadata": {},
   "outputs": [
    {
     "name": "stdout",
     "output_type": "stream",
     "text": [
      "{'artist-list': [{'id': 'a74b1b7f-71a5-4011-9441-d0b5e4122711', 'type': 'Group', 'ext:score': '100', 'name': 'Radiohead', 'sort-name': 'Radiohead', 'country': 'GB', 'area': {'id': '8a754a16-0027-3a29-b6d7-2b40ea0481ed', 'type': 'Country', 'name': 'United Kingdom', 'sort-name': 'United Kingdom', 'life-span': {'ended': 'false'}}, 'begin-area': {'id': 'd840d4b3-8987-4626-928b-398de760cc24', 'type': 'City', 'name': 'Abingdon-on-Thames', 'sort-name': 'Abingdon-on-Thames', 'life-span': {'ended': 'false'}}, 'isni-list': ['0000000115475162'], 'life-span': {'begin': '1991', 'ended': 'false'}, 'alias-list': [{'sort-name': 'r/head', 'type': 'Search hint', 'alias': 'r/head'}, {'locale': 'zh', 'sort-name': '电台司令', 'type': 'Artist name', 'primary': 'primary', 'alias': '电台司令'}, {'locale': 'ja', 'sort-name': 'れでぃおへっど', 'type': 'Artist name', 'primary': 'primary', 'alias': 'レディオヘッド'}, {'sort-name': 'Radiohead & Thom Yorke', 'type': 'Search hint', 'alias': 'Radiohead & Thom Yorke'}, {'sort-name': 'Radio Head', 'type': 'Search hint', 'alias': 'Radio Head'}], 'tag-list': [{'count': '13', 'name': 'rock'}, {'count': '9', 'name': 'electronic'}, {'count': '-1', 'name': 'post-rock'}, {'count': '31', 'name': 'alternative rock'}, {'count': '12', 'name': 'british'}, {'count': '-1', 'name': 'grunge'}, {'count': '0', 'name': 'idm'}, {'count': '0', 'name': 'uk'}, {'count': '-1', 'name': 'britannique'}, {'count': '3', 'name': 'indie rock'}, {'count': '1', 'name': 'alternative'}, {'count': '1', 'name': 'britpop'}, {'count': '21', 'name': 'art rock'}, {'count': '1', 'name': 'post-grunge'}, {'count': '8', 'name': 'experimental rock'}, {'count': '0', 'name': 'english'}, {'count': '0', 'name': 'chamber pop'}, {'count': '-1', 'name': 'parlophone'}, {'count': '-2', 'name': 'england'}, {'count': '0', 'name': 'indietronica'}, {'count': '-1', 'name': 'melancholic'}, {'count': '0', 'name': 'oxford'}, {'count': '0', 'name': 'crossover prog'}, {'count': '-1', 'name': 'bootleg'}, {'count': '-1', 'name': 'rock and indie'}, {'count': '0', 'name': 'britrock'}, {'count': '1', 'name': 'electronic rock'}, {'count': '0', 'name': 'ambient pop'}, {'count': '-2', 'name': 'c’était mieux avant'}, {'count': '3', 'name': 'art pop'}, {'count': '-1', 'name': 'nude'}, {'count': '0', 'name': 'trap edm'}, {'count': '-2', 'name': 'sacred cows'}, {'count': '-1', 'name': 'lolicore'}, {'count': '2', 'name': 'post-britpop'}, {'count': '-2', 'name': '1992-1998'}, {'count': '-1', 'name': 'new grave'}]}, {'id': '3ecaa799-94ae-45cd-9ad1-bcabae4073e1', 'ext:score': '57', 'name': 'radiohead 3', 'sort-name': 'radiohead 3', 'disambiguation': 'Capsmusic LTD. artist', 'life-span': {'ended': 'false'}}, {'id': 'e48fc8b3-e8ab-4dd4-9dc8-6b0f06ef07d6', 'ext:score': '53', 'name': 'Radiohead Cover Brasil', 'sort-name': 'Radiohead Cover Brasil', 'area': {'id': '33e0f86c-d709-448d-a484-d55778913af1', 'type': 'City', 'name': 'São Paulo', 'sort-name': 'São Paulo', 'life-span': {'ended': 'false'}}, 'life-span': {'ended': 'false'}}, {'id': 'b21ab3cc-88ed-4d2b-bd01-6edb83c37900', 'type': 'Group', 'ext:score': '53', 'name': 'Fake Plastic Radiohead', 'sort-name': 'Fake Plastic Radiohead', 'begin-area': {'id': '806b9b3b-5daf-4eaa-807d-7a2a29cde0da', 'type': 'City', 'name': 'Leicester', 'sort-name': 'Leicester', 'life-span': {'ended': 'false'}}, 'life-span': {'begin': '2021-09-25', 'ended': 'false'}}, {'id': '1545e981-65ca-4123-9223-ae8efd72cf54', 'type': 'Group', 'ext:score': '50', 'name': 'An Evening of Radiohead', 'sort-name': 'An Evening of Radiohead', 'area': {'id': '6658f787-692d-417f-852c-dcca728d5849', 'type': 'City', 'name': 'Edinburgh', 'sort-name': 'Edinburgh', 'life-span': {'ended': 'false'}}, 'disambiguation': 'Radiohead Cover Band', 'life-span': {'begin': '2024-01-01', 'ended': 'false'}}], 'artist-count': 5}\n"
     ]
    }
   ],
   "source": [
    "#ejemplo de como muestra los resultados:\n",
    "result = musicbrainzngs.search_artists(artist='Radiohead')\n",
    "print(result)"
   ]
  },
  {
   "cell_type": "code",
   "execution_count": 23,
   "metadata": {},
   "outputs": [],
   "source": [
    "#Aqui tenemos la búsqueda de un artista. Trabajando con la librería. \n",
    "artistas_2019_mb = {\"artista\": [], \"pais de origen\": [], \"area de origen\": [], \"fecha inicio actividad\": [], \"fin de actividad\": []} \n",
    "for a in lista_artistas_2019:\n",
    "    result = musicbrainzngs.search_artists(artist=a)\n",
    "    try:\n",
    "        artistas_2019_mb[\"artista\"].append(result[\"artist-list\"][0][\"name\"])\n",
    "    except:\n",
    "        artistas_2019_mb[\"artista\"].append(\"no data\")\n",
    "    try:\n",
    "        artistas_2019_mb[\"pais de origen\"].append(result[\"artist-list\"][0][\"area\"][\"name\"])\n",
    "    except:\n",
    "        artistas_2019_mb[\"pais de origen\"].append(\"no data\")\n",
    "    try:\n",
    "        artistas_2019_mb[\"area de origen\"].append(result[\"artist-list\"][0][\"begin-area\"][\"name\"])\n",
    "    except:\n",
    "        artistas_2019_mb[\"area de origen\"].append(\"no data\") \n",
    "    try:\n",
    "        artistas_2019_mb[\"fecha inicio actividad\"].append(result[\"artist-list\"][0][\"life-span\"][\"begin\"])\n",
    "    except:\n",
    "        artistas_2019_mb[\"fecha inicio actividad\"].append(\"no data\")\n",
    "    try:\n",
    "        if result[\"artist-list\"][0][\"life-span\"][\"ended\"] == False:\n",
    "            artistas_2019_mb[\"fin de actividad\"].append(\"no activo\")\n",
    "        else:\n",
    "            artistas_2019_mb[\"fin de actividad\"].append(\"activo\")\n",
    "    except:\n",
    "        artistas_2019_mb[\"fin de actividad\"].append(\"no data\")\n"
   ]
  },
  {
   "cell_type": "code",
   "execution_count": 24,
   "metadata": {},
   "outputs": [
    {
     "data": {
      "text/html": [
       "<div>\n",
       "<style scoped>\n",
       "    .dataframe tbody tr th:only-of-type {\n",
       "        vertical-align: middle;\n",
       "    }\n",
       "\n",
       "    .dataframe tbody tr th {\n",
       "        vertical-align: top;\n",
       "    }\n",
       "\n",
       "    .dataframe thead th {\n",
       "        text-align: right;\n",
       "    }\n",
       "</style>\n",
       "<table border=\"1\" class=\"dataframe\">\n",
       "  <thead>\n",
       "    <tr style=\"text-align: right;\">\n",
       "      <th></th>\n",
       "      <th>artista</th>\n",
       "      <th>pais de origen</th>\n",
       "      <th>area de origen</th>\n",
       "      <th>fecha inicio actividad</th>\n",
       "      <th>fin de actividad</th>\n",
       "    </tr>\n",
       "  </thead>\n",
       "  <tbody>\n",
       "    <tr>\n",
       "      <th>0</th>\n",
       "      <td>Gregory Porter</td>\n",
       "      <td>United States</td>\n",
       "      <td>Sacramento</td>\n",
       "      <td>1971-11-04</td>\n",
       "      <td>activo</td>\n",
       "    </tr>\n",
       "    <tr>\n",
       "      <th>1</th>\n",
       "      <td>Shakatak</td>\n",
       "      <td>United Kingdom</td>\n",
       "      <td>no data</td>\n",
       "      <td>1980</td>\n",
       "      <td>activo</td>\n",
       "    </tr>\n",
       "    <tr>\n",
       "      <th>2</th>\n",
       "      <td>Postmodern Jukebox</td>\n",
       "      <td>United States</td>\n",
       "      <td>New York</td>\n",
       "      <td>2012</td>\n",
       "      <td>activo</td>\n",
       "    </tr>\n",
       "    <tr>\n",
       "      <th>3</th>\n",
       "      <td>JOONIE</td>\n",
       "      <td>South Korea</td>\n",
       "      <td>no data</td>\n",
       "      <td>no data</td>\n",
       "      <td>activo</td>\n",
       "    </tr>\n",
       "    <tr>\n",
       "      <th>4</th>\n",
       "      <td>Espen Eriksen Trio</td>\n",
       "      <td>Norway</td>\n",
       "      <td>no data</td>\n",
       "      <td>no data</td>\n",
       "      <td>activo</td>\n",
       "    </tr>\n",
       "    <tr>\n",
       "      <th>...</th>\n",
       "      <td>...</td>\n",
       "      <td>...</td>\n",
       "      <td>...</td>\n",
       "      <td>...</td>\n",
       "      <td>...</td>\n",
       "    </tr>\n",
       "    <tr>\n",
       "      <th>281</th>\n",
       "      <td>Tom Jones</td>\n",
       "      <td>Wales</td>\n",
       "      <td>Pontypridd</td>\n",
       "      <td>1940-06-07</td>\n",
       "      <td>activo</td>\n",
       "    </tr>\n",
       "    <tr>\n",
       "      <th>282</th>\n",
       "      <td>fox capture plan</td>\n",
       "      <td>Japan</td>\n",
       "      <td>no data</td>\n",
       "      <td>2012</td>\n",
       "      <td>activo</td>\n",
       "    </tr>\n",
       "    <tr>\n",
       "      <th>283</th>\n",
       "      <td>Franz Schubert</td>\n",
       "      <td>Austria</td>\n",
       "      <td>Alsergrund</td>\n",
       "      <td>1797-01-31</td>\n",
       "      <td>activo</td>\n",
       "    </tr>\n",
       "    <tr>\n",
       "      <th>284</th>\n",
       "      <td>CrazyJaZz</td>\n",
       "      <td>no data</td>\n",
       "      <td>no data</td>\n",
       "      <td>no data</td>\n",
       "      <td>activo</td>\n",
       "    </tr>\n",
       "    <tr>\n",
       "      <th>285</th>\n",
       "      <td>toconoma</td>\n",
       "      <td>Japan</td>\n",
       "      <td>Tokyo</td>\n",
       "      <td>2008</td>\n",
       "      <td>activo</td>\n",
       "    </tr>\n",
       "  </tbody>\n",
       "</table>\n",
       "<p>286 rows × 5 columns</p>\n",
       "</div>"
      ],
      "text/plain": [
       "                artista  pais de origen area de origen fecha inicio actividad  \\\n",
       "0        Gregory Porter   United States     Sacramento             1971-11-04   \n",
       "1              Shakatak  United Kingdom        no data                   1980   \n",
       "2    Postmodern Jukebox   United States       New York                   2012   \n",
       "3                JOONIE     South Korea        no data                no data   \n",
       "4    Espen Eriksen Trio          Norway        no data                no data   \n",
       "..                  ...             ...            ...                    ...   \n",
       "281           Tom Jones           Wales     Pontypridd             1940-06-07   \n",
       "282    fox capture plan           Japan        no data                   2012   \n",
       "283      Franz Schubert         Austria     Alsergrund             1797-01-31   \n",
       "284           CrazyJaZz         no data        no data                no data   \n",
       "285            toconoma           Japan          Tokyo                   2008   \n",
       "\n",
       "    fin de actividad  \n",
       "0             activo  \n",
       "1             activo  \n",
       "2             activo  \n",
       "3             activo  \n",
       "4             activo  \n",
       "..               ...  \n",
       "281           activo  \n",
       "282           activo  \n",
       "283           activo  \n",
       "284           activo  \n",
       "285           activo  \n",
       "\n",
       "[286 rows x 5 columns]"
      ]
     },
     "execution_count": 24,
     "metadata": {},
     "output_type": "execute_result"
    }
   ],
   "source": [
    "pd.DataFrame(artistas_2019_mb)"
   ]
  },
  {
   "cell_type": "markdown",
   "metadata": {},
   "source": [
    "### ARTISTAS 2020"
   ]
  },
  {
   "cell_type": "code",
   "execution_count": 25,
   "metadata": {},
   "outputs": [
    {
     "name": "stdout",
     "output_type": "stream",
     "text": [
      "{'Gregory Porter', 'Shakatak', \"Scott Bradlee's Postmodern Jukebox\", 'Joonie', 'Espen Eriksen Trio', 'Dave Brubeck', 'Stefania Tallini', 'Four80East', 'Michael Wollny', 'Mandevilla', 'The Sweetgreens', 'Folamour', 'The Molsbees', 'Chattanooga Trio', 'Robert Elovsson Quartet', 'Tom Misch', 'Bobby Dreamz BIG', 'Dorian Concept', 'Wildflower Trio', 'Louis Silva Band', 'Anita Rosswell', 'Back Room Jazz Trio', 'Robert Glasper', 'Angelina Jordan', 'Baptiste Herbin', 'Matt Dusk', 'Brendan Maynard + 2', 'John Coltrane', 'The Andy Love Band', 'Bonobo', 'Nenei', 'Plini', 'Ryan Montano', 'Hailu Mergia', 'Ibrahim Maalouf', 'Lydia Baskow Trio', 'Chinese Man', 'Chris Standring', 'n o r m a l', 'Ron Miles', 'Jeremy Pelt', 'Kista', 'The Sorcerers', 'Carol Albert', 'Alfa Mist', 'Groove Da Praia', 'SamuW', 'Gathering in Jazz', 'KTZ Players', 'yeyts.', 'Dea Sancta', 'The Smooth Jazz Alley', 'Darren Rahn', 'Waxamilion', 'Olepash', 'Sam Butera', 'Kamasi Washington', 'Massimo Faraò', 'Coffeehouse BGM Station', 'Otesla', 'Doris Day', 'Rufio Patio', 'Holborns', 'Mary Lattimore', 'Serenity State of Mind', 'Potatohead People', 'BADBADNOTGOOD', 'Yazmin Lacey', 'GRiZ', 'Caravan Palace', 'Clap Cotton', 'Light Hands Trio', 'Dee Brown', 'Tom Stills Quartet', 'Ben & Katsy', 'BimBomBam Orchestra', 'Michael Bublé', 'Jonah Jones', 'Eli Starr Trio', 'Anja Lechner', 'The Pharcyde', 'Ill Considered', 'Red Rose Jazz Trio', 'Svaneborg Kardyb', 'Dan Kye', 'Dee Lucas', 'Nina Simone', 'Randy Scott', 'Godfather Don', 'Oscar Peterson Trio', 'Lin Rountree', 'Tony DeSare', 'Ambrose Akinmusire', 'Ergo Montserrat', 'Johnny Smith', 'Long Island Quartet', 'Alabaster DePlume', 'UWS Jazz Trio', 'Azymuth', 'Self-Isolation Coffeehouse', 'Mvdk', 'Midtown Trio', 'The Myth of the Turtle', 'Carsten Dahl', 'Norah Jones', 'Ellen Andrea Wang', 'Konteks', 'Thomas Fonnesbæk', 'Night and Day Trio', 'Dirty Loops', 'Simply Coffeehouse', 'Felix Martin', 'Anita Baker', 'Chad Lefkowitz-Brown', 'Dan Evans-Parker', 'The Colours That Rise', 'Quantic', 'Norman Brown', 'Kat Edmonson', 'Kokoroko', 'Dave \"Baby\" Cortez', 'Stephane Wrembel', 'Deca', 'Bladverk Band', 'Boney James', 'Gillian Spencer Trio', 'Adam Hawley', 'Trois Amis', 'Jack Gardiner', 'Asako Toki', 'We Three Trio', 'Jeff Laine & Co', 'Laurindo Almeida', \"Kahil El'Zabar\", 'Oilix', 'Vincent Ingala', 'Cory Henry', 'Burt Mitchell', 'Katashi Kaitō', 'Cafe Music BGM channel', 'Magpie Jazz Trio', 'gum.mp3', 'DJ Ryow a.k.a. Smooth Current', 'Red Brick Lane', 'Otis Redding', 'South West Cafe Trio', 'Greg Spero', 'Athletic Progression', 'Immanuel Wilkins', 'Lennie Tristano', 'The Jazz Cultivators', 'Eddie Condon', 'Enrico Pieranunzi', 'Sam Cooke', 'igory', 'Tour-Maubourg', 'Till Brönner', 'Peggy Lee', 'Soul Wun', 'Brian Culbertson', 'Ebi Soda', 'Erroll Garner', 'Pigeondust', 'Kaspa.', 'Aretha Franklin', 'Marcos Caixa', 'Mangrove Yeltsin', 'Ardhito Pramono', 'Yoni Mayraz', 'Hailey Tuck', 'Kris Bowers', 'Barney Kessel', 'Sparrow & Bird', 'iwamizu', '110th Street Jazz Trio', 'Red Stairs Jazz Quartet', 'Aphrow', 'Carl Bagge Trio', 'Anthony Lazaro', 'Jazzystics', 'Gerald Albright', 'Fulton Street Players', 'Vintage Emporium', 'Charlie Wilder Band', 'Wildcookie', 'Zander Jazz Trio', 'Sylvia Telles', 'Shierro', 'Tate Jackson Trio', 'Alex Parchment', 'Vernon Sanders', 'Taylor McFerrin', 'Navy Blue', 'Tommy Emmanuel', 'Felipe Gordon', 'Jeff Beck', 'Michael J Thomas', 'Emapea', 'Snazzback', 'Mansur Brown', 'Henning Witsell', 'Daniel Ögren', 'Parov Stelar', 'Silvana Estrada', 'TIA RAY', 'Tony Saunders', 'Stiff Cat Steve', 'Sweet Nothings Band', 'Walter Smith III', 'Ragan Whiteside', 'Jazz Holdouts', 'Ennio Máno', 'Colin Stetson', 'Moonspatz', 'Remulak', 'PYJÆN', 'Freddie Fox', 'Phil Denny', 'Lauren Richardson', 'Reese Quartet', 'Brian Simpson', 'Greydon Park Band', 'PENPALS', 'Hara Noda', 'Oscar Peterson', 'Turning Trio', 'Skinny Hightower', 'Jørgen Emborg', 'Måns & Dotter', 'Astoria Three', 'Kamaal Williams', 'Diana Krall', 'Emma-Jean Thackray', 'Ken Navarro', 'Oli Silk', 'Chaos In The CBD', 'Siimbiie Lakew', 'Juraj Stanik Trio', 'RINZ.', 'Living Room', 'Krister & Dalbani', 'Green Trio', 'Boozoo Bajou', 'Kuipers & Winter', 'Melody Gardot', 'Thelonious Coltrane', 'Eve St. Jones', 'Art Blakey & The Jazz Messengers', 'Edward Simon', 'Michael Stylez & Co', 'Nick Colionne', 'Retromigration', 'Huw Marc Bennett', 'CMC 3', 'paris91', 'Flatland Park', 'Shalosh', 'Joan Chamorro', 'Ituana', 'Michel Portal', 'Arne Torvik Trio', \"Barry Can't Swim\", 'Jon Batiste', 'Butcher Brown', 'FloFilz', 'Bibi Tanga & The Selenites', 'Miramare', 'Kim Waters', 'Underground Canopy', 'Hudson Harris & Haim', 'Spaze Windu', 'Jitwam', 'ichikoro', 'Yussef Dayes', 'Greg Manning', 'Johnny Hodges', 'Chris \"Big Dog\" Davis', 'Martha Tilton', 'Jamie Lancaster', 'Jerry McHoy', 'Ella Fitzgerald', 'Tom Bates', 'fox capture plan', 'FRANZ', 'CrazyJaZz', 'toconoma'}\n"
     ]
    }
   ],
   "source": [
    "set_artistas_2020= set(dict_tracks_jazz_2020['artistas'])  # Convertir el valor asociado a la clave 'artistas' en un set para limpiar los artistas repetidos\n",
    "print(set_artistas_2020)"
   ]
  },
  {
   "cell_type": "code",
   "execution_count": 26,
   "metadata": {},
   "outputs": [
    {
     "data": {
      "text/plain": [
       "286"
      ]
     },
     "execution_count": 26,
     "metadata": {},
     "output_type": "execute_result"
    }
   ],
   "source": [
    "lista_artistas_2020 = list(set_artistas_2020) # pasarlo a lista para poder iterar en el bucle for \n",
    "len(lista_artistas_2020)"
   ]
  },
  {
   "cell_type": "code",
   "execution_count": 27,
   "metadata": {},
   "outputs": [],
   "source": [
    "#Aqui tenemos la búsqueda de un artista. Trabajando con la librería. \n",
    "artistas_2020_mb = {\"artista\": [], \"pais de origen\": [], \"area de origen\": [], \"fecha inicio actividad\": [], \"fin de actividad\": []} \n",
    "for a in lista_artistas_2020:\n",
    "    result = musicbrainzngs.search_artists(artist=a)\n",
    "    try:\n",
    "        artistas_2020_mb[\"artista\"].append(result[\"artist-list\"][0][\"name\"])\n",
    "    except:\n",
    "        artistas_2020_mb[\"artista\"].append(\"no data\")\n",
    "    try:\n",
    "        artistas_2020_mb[\"pais de origen\"].append(result[\"artist-list\"][0][\"area\"][\"name\"])\n",
    "    except:\n",
    "        artistas_2020_mb[\"pais de origen\"].append(\"no data\")\n",
    "    try:\n",
    "        artistas_2020_mb[\"area de origen\"].append(result[\"artist-list\"][0][\"begin-area\"][\"name\"])\n",
    "    except:\n",
    "        artistas_2020_mb[\"area de origen\"].append(\"no data\") \n",
    "    try:\n",
    "        artistas_2020_mb[\"fecha inicio actividad\"].append(result[\"artist-list\"][0][\"life-span\"][\"begin\"])\n",
    "    except:\n",
    "        artistas_2020_mb[\"fecha inicio actividad\"].append(\"no data\")\n",
    "    try:\n",
    "        if result[\"artist-list\"][0][\"life-span\"][\"ended\"] == False:\n",
    "            artistas_2020_mb[\"fin de actividad\"].append(\"no activo\")\n",
    "        else:\n",
    "            artistas_2020_mb[\"fin de actividad\"].append(\"activo\")\n",
    "    except:\n",
    "        artistas_2020_mb[\"fin de actividad\"].append(\"no data\")"
   ]
  },
  {
   "cell_type": "code",
   "execution_count": 28,
   "metadata": {},
   "outputs": [
    {
     "data": {
      "text/html": [
       "<div>\n",
       "<style scoped>\n",
       "    .dataframe tbody tr th:only-of-type {\n",
       "        vertical-align: middle;\n",
       "    }\n",
       "\n",
       "    .dataframe tbody tr th {\n",
       "        vertical-align: top;\n",
       "    }\n",
       "\n",
       "    .dataframe thead th {\n",
       "        text-align: right;\n",
       "    }\n",
       "</style>\n",
       "<table border=\"1\" class=\"dataframe\">\n",
       "  <thead>\n",
       "    <tr style=\"text-align: right;\">\n",
       "      <th></th>\n",
       "      <th>artista</th>\n",
       "      <th>pais de origen</th>\n",
       "      <th>area de origen</th>\n",
       "      <th>fecha inicio actividad</th>\n",
       "      <th>fin de actividad</th>\n",
       "    </tr>\n",
       "  </thead>\n",
       "  <tbody>\n",
       "    <tr>\n",
       "      <th>0</th>\n",
       "      <td>Gregory Porter</td>\n",
       "      <td>United States</td>\n",
       "      <td>Sacramento</td>\n",
       "      <td>1971-11-04</td>\n",
       "      <td>activo</td>\n",
       "    </tr>\n",
       "    <tr>\n",
       "      <th>1</th>\n",
       "      <td>Shakatak</td>\n",
       "      <td>United Kingdom</td>\n",
       "      <td>no data</td>\n",
       "      <td>1980</td>\n",
       "      <td>activo</td>\n",
       "    </tr>\n",
       "    <tr>\n",
       "      <th>2</th>\n",
       "      <td>Postmodern Jukebox</td>\n",
       "      <td>United States</td>\n",
       "      <td>New York</td>\n",
       "      <td>2012</td>\n",
       "      <td>activo</td>\n",
       "    </tr>\n",
       "    <tr>\n",
       "      <th>3</th>\n",
       "      <td>JOONIE</td>\n",
       "      <td>South Korea</td>\n",
       "      <td>no data</td>\n",
       "      <td>no data</td>\n",
       "      <td>activo</td>\n",
       "    </tr>\n",
       "    <tr>\n",
       "      <th>4</th>\n",
       "      <td>Espen Eriksen Trio</td>\n",
       "      <td>Norway</td>\n",
       "      <td>no data</td>\n",
       "      <td>no data</td>\n",
       "      <td>activo</td>\n",
       "    </tr>\n",
       "    <tr>\n",
       "      <th>...</th>\n",
       "      <td>...</td>\n",
       "      <td>...</td>\n",
       "      <td>...</td>\n",
       "      <td>...</td>\n",
       "      <td>...</td>\n",
       "    </tr>\n",
       "    <tr>\n",
       "      <th>281</th>\n",
       "      <td>Tom Jones</td>\n",
       "      <td>Wales</td>\n",
       "      <td>Pontypridd</td>\n",
       "      <td>1940-06-07</td>\n",
       "      <td>activo</td>\n",
       "    </tr>\n",
       "    <tr>\n",
       "      <th>282</th>\n",
       "      <td>fox capture plan</td>\n",
       "      <td>Japan</td>\n",
       "      <td>no data</td>\n",
       "      <td>2012</td>\n",
       "      <td>activo</td>\n",
       "    </tr>\n",
       "    <tr>\n",
       "      <th>283</th>\n",
       "      <td>Franz Schubert</td>\n",
       "      <td>Austria</td>\n",
       "      <td>Alsergrund</td>\n",
       "      <td>1797-01-31</td>\n",
       "      <td>activo</td>\n",
       "    </tr>\n",
       "    <tr>\n",
       "      <th>284</th>\n",
       "      <td>CrazyJaZz</td>\n",
       "      <td>no data</td>\n",
       "      <td>no data</td>\n",
       "      <td>no data</td>\n",
       "      <td>activo</td>\n",
       "    </tr>\n",
       "    <tr>\n",
       "      <th>285</th>\n",
       "      <td>toconoma</td>\n",
       "      <td>Japan</td>\n",
       "      <td>Tokyo</td>\n",
       "      <td>2008</td>\n",
       "      <td>activo</td>\n",
       "    </tr>\n",
       "  </tbody>\n",
       "</table>\n",
       "<p>286 rows × 5 columns</p>\n",
       "</div>"
      ],
      "text/plain": [
       "                artista  pais de origen area de origen fecha inicio actividad  \\\n",
       "0        Gregory Porter   United States     Sacramento             1971-11-04   \n",
       "1              Shakatak  United Kingdom        no data                   1980   \n",
       "2    Postmodern Jukebox   United States       New York                   2012   \n",
       "3                JOONIE     South Korea        no data                no data   \n",
       "4    Espen Eriksen Trio          Norway        no data                no data   \n",
       "..                  ...             ...            ...                    ...   \n",
       "281           Tom Jones           Wales     Pontypridd             1940-06-07   \n",
       "282    fox capture plan           Japan        no data                   2012   \n",
       "283      Franz Schubert         Austria     Alsergrund             1797-01-31   \n",
       "284           CrazyJaZz         no data        no data                no data   \n",
       "285            toconoma           Japan          Tokyo                   2008   \n",
       "\n",
       "    fin de actividad  \n",
       "0             activo  \n",
       "1             activo  \n",
       "2             activo  \n",
       "3             activo  \n",
       "4             activo  \n",
       "..               ...  \n",
       "281           activo  \n",
       "282           activo  \n",
       "283           activo  \n",
       "284           activo  \n",
       "285           activo  \n",
       "\n",
       "[286 rows x 5 columns]"
      ]
     },
     "execution_count": 28,
     "metadata": {},
     "output_type": "execute_result"
    }
   ],
   "source": [
    "pd.DataFrame(artistas_2020_mb)"
   ]
  },
  {
   "cell_type": "markdown",
   "metadata": {},
   "source": [
    "### LASTFM"
   ]
  },
  {
   "cell_type": "code",
   "execution_count": 22,
   "metadata": {},
   "outputs": [],
   "source": [
    "api_key =\"7e40d8c1f863ef17aeffe6b633016ec5\"\n",
    "user = \"irenealonso11\""
   ]
  },
  {
   "cell_type": "code",
   "execution_count": 11,
   "metadata": {},
   "outputs": [
    {
     "data": {
      "text/plain": [
       "200"
      ]
     },
     "execution_count": 11,
     "metadata": {},
     "output_type": "execute_result"
    }
   ],
   "source": [
    "auth = f\"http://www.last.fm/api/auth/?api_key={api_key}\"\n",
    "response = requests.get(auth)\n",
    "response.status_code "
   ]
  },
  {
   "cell_type": "code",
   "execution_count": 34,
   "metadata": {},
   "outputs": [
    {
     "data": {
      "text/plain": [
       "403"
      ]
     },
     "execution_count": 34,
     "metadata": {},
     "output_type": "execute_result"
    }
   ],
   "source": [
    "response = requests.get(url)\n",
    "response.status_code"
   ]
  },
  {
   "cell_type": "code",
   "execution_count": 44,
   "metadata": {},
   "outputs": [],
   "source": [
    "params_info = {\n",
    "        'method': 'artist.getinfo',\n",
    "        'artist': \"Tom jones\",\n",
    "        'api_key': api_key,\n",
    "        'format': 'json'\n",
    "    }\n",
    "\n",
    "url_2 = f\"http://ws.audioscrobbler.com/2.0/\""
   ]
  },
  {
   "cell_type": "code",
   "execution_count": 45,
   "metadata": {},
   "outputs": [
    {
     "data": {
      "text/plain": [
       "200"
      ]
     },
     "execution_count": 45,
     "metadata": {},
     "output_type": "execute_result"
    }
   ],
   "source": [
    "respuesta = requests.get(url, params=params_info)\n",
    "respuesta.status_code"
   ]
  },
  {
   "cell_type": "code",
   "execution_count": 46,
   "metadata": {},
   "outputs": [],
   "source": [
    "artista = respuesta.json()"
   ]
  },
  {
   "cell_type": "markdown",
   "metadata": {},
   "source": [
    "Artista.\n",
    "\n",
    "Biografía del Artista.\n",
    "\n",
    "Listeners (cantidad de gente que lo escucha).\n",
    "\n",
    "Playcount (cantidad de veces reproducido su música)\n",
    "\n",
    "Artistas Similares."
   ]
  },
  {
   "cell_type": "code",
   "execution_count": 50,
   "metadata": {},
   "outputs": [
    {
     "data": {
      "text/plain": [
       "{'artist': {'name': 'Tom Jones',\n",
       "  'mbid': '79d26f81-e2ff-4708-b5db-459c280c9eec',\n",
       "  'url': 'https://www.last.fm/music/Tom+Jones',\n",
       "  'image': [{'#text': 'https://lastfm.freetls.fastly.net/i/u/34s/21c6b68dcf4740bce87aedb7b787fcec.jpg',\n",
       "    'size': 'small'},\n",
       "   {'#text': 'https://lastfm.freetls.fastly.net/i/u/64s/21c6b68dcf4740bce87aedb7b787fcec.jpg',\n",
       "    'size': 'medium'},\n",
       "   {'#text': 'https://lastfm.freetls.fastly.net/i/u/174s/21c6b68dcf4740bce87aedb7b787fcec.jpg',\n",
       "    'size': 'large'},\n",
       "   {'#text': 'https://lastfm.freetls.fastly.net/i/u/300x300/21c6b68dcf4740bce87aedb7b787fcec.jpg',\n",
       "    'size': 'extralarge'},\n",
       "   {'#text': 'https://lastfm.freetls.fastly.net/i/u/300x300/21c6b68dcf4740bce87aedb7b787fcec.jpg',\n",
       "    'size': 'mega'},\n",
       "   {'#text': 'https://lastfm.freetls.fastly.net/i/u/300x300/21c6b68dcf4740bce87aedb7b787fcec.jpg',\n",
       "    'size': ''}],\n",
       "  'streamable': '0',\n",
       "  'ontour': '0',\n",
       "  'stats': {'listeners': '1205333',\n",
       "   'playcount': '11263626',\n",
       "   'userplaycount': '0'},\n",
       "  'similar': {'artist': [{'name': 'Engelbert Humperdinck',\n",
       "     'url': 'https://www.last.fm/music/Engelbert+Humperdinck',\n",
       "     'image': [{'#text': 'https://lastfm.freetls.fastly.net/i/u/34s/2a96cbd8b46e442fc41c2b86b821562f.png',\n",
       "       'size': 'small'},\n",
       "      {'#text': 'https://lastfm.freetls.fastly.net/i/u/64s/2a96cbd8b46e442fc41c2b86b821562f.png',\n",
       "       'size': 'medium'},\n",
       "      {'#text': 'https://lastfm.freetls.fastly.net/i/u/174s/2a96cbd8b46e442fc41c2b86b821562f.png',\n",
       "       'size': 'large'},\n",
       "      {'#text': 'https://lastfm.freetls.fastly.net/i/u/300x300/2a96cbd8b46e442fc41c2b86b821562f.png',\n",
       "       'size': 'extralarge'},\n",
       "      {'#text': 'https://lastfm.freetls.fastly.net/i/u/300x300/2a96cbd8b46e442fc41c2b86b821562f.png',\n",
       "       'size': 'mega'},\n",
       "      {'#text': 'https://lastfm.freetls.fastly.net/i/u/300x300/2a96cbd8b46e442fc41c2b86b821562f.png',\n",
       "       'size': ''}]},\n",
       "    {'name': 'Cliff Richard',\n",
       "     'url': 'https://www.last.fm/music/Cliff+Richard',\n",
       "     'image': [{'#text': 'https://lastfm.freetls.fastly.net/i/u/34s/2a96cbd8b46e442fc41c2b86b821562f.png',\n",
       "       'size': 'small'},\n",
       "      {'#text': 'https://lastfm.freetls.fastly.net/i/u/64s/2a96cbd8b46e442fc41c2b86b821562f.png',\n",
       "       'size': 'medium'},\n",
       "      {'#text': 'https://lastfm.freetls.fastly.net/i/u/174s/2a96cbd8b46e442fc41c2b86b821562f.png',\n",
       "       'size': 'large'},\n",
       "      {'#text': 'https://lastfm.freetls.fastly.net/i/u/300x300/2a96cbd8b46e442fc41c2b86b821562f.png',\n",
       "       'size': 'extralarge'},\n",
       "      {'#text': 'https://lastfm.freetls.fastly.net/i/u/300x300/2a96cbd8b46e442fc41c2b86b821562f.png',\n",
       "       'size': 'mega'},\n",
       "      {'#text': 'https://lastfm.freetls.fastly.net/i/u/300x300/2a96cbd8b46e442fc41c2b86b821562f.png',\n",
       "       'size': ''}]},\n",
       "    {'name': 'Matt Monro',\n",
       "     'url': 'https://www.last.fm/music/Matt+Monro',\n",
       "     'image': [{'#text': 'https://lastfm.freetls.fastly.net/i/u/34s/2a96cbd8b46e442fc41c2b86b821562f.png',\n",
       "       'size': 'small'},\n",
       "      {'#text': 'https://lastfm.freetls.fastly.net/i/u/64s/2a96cbd8b46e442fc41c2b86b821562f.png',\n",
       "       'size': 'medium'},\n",
       "      {'#text': 'https://lastfm.freetls.fastly.net/i/u/174s/2a96cbd8b46e442fc41c2b86b821562f.png',\n",
       "       'size': 'large'},\n",
       "      {'#text': 'https://lastfm.freetls.fastly.net/i/u/300x300/2a96cbd8b46e442fc41c2b86b821562f.png',\n",
       "       'size': 'extralarge'},\n",
       "      {'#text': 'https://lastfm.freetls.fastly.net/i/u/300x300/2a96cbd8b46e442fc41c2b86b821562f.png',\n",
       "       'size': 'mega'},\n",
       "      {'#text': 'https://lastfm.freetls.fastly.net/i/u/300x300/2a96cbd8b46e442fc41c2b86b821562f.png',\n",
       "       'size': ''}]},\n",
       "    {'name': 'Neil Diamond',\n",
       "     'url': 'https://www.last.fm/music/Neil+Diamond',\n",
       "     'image': [{'#text': 'https://lastfm.freetls.fastly.net/i/u/34s/2a96cbd8b46e442fc41c2b86b821562f.png',\n",
       "       'size': 'small'},\n",
       "      {'#text': 'https://lastfm.freetls.fastly.net/i/u/64s/2a96cbd8b46e442fc41c2b86b821562f.png',\n",
       "       'size': 'medium'},\n",
       "      {'#text': 'https://lastfm.freetls.fastly.net/i/u/174s/2a96cbd8b46e442fc41c2b86b821562f.png',\n",
       "       'size': 'large'},\n",
       "      {'#text': 'https://lastfm.freetls.fastly.net/i/u/300x300/2a96cbd8b46e442fc41c2b86b821562f.png',\n",
       "       'size': 'extralarge'},\n",
       "      {'#text': 'https://lastfm.freetls.fastly.net/i/u/300x300/2a96cbd8b46e442fc41c2b86b821562f.png',\n",
       "       'size': 'mega'},\n",
       "      {'#text': 'https://lastfm.freetls.fastly.net/i/u/300x300/2a96cbd8b46e442fc41c2b86b821562f.png',\n",
       "       'size': ''}]},\n",
       "    {'name': 'Elvis Presley',\n",
       "     'url': 'https://www.last.fm/music/Elvis+Presley',\n",
       "     'image': [{'#text': 'https://lastfm.freetls.fastly.net/i/u/34s/2a96cbd8b46e442fc41c2b86b821562f.png',\n",
       "       'size': 'small'},\n",
       "      {'#text': 'https://lastfm.freetls.fastly.net/i/u/64s/2a96cbd8b46e442fc41c2b86b821562f.png',\n",
       "       'size': 'medium'},\n",
       "      {'#text': 'https://lastfm.freetls.fastly.net/i/u/174s/2a96cbd8b46e442fc41c2b86b821562f.png',\n",
       "       'size': 'large'},\n",
       "      {'#text': 'https://lastfm.freetls.fastly.net/i/u/300x300/2a96cbd8b46e442fc41c2b86b821562f.png',\n",
       "       'size': 'extralarge'},\n",
       "      {'#text': 'https://lastfm.freetls.fastly.net/i/u/300x300/2a96cbd8b46e442fc41c2b86b821562f.png',\n",
       "       'size': 'mega'},\n",
       "      {'#text': 'https://lastfm.freetls.fastly.net/i/u/300x300/2a96cbd8b46e442fc41c2b86b821562f.png',\n",
       "       'size': ''}]}]},\n",
       "  'tags': {'tag': [{'name': 'pop', 'url': 'https://www.last.fm/tag/pop'},\n",
       "    {'name': 'oldies', 'url': 'https://www.last.fm/tag/oldies'},\n",
       "    {'name': 'classic rock', 'url': 'https://www.last.fm/tag/classic+rock'},\n",
       "    {'name': 'male vocalists',\n",
       "     'url': 'https://www.last.fm/tag/male+vocalists'},\n",
       "    {'name': 'rock', 'url': 'https://www.last.fm/tag/rock'}]},\n",
       "  'bio': {'links': {'link': {'#text': '',\n",
       "     'rel': 'original',\n",
       "     'href': 'https://last.fm/music/Tom+Jones/+wiki'}},\n",
       "   'published': '13 May 2006, 14:35',\n",
       "   'summary': 'Sir Thomas Jones Woodward, KBE (born 7 June 1940), best known by his stage name, Tom Jones, is a Welsh pop singer particularly noted for his powerful voice. He was born in Treforest, near Pontypridd in South Wales.\\n\\nHe rose to fame in the mid-1960s, with an exuberant live act which included wearing tight breeches and billowing shirts, in an Edwardian style popular amongst his peers at the time. He was known for his overt sexuality, before this was as common as it became in subsequent years. <a href=\"https://www.last.fm/music/Tom+Jones\">Read more on Last.fm</a>',\n",
       "   'content': 'Sir Thomas Jones Woodward, KBE (born 7 June 1940), best known by his stage name, Tom Jones, is a Welsh pop singer particularly noted for his powerful voice. He was born in Treforest, near Pontypridd in South Wales.\\n\\nHe rose to fame in the mid-1960s, with an exuberant live act which included wearing tight breeches and billowing shirts, in an Edwardian style popular amongst his peers at the time. He was known for his overt sexuality, before this was as common as it became in subsequent years.\\n\\nIn 1963 he became the frontman for Tommy Scott and the Senators, a local beat group. Clad all in black leather, Tom soon gained a reputation in the South Wales area. The Senators were still all unheard of in London.\\n\\nIn 1964 they laid down a few tracks with maverick Telstar producer Joe Meek, and took them to various labels in an attempt to get a record deal. The plan was to release a single, Lonely Joe / I Was A Fool, but the ever-flighty Meek refused to release the tapes. The group returned to South Wales and continued to play gigs at dance halls and working mens clubs. One night, at the Top Hat in Cwmtillery, Tom was spotted by Gordon Mills, a London-based manager originally from South Wales. Mills became Tom\\'s manager, and took the young singer to London. He also renamed him Tom Jones. The Senators became the Playboys, and later still the Squires.\\n\\nJones was awarded the Grammy Award for Best New Artist for 1965. It\\'s Not Unusual, after the song having first been offered to Sandie Shaw. Jones recorded what was intended to be a demo for Shaw, but when she heard it she was so impressed with Jones\\' delivery that she declined the song and recommended that Jones release it himself. The record was the second Decca single Jones released, reaching number one in the UK charts in 1965. It was also the first hit for Jones in the US, peaking at #10 in May of that year. The single was released in the US on the Parrot label and also reached #3 on Billboard\\'s easy listening chart. Jones used this song as the theme for his late 1960s-early 1970s musical variety series This Is Tom Jones. It has since become Jones\\' signature song.\\n\\nIn 1965 Tom sang the theme tune to the James Bond film Thunderball.\\n\\nJones\\' recording career slumped on the pop charts during the 1970s and 80s, although he placed 16 singles on the Billboard Country Music charts between 1976 and 1985, the biggest of which was \"Say You\\'ll Stay Until Tomorrow\" (# 1 Country, # 15 pop) in 1977, and his touring continued successfully. When his son Mark became his manager in 1987, his musical style was taken in a different direction. His recording career was revived with his first major hit single in over a decade, \"A Boy From Nowhere\", taken from the musical Matador. In 1988 he collaborated with The Art of Noise to record Prince\\'s popular song \"Kiss\". Following this, he started to record in collaboration with a younger generation of musicians\\n\\nHis Reload album, released in 2000, became the biggest hit of his career. An album of cover versions recorded as duets with contemporary artists, using their record producers, and utilising their recording methods, it reached number one in the United Kingdom, and sold over 4 million copies worldwide.[1] In 2002, he released the album Mr. Jones, which was produced by Wyclef Jean and included the singles \"Tom Jones International\" and \"Black Betty\". In 2003, he was honored with a BRIT Award for Outstanding Contribution to Music. In 2004, his \"Sex Bomb\" single became a major club hit.\\n\\nOn New Year\\'s Eve 2000 President Bill Clinton invited Tom to perform at the Millennium Celebrations in Washington. Throughout 2000, Tom garnered several honours for his work, including a Brit Award for Best Male. In 2001 Tom toured throughout the Middle East and Europe. In subsequent years Tom recorded albums in collaboration with such artists as Wyclef Jean and Jools Holland.\\n\\nIn celebration of his 65th birthday, on 28 May 2005 Tom returned to his homeland to perform a spectacular concert in Ynysangharad Park, Pontypridd. This was Tom\\'s first performance in Ponty since 1964.\\n\\nFor his contribution to the recording industry, Tom Jones has a star on the Hollywood Walk of Fame at 6608 Hollywood Blvd.\\n\\nIn 2005 the album Together In Concert, was recorded live with John Farnham and his band.\\n\\nHe has collaborated with Chicane for \"Stoned in Love\", a dance track that was released 24 April 2006. It entered at number eight in the UK charts the following Sunday.\\n\\nIn 2007, he signed to New York-based independent label S-Curve, owned by music executive Steve Greenberg. \\n\\nThe singer was awarded an OBE in 1999 and a Knight Bachelor in the 2006 New Years Honours list for his services to music and was subsequently knighted by Her Majesty Queen Elizabeth II at Buckingham Palace, London on 29 March 2006.[7]\\n\\nOn 1 July 2007, Jones was one of the invited artists who performed at Wembley Stadium at the Concert for Diana, joined on stage by guitarist Joe Perry of Aerosmith and British soul singer Joss Stone. He sang the British National Anthem before Ricky Hatton\\'s fight against Floyd Mayweather in Las Vegas on 8 December 2007. On 19 April 2008 he sang the Welsh National Anthem at the Calzaghe-Hopkins fight in Las Vegas.\\n\\nAlthough his manager and public relations staff have attempted to change his sex-bomb image and neutralize the knicker-throwing fans, to the delight of his audiences Jones has never felt the need to tone down his behavior in the shows. Tom Jones has remained highly respected by other singers and continues to attract audiences of all ages. As of 2008, Jones continues to tour and record. A major portion of the year he regularly performs his show at the MGM Grand hotel, located on the Las Vegas Strip in Las Vegas, USA. His show at the MGM is performed in a cabaret-style theater. Other venues on his yearly schedule include numerous shows at Atlantic City, NJ and appearances in the USA, United Kingdom and Canada. In February 2007, Jones made a long-awaited South American tour.  \\n\\nOn 17 September 2008, Jones announced the release of his retro-tinged album \"24 Hours\" on S-Curve Records, his first for 15 years in the US; notably, this is the first record in which he\\'s had a direct song-writing input. It was produced largely by drum\\'n\\'bass stalwarts Future Cut. \\n\\n\"It\\'s all very well just singing songs,\" says Jones, \"but for this record I really wanted to get properly personal. I\\'ve been getting reflective recently, looking over my journey through life, and I wanted to get that down on song. This time I wanted to make something that was all about me, my stories, my life. In other words, you listen to this album and you get the real me.\" \\n <a href=\"https://www.last.fm/music/Tom+Jones\">Read more on Last.fm</a>. User-contributed text is available under the Creative Commons By-SA License; additional terms may apply.'}}}"
      ]
     },
     "execution_count": 50,
     "metadata": {},
     "output_type": "execute_result"
    }
   ],
   "source": [
    "artista\n",
    "\n"
   ]
  },
  {
   "cell_type": "code",
   "execution_count": 62,
   "metadata": {},
   "outputs": [
    {
     "data": {
      "text/plain": [
       "'Tom Jones'"
      ]
     },
     "execution_count": 62,
     "metadata": {},
     "output_type": "execute_result"
    }
   ],
   "source": [
    "artista[\"artist\"][\"name\"]"
   ]
  },
  {
   "cell_type": "code",
   "execution_count": 66,
   "metadata": {},
   "outputs": [
    {
     "data": {
      "text/plain": [
       "'1205333'"
      ]
     },
     "execution_count": 66,
     "metadata": {},
     "output_type": "execute_result"
    }
   ],
   "source": [
    "artista[\"artist\"][\"stats\"][\"listeners\"]"
   ]
  },
  {
   "cell_type": "code",
   "execution_count": 67,
   "metadata": {},
   "outputs": [
    {
     "data": {
      "text/plain": [
       "'11263626'"
      ]
     },
     "execution_count": 67,
     "metadata": {},
     "output_type": "execute_result"
    }
   ],
   "source": [
    "artista[\"artist\"][\"stats\"][\"playcount\"]"
   ]
  },
  {
   "cell_type": "code",
   "execution_count": 69,
   "metadata": {},
   "outputs": [
    {
     "data": {
      "text/plain": [
       "'Engelbert Humperdinck'"
      ]
     },
     "execution_count": 69,
     "metadata": {},
     "output_type": "execute_result"
    }
   ],
   "source": [
    "artista[\"artist\"][\"similar\"][\"artist\"][0][\"name\"]"
   ]
  },
  {
   "cell_type": "code",
   "execution_count": 61,
   "metadata": {},
   "outputs": [
    {
     "data": {
      "text/plain": [
       "'Sir Thomas Jones Woodward, KBE (born 7 June 1940), best known by his stage name, Tom Jones, is a Welsh pop singer particularly noted for his powerful voice. He was born in Treforest, near Pontypridd in South Wales.\\n\\nHe rose to fame in the mid-1960s, with an exuberant live act which included wearing tight breeches and billowing shirts, in an Edwardian style popular amongst his peers at the time. He was known for his overt sexuality, before this was as common as it became in subsequent years. <a href=\"https://www.last.fm/music/Tom+Jones\">Read more on Last.fm</a>'"
      ]
     },
     "execution_count": 61,
     "metadata": {},
     "output_type": "execute_result"
    }
   ],
   "source": [
    "artista[\"artist\"][\"bio\"][\"summary\"]"
   ]
  }
 ],
 "metadata": {
  "kernelspec": {
   "display_name": "base",
   "language": "python",
   "name": "python3"
  },
  "language_info": {
   "codemirror_mode": {
    "name": "ipython",
    "version": 3
   },
   "file_extension": ".py",
   "mimetype": "text/x-python",
   "name": "python",
   "nbconvert_exporter": "python",
   "pygments_lexer": "ipython3",
   "version": "3.12.4"
  }
 },
 "nbformat": 4,
 "nbformat_minor": 2
}
